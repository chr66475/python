{
 "cells": [
  {
   "cell_type": "code",
   "execution_count": 5,
   "metadata": {},
   "outputs": [
    {
     "name": "stdout",
     "output_type": "stream",
     "text": [
      "Hello world\n"
     ]
    }
   ],
   "source": [
    "print(\"Hello world\")"
   ]
  },
  {
   "cell_type": "code",
   "execution_count": 6,
   "metadata": {},
   "outputs": [
    {
     "data": {
      "text/plain": [
       "5"
      ]
     },
     "execution_count": 6,
     "metadata": {},
     "output_type": "execute_result"
    }
   ],
   "source": [
    "a = 5\n",
    "\n",
    "a"
   ]
  },
  {
   "cell_type": "code",
   "execution_count": 7,
   "metadata": {},
   "outputs": [
    {
     "name": "stdout",
     "output_type": "stream",
     "text": [
      "Defaulting to user installation because normal site-packages is not writeable\n",
      "Requirement already satisfied: numpy in c:\\users\\conno\\appdata\\local\\packages\\pythonsoftwarefoundation.python.3.12_qbz5n2kfra8p0\\localcache\\local-packages\\python312\\site-packages (1.26.4)\n",
      "Note: you may need to restart the kernel to use updated packages.\n"
     ]
    },
    {
     "data": {
      "text/plain": [
       "[0.9578211966210477,\n",
       " 0.39741919830958994,\n",
       " -0.22528582063220987,\n",
       " 0.8928298719746419,\n",
       " 0.832796338560598,\n",
       " 1.2447134858443158,\n",
       " -0.38521837588294094]"
      ]
     },
     "execution_count": 7,
     "metadata": {},
     "output_type": "execute_result"
    }
   ],
   "source": [
    "%pip install numpy\n",
    "\n",
    "import numpy as np # type: ignore\n",
    "\n",
    "data = [np.random.standard_normal() for i in range(7)]\n",
    "data"
   ]
  },
  {
   "cell_type": "code",
   "execution_count": 8,
   "metadata": {},
   "outputs": [
    {
     "data": {
      "text/plain": [
       "27"
      ]
     },
     "execution_count": 8,
     "metadata": {},
     "output_type": "execute_result"
    }
   ],
   "source": [
    "an_apple = 27\n",
    "an_example = 42\n",
    "an_apple\n"
   ]
  },
  {
   "cell_type": "code",
   "execution_count": 9,
   "metadata": {},
   "outputs": [
    {
     "data": {
      "text/plain": [
       "<function list.count(value, /)>"
      ]
     },
     "execution_count": 9,
     "metadata": {},
     "output_type": "execute_result"
    }
   ],
   "source": [
    "b = [1, 2, 3]\n",
    "b.count"
   ]
  },
  {
   "cell_type": "code",
   "execution_count": 10,
   "metadata": {},
   "outputs": [
    {
     "data": {
      "text/plain": [
       "datetime.datetime"
      ]
     },
     "execution_count": 10,
     "metadata": {},
     "output_type": "execute_result"
    }
   ],
   "source": [
    "import datetime\n",
    "\n",
    "datetime.datetime"
   ]
  },
  {
   "cell_type": "code",
   "execution_count": 11,
   "metadata": {},
   "outputs": [
    {
     "name": "stdout",
     "output_type": "stream",
     "text": [
      "[1 2 3 4 5]\n",
      "[1. 6. 3. 4. 9.]\n"
     ]
    }
   ],
   "source": [
    "import numpy as np\n",
    "\n",
    "a = np.array([1, 2, 3, 4, 5], dtype='i')\n",
    "b = np.array([1, 6, 3, 4, 9], dtype='float')\n",
    "print(a)\n",
    "print(b)"
   ]
  },
  {
   "cell_type": "code",
   "execution_count": 12,
   "metadata": {},
   "outputs": [
    {
     "data": {
      "text/plain": [
       "dtype('int32')"
      ]
     },
     "execution_count": 12,
     "metadata": {},
     "output_type": "execute_result"
    }
   ],
   "source": [
    "type(a)\n",
    "type(b)\n",
    "\n",
    "a.dtype\n"
   ]
  },
  {
   "cell_type": "code",
   "execution_count": 13,
   "metadata": {},
   "outputs": [
    {
     "data": {
      "text/plain": [
       "dtype('float64')"
      ]
     },
     "execution_count": 13,
     "metadata": {},
     "output_type": "execute_result"
    }
   ],
   "source": [
    "b.dtype"
   ]
  },
  {
   "cell_type": "code",
   "execution_count": 14,
   "metadata": {},
   "outputs": [],
   "source": [
    "A = np.random.rand(1000)"
   ]
  },
  {
   "cell_type": "code",
   "execution_count": 15,
   "metadata": {},
   "outputs": [
    {
     "data": {
      "text/plain": [
       "array([6.43347889e-01, 4.28386192e-01, 2.68701733e-02, 6.81035589e-02,\n",
       "       8.59776396e-01, 6.64966303e-01, 3.81360932e-01, 5.22615970e-01,\n",
       "       4.84743057e-01, 6.24819410e-01, 5.63278392e-01, 4.65019057e-01,\n",
       "       2.18087808e-01, 9.76560117e-01, 9.41519782e-01, 7.75343651e-01,\n",
       "       7.63649264e-01, 5.51108021e-01, 2.68911470e-01, 3.37876597e-01,\n",
       "       4.14768669e-01, 2.49940400e-01, 8.72083259e-03, 5.83524812e-01,\n",
       "       5.17779385e-01, 4.02408630e-01, 2.26510101e-02, 5.09274646e-01,\n",
       "       7.76606337e-01, 5.28134244e-01, 6.17979072e-01, 6.26469035e-01,\n",
       "       4.21614355e-01, 7.40961758e-01, 6.35072253e-01, 8.41666991e-01,\n",
       "       3.62800262e-01, 2.82541459e-01, 3.87996166e-02, 1.38321794e-02,\n",
       "       3.19761908e-01, 8.89902650e-01, 8.01122980e-01, 9.21661488e-02,\n",
       "       1.89276308e-01, 8.16469090e-01, 9.73743943e-01, 2.69785005e-01,\n",
       "       2.86767504e-01, 9.78904245e-01, 4.00765676e-01, 1.08596758e-01,\n",
       "       8.94438834e-01, 6.93051979e-01, 6.75822363e-02, 4.82563676e-01,\n",
       "       1.00928554e-01, 2.47431982e-02, 6.21877021e-01, 9.99220122e-01,\n",
       "       6.74505987e-01, 2.28753526e-01, 3.06729538e-01, 5.41276284e-01,\n",
       "       9.37589166e-01, 5.69265973e-01, 5.21281148e-01, 5.83012360e-01,\n",
       "       2.71040979e-01, 9.95921774e-01, 7.54035426e-01, 3.10689342e-01,\n",
       "       7.27116969e-01, 5.70059628e-01, 4.57285158e-02, 9.48923283e-01,\n",
       "       1.64314183e-01, 1.59080458e-01, 3.38909138e-01, 1.87651705e-01,\n",
       "       8.93502180e-01, 4.34221905e-01, 3.02230992e-01, 2.19856867e-01,\n",
       "       6.22888253e-01, 1.11710203e-01, 3.08110085e-01, 2.78793513e-01,\n",
       "       8.67073986e-02, 9.77398934e-01, 9.13682781e-01, 3.85448379e-01,\n",
       "       1.57241061e-01, 7.30387046e-01, 4.03014118e-01, 4.33723338e-01,\n",
       "       4.51805325e-01, 8.21958470e-01, 6.07613940e-02, 4.25181025e-01,\n",
       "       8.56822772e-01, 8.11809058e-01, 6.76240108e-01, 4.15672507e-02,\n",
       "       5.92804387e-01, 5.81927819e-01, 8.72401223e-01, 2.53537079e-01,\n",
       "       4.06358618e-01, 9.72532902e-01, 5.86788064e-01, 4.30917913e-01,\n",
       "       4.26314074e-01, 3.73980761e-01, 3.26545308e-01, 6.24907342e-01,\n",
       "       7.07122769e-01, 2.80823574e-01, 6.96270573e-01, 1.82782670e-01,\n",
       "       6.65464031e-01, 1.54029683e-01, 4.98000076e-01, 9.71079800e-01,\n",
       "       4.38482562e-02, 8.51777486e-01, 3.71828812e-01, 2.09349631e-02,\n",
       "       5.48291707e-01, 3.76382351e-01, 7.09330828e-01, 7.37807881e-01,\n",
       "       2.01135389e-01, 8.48268165e-01, 7.95451452e-01, 8.47281599e-01,\n",
       "       4.31283702e-01, 8.27356083e-01, 8.43768283e-01, 7.68725727e-01,\n",
       "       2.57435097e-01, 7.61058178e-01, 2.87992677e-01, 6.06221075e-02,\n",
       "       5.36063356e-01, 3.33104711e-01, 6.19738376e-01, 5.45333452e-01,\n",
       "       2.89629115e-01, 6.96476839e-01, 9.27382465e-01, 7.00616522e-01,\n",
       "       5.96961085e-01, 8.75174899e-01, 3.75504973e-01, 7.06824171e-01,\n",
       "       8.66937208e-01, 9.16463157e-02, 2.29418503e-02, 9.68694368e-01,\n",
       "       1.78210999e-01, 8.60496833e-01, 7.91635747e-01, 1.71631205e-01,\n",
       "       2.52419142e-01, 2.14099481e-01, 3.72934913e-01, 9.36964191e-01,\n",
       "       7.96530484e-01, 1.47120511e-02, 6.98476686e-02, 1.58767769e-01,\n",
       "       9.37372144e-01, 9.39278671e-01, 2.55412420e-01, 2.00997053e-02,\n",
       "       3.63927214e-01, 5.91157664e-01, 1.07551356e-01, 5.62874885e-01,\n",
       "       9.77117201e-01, 6.06924185e-01, 6.08304271e-01, 2.63017381e-01,\n",
       "       9.30316606e-01, 9.39929848e-01, 3.27434277e-01, 4.83939581e-01,\n",
       "       2.52085341e-01, 9.82406840e-01, 1.22326769e-01, 1.92586163e-02,\n",
       "       3.50471947e-01, 6.79235331e-01, 3.14686087e-01, 5.41913207e-01,\n",
       "       2.35316922e-01, 8.00061189e-02, 9.17342527e-01, 5.92447172e-01,\n",
       "       4.47631071e-01, 4.02501192e-01, 3.91608957e-01, 2.69656085e-01,\n",
       "       9.32000433e-01, 4.66839066e-01, 3.56125850e-02, 5.95339580e-01,\n",
       "       8.02790940e-01, 2.82082960e-01, 1.42518960e-01, 5.73222264e-01,\n",
       "       1.22931571e-01, 7.78751908e-01, 8.17101767e-01, 6.86979925e-01,\n",
       "       3.26857970e-01, 8.58874783e-01, 6.73184279e-01, 1.49844740e-01,\n",
       "       7.13164054e-01, 2.17131452e-01, 6.94367990e-01, 8.10974449e-01,\n",
       "       2.58816246e-01, 8.11470142e-01, 6.76423709e-02, 9.94004320e-01,\n",
       "       4.06041242e-01, 8.71177587e-02, 6.31647175e-01, 6.42170402e-01,\n",
       "       2.02158946e-02, 3.96404614e-01, 8.41363726e-01, 1.79707143e-01,\n",
       "       8.41061383e-01, 8.78487720e-01, 8.99558988e-01, 6.59208882e-01,\n",
       "       4.07785566e-01, 6.84462962e-01, 2.83551372e-01, 8.51069743e-01,\n",
       "       5.10670418e-01, 7.11137026e-01, 2.86041586e-01, 8.51280227e-01,\n",
       "       8.65092430e-01, 8.65593517e-01, 5.18532466e-01, 9.56377379e-01,\n",
       "       7.43366746e-01, 1.61424433e-01, 9.23802285e-01, 4.35345613e-01,\n",
       "       7.29116366e-02, 7.67356018e-01, 4.19732418e-01, 7.31422176e-01,\n",
       "       6.28483779e-01, 6.31070165e-01, 3.82155883e-01, 7.86677677e-01,\n",
       "       6.49345023e-01, 7.09308507e-01, 1.89412639e-01, 9.44195194e-02,\n",
       "       4.90396176e-01, 1.60235425e-01, 6.15305167e-05, 1.90961821e-01,\n",
       "       4.23876619e-01, 5.20299186e-01, 9.33281343e-01, 4.84385045e-01,\n",
       "       6.20815886e-01, 8.78470057e-01, 8.89279146e-01, 8.53742010e-01,\n",
       "       1.30944020e-01, 4.46587448e-01, 4.07299829e-01, 3.71148649e-01,\n",
       "       2.02492162e-01, 5.93076910e-01, 7.75676537e-01, 5.68294058e-02,\n",
       "       8.21914362e-01, 4.35231650e-01, 2.05517264e-01, 4.90533062e-01,\n",
       "       9.21851856e-02, 3.69199936e-01, 6.87901088e-01, 7.97412282e-02,\n",
       "       7.45785386e-01, 7.50523463e-01, 1.71963499e-01, 8.93080339e-01,\n",
       "       6.28535047e-01, 3.04933648e-01, 9.88996605e-01, 3.28441288e-02,\n",
       "       5.04970424e-01, 9.46612163e-01, 6.05457362e-01, 7.61255287e-01,\n",
       "       2.49553890e-01, 6.72786452e-01, 6.76461895e-01, 6.21424850e-01,\n",
       "       4.69487941e-01, 6.16212697e-01, 8.85591946e-01, 9.42400418e-01,\n",
       "       7.40739634e-01, 5.84521418e-01, 9.78134191e-01, 7.63492649e-01,\n",
       "       5.05941544e-01, 2.63879762e-01, 7.62058768e-01, 3.25085078e-01,\n",
       "       9.79852614e-01, 7.07151412e-02, 4.00050544e-01, 9.50821050e-02,\n",
       "       2.25399428e-01, 3.77306311e-01, 1.27996726e-01, 2.20437846e-01,\n",
       "       1.80233515e-01, 7.29017631e-01, 1.10980760e-01, 6.33371863e-01,\n",
       "       9.90511596e-01, 3.42538712e-01, 4.99421611e-01, 6.48295728e-01,\n",
       "       6.22761013e-02, 8.32391022e-01, 1.00208098e-01, 7.34759468e-01,\n",
       "       5.98628178e-01, 1.08243045e-01, 2.80142020e-01, 1.98247210e-01,\n",
       "       6.29910959e-01, 8.73280972e-01, 9.49513544e-01, 8.94755744e-01,\n",
       "       8.16136477e-01, 2.70511597e-01, 7.13020645e-01, 9.46961887e-01,\n",
       "       2.04021787e-01, 3.29163059e-02, 9.10755359e-01, 9.68562629e-01,\n",
       "       5.15525668e-01, 9.73556942e-01, 7.55535531e-01, 2.78574810e-01,\n",
       "       2.78601725e-01, 3.18014436e-01, 6.79222494e-01, 5.21460843e-01,\n",
       "       7.78056810e-01, 2.99865979e-01, 7.41719162e-01, 2.14681742e-01,\n",
       "       2.27685547e-01, 5.14025430e-01, 6.17169550e-01, 1.68627534e-01,\n",
       "       5.42795782e-01, 9.94515902e-01, 2.56835286e-01, 5.79934226e-02,\n",
       "       5.73414135e-01, 6.97350743e-01, 5.63213372e-01, 4.27549775e-01,\n",
       "       9.03167520e-01, 3.54496898e-01, 3.19674295e-01, 7.35162969e-01,\n",
       "       9.08496709e-01, 5.28047049e-01, 1.55731207e-01, 1.09229331e-01,\n",
       "       6.45419268e-01, 6.53394659e-01, 8.57060024e-03, 3.32241043e-03,\n",
       "       4.91810151e-01, 3.61183505e-01, 7.92055407e-01, 9.35563579e-01,\n",
       "       7.44756744e-01, 8.75228616e-01, 2.97708652e-01, 3.36316299e-01,\n",
       "       9.05822543e-01, 2.30339830e-01, 9.52429140e-01, 9.31376793e-01,\n",
       "       3.08014309e-01, 9.68132344e-01, 8.62411425e-01, 2.72306067e-01,\n",
       "       5.62729523e-01, 5.12326594e-01, 5.19936338e-01, 2.04138610e-01,\n",
       "       5.79360743e-01, 4.89546089e-01, 7.25563060e-01, 2.47260641e-02,\n",
       "       5.35706988e-01, 9.84801490e-01, 4.45809209e-01, 6.67893924e-01,\n",
       "       1.45568446e-01, 6.89823746e-01, 6.56460404e-01, 5.96528245e-01,\n",
       "       3.18722455e-01, 7.98915774e-01, 9.58548546e-01, 3.13671515e-01,\n",
       "       4.39564479e-03, 9.76675962e-01, 2.48468000e-02, 7.67311741e-02,\n",
       "       9.39169224e-01, 1.49435447e-01, 8.49480333e-01, 3.97605281e-01,\n",
       "       7.60450032e-01, 9.48297407e-01, 4.29046228e-01, 2.17840226e-01,\n",
       "       6.02727886e-01, 5.87063605e-01, 6.22222028e-01, 4.07725549e-01,\n",
       "       7.01617522e-02, 7.46361854e-01, 3.98067212e-01, 3.57707481e-01,\n",
       "       5.75593714e-01, 9.18806580e-01, 9.88600723e-02, 9.18975876e-02,\n",
       "       2.32143297e-01, 4.63075269e-01, 7.47817393e-01, 9.43213377e-01,\n",
       "       2.33456660e-01, 5.20662503e-01, 3.23597252e-01, 8.25520283e-01,\n",
       "       1.86236494e-01, 5.94665104e-01, 5.97772229e-01, 5.97625389e-01,\n",
       "       5.93636195e-01, 3.02948900e-01, 9.92716121e-01, 5.34460260e-01,\n",
       "       2.44371690e-01, 7.70477143e-01, 7.23242749e-01, 8.49802936e-01,\n",
       "       5.17766027e-01, 4.61747721e-01, 1.85208756e-01, 4.85340860e-01,\n",
       "       6.50079155e-01, 3.56659500e-01, 8.74721780e-01, 6.82882993e-01,\n",
       "       6.51614844e-01, 6.02825426e-01, 2.35152056e-01, 2.46178287e-01,\n",
       "       2.74519444e-01, 8.86517059e-02, 8.07520204e-01, 3.61856785e-01,\n",
       "       6.39146308e-03, 5.29580699e-01, 7.05893901e-01, 9.23088577e-01,\n",
       "       9.70413480e-01, 2.05607794e-01, 4.40078351e-01, 9.15001653e-01,\n",
       "       3.01640089e-01, 7.86462429e-01, 3.62952178e-01, 1.03359450e-01,\n",
       "       6.95002373e-01, 2.62886573e-01, 8.46068960e-01, 4.03970155e-01,\n",
       "       9.70493398e-01, 1.77095848e-01, 9.37167915e-01, 1.05277157e-01,\n",
       "       9.00177625e-01, 9.27762971e-01, 5.86918334e-01, 4.20848609e-02,\n",
       "       4.39759372e-01, 7.93961364e-01, 6.52119486e-01, 7.90772234e-01,\n",
       "       3.88045507e-01, 6.57424013e-02, 7.38853376e-02, 5.38854967e-01,\n",
       "       7.14264771e-01, 2.35833787e-01, 4.80263211e-01, 5.71822362e-01,\n",
       "       9.53874654e-01, 2.55331495e-01, 7.10557231e-01, 3.17143763e-01,\n",
       "       6.91945991e-01, 5.27874459e-01, 2.72716312e-02, 1.86324246e-01,\n",
       "       8.87270089e-01, 8.99216440e-01, 3.18877671e-01, 5.97663287e-01,\n",
       "       6.73441496e-01, 1.82466118e-01, 2.70792846e-01, 4.10335155e-01,\n",
       "       6.69351417e-01, 7.24255872e-01, 1.52511479e-01, 6.26281325e-01,\n",
       "       6.54090019e-01, 6.55784498e-01, 3.69841425e-01, 3.71972798e-02,\n",
       "       5.23197446e-01, 2.05582830e-01, 6.39417158e-01, 5.30053930e-01,\n",
       "       9.78471128e-01, 1.62274402e-02, 8.84514409e-01, 1.66368178e-01,\n",
       "       4.99169735e-01, 6.06699033e-01, 1.21934997e-01, 8.62867808e-01,\n",
       "       4.06667566e-01, 9.93547650e-01, 2.22785643e-01, 3.57584441e-02,\n",
       "       2.75068470e-01, 8.29688090e-01, 1.62185442e-01, 3.70995722e-01,\n",
       "       5.55658499e-01, 3.04579180e-01, 8.82750805e-01, 3.25410170e-01,\n",
       "       5.70298334e-01, 7.70070725e-01, 9.23331759e-01, 5.45165832e-01,\n",
       "       8.81551802e-01, 4.40603537e-01, 3.46279974e-01, 8.72674344e-01,\n",
       "       7.28450088e-01, 4.07964083e-01, 1.47791732e-01, 9.03960057e-01,\n",
       "       7.49220868e-01, 1.68929940e-02, 9.84538388e-01, 9.89165368e-01,\n",
       "       2.35469753e-02, 6.24904250e-01, 8.35947505e-01, 3.51968548e-01,\n",
       "       1.08786806e-01, 7.82551423e-01, 3.14833514e-02, 3.81352256e-01,\n",
       "       4.07706755e-01, 6.88351686e-01, 1.54494014e-01, 4.66823345e-01,\n",
       "       8.41359519e-01, 4.22939899e-01, 6.89580251e-01, 4.11550708e-01,\n",
       "       8.47606848e-01, 1.01936115e-01, 9.67456524e-01, 4.39635444e-02,\n",
       "       1.85885685e-01, 2.78374693e-01, 1.40729682e-01, 4.42703858e-01,\n",
       "       6.38982601e-01, 9.55236575e-01, 4.41013699e-02, 4.28639075e-01,\n",
       "       4.80122500e-01, 5.49574711e-01, 1.87105388e-01, 3.26275084e-01,\n",
       "       1.65762476e-01, 3.43676018e-01, 1.11835285e-01, 2.44800895e-01,\n",
       "       2.89260869e-01, 2.62613268e-01, 7.03459154e-01, 1.44862482e-02,\n",
       "       7.44521470e-01, 7.57295619e-01, 4.83738473e-01, 1.65091280e-01,\n",
       "       2.60743354e-01, 9.12395203e-01, 8.08743856e-01, 7.68283800e-01,\n",
       "       4.47359275e-01, 7.59690784e-01, 2.44471391e-01, 6.45525574e-01,\n",
       "       6.71476105e-01, 5.93401637e-01, 3.28092090e-01, 7.49543229e-01,\n",
       "       8.43700506e-02, 9.25664958e-01, 5.63002794e-01, 1.05722373e-01,\n",
       "       7.53188686e-01, 2.33452354e-01, 7.81117034e-01, 1.30042998e-01,\n",
       "       1.55868322e-01, 3.89928439e-01, 1.18423702e-01, 9.98843507e-01,\n",
       "       6.14381175e-01, 8.09712044e-01, 8.06857165e-02, 7.36717515e-01,\n",
       "       8.31358406e-01, 5.49283214e-01, 2.49491956e-01, 8.87086639e-01,\n",
       "       6.52538463e-01, 7.53246324e-01, 6.84867735e-01, 4.42716389e-01,\n",
       "       5.82455681e-01, 3.50874042e-01, 9.76683707e-01, 3.16439771e-01,\n",
       "       5.95865778e-01, 2.07701431e-01, 2.02506328e-01, 9.29798374e-01,\n",
       "       1.65968925e-01, 8.53596157e-02, 2.68949667e-01, 2.80387780e-01,\n",
       "       7.73221039e-01, 7.18403906e-01, 2.25712861e-01, 3.11919642e-01,\n",
       "       4.12094501e-01, 6.38539199e-01, 5.92405392e-02, 6.00798360e-01,\n",
       "       2.61984101e-01, 8.43769286e-01, 4.91151731e-01, 6.70708583e-01,\n",
       "       1.96214070e-01, 1.34059721e-01, 2.63164153e-01, 9.11454799e-01,\n",
       "       9.62431157e-01, 6.07629517e-01, 6.61235757e-02, 9.81977645e-01,\n",
       "       7.77530063e-01, 6.68951627e-01, 3.06268801e-01, 9.18345609e-01,\n",
       "       1.21273087e-01, 8.64819099e-01, 6.43088809e-01, 9.54051021e-01,\n",
       "       5.44092242e-01, 6.71119916e-01, 3.86355796e-01, 6.27718861e-01,\n",
       "       8.09401898e-01, 7.97421443e-01, 2.46002108e-01, 2.99475706e-01,\n",
       "       1.79864104e-01, 5.59650164e-01, 6.70238120e-01, 1.64304616e-01,\n",
       "       7.97182765e-01, 9.50193139e-01, 8.59703645e-01, 9.03377384e-01,\n",
       "       5.42321530e-01, 6.65534684e-01, 2.25833069e-01, 1.90770862e-01,\n",
       "       1.19723340e-01, 4.26138310e-01, 4.50633936e-01, 4.49094593e-01,\n",
       "       8.46121101e-02, 8.16206644e-01, 4.97448187e-01, 7.54057134e-01,\n",
       "       8.72635017e-01, 8.65874176e-01, 4.31407011e-01, 1.68284280e-01,\n",
       "       7.61303654e-01, 1.64049050e-01, 6.82187281e-02, 7.59539223e-01,\n",
       "       7.63927563e-01, 3.94586624e-01, 7.80388934e-01, 8.91997019e-01,\n",
       "       7.31067674e-01, 3.42169238e-01, 7.43168036e-01, 4.13340333e-01,\n",
       "       5.74093025e-01, 9.71144773e-01, 7.47282387e-01, 8.42151466e-01,\n",
       "       7.06180017e-01, 5.96818956e-01, 9.43455405e-01, 3.30235937e-01,\n",
       "       3.69332235e-01, 4.37564894e-01, 6.00097820e-01, 3.52265208e-01,\n",
       "       8.53865424e-01, 8.90545327e-01, 5.41025272e-01, 4.17288702e-01,\n",
       "       5.65641175e-01, 6.79316718e-01, 6.99261349e-01, 7.89623095e-01,\n",
       "       6.18242318e-01, 3.08704907e-02, 7.11103784e-01, 5.11061585e-01,\n",
       "       7.75633210e-01, 2.56621635e-02, 3.17885580e-01, 8.25448208e-01,\n",
       "       5.65435743e-01, 2.27425472e-01, 1.71071670e-01, 4.49630702e-01,\n",
       "       2.38082275e-02, 3.25211025e-01, 7.41505703e-01, 6.60575217e-01,\n",
       "       3.79006972e-01, 2.30580601e-01, 3.03759249e-02, 3.02660452e-02,\n",
       "       9.03722155e-01, 6.87792415e-01, 8.68037798e-01, 8.46441538e-01,\n",
       "       2.79505812e-01, 5.16546612e-03, 2.36146935e-01, 5.29534702e-01,\n",
       "       6.45274987e-03, 5.02609623e-01, 5.32269134e-02, 1.89437950e-01,\n",
       "       7.52382065e-01, 8.36339730e-01, 6.55830717e-01, 9.34021805e-01,\n",
       "       3.02300488e-01, 3.36243565e-01, 5.50131485e-01, 6.73395065e-01,\n",
       "       8.76029155e-01, 3.83137880e-01, 7.80880821e-01, 7.81248649e-01,\n",
       "       1.16200589e-01, 7.27027146e-02, 3.99111239e-01, 9.73822833e-02,\n",
       "       4.87533053e-01, 9.45554884e-01, 9.98026606e-01, 8.74140967e-01,\n",
       "       2.99625620e-01, 5.36622428e-02, 9.35479412e-01, 2.25006048e-02,\n",
       "       7.13654772e-03, 7.99339409e-01, 3.52440852e-01, 4.35404255e-01,\n",
       "       7.10114495e-01, 1.41314119e-01, 6.42204229e-01, 4.83673162e-01,\n",
       "       3.56316933e-01, 6.03734839e-01, 4.92256448e-02, 7.30333703e-01,\n",
       "       4.22880779e-01, 2.63412273e-01, 5.70838315e-01, 4.98077073e-01,\n",
       "       4.03949162e-01, 2.97597891e-01, 6.10902329e-02, 8.42354307e-01,\n",
       "       9.11156187e-01, 9.87066945e-01, 4.13473095e-01, 1.83234084e-01,\n",
       "       3.03652295e-01, 4.46703598e-01, 3.35129306e-02, 5.58010390e-01,\n",
       "       8.33116011e-01, 4.05237048e-01, 8.46948671e-02, 6.72054721e-01,\n",
       "       6.18394642e-01, 5.91280554e-01, 6.70181968e-01, 7.04312428e-01,\n",
       "       5.11913691e-01, 2.47511992e-01, 1.56399168e-02, 8.74667886e-01,\n",
       "       8.48127000e-01, 3.12961376e-01, 5.84118360e-01, 1.65783483e-01,\n",
       "       2.72343919e-01, 9.40199673e-01, 5.34211792e-01, 2.62123267e-01,\n",
       "       9.23414967e-01, 9.95043258e-01, 8.66818731e-01, 6.59211579e-01,\n",
       "       6.82935167e-01, 9.59901804e-01, 9.95374410e-01, 6.79176456e-01,\n",
       "       7.43141478e-01, 4.78256697e-01, 3.65124851e-01, 5.90066383e-01,\n",
       "       2.58761355e-01, 5.19074859e-01, 7.33389267e-01, 1.42337214e-01,\n",
       "       5.64851672e-01, 1.59395844e-01, 5.26593482e-01, 6.38647383e-01,\n",
       "       2.51398645e-01, 4.44009894e-01, 2.93736332e-01, 8.25567531e-02,\n",
       "       6.03754435e-01, 8.58340254e-01, 2.72381628e-01, 1.97198425e-01,\n",
       "       6.95777470e-01, 7.40813439e-01, 2.74626048e-01, 9.52409921e-01,\n",
       "       8.68363045e-02, 6.18611508e-01, 4.50126763e-01, 7.03836468e-01,\n",
       "       4.87474274e-01, 1.92911879e-01, 2.85662138e-01, 3.16559133e-01,\n",
       "       9.63157825e-01, 7.43848716e-01, 6.47913879e-01, 3.23359731e-01,\n",
       "       8.72038896e-02, 2.68155531e-01, 5.86162618e-01, 2.82530198e-01,\n",
       "       6.74801905e-01, 8.42889753e-01, 4.41230032e-01, 8.82649267e-01,\n",
       "       2.29907112e-01, 8.31072905e-01, 9.36948109e-01, 2.94786248e-01,\n",
       "       8.39536064e-02, 6.63211698e-01, 8.50651551e-02, 6.97974616e-01,\n",
       "       3.19125102e-01, 1.85163843e-01, 1.56162835e-01, 7.81549971e-01,\n",
       "       4.08925820e-01, 3.25739706e-01, 7.95921272e-01, 3.72518871e-01,\n",
       "       3.17814656e-01, 5.38708955e-01, 7.97876420e-01, 2.18215044e-01,\n",
       "       7.29428593e-02, 8.57545714e-01, 1.25921890e-01, 5.18348508e-01,\n",
       "       3.35637142e-02, 2.76476094e-01, 9.11038773e-01, 4.16788698e-01,\n",
       "       5.05892807e-01, 9.53629640e-01, 4.54683337e-01, 1.75050801e-01,\n",
       "       3.81339713e-01, 6.08172937e-01, 5.99665716e-01, 7.85639127e-02,\n",
       "       6.49754221e-01, 3.79069750e-01, 2.83774679e-01, 6.62116732e-01,\n",
       "       9.02441871e-01, 3.73468000e-01, 2.34202198e-01, 7.87675368e-01,\n",
       "       3.98544198e-01, 2.22218577e-01, 3.48099694e-01, 2.02352457e-01,\n",
       "       8.55604007e-01, 9.41129191e-01, 8.63837606e-01, 3.30871382e-01,\n",
       "       9.17162841e-01, 2.32142445e-03, 5.12085997e-01, 8.50942649e-01,\n",
       "       3.38035038e-02, 8.22806338e-02, 1.29925412e-01, 4.46201141e-01,\n",
       "       4.34963380e-01, 5.87930287e-01, 6.57984373e-01, 1.56184707e-01,\n",
       "       1.26833832e-01, 9.93722635e-01, 6.01739323e-01, 9.18944747e-01])"
      ]
     },
     "execution_count": 15,
     "metadata": {},
     "output_type": "execute_result"
    }
   ],
   "source": [
    "A"
   ]
  },
  {
   "cell_type": "code",
   "execution_count": 16,
   "metadata": {},
   "outputs": [],
   "source": [
    "import matplotlib.pyplot as plt"
   ]
  },
  {
   "cell_type": "code",
   "execution_count": 17,
   "metadata": {},
   "outputs": [
    {
     "data": {
      "text/plain": [
       "(array([10.,  7., 14., 13.,  7.,  5., 11.,  9., 15.,  8., 11.,  6.,  8.,\n",
       "         3.,  8., 11., 13.,  8., 14.,  6., 10.,  7.,  9., 11.,  8., 11.,\n",
       "        14., 15., 14.,  6., 12., 16., 11.,  7.,  5.,  9.,  8., 13.,  8.,\n",
       "         8., 17.,  8., 12., 10., 15.,  4.,  6.,  1., 12.,  9.,  5., 12.,\n",
       "        13.,  7., 11.,  4., 10.,  9., 11., 18., 14.,  7., 14.,  9.,  9.,\n",
       "        13.,  9., 18.,  8., 12., 10.,  8.,  6.,  9., 16.,  9., 13., 10.,\n",
       "         9., 13.,  4.,  9.,  5.,  7., 15., 13., 13., 12.,  8.,  8.,  9.,\n",
       "        12.,  7., 14., 13., 10.,  7., 15.,  8., 12.]),\n",
       " array([6.15305167e-05, 1.00531164e-02, 2.00447023e-02, 3.00362883e-02,\n",
       "        4.00278742e-02, 5.00194601e-02, 6.00110460e-02, 7.00026319e-02,\n",
       "        7.99942178e-02, 8.99858038e-02, 9.99773897e-02, 1.09968976e-01,\n",
       "        1.19960561e-01, 1.29952147e-01, 1.39943733e-01, 1.49935319e-01,\n",
       "        1.59926905e-01, 1.69918491e-01, 1.79910077e-01, 1.89901663e-01,\n",
       "        1.99893249e-01, 2.09884835e-01, 2.19876421e-01, 2.29868007e-01,\n",
       "        2.39859592e-01, 2.49851178e-01, 2.59842764e-01, 2.69834350e-01,\n",
       "        2.79825936e-01, 2.89817522e-01, 2.99809108e-01, 3.09800694e-01,\n",
       "        3.19792280e-01, 3.29783866e-01, 3.39775452e-01, 3.49767038e-01,\n",
       "        3.59758623e-01, 3.69750209e-01, 3.79741795e-01, 3.89733381e-01,\n",
       "        3.99724967e-01, 4.09716553e-01, 4.19708139e-01, 4.29699725e-01,\n",
       "        4.39691311e-01, 4.49682897e-01, 4.59674483e-01, 4.69666069e-01,\n",
       "        4.79657654e-01, 4.89649240e-01, 4.99640826e-01, 5.09632412e-01,\n",
       "        5.19623998e-01, 5.29615584e-01, 5.39607170e-01, 5.49598756e-01,\n",
       "        5.59590342e-01, 5.69581928e-01, 5.79573514e-01, 5.89565100e-01,\n",
       "        5.99556685e-01, 6.09548271e-01, 6.19539857e-01, 6.29531443e-01,\n",
       "        6.39523029e-01, 6.49514615e-01, 6.59506201e-01, 6.69497787e-01,\n",
       "        6.79489373e-01, 6.89480959e-01, 6.99472545e-01, 7.09464130e-01,\n",
       "        7.19455716e-01, 7.29447302e-01, 7.39438888e-01, 7.49430474e-01,\n",
       "        7.59422060e-01, 7.69413646e-01, 7.79405232e-01, 7.89396818e-01,\n",
       "        7.99388404e-01, 8.09379990e-01, 8.19371576e-01, 8.29363161e-01,\n",
       "        8.39354747e-01, 8.49346333e-01, 8.59337919e-01, 8.69329505e-01,\n",
       "        8.79321091e-01, 8.89312677e-01, 8.99304263e-01, 9.09295849e-01,\n",
       "        9.19287435e-01, 9.29279021e-01, 9.39270607e-01, 9.49262192e-01,\n",
       "        9.59253778e-01, 9.69245364e-01, 9.79236950e-01, 9.89228536e-01,\n",
       "        9.99220122e-01]),\n",
       " <BarContainer object of 100 artists>)"
      ]
     },
     "execution_count": 17,
     "metadata": {},
     "output_type": "execute_result"
    },
    {
     "data": {
      "image/png": "[encoded data removed]",
      "text/plain": [
       "<Figure size 640x480 with 1 Axes>"
      ]
     },
     "metadata": {},
     "output_type": "display_data"
    }
   ],
   "source": [
    "plt.hist(A, bins = 100)"
   ]
  },
  {
   "cell_type": "code",
   "execution_count": 18,
   "metadata": {},
   "outputs": [
    {
     "data": {
      "text/plain": [
       "(array([1.000e+00, 0.000e+00, 0.000e+00, 0.000e+00, 0.000e+00, 0.000e+00,\n",
       "        1.000e+00, 0.000e+00, 0.000e+00, 1.000e+00, 0.000e+00, 0.000e+00,\n",
       "        0.000e+00, 1.000e+00, 1.000e+00, 1.000e+00, 1.000e+00, 2.000e+00,\n",
       "        3.000e+00, 3.000e+00, 5.000e+00, 1.000e+01, 3.000e+00, 6.000e+00,\n",
       "        4.000e+00, 1.500e+01, 8.000e+00, 1.200e+01, 2.100e+01, 1.700e+01,\n",
       "        2.100e+01, 2.000e+01, 1.900e+01, 3.300e+01, 3.100e+01, 2.000e+01,\n",
       "        3.600e+01, 3.300e+01, 4.500e+01, 5.300e+01, 7.200e+01, 6.900e+01,\n",
       "        8.000e+01, 9.700e+01, 8.900e+01, 1.340e+02, 1.100e+02, 1.390e+02,\n",
       "        1.470e+02, 1.550e+02, 1.820e+02, 1.870e+02, 2.070e+02, 2.500e+02,\n",
       "        2.840e+02, 2.760e+02, 3.320e+02, 3.240e+02, 3.970e+02, 3.850e+02,\n",
       "        4.470e+02, 5.250e+02, 5.370e+02, 5.750e+02, 5.680e+02, 6.350e+02,\n",
       "        6.670e+02, 7.300e+02, 7.830e+02, 7.770e+02, 8.500e+02, 9.250e+02,\n",
       "        9.450e+02, 9.860e+02, 1.062e+03, 1.067e+03, 1.153e+03, 1.150e+03,\n",
       "        1.374e+03, 1.324e+03, 1.362e+03, 1.401e+03, 1.477e+03, 1.481e+03,\n",
       "        1.476e+03, 1.557e+03, 1.581e+03, 1.606e+03, 1.694e+03, 1.660e+03,\n",
       "        1.761e+03, 1.722e+03, 1.677e+03, 1.785e+03, 1.848e+03, 1.788e+03,\n",
       "        1.852e+03, 1.838e+03, 1.813e+03, 1.859e+03, 1.886e+03, 1.798e+03,\n",
       "        1.811e+03, 1.709e+03, 1.715e+03, 1.780e+03, 1.703e+03, 1.656e+03,\n",
       "        1.664e+03, 1.517e+03, 1.468e+03, 1.476e+03, 1.442e+03, 1.368e+03,\n",
       "        1.370e+03, 1.279e+03, 1.224e+03, 1.182e+03, 1.120e+03, 1.108e+03,\n",
       "        9.980e+02, 9.670e+02, 8.910e+02, 8.780e+02, 8.440e+02, 7.740e+02,\n",
       "        7.670e+02, 7.150e+02, 7.150e+02, 6.370e+02, 5.700e+02, 5.700e+02,\n",
       "        5.190e+02, 4.260e+02, 4.280e+02, 4.240e+02, 4.150e+02, 3.270e+02,\n",
       "        3.260e+02, 2.850e+02, 2.450e+02, 2.400e+02, 2.190e+02, 2.030e+02,\n",
       "        2.130e+02, 1.590e+02, 1.460e+02, 1.350e+02, 1.130e+02, 1.050e+02,\n",
       "        1.160e+02, 7.300e+01, 7.300e+01, 6.100e+01, 7.500e+01, 6.600e+01,\n",
       "        4.500e+01, 4.200e+01, 2.500e+01, 4.100e+01, 2.400e+01, 2.800e+01,\n",
       "        1.800e+01, 2.000e+01, 9.000e+00, 1.300e+01, 1.000e+01, 1.000e+01,\n",
       "        1.100e+01, 6.000e+00, 7.000e+00, 5.000e+00, 3.000e+00, 5.000e+00,\n",
       "        7.000e+00, 4.000e+00, 0.000e+00, 1.000e+00, 1.000e+00, 2.000e+00,\n",
       "        1.000e+00, 3.000e+00, 1.000e+00, 0.000e+00, 1.000e+00, 0.000e+00,\n",
       "        0.000e+00, 1.000e+00, 0.000e+00, 0.000e+00, 0.000e+00, 0.000e+00,\n",
       "        0.000e+00, 0.000e+00, 0.000e+00, 0.000e+00, 0.000e+00, 0.000e+00,\n",
       "        0.000e+00, 1.000e+00]),\n",
       " array([-4.45527621, -4.40959408, -4.36391196, -4.31822983, -4.2725477 ,\n",
       "        -4.22686557, -4.18118344, -4.13550131, -4.08981918, -4.04413705,\n",
       "        -3.99845492, -3.95277279, -3.90709067, -3.86140854, -3.81572641,\n",
       "        -3.77004428, -3.72436215, -3.67868002, -3.63299789, -3.58731576,\n",
       "        -3.54163363, -3.4959515 , -3.45026937, -3.40458725, -3.35890512,\n",
       "        -3.31322299, -3.26754086, -3.22185873, -3.1761766 , -3.13049447,\n",
       "        -3.08481234, -3.03913021, -2.99344808, -2.94776596, -2.90208383,\n",
       "        -2.8564017 , -2.81071957, -2.76503744, -2.71935531, -2.67367318,\n",
       "        -2.62799105, -2.58230892, -2.53662679, -2.49094466, -2.44526254,\n",
       "        -2.39958041, -2.35389828, -2.30821615, -2.26253402, -2.21685189,\n",
       "        -2.17116976, -2.12548763, -2.0798055 , -2.03412337, -1.98844124,\n",
       "        -1.94275912, -1.89707699, -1.85139486, -1.80571273, -1.7600306 ,\n",
       "        -1.71434847, -1.66866634, -1.62298421, -1.57730208, -1.53161995,\n",
       "        -1.48593783, -1.4402557 , -1.39457357, -1.34889144, -1.30320931,\n",
       "        -1.25752718, -1.21184505, -1.16616292, -1.12048079, -1.07479866,\n",
       "        -1.02911653, -0.98343441, -0.93775228, -0.89207015, -0.84638802,\n",
       "        -0.80070589, -0.75502376, -0.70934163, -0.6636595 , -0.61797737,\n",
       "        -0.57229524, -0.52661312, -0.48093099, -0.43524886, -0.38956673,\n",
       "        -0.3438846 , -0.29820247, -0.25252034, -0.20683821, -0.16115608,\n",
       "        -0.11547395, -0.06979182, -0.0241097 ,  0.02157243,  0.06725456,\n",
       "         0.11293669,  0.15861882,  0.20430095,  0.24998308,  0.29566521,\n",
       "         0.34134734,  0.38702947,  0.43271159,  0.47839372,  0.52407585,\n",
       "         0.56975798,  0.61544011,  0.66112224,  0.70680437,  0.7524865 ,\n",
       "         0.79816863,  0.84385076,  0.88953289,  0.93521501,  0.98089714,\n",
       "         1.02657927,  1.0722614 ,  1.11794353,  1.16362566,  1.20930779,\n",
       "         1.25498992,  1.30067205,  1.34635418,  1.3920363 ,  1.43771843,\n",
       "         1.48340056,  1.52908269,  1.57476482,  1.62044695,  1.66612908,\n",
       "         1.71181121,  1.75749334,  1.80317547,  1.8488576 ,  1.89453972,\n",
       "         1.94022185,  1.98590398,  2.03158611,  2.07726824,  2.12295037,\n",
       "         2.1686325 ,  2.21431463,  2.25999676,  2.30567889,  2.35136102,\n",
       "         2.39704314,  2.44272527,  2.4884074 ,  2.53408953,  2.57977166,\n",
       "         2.62545379,  2.67113592,  2.71681805,  2.76250018,  2.80818231,\n",
       "         2.85386443,  2.89954656,  2.94522869,  2.99091082,  3.03659295,\n",
       "         3.08227508,  3.12795721,  3.17363934,  3.21932147,  3.2650036 ,\n",
       "         3.31068573,  3.35636785,  3.40204998,  3.44773211,  3.49341424,\n",
       "         3.53909637,  3.5847785 ,  3.63046063,  3.67614276,  3.72182489,\n",
       "         3.76750702,  3.81318914,  3.85887127,  3.9045534 ,  3.95023553,\n",
       "         3.99591766,  4.04159979,  4.08728192,  4.13296405,  4.17864618,\n",
       "         4.22432831,  4.27001044,  4.31569256,  4.36137469,  4.40705682,\n",
       "         4.45273895,  4.49842108,  4.54410321,  4.58978534,  4.63546747,\n",
       "         4.6811496 ]),\n",
       " <BarContainer object of 200 artists>)"
      ]
     },
     "execution_count": 18,
     "metadata": {},
     "output_type": "execute_result"
    },
    {
     "data": {
      "image/png": "[encoded data removed]",
      "text/plain": [
       "<Figure size 640x480 with 1 Axes>"
      ]
     },
     "metadata": {},
     "output_type": "display_data"
    }
   ],
   "source": [
    "B = np.random.randn(100000)\n",
    "plt.hist(B, bins = 200)"
   ]
  },
  {
   "cell_type": "code",
   "execution_count": 19,
   "metadata": {},
   "outputs": [],
   "source": [
    "C = np.random.rand(2, 3)"
   ]
  },
  {
   "cell_type": "code",
   "execution_count": 20,
   "metadata": {},
   "outputs": [
    {
     "data": {
      "text/plain": [
       "array([[0.08569121, 0.33349463, 0.93705391],\n",
       "       [0.14209596, 0.16731396, 0.99791115]])"
      ]
     },
     "execution_count": 20,
     "metadata": {},
     "output_type": "execute_result"
    }
   ],
   "source": [
    "C"
   ]
  },
  {
   "cell_type": "code",
   "execution_count": 21,
   "metadata": {},
   "outputs": [
    {
     "data": {
      "text/plain": [
       "2"
      ]
     },
     "execution_count": 21,
     "metadata": {},
     "output_type": "execute_result"
    }
   ],
   "source": [
    "C.ndim"
   ]
  },
  {
   "cell_type": "code",
   "execution_count": 22,
   "metadata": {},
   "outputs": [],
   "source": [
    "C = np.random.rand(2, 3, 4, 2)"
   ]
  },
  {
   "cell_type": "code",
   "execution_count": 23,
   "metadata": {},
   "outputs": [
    {
     "data": {
      "text/plain": [
       "4"
      ]
     },
     "execution_count": 23,
     "metadata": {},
     "output_type": "execute_result"
    }
   ],
   "source": [
    "C.ndim"
   ]
  },
  {
   "cell_type": "code",
   "execution_count": 24,
   "metadata": {},
   "outputs": [],
   "source": [
    "D = np.arange(100).reshape(4, 25)"
   ]
  },
  {
   "cell_type": "code",
   "execution_count": 25,
   "metadata": {},
   "outputs": [
    {
     "data": {
      "text/plain": [
       "(4, 25)"
      ]
     },
     "execution_count": 25,
     "metadata": {},
     "output_type": "execute_result"
    }
   ],
   "source": [
    "D.shape"
   ]
  },
  {
   "cell_type": "code",
   "execution_count": 26,
   "metadata": {},
   "outputs": [],
   "source": [
    "A = np.arange(100)"
   ]
  },
  {
   "cell_type": "code",
   "execution_count": 27,
   "metadata": {},
   "outputs": [
    {
     "name": "stdout",
     "output_type": "stream",
     "text": [
      "[3 4 5 6 7 8 9]\n"
     ]
    }
   ],
   "source": [
    "b = A[3:10]\n",
    "print(b)"
   ]
  },
  {
   "cell_type": "code",
   "execution_count": 28,
   "metadata": {},
   "outputs": [],
   "source": [
    "b[0] = -1200\n"
   ]
  },
  {
   "cell_type": "code",
   "execution_count": 29,
   "metadata": {},
   "outputs": [
    {
     "data": {
      "text/plain": [
       "array([-1200,     4,     5,     6,     7,     8,     9])"
      ]
     },
     "execution_count": 29,
     "metadata": {},
     "output_type": "execute_result"
    }
   ],
   "source": [
    "b"
   ]
  },
  {
   "cell_type": "code",
   "execution_count": 30,
   "metadata": {},
   "outputs": [
    {
     "data": {
      "text/plain": [
       "array([    0,     1,     2, -1200,     4,     5,     6,     7,     8,\n",
       "           9,    10,    11,    12,    13,    14,    15,    16,    17,\n",
       "          18,    19,    20,    21,    22,    23,    24,    25,    26,\n",
       "          27,    28,    29,    30,    31,    32,    33,    34,    35,\n",
       "          36,    37,    38,    39,    40,    41,    42,    43,    44,\n",
       "          45,    46,    47,    48,    49,    50,    51,    52,    53,\n",
       "          54,    55,    56,    57,    58,    59,    60,    61,    62,\n",
       "          63,    64,    65,    66,    67,    68,    69,    70,    71,\n",
       "          72,    73,    74,    75,    76,    77,    78,    79,    80,\n",
       "          81,    82,    83,    84,    85,    86,    87,    88,    89,\n",
       "          90,    91,    92,    93,    94,    95,    96,    97,    98,\n",
       "          99])"
      ]
     },
     "execution_count": 30,
     "metadata": {},
     "output_type": "execute_result"
    }
   ],
   "source": [
    "A"
   ]
  },
  {
   "cell_type": "code",
   "execution_count": 31,
   "metadata": {},
   "outputs": [],
   "source": [
    "b = A[3:10].copy()"
   ]
  },
  {
   "cell_type": "code",
   "execution_count": 32,
   "metadata": {},
   "outputs": [
    {
     "data": {
      "text/plain": [
       "array([ 0,  5, 10, 15, 20, 25, 30, 35, 40, 45, 50, 55, 60, 65, 70, 75, 80,\n",
       "       85, 90, 95])"
      ]
     },
     "execution_count": 32,
     "metadata": {},
     "output_type": "execute_result"
    }
   ],
   "source": [
    "A[::5]"
   ]
  },
  {
   "cell_type": "code",
   "execution_count": 33,
   "metadata": {},
   "outputs": [
    {
     "data": {
      "text/plain": [
       "array([99, 94, 89, 84, 79, 74, 69, 64, 59, 54, 49, 44, 39, 34, 29, 24, 19,\n",
       "       14,  9,  4])"
      ]
     },
     "execution_count": 33,
     "metadata": {},
     "output_type": "execute_result"
    }
   ],
   "source": [
    "A[::-5]"
   ]
  },
  {
   "cell_type": "code",
   "execution_count": 34,
   "metadata": {},
   "outputs": [
    {
     "data": {
      "text/plain": [
       "array([   99,    98,    97,    96,    95,    94,    93,    92,    91,\n",
       "          90,    89,    88,    87,    86,    85,    84,    83,    82,\n",
       "          81,    80,    79,    78,    77,    76,    75,    74,    73,\n",
       "          72,    71,    70,    69,    68,    67,    66,    65,    64,\n",
       "          63,    62,    61,    60,    59,    58,    57,    56,    55,\n",
       "          54,    53,    52,    51,    50,    49,    48,    47,    46,\n",
       "          45,    44,    43,    42,    41,    40,    39,    38,    37,\n",
       "          36,    35,    34,    33,    32,    31,    30,    29,    28,\n",
       "          27,    26,    25,    24,    23,    22,    21,    20,    19,\n",
       "          18,    17,    16,    15,    14,    13,    12,    11,    10,\n",
       "           9,     8,     7,     6,     5,     4, -1200,     2,     1,\n",
       "           0])"
      ]
     },
     "execution_count": 34,
     "metadata": {},
     "output_type": "execute_result"
    }
   ],
   "source": [
    "A[::-1]"
   ]
  },
  {
   "cell_type": "code",
   "execution_count": 35,
   "metadata": {},
   "outputs": [],
   "source": [
    "B = (A == -1200) * np.arange(A.size)"
   ]
  },
  {
   "cell_type": "code",
   "execution_count": 36,
   "metadata": {},
   "outputs": [
    {
     "data": {
      "text/plain": [
       "array([    0,     1,     2, -1200,     4,     5,     6,     7,     8,\n",
       "           9,    10,    11,    12,    13,    14,    15,    16,    17,\n",
       "          18,    19,    20,    21,    22,    23,    24,    25,    26,\n",
       "          27,    28,    29,    30,    31,    32,    33,    34,    35,\n",
       "          36,    37,    38,    39,    40,    41,    42,    43,    44,\n",
       "          45,    46,    47,    48,    49,    50,    51,    52,    53,\n",
       "          54,    55,    56,    57,    58,    59,    60,    61,    62,\n",
       "          63,    64,    65,    66,    67,    68,    69,    70,    71,\n",
       "          72,    73,    74,    75,    76,    77,    78,    79,    80,\n",
       "          81,    82,    83,    84,    85,    86,    87,    88,    89,\n",
       "          90,    91,    92,    93,    94,    95,    96,    97,    98,\n",
       "          99])"
      ]
     },
     "execution_count": 36,
     "metadata": {},
     "output_type": "execute_result"
    }
   ],
   "source": [
    "A"
   ]
  },
  {
   "cell_type": "code",
   "execution_count": 37,
   "metadata": {},
   "outputs": [],
   "source": [
    "idx = np.argwhere(A == -1200)[0][0]"
   ]
  },
  {
   "cell_type": "code",
   "execution_count": 38,
   "metadata": {},
   "outputs": [
    {
     "data": {
      "text/plain": [
       "3"
      ]
     },
     "execution_count": 38,
     "metadata": {},
     "output_type": "execute_result"
    }
   ],
   "source": [
    "idx"
   ]
  },
  {
   "cell_type": "code",
   "execution_count": 39,
   "metadata": {},
   "outputs": [],
   "source": [
    "A[idx] = 3 "
   ]
  },
  {
   "cell_type": "code",
   "execution_count": 40,
   "metadata": {},
   "outputs": [
    {
     "data": {
      "text/plain": [
       "array([ 0,  1,  2,  3,  4,  5,  6,  7,  8,  9, 10, 11, 12, 13, 14, 15, 16,\n",
       "       17, 18, 19, 20, 21, 22, 23, 24, 25, 26, 27, 28, 29, 30, 31, 32, 33,\n",
       "       34, 35, 36, 37, 38, 39, 40, 41, 42, 43, 44, 45, 46, 47, 48, 49, 50,\n",
       "       51, 52, 53, 54, 55, 56, 57, 58, 59, 60, 61, 62, 63, 64, 65, 66, 67,\n",
       "       68, 69, 70, 71, 72, 73, 74, 75, 76, 77, 78, 79, 80, 81, 82, 83, 84,\n",
       "       85, 86, 87, 88, 89, 90, 91, 92, 93, 94, 95, 96, 97, 98, 99])"
      ]
     },
     "execution_count": 40,
     "metadata": {},
     "output_type": "execute_result"
    }
   ],
   "source": [
    "A"
   ]
  },
  {
   "cell_type": "code",
   "execution_count": 41,
   "metadata": {},
   "outputs": [],
   "source": [
    "A = np.round(10 * np.random.rand(5, 4))"
   ]
  },
  {
   "cell_type": "code",
   "execution_count": 42,
   "metadata": {},
   "outputs": [
    {
     "data": {
      "text/plain": [
       "array([[9., 4., 3., 5.],\n",
       "       [1., 0., 7., 5.],\n",
       "       [1., 1., 8., 8.],\n",
       "       [1., 9., 9., 6.],\n",
       "       [6., 8., 3., 8.]])"
      ]
     },
     "execution_count": 42,
     "metadata": {},
     "output_type": "execute_result"
    }
   ],
   "source": [
    "A"
   ]
  },
  {
   "cell_type": "code",
   "execution_count": 43,
   "metadata": {},
   "outputs": [
    {
     "data": {
      "text/plain": [
       "7.0"
      ]
     },
     "execution_count": 43,
     "metadata": {},
     "output_type": "execute_result"
    }
   ],
   "source": [
    "A[1,2]"
   ]
  },
  {
   "cell_type": "code",
   "execution_count": 44,
   "metadata": {},
   "outputs": [
    {
     "data": {
      "text/plain": [
       "array([1., 0., 7., 5.])"
      ]
     },
     "execution_count": 44,
     "metadata": {},
     "output_type": "execute_result"
    }
   ],
   "source": [
    "A[1,:]"
   ]
  },
  {
   "cell_type": "code",
   "execution_count": 45,
   "metadata": {},
   "outputs": [
    {
     "data": {
      "text/plain": [
       "array([4., 0., 1., 9., 8.])"
      ]
     },
     "execution_count": 45,
     "metadata": {},
     "output_type": "execute_result"
    }
   ],
   "source": [
    "A[:,1]"
   ]
  },
  {
   "cell_type": "code",
   "execution_count": 46,
   "metadata": {},
   "outputs": [
    {
     "data": {
      "text/plain": [
       "array([[7., 5.],\n",
       "       [8., 8.]])"
      ]
     },
     "execution_count": 46,
     "metadata": {},
     "output_type": "execute_result"
    }
   ],
   "source": [
    "A[1:3,2:4]"
   ]
  },
  {
   "cell_type": "code",
   "execution_count": 47,
   "metadata": {},
   "outputs": [
    {
     "data": {
      "text/plain": [
       "<function ndarray.transpose>"
      ]
     },
     "execution_count": 47,
     "metadata": {},
     "output_type": "execute_result"
    }
   ],
   "source": [
    "A.transpose"
   ]
  },
  {
   "cell_type": "code",
   "execution_count": 48,
   "metadata": {},
   "outputs": [
    {
     "data": {
      "text/plain": [
       "array([[9., 1., 1., 1., 6.],\n",
       "       [4., 0., 1., 9., 8.],\n",
       "       [3., 7., 8., 9., 3.],\n",
       "       [5., 5., 8., 6., 8.]])"
      ]
     },
     "execution_count": 48,
     "metadata": {},
     "output_type": "execute_result"
    }
   ],
   "source": [
    "A.T"
   ]
  },
  {
   "cell_type": "code",
   "execution_count": 49,
   "metadata": {},
   "outputs": [],
   "source": [
    "import numpy.linalg as la"
   ]
  },
  {
   "cell_type": "code",
   "execution_count": 50,
   "metadata": {},
   "outputs": [
    {
     "data": {
      "text/plain": [
       "array([[-0.13116945,  2.27080856, -0.6227778 ],\n",
       "       [ 1.91387302,  0.21195898, -1.3216842 ],\n",
       "       [-0.29414185, -1.2550725 ,  1.63674793]])"
      ]
     },
     "execution_count": 50,
     "metadata": {},
     "output_type": "execute_result"
    }
   ],
   "source": [
    "la.inv(np.random.rand(3,3))"
   ]
  },
  {
   "cell_type": "code",
   "execution_count": 51,
   "metadata": {},
   "outputs": [
    {
     "data": {
      "text/plain": [
       "array([[9., 4., 3., 5.],\n",
       "       [1., 0., 7., 5.],\n",
       "       [1., 1., 8., 8.],\n",
       "       [1., 9., 9., 6.],\n",
       "       [6., 8., 3., 8.]])"
      ]
     },
     "execution_count": 51,
     "metadata": {},
     "output_type": "execute_result"
    }
   ],
   "source": [
    "A"
   ]
  },
  {
   "cell_type": "code",
   "execution_count": 52,
   "metadata": {},
   "outputs": [],
   "source": [
    "A.sort(axis = 0)"
   ]
  },
  {
   "cell_type": "code",
   "execution_count": 53,
   "metadata": {},
   "outputs": [
    {
     "data": {
      "text/plain": [
       "array([[1., 0., 3., 5.],\n",
       "       [1., 1., 3., 5.],\n",
       "       [1., 4., 7., 6.],\n",
       "       [6., 8., 8., 8.],\n",
       "       [9., 9., 9., 8.]])"
      ]
     },
     "execution_count": 53,
     "metadata": {},
     "output_type": "execute_result"
    }
   ],
   "source": [
    "A"
   ]
  },
  {
   "cell_type": "code",
   "execution_count": 54,
   "metadata": {},
   "outputs": [],
   "source": [
    "A.sort(axis=1)"
   ]
  },
  {
   "cell_type": "code",
   "execution_count": 55,
   "metadata": {},
   "outputs": [
    {
     "data": {
      "text/plain": [
       "array([[0., 1., 3., 5.],\n",
       "       [1., 1., 3., 5.],\n",
       "       [1., 4., 6., 7.],\n",
       "       [6., 8., 8., 8.],\n",
       "       [8., 9., 9., 9.]])"
      ]
     },
     "execution_count": 55,
     "metadata": {},
     "output_type": "execute_result"
    }
   ],
   "source": [
    "A"
   ]
  },
  {
   "cell_type": "code",
   "execution_count": 56,
   "metadata": {},
   "outputs": [],
   "source": [
    "A = np.round(10*np.random.rand(2, 3))"
   ]
  },
  {
   "cell_type": "code",
   "execution_count": 57,
   "metadata": {},
   "outputs": [
    {
     "data": {
      "text/plain": [
       "array([[ 3.,  9.,  4.],\n",
       "       [ 5., 11., 10.]])"
      ]
     },
     "execution_count": 57,
     "metadata": {},
     "output_type": "execute_result"
    }
   ],
   "source": [
    "A + 3"
   ]
  },
  {
   "cell_type": "code",
   "execution_count": 58,
   "metadata": {},
   "outputs": [
    {
     "data": {
      "text/plain": [
       "array([[0., 6., 1.],\n",
       "       [3., 9., 8.]])"
      ]
     },
     "execution_count": 58,
     "metadata": {},
     "output_type": "execute_result"
    }
   ],
   "source": [
    "A + (np.arange(2).reshape(2, 1))"
   ]
  },
  {
   "cell_type": "code",
   "execution_count": 59,
   "metadata": {},
   "outputs": [
    {
     "data": {
      "text/plain": [
       "array([[0., 6., 1.],\n",
       "       [2., 8., 7.]])"
      ]
     },
     "execution_count": 59,
     "metadata": {},
     "output_type": "execute_result"
    }
   ],
   "source": [
    "A"
   ]
  },
  {
   "cell_type": "code",
   "execution_count": 60,
   "metadata": {},
   "outputs": [],
   "source": [
    "B = np.round(10*np.random.rand(2, 2))"
   ]
  },
  {
   "cell_type": "code",
   "execution_count": 61,
   "metadata": {},
   "outputs": [
    {
     "data": {
      "text/plain": [
       "array([[8., 0.],\n",
       "       [5., 2.]])"
      ]
     },
     "execution_count": 61,
     "metadata": {},
     "output_type": "execute_result"
    }
   ],
   "source": [
    "B"
   ]
  },
  {
   "cell_type": "code",
   "execution_count": 62,
   "metadata": {},
   "outputs": [],
   "source": [
    "C = np.hstack((A, B))"
   ]
  },
  {
   "cell_type": "code",
   "execution_count": 63,
   "metadata": {},
   "outputs": [
    {
     "data": {
      "text/plain": [
       "array([[0., 6., 1., 8., 0.],\n",
       "       [2., 8., 7., 5., 2.]])"
      ]
     },
     "execution_count": 63,
     "metadata": {},
     "output_type": "execute_result"
    }
   ],
   "source": [
    "C"
   ]
  },
  {
   "cell_type": "code",
   "execution_count": 64,
   "metadata": {},
   "outputs": [],
   "source": [
    "A = np.random.permutation(np.arange(10))"
   ]
  },
  {
   "cell_type": "code",
   "execution_count": 65,
   "metadata": {},
   "outputs": [
    {
     "data": {
      "text/plain": [
       "array([6, 9, 5, 0, 1, 3, 2, 7, 8, 4])"
      ]
     },
     "execution_count": 65,
     "metadata": {},
     "output_type": "execute_result"
    }
   ],
   "source": [
    "A"
   ]
  },
  {
   "cell_type": "code",
   "execution_count": 66,
   "metadata": {},
   "outputs": [],
   "source": [
    "A.sort()"
   ]
  },
  {
   "cell_type": "code",
   "execution_count": 67,
   "metadata": {},
   "outputs": [
    {
     "data": {
      "text/plain": [
       "array([0, 1, 2, 3, 4, 5, 6, 7, 8, 9])"
      ]
     },
     "execution_count": 67,
     "metadata": {},
     "output_type": "execute_result"
    }
   ],
   "source": [
    "A"
   ]
  },
  {
   "cell_type": "code",
   "execution_count": 68,
   "metadata": {},
   "outputs": [
    {
     "data": {
      "text/plain": [
       "array([0, 1, 2, 3, 4, 5, 6, 7, 8, 9])"
      ]
     },
     "execution_count": 68,
     "metadata": {},
     "output_type": "execute_result"
    }
   ],
   "source": [
    "np.sort(A)"
   ]
  },
  {
   "cell_type": "code",
   "execution_count": 69,
   "metadata": {},
   "outputs": [],
   "source": [
    "A.sort()"
   ]
  },
  {
   "cell_type": "code",
   "execution_count": 70,
   "metadata": {},
   "outputs": [],
   "source": [
    "A = A[::-1]"
   ]
  },
  {
   "cell_type": "code",
   "execution_count": 71,
   "metadata": {},
   "outputs": [
    {
     "data": {
      "text/plain": [
       "array([9, 8, 7, 6, 5, 4, 3, 2, 1, 0])"
      ]
     },
     "execution_count": 71,
     "metadata": {},
     "output_type": "execute_result"
    }
   ],
   "source": [
    "A"
   ]
  },
  {
   "cell_type": "code",
   "execution_count": 72,
   "metadata": {},
   "outputs": [],
   "source": [
    "A = np.array([\"abc\", 'how are you', 'u765', '13er'])"
   ]
  },
  {
   "cell_type": "code",
   "execution_count": 73,
   "metadata": {},
   "outputs": [],
   "source": [
    "A.sort()"
   ]
  },
  {
   "cell_type": "code",
   "execution_count": 74,
   "metadata": {},
   "outputs": [
    {
     "data": {
      "text/plain": [
       "array(['13er', 'abc', 'how are you', 'u765'], dtype='<U11')"
      ]
     },
     "execution_count": 74,
     "metadata": {},
     "output_type": "execute_result"
    }
   ],
   "source": [
    "A"
   ]
  },
  {
   "cell_type": "code",
   "execution_count": 75,
   "metadata": {},
   "outputs": [],
   "source": [
    "b = np.random.rand(1000000)"
   ]
  },
  {
   "cell_type": "code",
   "execution_count": 76,
   "metadata": {},
   "outputs": [
    {
     "name": "stdout",
     "output_type": "stream",
     "text": [
      "41.3 ms ± 195 µs per loop (mean ± std. dev. of 7 runs, 10 loops each)\n"
     ]
    }
   ],
   "source": [
    "%timeit sum(b)"
   ]
  },
  {
   "cell_type": "code",
   "execution_count": 77,
   "metadata": {},
   "outputs": [
    {
     "name": "stdout",
     "output_type": "stream",
     "text": [
      "218 µs ± 8.9 µs per loop (mean ± std. dev. of 7 runs, 1,000 loops each)\n"
     ]
    }
   ],
   "source": [
    "%timeit np.sum(b)"
   ]
  },
  {
   "cell_type": "code",
   "execution_count": 78,
   "metadata": {},
   "outputs": [],
   "source": [
    "import pandas as pd"
   ]
  },
  {
   "cell_type": "code",
   "execution_count": 79,
   "metadata": {},
   "outputs": [],
   "source": [
    "data = pd.Series([0.25, 0.5, 0.75, 1.0], index = ['a', 'b', 'c', 'd'])"
   ]
  },
  {
   "cell_type": "code",
   "execution_count": 80,
   "metadata": {},
   "outputs": [
    {
     "data": {
      "text/plain": [
       "array([0.25, 0.5 , 0.75, 1.  ])"
      ]
     },
     "execution_count": 80,
     "metadata": {},
     "output_type": "execute_result"
    }
   ],
   "source": [
    "data.values"
   ]
  },
  {
   "cell_type": "code",
   "execution_count": 81,
   "metadata": {},
   "outputs": [
    {
     "data": {
      "text/plain": [
       "Index(['a', 'b', 'c', 'd'], dtype='object')"
      ]
     },
     "execution_count": 81,
     "metadata": {},
     "output_type": "execute_result"
    }
   ],
   "source": [
    "data.index"
   ]
  },
  {
   "cell_type": "code",
   "execution_count": 82,
   "metadata": {},
   "outputs": [
    {
     "name": "stdout",
     "output_type": "stream",
     "text": [
      "2.2.2\n"
     ]
    }
   ],
   "source": [
    "print(pd.__version__)"
   ]
  },
  {
   "cell_type": "code",
   "execution_count": 83,
   "metadata": {},
   "outputs": [],
   "source": [
    "A = pd.Series([2, 3, 4, 5], index = ['a', 'b', 'c', 'd'])"
   ]
  },
  {
   "cell_type": "code",
   "execution_count": 84,
   "metadata": {},
   "outputs": [
    {
     "data": {
      "text/plain": [
       "numpy.ndarray"
      ]
     },
     "execution_count": 84,
     "metadata": {},
     "output_type": "execute_result"
    }
   ],
   "source": [
    "type(A.values)"
   ]
  },
  {
   "cell_type": "code",
   "execution_count": 85,
   "metadata": {},
   "outputs": [
    {
     "data": {
      "text/plain": [
       "pandas.core.series.Series"
      ]
     },
     "execution_count": 85,
     "metadata": {},
     "output_type": "execute_result"
    }
   ],
   "source": [
    "type(A)"
   ]
  },
  {
   "cell_type": "code",
   "execution_count": 86,
   "metadata": {},
   "outputs": [
    {
     "data": {
      "text/plain": [
       "Index(['a', 'b', 'c', 'd'], dtype='object')"
      ]
     },
     "execution_count": 86,
     "metadata": {},
     "output_type": "execute_result"
    }
   ],
   "source": [
    "A.index"
   ]
  },
  {
   "cell_type": "code",
   "execution_count": 87,
   "metadata": {},
   "outputs": [
    {
     "data": {
      "text/plain": [
       "2"
      ]
     },
     "execution_count": 87,
     "metadata": {},
     "output_type": "execute_result"
    }
   ],
   "source": [
    "A['a']"
   ]
  },
  {
   "cell_type": "code",
   "execution_count": 88,
   "metadata": {},
   "outputs": [
    {
     "data": {
      "text/plain": [
       "a    2\n",
       "b    3\n",
       "c    4\n",
       "dtype: int64"
      ]
     },
     "execution_count": 88,
     "metadata": {},
     "output_type": "execute_result"
    }
   ],
   "source": [
    "A['a':'c']"
   ]
  },
  {
   "cell_type": "code",
   "execution_count": 89,
   "metadata": {},
   "outputs": [],
   "source": [
    "grades_dict = {'A':4, 'B':3.5, 'C':3, 'D':2.5}\n",
    "grades = pd.Series(grades_dict)"
   ]
  },
  {
   "cell_type": "code",
   "execution_count": 90,
   "metadata": {},
   "outputs": [
    {
     "data": {
      "text/plain": [
       "array([4. , 3.5, 3. , 2.5])"
      ]
     },
     "execution_count": 90,
     "metadata": {},
     "output_type": "execute_result"
    }
   ],
   "source": [
    "grades.values"
   ]
  },
  {
   "cell_type": "code",
   "execution_count": 91,
   "metadata": {},
   "outputs": [],
   "source": [
    "marks_dict = {'A': 85, 'B': 75, 'C': 65, 'D': 55}\n",
    "marks = pd.Series(marks_dict)"
   ]
  },
  {
   "cell_type": "code",
   "execution_count": 92,
   "metadata": {},
   "outputs": [
    {
     "data": {
      "text/plain": [
       "A    85\n",
       "B    75\n",
       "C    65\n",
       "D    55\n",
       "dtype: int64"
      ]
     },
     "execution_count": 92,
     "metadata": {},
     "output_type": "execute_result"
    }
   ],
   "source": [
    "marks"
   ]
  },
  {
   "cell_type": "code",
   "execution_count": 93,
   "metadata": {},
   "outputs": [
    {
     "data": {
      "text/plain": [
       "85"
      ]
     },
     "execution_count": 93,
     "metadata": {},
     "output_type": "execute_result"
    }
   ],
   "source": [
    "marks['A']"
   ]
  },
  {
   "cell_type": "code",
   "execution_count": 94,
   "metadata": {},
   "outputs": [
    {
     "data": {
      "text/plain": [
       "A    85\n",
       "B    75\n",
       "dtype: int64"
      ]
     },
     "execution_count": 94,
     "metadata": {},
     "output_type": "execute_result"
    }
   ],
   "source": [
    "marks[0:2]"
   ]
  },
  {
   "cell_type": "code",
   "execution_count": 95,
   "metadata": {},
   "outputs": [
    {
     "data": {
      "text/plain": [
       "A    85\n",
       "B    75\n",
       "C    65\n",
       "D    55\n",
       "dtype: int64"
      ]
     },
     "execution_count": 95,
     "metadata": {},
     "output_type": "execute_result"
    }
   ],
   "source": [
    "marks"
   ]
  },
  {
   "cell_type": "code",
   "execution_count": 96,
   "metadata": {},
   "outputs": [
    {
     "data": {
      "text/plain": [
       "A    4.0\n",
       "B    3.5\n",
       "C    3.0\n",
       "D    2.5\n",
       "dtype: float64"
      ]
     },
     "execution_count": 96,
     "metadata": {},
     "output_type": "execute_result"
    }
   ],
   "source": [
    "grades"
   ]
  },
  {
   "cell_type": "code",
   "execution_count": 97,
   "metadata": {},
   "outputs": [],
   "source": [
    "D = pd.DataFrame({'Marks':marks, 'Grades':grades})"
   ]
  },
  {
   "cell_type": "code",
   "execution_count": 98,
   "metadata": {},
   "outputs": [
    {
     "data": {
      "text/html": [
       "<div>\n",
       "<style scoped>\n",
       "    .dataframe tbody tr th:only-of-type {\n",
       "        vertical-align: middle;\n",
       "    }\n",
       "\n",
       "    .dataframe tbody tr th {\n",
       "        vertical-align: top;\n",
       "    }\n",
       "\n",
       "    .dataframe thead th {\n",
       "        text-align: right;\n",
       "    }\n",
       "</style>\n",
       "<table border=\"1\" class=\"dataframe\">\n",
       "  <thead>\n",
       "    <tr style=\"text-align: right;\">\n",
       "      <th></th>\n",
       "      <th>Marks</th>\n",
       "      <th>Grades</th>\n",
       "    </tr>\n",
       "  </thead>\n",
       "  <tbody>\n",
       "    <tr>\n",
       "      <th>A</th>\n",
       "      <td>85</td>\n",
       "      <td>4.0</td>\n",
       "    </tr>\n",
       "    <tr>\n",
       "      <th>B</th>\n",
       "      <td>75</td>\n",
       "      <td>3.5</td>\n",
       "    </tr>\n",
       "    <tr>\n",
       "      <th>C</th>\n",
       "      <td>65</td>\n",
       "      <td>3.0</td>\n",
       "    </tr>\n",
       "    <tr>\n",
       "      <th>D</th>\n",
       "      <td>55</td>\n",
       "      <td>2.5</td>\n",
       "    </tr>\n",
       "  </tbody>\n",
       "</table>\n",
       "</div>"
      ],
      "text/plain": [
       "   Marks  Grades\n",
       "A     85     4.0\n",
       "B     75     3.5\n",
       "C     65     3.0\n",
       "D     55     2.5"
      ]
     },
     "execution_count": 98,
     "metadata": {},
     "output_type": "execute_result"
    }
   ],
   "source": [
    "D"
   ]
  },
  {
   "cell_type": "code",
   "execution_count": 99,
   "metadata": {},
   "outputs": [
    {
     "data": {
      "text/html": [
       "<div>\n",
       "<style scoped>\n",
       "    .dataframe tbody tr th:only-of-type {\n",
       "        vertical-align: middle;\n",
       "    }\n",
       "\n",
       "    .dataframe tbody tr th {\n",
       "        vertical-align: top;\n",
       "    }\n",
       "\n",
       "    .dataframe thead th {\n",
       "        text-align: right;\n",
       "    }\n",
       "</style>\n",
       "<table border=\"1\" class=\"dataframe\">\n",
       "  <thead>\n",
       "    <tr style=\"text-align: right;\">\n",
       "      <th></th>\n",
       "      <th>A</th>\n",
       "      <th>B</th>\n",
       "      <th>C</th>\n",
       "      <th>D</th>\n",
       "    </tr>\n",
       "  </thead>\n",
       "  <tbody>\n",
       "    <tr>\n",
       "      <th>Marks</th>\n",
       "      <td>85.0</td>\n",
       "      <td>75.0</td>\n",
       "      <td>65.0</td>\n",
       "      <td>55.0</td>\n",
       "    </tr>\n",
       "    <tr>\n",
       "      <th>Grades</th>\n",
       "      <td>4.0</td>\n",
       "      <td>3.5</td>\n",
       "      <td>3.0</td>\n",
       "      <td>2.5</td>\n",
       "    </tr>\n",
       "  </tbody>\n",
       "</table>\n",
       "</div>"
      ],
      "text/plain": [
       "           A     B     C     D\n",
       "Marks   85.0  75.0  65.0  55.0\n",
       "Grades   4.0   3.5   3.0   2.5"
      ]
     },
     "execution_count": 99,
     "metadata": {},
     "output_type": "execute_result"
    }
   ],
   "source": [
    "D.T"
   ]
  },
  {
   "cell_type": "code",
   "execution_count": 100,
   "metadata": {},
   "outputs": [
    {
     "data": {
      "text/html": [
       "<div>\n",
       "<style scoped>\n",
       "    .dataframe tbody tr th:only-of-type {\n",
       "        vertical-align: middle;\n",
       "    }\n",
       "\n",
       "    .dataframe tbody tr th {\n",
       "        vertical-align: top;\n",
       "    }\n",
       "\n",
       "    .dataframe thead th {\n",
       "        text-align: right;\n",
       "    }\n",
       "</style>\n",
       "<table border=\"1\" class=\"dataframe\">\n",
       "  <thead>\n",
       "    <tr style=\"text-align: right;\">\n",
       "      <th></th>\n",
       "      <th>Marks</th>\n",
       "      <th>Grades</th>\n",
       "    </tr>\n",
       "  </thead>\n",
       "  <tbody>\n",
       "    <tr>\n",
       "      <th>A</th>\n",
       "      <td>85</td>\n",
       "      <td>4.0</td>\n",
       "    </tr>\n",
       "    <tr>\n",
       "      <th>B</th>\n",
       "      <td>75</td>\n",
       "      <td>3.5</td>\n",
       "    </tr>\n",
       "    <tr>\n",
       "      <th>C</th>\n",
       "      <td>65</td>\n",
       "      <td>3.0</td>\n",
       "    </tr>\n",
       "    <tr>\n",
       "      <th>D</th>\n",
       "      <td>55</td>\n",
       "      <td>2.5</td>\n",
       "    </tr>\n",
       "  </tbody>\n",
       "</table>\n",
       "</div>"
      ],
      "text/plain": [
       "   Marks  Grades\n",
       "A     85     4.0\n",
       "B     75     3.5\n",
       "C     65     3.0\n",
       "D     55     2.5"
      ]
     },
     "execution_count": 100,
     "metadata": {},
     "output_type": "execute_result"
    }
   ],
   "source": [
    "D"
   ]
  },
  {
   "cell_type": "code",
   "execution_count": 101,
   "metadata": {},
   "outputs": [
    {
     "data": {
      "text/plain": [
       "array([[85. ,  4. ],\n",
       "       [75. ,  3.5],\n",
       "       [65. ,  3. ],\n",
       "       [55. ,  2.5]])"
      ]
     },
     "execution_count": 101,
     "metadata": {},
     "output_type": "execute_result"
    }
   ],
   "source": [
    "D.values"
   ]
  },
  {
   "cell_type": "code",
   "execution_count": 102,
   "metadata": {},
   "outputs": [
    {
     "data": {
      "text/plain": [
       "65.0"
      ]
     },
     "execution_count": 102,
     "metadata": {},
     "output_type": "execute_result"
    }
   ],
   "source": [
    "D.values[2, 0]"
   ]
  },
  {
   "cell_type": "code",
   "execution_count": 103,
   "metadata": {},
   "outputs": [
    {
     "data": {
      "text/plain": [
       "Index(['Marks', 'Grades'], dtype='object')"
      ]
     },
     "execution_count": 103,
     "metadata": {},
     "output_type": "execute_result"
    }
   ],
   "source": [
    "D.columns"
   ]
  },
  {
   "cell_type": "code",
   "execution_count": 104,
   "metadata": {},
   "outputs": [
    {
     "data": {
      "text/html": [
       "<div>\n",
       "<style scoped>\n",
       "    .dataframe tbody tr th:only-of-type {\n",
       "        vertical-align: middle;\n",
       "    }\n",
       "\n",
       "    .dataframe tbody tr th {\n",
       "        vertical-align: top;\n",
       "    }\n",
       "\n",
       "    .dataframe thead th {\n",
       "        text-align: right;\n",
       "    }\n",
       "</style>\n",
       "<table border=\"1\" class=\"dataframe\">\n",
       "  <thead>\n",
       "    <tr style=\"text-align: right;\">\n",
       "      <th></th>\n",
       "      <th>Marks</th>\n",
       "      <th>Grades</th>\n",
       "    </tr>\n",
       "  </thead>\n",
       "  <tbody>\n",
       "    <tr>\n",
       "      <th>A</th>\n",
       "      <td>85</td>\n",
       "      <td>4.0</td>\n",
       "    </tr>\n",
       "    <tr>\n",
       "      <th>B</th>\n",
       "      <td>75</td>\n",
       "      <td>3.5</td>\n",
       "    </tr>\n",
       "    <tr>\n",
       "      <th>C</th>\n",
       "      <td>65</td>\n",
       "      <td>3.0</td>\n",
       "    </tr>\n",
       "    <tr>\n",
       "      <th>D</th>\n",
       "      <td>55</td>\n",
       "      <td>2.5</td>\n",
       "    </tr>\n",
       "  </tbody>\n",
       "</table>\n",
       "</div>"
      ],
      "text/plain": [
       "   Marks  Grades\n",
       "A     85     4.0\n",
       "B     75     3.5\n",
       "C     65     3.0\n",
       "D     55     2.5"
      ]
     },
     "execution_count": 104,
     "metadata": {},
     "output_type": "execute_result"
    }
   ],
   "source": [
    "D"
   ]
  },
  {
   "cell_type": "code",
   "execution_count": 105,
   "metadata": {},
   "outputs": [],
   "source": [
    "D['ScaledMarks'] = 100*(D['Marks']/90)"
   ]
  },
  {
   "cell_type": "code",
   "execution_count": 106,
   "metadata": {},
   "outputs": [
    {
     "data": {
      "text/html": [
       "<div>\n",
       "<style scoped>\n",
       "    .dataframe tbody tr th:only-of-type {\n",
       "        vertical-align: middle;\n",
       "    }\n",
       "\n",
       "    .dataframe tbody tr th {\n",
       "        vertical-align: top;\n",
       "    }\n",
       "\n",
       "    .dataframe thead th {\n",
       "        text-align: right;\n",
       "    }\n",
       "</style>\n",
       "<table border=\"1\" class=\"dataframe\">\n",
       "  <thead>\n",
       "    <tr style=\"text-align: right;\">\n",
       "      <th></th>\n",
       "      <th>Marks</th>\n",
       "      <th>Grades</th>\n",
       "      <th>ScaledMarks</th>\n",
       "    </tr>\n",
       "  </thead>\n",
       "  <tbody>\n",
       "    <tr>\n",
       "      <th>A</th>\n",
       "      <td>85</td>\n",
       "      <td>4.0</td>\n",
       "      <td>94.444444</td>\n",
       "    </tr>\n",
       "    <tr>\n",
       "      <th>B</th>\n",
       "      <td>75</td>\n",
       "      <td>3.5</td>\n",
       "      <td>83.333333</td>\n",
       "    </tr>\n",
       "    <tr>\n",
       "      <th>C</th>\n",
       "      <td>65</td>\n",
       "      <td>3.0</td>\n",
       "      <td>72.222222</td>\n",
       "    </tr>\n",
       "    <tr>\n",
       "      <th>D</th>\n",
       "      <td>55</td>\n",
       "      <td>2.5</td>\n",
       "      <td>61.111111</td>\n",
       "    </tr>\n",
       "  </tbody>\n",
       "</table>\n",
       "</div>"
      ],
      "text/plain": [
       "   Marks  Grades  ScaledMarks\n",
       "A     85     4.0    94.444444\n",
       "B     75     3.5    83.333333\n",
       "C     65     3.0    72.222222\n",
       "D     55     2.5    61.111111"
      ]
     },
     "execution_count": 106,
     "metadata": {},
     "output_type": "execute_result"
    }
   ],
   "source": [
    "D"
   ]
  },
  {
   "cell_type": "code",
   "execution_count": 107,
   "metadata": {},
   "outputs": [],
   "source": [
    "del D['ScaledMarks']"
   ]
  },
  {
   "cell_type": "code",
   "execution_count": 108,
   "metadata": {},
   "outputs": [
    {
     "data": {
      "text/html": [
       "<div>\n",
       "<style scoped>\n",
       "    .dataframe tbody tr th:only-of-type {\n",
       "        vertical-align: middle;\n",
       "    }\n",
       "\n",
       "    .dataframe tbody tr th {\n",
       "        vertical-align: top;\n",
       "    }\n",
       "\n",
       "    .dataframe thead th {\n",
       "        text-align: right;\n",
       "    }\n",
       "</style>\n",
       "<table border=\"1\" class=\"dataframe\">\n",
       "  <thead>\n",
       "    <tr style=\"text-align: right;\">\n",
       "      <th></th>\n",
       "      <th>Marks</th>\n",
       "      <th>Grades</th>\n",
       "    </tr>\n",
       "  </thead>\n",
       "  <tbody>\n",
       "    <tr>\n",
       "      <th>A</th>\n",
       "      <td>85</td>\n",
       "      <td>4.0</td>\n",
       "    </tr>\n",
       "    <tr>\n",
       "      <th>B</th>\n",
       "      <td>75</td>\n",
       "      <td>3.5</td>\n",
       "    </tr>\n",
       "    <tr>\n",
       "      <th>C</th>\n",
       "      <td>65</td>\n",
       "      <td>3.0</td>\n",
       "    </tr>\n",
       "    <tr>\n",
       "      <th>D</th>\n",
       "      <td>55</td>\n",
       "      <td>2.5</td>\n",
       "    </tr>\n",
       "  </tbody>\n",
       "</table>\n",
       "</div>"
      ],
      "text/plain": [
       "   Marks  Grades\n",
       "A     85     4.0\n",
       "B     75     3.5\n",
       "C     65     3.0\n",
       "D     55     2.5"
      ]
     },
     "execution_count": 108,
     "metadata": {},
     "output_type": "execute_result"
    }
   ],
   "source": [
    "D"
   ]
  },
  {
   "cell_type": "code",
   "execution_count": 109,
   "metadata": {},
   "outputs": [],
   "source": [
    "G = D[D['Marks'] > 70]"
   ]
  },
  {
   "cell_type": "code",
   "execution_count": 110,
   "metadata": {},
   "outputs": [
    {
     "data": {
      "text/html": [
       "<div>\n",
       "<style scoped>\n",
       "    .dataframe tbody tr th:only-of-type {\n",
       "        vertical-align: middle;\n",
       "    }\n",
       "\n",
       "    .dataframe tbody tr th {\n",
       "        vertical-align: top;\n",
       "    }\n",
       "\n",
       "    .dataframe thead th {\n",
       "        text-align: right;\n",
       "    }\n",
       "</style>\n",
       "<table border=\"1\" class=\"dataframe\">\n",
       "  <thead>\n",
       "    <tr style=\"text-align: right;\">\n",
       "      <th></th>\n",
       "      <th>Marks</th>\n",
       "      <th>Grades</th>\n",
       "    </tr>\n",
       "  </thead>\n",
       "  <tbody>\n",
       "    <tr>\n",
       "      <th>A</th>\n",
       "      <td>85</td>\n",
       "      <td>4.0</td>\n",
       "    </tr>\n",
       "    <tr>\n",
       "      <th>B</th>\n",
       "      <td>75</td>\n",
       "      <td>3.5</td>\n",
       "    </tr>\n",
       "  </tbody>\n",
       "</table>\n",
       "</div>"
      ],
      "text/plain": [
       "   Marks  Grades\n",
       "A     85     4.0\n",
       "B     75     3.5"
      ]
     },
     "execution_count": 110,
     "metadata": {},
     "output_type": "execute_result"
    }
   ],
   "source": [
    "G"
   ]
  },
  {
   "cell_type": "code",
   "execution_count": 111,
   "metadata": {},
   "outputs": [
    {
     "data": {
      "text/html": [
       "<div>\n",
       "<style scoped>\n",
       "    .dataframe tbody tr th:only-of-type {\n",
       "        vertical-align: middle;\n",
       "    }\n",
       "\n",
       "    .dataframe tbody tr th {\n",
       "        vertical-align: top;\n",
       "    }\n",
       "\n",
       "    .dataframe thead th {\n",
       "        text-align: right;\n",
       "    }\n",
       "</style>\n",
       "<table border=\"1\" class=\"dataframe\">\n",
       "  <thead>\n",
       "    <tr style=\"text-align: right;\">\n",
       "      <th></th>\n",
       "      <th>a</th>\n",
       "      <th>b</th>\n",
       "      <th>c</th>\n",
       "    </tr>\n",
       "  </thead>\n",
       "  <tbody>\n",
       "    <tr>\n",
       "      <th>0</th>\n",
       "      <td>1.0</td>\n",
       "      <td>2</td>\n",
       "      <td>NaN</td>\n",
       "    </tr>\n",
       "    <tr>\n",
       "      <th>1</th>\n",
       "      <td>NaN</td>\n",
       "      <td>3</td>\n",
       "      <td>4.0</td>\n",
       "    </tr>\n",
       "  </tbody>\n",
       "</table>\n",
       "</div>"
      ],
      "text/plain": [
       "     a  b    c\n",
       "0  1.0  2  NaN\n",
       "1  NaN  3  4.0"
      ]
     },
     "execution_count": 111,
     "metadata": {},
     "output_type": "execute_result"
    }
   ],
   "source": [
    "pd.DataFrame([{'a':1, 'b':2}, {'b':3, 'c':4}])"
   ]
  },
  {
   "cell_type": "code",
   "execution_count": 112,
   "metadata": {},
   "outputs": [],
   "source": [
    "A = pd.DataFrame([{'a':1, 'b':4}, {'b':-3, 'c':9}])"
   ]
  },
  {
   "cell_type": "code",
   "execution_count": 113,
   "metadata": {},
   "outputs": [
    {
     "data": {
      "text/html": [
       "<div>\n",
       "<style scoped>\n",
       "    .dataframe tbody tr th:only-of-type {\n",
       "        vertical-align: middle;\n",
       "    }\n",
       "\n",
       "    .dataframe tbody tr th {\n",
       "        vertical-align: top;\n",
       "    }\n",
       "\n",
       "    .dataframe thead th {\n",
       "        text-align: right;\n",
       "    }\n",
       "</style>\n",
       "<table border=\"1\" class=\"dataframe\">\n",
       "  <thead>\n",
       "    <tr style=\"text-align: right;\">\n",
       "      <th></th>\n",
       "      <th>a</th>\n",
       "      <th>b</th>\n",
       "      <th>c</th>\n",
       "    </tr>\n",
       "  </thead>\n",
       "  <tbody>\n",
       "    <tr>\n",
       "      <th>0</th>\n",
       "      <td>1.0</td>\n",
       "      <td>4</td>\n",
       "      <td>NaN</td>\n",
       "    </tr>\n",
       "    <tr>\n",
       "      <th>1</th>\n",
       "      <td>NaN</td>\n",
       "      <td>-3</td>\n",
       "      <td>9.0</td>\n",
       "    </tr>\n",
       "  </tbody>\n",
       "</table>\n",
       "</div>"
      ],
      "text/plain": [
       "     a  b    c\n",
       "0  1.0  4  NaN\n",
       "1  NaN -3  9.0"
      ]
     },
     "execution_count": 113,
     "metadata": {},
     "output_type": "execute_result"
    }
   ],
   "source": [
    "A"
   ]
  },
  {
   "cell_type": "code",
   "execution_count": 114,
   "metadata": {},
   "outputs": [
    {
     "data": {
      "text/html": [
       "<div>\n",
       "<style scoped>\n",
       "    .dataframe tbody tr th:only-of-type {\n",
       "        vertical-align: middle;\n",
       "    }\n",
       "\n",
       "    .dataframe tbody tr th {\n",
       "        vertical-align: top;\n",
       "    }\n",
       "\n",
       "    .dataframe thead th {\n",
       "        text-align: right;\n",
       "    }\n",
       "</style>\n",
       "<table border=\"1\" class=\"dataframe\">\n",
       "  <thead>\n",
       "    <tr style=\"text-align: right;\">\n",
       "      <th></th>\n",
       "      <th>a</th>\n",
       "      <th>b</th>\n",
       "      <th>c</th>\n",
       "    </tr>\n",
       "  </thead>\n",
       "  <tbody>\n",
       "    <tr>\n",
       "      <th>0</th>\n",
       "      <td>1.0</td>\n",
       "      <td>4</td>\n",
       "      <td>0.0</td>\n",
       "    </tr>\n",
       "    <tr>\n",
       "      <th>1</th>\n",
       "      <td>0.0</td>\n",
       "      <td>-3</td>\n",
       "      <td>9.0</td>\n",
       "    </tr>\n",
       "  </tbody>\n",
       "</table>\n",
       "</div>"
      ],
      "text/plain": [
       "     a  b    c\n",
       "0  1.0  4  0.0\n",
       "1  0.0 -3  9.0"
      ]
     },
     "execution_count": 114,
     "metadata": {},
     "output_type": "execute_result"
    }
   ],
   "source": [
    "A.fillna(0)"
   ]
  },
  {
   "cell_type": "code",
   "execution_count": 115,
   "metadata": {},
   "outputs": [
    {
     "name": "stdout",
     "output_type": "stream",
     "text": [
      "\u001b[1;31mSignature:\u001b[0m\n",
      "\u001b[0mA\u001b[0m\u001b[1;33m.\u001b[0m\u001b[0mdropna\u001b[0m\u001b[1;33m(\u001b[0m\u001b[1;33m\n",
      "\u001b[0m    \u001b[1;33m*\u001b[0m\u001b[1;33m,\u001b[0m\u001b[1;33m\n",
      "\u001b[0m    \u001b[0maxis\u001b[0m\u001b[1;33m:\u001b[0m \u001b[1;34m'Axis'\u001b[0m \u001b[1;33m=\u001b[0m \u001b[1;36m0\u001b[0m\u001b[1;33m,\u001b[0m\u001b[1;33m\n",
      "\u001b[0m    \u001b[0mhow\u001b[0m\u001b[1;33m:\u001b[0m \u001b[1;34m'AnyAll | lib.NoDefault'\u001b[0m \u001b[1;33m=\u001b[0m \u001b[1;33m<\u001b[0m\u001b[0mno_default\u001b[0m\u001b[1;33m>\u001b[0m\u001b[1;33m,\u001b[0m\u001b[1;33m\n",
      "\u001b[0m    \u001b[0mthresh\u001b[0m\u001b[1;33m:\u001b[0m \u001b[1;34m'int | lib.NoDefault'\u001b[0m \u001b[1;33m=\u001b[0m \u001b[1;33m<\u001b[0m\u001b[0mno_default\u001b[0m\u001b[1;33m>\u001b[0m\u001b[1;33m,\u001b[0m\u001b[1;33m\n",
      "\u001b[0m    \u001b[0msubset\u001b[0m\u001b[1;33m:\u001b[0m \u001b[1;34m'IndexLabel | None'\u001b[0m \u001b[1;33m=\u001b[0m \u001b[1;32mNone\u001b[0m\u001b[1;33m,\u001b[0m\u001b[1;33m\n",
      "\u001b[0m    \u001b[0minplace\u001b[0m\u001b[1;33m:\u001b[0m \u001b[1;34m'bool'\u001b[0m \u001b[1;33m=\u001b[0m \u001b[1;32mFalse\u001b[0m\u001b[1;33m,\u001b[0m\u001b[1;33m\n",
      "\u001b[0m    \u001b[0mignore_index\u001b[0m\u001b[1;33m:\u001b[0m \u001b[1;34m'bool'\u001b[0m \u001b[1;33m=\u001b[0m \u001b[1;32mFalse\u001b[0m\u001b[1;33m,\u001b[0m\u001b[1;33m\n",
      "\u001b[0m\u001b[1;33m)\u001b[0m \u001b[1;33m->\u001b[0m \u001b[1;34m'DataFrame | None'\u001b[0m\u001b[1;33m\u001b[0m\u001b[1;33m\u001b[0m\u001b[0m\n",
      "\u001b[1;31mDocstring:\u001b[0m\n",
      "Remove missing values.\n",
      "\n",
      "See the :ref:`User Guide <missing_data>` for more on which values are\n",
      "considered missing, and how to work with missing data.\n",
      "\n",
      "Parameters\n",
      "----------\n",
      "axis : {0 or 'index', 1 or 'columns'}, default 0\n",
      "    Determine if rows or columns which contain missing values are\n",
      "    removed.\n",
      "\n",
      "    * 0, or 'index' : Drop rows which contain missing values.\n",
      "    * 1, or 'columns' : Drop columns which contain missing value.\n",
      "\n",
      "    Only a single axis is allowed.\n",
      "\n",
      "how : {'any', 'all'}, default 'any'\n",
      "    Determine if row or column is removed from DataFrame, when we have\n",
      "    at least one NA or all NA.\n",
      "\n",
      "    * 'any' : If any NA values are present, drop that row or column.\n",
      "    * 'all' : If all values are NA, drop that row or column.\n",
      "\n",
      "thresh : int, optional\n",
      "    Require that many non-NA values. Cannot be combined with how.\n",
      "subset : column label or sequence of labels, optional\n",
      "    Labels along other axis to consider, e.g. if you are dropping rows\n",
      "    these would be a list of columns to include.\n",
      "inplace : bool, default False\n",
      "    Whether to modify the DataFrame rather than creating a new one.\n",
      "ignore_index : bool, default ``False``\n",
      "    If ``True``, the resulting axis will be labeled 0, 1, …, n - 1.\n",
      "\n",
      "    .. versionadded:: 2.0.0\n",
      "\n",
      "Returns\n",
      "-------\n",
      "DataFrame or None\n",
      "    DataFrame with NA entries dropped from it or None if ``inplace=True``.\n",
      "\n",
      "See Also\n",
      "--------\n",
      "DataFrame.isna: Indicate missing values.\n",
      "DataFrame.notna : Indicate existing (non-missing) values.\n",
      "DataFrame.fillna : Replace missing values.\n",
      "Series.dropna : Drop missing values.\n",
      "Index.dropna : Drop missing indices.\n",
      "\n",
      "Examples\n",
      "--------\n",
      ">>> df = pd.DataFrame({\"name\": ['Alfred', 'Batman', 'Catwoman'],\n",
      "...                    \"toy\": [np.nan, 'Batmobile', 'Bullwhip'],\n",
      "...                    \"born\": [pd.NaT, pd.Timestamp(\"1940-04-25\"),\n",
      "...                             pd.NaT]})\n",
      ">>> df\n",
      "       name        toy       born\n",
      "0    Alfred        NaN        NaT\n",
      "1    Batman  Batmobile 1940-04-25\n",
      "2  Catwoman   Bullwhip        NaT\n",
      "\n",
      "Drop the rows where at least one element is missing.\n",
      "\n",
      ">>> df.dropna()\n",
      "     name        toy       born\n",
      "1  Batman  Batmobile 1940-04-25\n",
      "\n",
      "Drop the columns where at least one element is missing.\n",
      "\n",
      ">>> df.dropna(axis='columns')\n",
      "       name\n",
      "0    Alfred\n",
      "1    Batman\n",
      "2  Catwoman\n",
      "\n",
      "Drop the rows where all elements are missing.\n",
      "\n",
      ">>> df.dropna(how='all')\n",
      "       name        toy       born\n",
      "0    Alfred        NaN        NaT\n",
      "1    Batman  Batmobile 1940-04-25\n",
      "2  Catwoman   Bullwhip        NaT\n",
      "\n",
      "Keep only the rows with at least 2 non-NA values.\n",
      "\n",
      ">>> df.dropna(thresh=2)\n",
      "       name        toy       born\n",
      "1    Batman  Batmobile 1940-04-25\n",
      "2  Catwoman   Bullwhip        NaT\n",
      "\n",
      "Define in which columns to look for missing values.\n",
      "\n",
      ">>> df.dropna(subset=['name', 'toy'])\n",
      "       name        toy       born\n",
      "1    Batman  Batmobile 1940-04-25\n",
      "2  Catwoman   Bullwhip        NaT\n",
      "\u001b[1;31mFile:\u001b[0m      c:\\users\\conno\\appdata\\local\\packages\\pythonsoftwarefoundation.python.3.12_qbz5n2kfra8p0\\localcache\\local-packages\\python312\\site-packages\\pandas\\core\\frame.py\n",
      "\u001b[1;31mType:\u001b[0m      method"
     ]
    }
   ],
   "source": [
    "A.dropna?"
   ]
  },
  {
   "cell_type": "code",
   "execution_count": 116,
   "metadata": {},
   "outputs": [],
   "source": [
    "A = pd.Series(['a','b','c'], index=[1,3,5])"
   ]
  },
  {
   "cell_type": "code",
   "execution_count": 117,
   "metadata": {},
   "outputs": [
    {
     "data": {
      "text/plain": [
       "'a'"
      ]
     },
     "execution_count": 117,
     "metadata": {},
     "output_type": "execute_result"
    }
   ],
   "source": [
    "A[1]"
   ]
  },
  {
   "cell_type": "code",
   "execution_count": 118,
   "metadata": {},
   "outputs": [
    {
     "data": {
      "text/plain": [
       "3    b\n",
       "5    c\n",
       "dtype: object"
      ]
     },
     "execution_count": 118,
     "metadata": {},
     "output_type": "execute_result"
    }
   ],
   "source": [
    "A[1:3]"
   ]
  },
  {
   "cell_type": "code",
   "execution_count": 119,
   "metadata": {},
   "outputs": [
    {
     "data": {
      "text/plain": [
       "1    a\n",
       "3    b\n",
       "dtype: object"
      ]
     },
     "execution_count": 119,
     "metadata": {},
     "output_type": "execute_result"
    }
   ],
   "source": [
    "A.loc[1:3]"
   ]
  },
  {
   "cell_type": "code",
   "execution_count": 120,
   "metadata": {},
   "outputs": [
    {
     "data": {
      "text/plain": [
       "3    b\n",
       "5    c\n",
       "dtype: object"
      ]
     },
     "execution_count": 120,
     "metadata": {},
     "output_type": "execute_result"
    }
   ],
   "source": [
    "A.iloc[1:3]"
   ]
  },
  {
   "cell_type": "code",
   "execution_count": 121,
   "metadata": {},
   "outputs": [
    {
     "data": {
      "text/html": [
       "<div>\n",
       "<style scoped>\n",
       "    .dataframe tbody tr th:only-of-type {\n",
       "        vertical-align: middle;\n",
       "    }\n",
       "\n",
       "    .dataframe tbody tr th {\n",
       "        vertical-align: top;\n",
       "    }\n",
       "\n",
       "    .dataframe thead th {\n",
       "        text-align: right;\n",
       "    }\n",
       "</style>\n",
       "<table border=\"1\" class=\"dataframe\">\n",
       "  <thead>\n",
       "    <tr style=\"text-align: right;\">\n",
       "      <th></th>\n",
       "      <th>Marks</th>\n",
       "      <th>Grades</th>\n",
       "    </tr>\n",
       "  </thead>\n",
       "  <tbody>\n",
       "    <tr>\n",
       "      <th>A</th>\n",
       "      <td>85</td>\n",
       "      <td>4.0</td>\n",
       "    </tr>\n",
       "    <tr>\n",
       "      <th>B</th>\n",
       "      <td>75</td>\n",
       "      <td>3.5</td>\n",
       "    </tr>\n",
       "    <tr>\n",
       "      <th>C</th>\n",
       "      <td>65</td>\n",
       "      <td>3.0</td>\n",
       "    </tr>\n",
       "    <tr>\n",
       "      <th>D</th>\n",
       "      <td>55</td>\n",
       "      <td>2.5</td>\n",
       "    </tr>\n",
       "  </tbody>\n",
       "</table>\n",
       "</div>"
      ],
      "text/plain": [
       "   Marks  Grades\n",
       "A     85     4.0\n",
       "B     75     3.5\n",
       "C     65     3.0\n",
       "D     55     2.5"
      ]
     },
     "execution_count": 121,
     "metadata": {},
     "output_type": "execute_result"
    }
   ],
   "source": [
    "D"
   ]
  },
  {
   "cell_type": "code",
   "execution_count": 122,
   "metadata": {},
   "outputs": [
    {
     "data": {
      "text/plain": [
       "Marks     65.0\n",
       "Grades     3.0\n",
       "Name: C, dtype: float64"
      ]
     },
     "execution_count": 122,
     "metadata": {},
     "output_type": "execute_result"
    }
   ],
   "source": [
    "D.iloc[2,:]"
   ]
  },
  {
   "cell_type": "code",
   "execution_count": 123,
   "metadata": {},
   "outputs": [
    {
     "data": {
      "text/html": [
       "<div>\n",
       "<style scoped>\n",
       "    .dataframe tbody tr th:only-of-type {\n",
       "        vertical-align: middle;\n",
       "    }\n",
       "\n",
       "    .dataframe tbody tr th {\n",
       "        vertical-align: top;\n",
       "    }\n",
       "\n",
       "    .dataframe thead th {\n",
       "        text-align: right;\n",
       "    }\n",
       "</style>\n",
       "<table border=\"1\" class=\"dataframe\">\n",
       "  <thead>\n",
       "    <tr style=\"text-align: right;\">\n",
       "      <th></th>\n",
       "      <th>Marks</th>\n",
       "      <th>Grades</th>\n",
       "    </tr>\n",
       "  </thead>\n",
       "  <tbody>\n",
       "    <tr>\n",
       "      <th>D</th>\n",
       "      <td>55</td>\n",
       "      <td>2.5</td>\n",
       "    </tr>\n",
       "    <tr>\n",
       "      <th>C</th>\n",
       "      <td>65</td>\n",
       "      <td>3.0</td>\n",
       "    </tr>\n",
       "    <tr>\n",
       "      <th>B</th>\n",
       "      <td>75</td>\n",
       "      <td>3.5</td>\n",
       "    </tr>\n",
       "    <tr>\n",
       "      <th>A</th>\n",
       "      <td>85</td>\n",
       "      <td>4.0</td>\n",
       "    </tr>\n",
       "  </tbody>\n",
       "</table>\n",
       "</div>"
      ],
      "text/plain": [
       "   Marks  Grades\n",
       "D     55     2.5\n",
       "C     65     3.0\n",
       "B     75     3.5\n",
       "A     85     4.0"
      ]
     },
     "execution_count": 123,
     "metadata": {},
     "output_type": "execute_result"
    }
   ],
   "source": [
    "D.iloc[::-1,:]"
   ]
  },
  {
   "cell_type": "code",
   "execution_count": 124,
   "metadata": {},
   "outputs": [],
   "source": [
    "import sklearn"
   ]
  },
  {
   "cell_type": "code",
   "execution_count": 125,
   "metadata": {},
   "outputs": [],
   "source": [
    "from sklearn.impute import SimpleImputer"
   ]
  },
  {
   "cell_type": "code",
   "execution_count": 128,
   "metadata": {},
   "outputs": [],
   "source": [
    "df = pd.read_csv(\"C:/Users/conno/Documents/python/data/raw_data/covid_19_clean_complete.csv\")"
   ]
  },
  {
   "cell_type": "code",
   "execution_count": 131,
   "metadata": {},
   "outputs": [
    {
     "data": {
      "text/html": [
       "<div>\n",
       "<style scoped>\n",
       "    .dataframe tbody tr th:only-of-type {\n",
       "        vertical-align: middle;\n",
       "    }\n",
       "\n",
       "    .dataframe tbody tr th {\n",
       "        vertical-align: top;\n",
       "    }\n",
       "\n",
       "    .dataframe thead th {\n",
       "        text-align: right;\n",
       "    }\n",
       "</style>\n",
       "<table border=\"1\" class=\"dataframe\">\n",
       "  <thead>\n",
       "    <tr style=\"text-align: right;\">\n",
       "      <th></th>\n",
       "      <th>Province/State</th>\n",
       "      <th>Country/Region</th>\n",
       "      <th>Lat</th>\n",
       "      <th>Long</th>\n",
       "      <th>Date</th>\n",
       "      <th>Confirmed</th>\n",
       "      <th>Deaths</th>\n",
       "      <th>Recovered</th>\n",
       "      <th>Active</th>\n",
       "      <th>WHO Region</th>\n",
       "    </tr>\n",
       "  </thead>\n",
       "  <tbody>\n",
       "    <tr>\n",
       "      <th>0</th>\n",
       "      <td>NaN</td>\n",
       "      <td>Afghanistan</td>\n",
       "      <td>33.93911</td>\n",
       "      <td>67.709953</td>\n",
       "      <td>2020-01-22</td>\n",
       "      <td>0</td>\n",
       "      <td>0</td>\n",
       "      <td>0</td>\n",
       "      <td>0</td>\n",
       "      <td>Eastern Mediterranean</td>\n",
       "    </tr>\n",
       "    <tr>\n",
       "      <th>1</th>\n",
       "      <td>NaN</td>\n",
       "      <td>Albania</td>\n",
       "      <td>41.15330</td>\n",
       "      <td>20.168300</td>\n",
       "      <td>2020-01-22</td>\n",
       "      <td>0</td>\n",
       "      <td>0</td>\n",
       "      <td>0</td>\n",
       "      <td>0</td>\n",
       "      <td>Europe</td>\n",
       "    </tr>\n",
       "    <tr>\n",
       "      <th>2</th>\n",
       "      <td>NaN</td>\n",
       "      <td>Algeria</td>\n",
       "      <td>28.03390</td>\n",
       "      <td>1.659600</td>\n",
       "      <td>2020-01-22</td>\n",
       "      <td>0</td>\n",
       "      <td>0</td>\n",
       "      <td>0</td>\n",
       "      <td>0</td>\n",
       "      <td>Africa</td>\n",
       "    </tr>\n",
       "    <tr>\n",
       "      <th>3</th>\n",
       "      <td>NaN</td>\n",
       "      <td>Andorra</td>\n",
       "      <td>42.50630</td>\n",
       "      <td>1.521800</td>\n",
       "      <td>2020-01-22</td>\n",
       "      <td>0</td>\n",
       "      <td>0</td>\n",
       "      <td>0</td>\n",
       "      <td>0</td>\n",
       "      <td>Europe</td>\n",
       "    </tr>\n",
       "    <tr>\n",
       "      <th>4</th>\n",
       "      <td>NaN</td>\n",
       "      <td>Angola</td>\n",
       "      <td>-11.20270</td>\n",
       "      <td>17.873900</td>\n",
       "      <td>2020-01-22</td>\n",
       "      <td>0</td>\n",
       "      <td>0</td>\n",
       "      <td>0</td>\n",
       "      <td>0</td>\n",
       "      <td>Africa</td>\n",
       "    </tr>\n",
       "    <tr>\n",
       "      <th>5</th>\n",
       "      <td>NaN</td>\n",
       "      <td>Antigua and Barbuda</td>\n",
       "      <td>17.06080</td>\n",
       "      <td>-61.796400</td>\n",
       "      <td>2020-01-22</td>\n",
       "      <td>0</td>\n",
       "      <td>0</td>\n",
       "      <td>0</td>\n",
       "      <td>0</td>\n",
       "      <td>Americas</td>\n",
       "    </tr>\n",
       "    <tr>\n",
       "      <th>6</th>\n",
       "      <td>NaN</td>\n",
       "      <td>Argentina</td>\n",
       "      <td>-38.41610</td>\n",
       "      <td>-63.616700</td>\n",
       "      <td>2020-01-22</td>\n",
       "      <td>0</td>\n",
       "      <td>0</td>\n",
       "      <td>0</td>\n",
       "      <td>0</td>\n",
       "      <td>Americas</td>\n",
       "    </tr>\n",
       "    <tr>\n",
       "      <th>7</th>\n",
       "      <td>NaN</td>\n",
       "      <td>Armenia</td>\n",
       "      <td>40.06910</td>\n",
       "      <td>45.038200</td>\n",
       "      <td>2020-01-22</td>\n",
       "      <td>0</td>\n",
       "      <td>0</td>\n",
       "      <td>0</td>\n",
       "      <td>0</td>\n",
       "      <td>Europe</td>\n",
       "    </tr>\n",
       "    <tr>\n",
       "      <th>8</th>\n",
       "      <td>Australian Capital Territory</td>\n",
       "      <td>Australia</td>\n",
       "      <td>-35.47350</td>\n",
       "      <td>149.012400</td>\n",
       "      <td>2020-01-22</td>\n",
       "      <td>0</td>\n",
       "      <td>0</td>\n",
       "      <td>0</td>\n",
       "      <td>0</td>\n",
       "      <td>Western Pacific</td>\n",
       "    </tr>\n",
       "    <tr>\n",
       "      <th>9</th>\n",
       "      <td>New South Wales</td>\n",
       "      <td>Australia</td>\n",
       "      <td>-33.86880</td>\n",
       "      <td>151.209300</td>\n",
       "      <td>2020-01-22</td>\n",
       "      <td>0</td>\n",
       "      <td>0</td>\n",
       "      <td>0</td>\n",
       "      <td>0</td>\n",
       "      <td>Western Pacific</td>\n",
       "    </tr>\n",
       "  </tbody>\n",
       "</table>\n",
       "</div>"
      ],
      "text/plain": [
       "                 Province/State       Country/Region       Lat        Long  \\\n",
       "0                           NaN          Afghanistan  33.93911   67.709953   \n",
       "1                           NaN              Albania  41.15330   20.168300   \n",
       "2                           NaN              Algeria  28.03390    1.659600   \n",
       "3                           NaN              Andorra  42.50630    1.521800   \n",
       "4                           NaN               Angola -11.20270   17.873900   \n",
       "5                           NaN  Antigua and Barbuda  17.06080  -61.796400   \n",
       "6                           NaN            Argentina -38.41610  -63.616700   \n",
       "7                           NaN              Armenia  40.06910   45.038200   \n",
       "8  Australian Capital Territory            Australia -35.47350  149.012400   \n",
       "9               New South Wales            Australia -33.86880  151.209300   \n",
       "\n",
       "         Date  Confirmed  Deaths  Recovered  Active             WHO Region  \n",
       "0  2020-01-22          0       0          0       0  Eastern Mediterranean  \n",
       "1  2020-01-22          0       0          0       0                 Europe  \n",
       "2  2020-01-22          0       0          0       0                 Africa  \n",
       "3  2020-01-22          0       0          0       0                 Europe  \n",
       "4  2020-01-22          0       0          0       0                 Africa  \n",
       "5  2020-01-22          0       0          0       0               Americas  \n",
       "6  2020-01-22          0       0          0       0               Americas  \n",
       "7  2020-01-22          0       0          0       0                 Europe  \n",
       "8  2020-01-22          0       0          0       0        Western Pacific  \n",
       "9  2020-01-22          0       0          0       0        Western Pacific  "
      ]
     },
     "execution_count": 131,
     "metadata": {},
     "output_type": "execute_result"
    }
   ],
   "source": [
    "df.head(10)"
   ]
  },
  {
   "cell_type": "code",
   "execution_count": 132,
   "metadata": {},
   "outputs": [],
   "source": [
    "df.drop(['Lat','Long'], axis=1, inplace=True)"
   ]
  },
  {
   "cell_type": "code",
   "execution_count": 133,
   "metadata": {},
   "outputs": [
    {
     "data": {
      "text/html": [
       "<div>\n",
       "<style scoped>\n",
       "    .dataframe tbody tr th:only-of-type {\n",
       "        vertical-align: middle;\n",
       "    }\n",
       "\n",
       "    .dataframe tbody tr th {\n",
       "        vertical-align: top;\n",
       "    }\n",
       "\n",
       "    .dataframe thead th {\n",
       "        text-align: right;\n",
       "    }\n",
       "</style>\n",
       "<table border=\"1\" class=\"dataframe\">\n",
       "  <thead>\n",
       "    <tr style=\"text-align: right;\">\n",
       "      <th></th>\n",
       "      <th>Province/State</th>\n",
       "      <th>Country/Region</th>\n",
       "      <th>Date</th>\n",
       "      <th>Confirmed</th>\n",
       "      <th>Deaths</th>\n",
       "      <th>Recovered</th>\n",
       "      <th>Active</th>\n",
       "      <th>WHO Region</th>\n",
       "    </tr>\n",
       "  </thead>\n",
       "  <tbody>\n",
       "    <tr>\n",
       "      <th>0</th>\n",
       "      <td>NaN</td>\n",
       "      <td>Afghanistan</td>\n",
       "      <td>2020-01-22</td>\n",
       "      <td>0</td>\n",
       "      <td>0</td>\n",
       "      <td>0</td>\n",
       "      <td>0</td>\n",
       "      <td>Eastern Mediterranean</td>\n",
       "    </tr>\n",
       "    <tr>\n",
       "      <th>1</th>\n",
       "      <td>NaN</td>\n",
       "      <td>Albania</td>\n",
       "      <td>2020-01-22</td>\n",
       "      <td>0</td>\n",
       "      <td>0</td>\n",
       "      <td>0</td>\n",
       "      <td>0</td>\n",
       "      <td>Europe</td>\n",
       "    </tr>\n",
       "    <tr>\n",
       "      <th>2</th>\n",
       "      <td>NaN</td>\n",
       "      <td>Algeria</td>\n",
       "      <td>2020-01-22</td>\n",
       "      <td>0</td>\n",
       "      <td>0</td>\n",
       "      <td>0</td>\n",
       "      <td>0</td>\n",
       "      <td>Africa</td>\n",
       "    </tr>\n",
       "    <tr>\n",
       "      <th>3</th>\n",
       "      <td>NaN</td>\n",
       "      <td>Andorra</td>\n",
       "      <td>2020-01-22</td>\n",
       "      <td>0</td>\n",
       "      <td>0</td>\n",
       "      <td>0</td>\n",
       "      <td>0</td>\n",
       "      <td>Europe</td>\n",
       "    </tr>\n",
       "    <tr>\n",
       "      <th>4</th>\n",
       "      <td>NaN</td>\n",
       "      <td>Angola</td>\n",
       "      <td>2020-01-22</td>\n",
       "      <td>0</td>\n",
       "      <td>0</td>\n",
       "      <td>0</td>\n",
       "      <td>0</td>\n",
       "      <td>Africa</td>\n",
       "    </tr>\n",
       "    <tr>\n",
       "      <th>5</th>\n",
       "      <td>NaN</td>\n",
       "      <td>Antigua and Barbuda</td>\n",
       "      <td>2020-01-22</td>\n",
       "      <td>0</td>\n",
       "      <td>0</td>\n",
       "      <td>0</td>\n",
       "      <td>0</td>\n",
       "      <td>Americas</td>\n",
       "    </tr>\n",
       "    <tr>\n",
       "      <th>6</th>\n",
       "      <td>NaN</td>\n",
       "      <td>Argentina</td>\n",
       "      <td>2020-01-22</td>\n",
       "      <td>0</td>\n",
       "      <td>0</td>\n",
       "      <td>0</td>\n",
       "      <td>0</td>\n",
       "      <td>Americas</td>\n",
       "    </tr>\n",
       "    <tr>\n",
       "      <th>7</th>\n",
       "      <td>NaN</td>\n",
       "      <td>Armenia</td>\n",
       "      <td>2020-01-22</td>\n",
       "      <td>0</td>\n",
       "      <td>0</td>\n",
       "      <td>0</td>\n",
       "      <td>0</td>\n",
       "      <td>Europe</td>\n",
       "    </tr>\n",
       "    <tr>\n",
       "      <th>8</th>\n",
       "      <td>Australian Capital Territory</td>\n",
       "      <td>Australia</td>\n",
       "      <td>2020-01-22</td>\n",
       "      <td>0</td>\n",
       "      <td>0</td>\n",
       "      <td>0</td>\n",
       "      <td>0</td>\n",
       "      <td>Western Pacific</td>\n",
       "    </tr>\n",
       "    <tr>\n",
       "      <th>9</th>\n",
       "      <td>New South Wales</td>\n",
       "      <td>Australia</td>\n",
       "      <td>2020-01-22</td>\n",
       "      <td>0</td>\n",
       "      <td>0</td>\n",
       "      <td>0</td>\n",
       "      <td>0</td>\n",
       "      <td>Western Pacific</td>\n",
       "    </tr>\n",
       "  </tbody>\n",
       "</table>\n",
       "</div>"
      ],
      "text/plain": [
       "                 Province/State       Country/Region        Date  Confirmed  \\\n",
       "0                           NaN          Afghanistan  2020-01-22          0   \n",
       "1                           NaN              Albania  2020-01-22          0   \n",
       "2                           NaN              Algeria  2020-01-22          0   \n",
       "3                           NaN              Andorra  2020-01-22          0   \n",
       "4                           NaN               Angola  2020-01-22          0   \n",
       "5                           NaN  Antigua and Barbuda  2020-01-22          0   \n",
       "6                           NaN            Argentina  2020-01-22          0   \n",
       "7                           NaN              Armenia  2020-01-22          0   \n",
       "8  Australian Capital Territory            Australia  2020-01-22          0   \n",
       "9               New South Wales            Australia  2020-01-22          0   \n",
       "\n",
       "   Deaths  Recovered  Active             WHO Region  \n",
       "0       0          0       0  Eastern Mediterranean  \n",
       "1       0          0       0                 Europe  \n",
       "2       0          0       0                 Africa  \n",
       "3       0          0       0                 Europe  \n",
       "4       0          0       0                 Africa  \n",
       "5       0          0       0               Americas  \n",
       "6       0          0       0               Americas  \n",
       "7       0          0       0                 Europe  \n",
       "8       0          0       0        Western Pacific  \n",
       "9       0          0       0        Western Pacific  "
      ]
     },
     "execution_count": 133,
     "metadata": {},
     "output_type": "execute_result"
    }
   ],
   "source": [
    "df.head(10)"
   ]
  },
  {
   "cell_type": "code",
   "execution_count": 134,
   "metadata": {},
   "outputs": [],
   "source": [
    "df.rename(columns = {'Province/State':'State', 'Country/Region':'Country', 'WHO Region': 'Region'}, inplace = True)"
   ]
  },
  {
   "cell_type": "code",
   "execution_count": 135,
   "metadata": {},
   "outputs": [
    {
     "data": {
      "text/html": [
       "<div>\n",
       "<style scoped>\n",
       "    .dataframe tbody tr th:only-of-type {\n",
       "        vertical-align: middle;\n",
       "    }\n",
       "\n",
       "    .dataframe tbody tr th {\n",
       "        vertical-align: top;\n",
       "    }\n",
       "\n",
       "    .dataframe thead th {\n",
       "        text-align: right;\n",
       "    }\n",
       "</style>\n",
       "<table border=\"1\" class=\"dataframe\">\n",
       "  <thead>\n",
       "    <tr style=\"text-align: right;\">\n",
       "      <th></th>\n",
       "      <th>State</th>\n",
       "      <th>Country</th>\n",
       "      <th>Date</th>\n",
       "      <th>Confirmed</th>\n",
       "      <th>Deaths</th>\n",
       "      <th>Recovered</th>\n",
       "      <th>Active</th>\n",
       "      <th>Region</th>\n",
       "    </tr>\n",
       "  </thead>\n",
       "  <tbody>\n",
       "    <tr>\n",
       "      <th>0</th>\n",
       "      <td>NaN</td>\n",
       "      <td>Afghanistan</td>\n",
       "      <td>2020-01-22</td>\n",
       "      <td>0</td>\n",
       "      <td>0</td>\n",
       "      <td>0</td>\n",
       "      <td>0</td>\n",
       "      <td>Eastern Mediterranean</td>\n",
       "    </tr>\n",
       "    <tr>\n",
       "      <th>1</th>\n",
       "      <td>NaN</td>\n",
       "      <td>Albania</td>\n",
       "      <td>2020-01-22</td>\n",
       "      <td>0</td>\n",
       "      <td>0</td>\n",
       "      <td>0</td>\n",
       "      <td>0</td>\n",
       "      <td>Europe</td>\n",
       "    </tr>\n",
       "    <tr>\n",
       "      <th>2</th>\n",
       "      <td>NaN</td>\n",
       "      <td>Algeria</td>\n",
       "      <td>2020-01-22</td>\n",
       "      <td>0</td>\n",
       "      <td>0</td>\n",
       "      <td>0</td>\n",
       "      <td>0</td>\n",
       "      <td>Africa</td>\n",
       "    </tr>\n",
       "    <tr>\n",
       "      <th>3</th>\n",
       "      <td>NaN</td>\n",
       "      <td>Andorra</td>\n",
       "      <td>2020-01-22</td>\n",
       "      <td>0</td>\n",
       "      <td>0</td>\n",
       "      <td>0</td>\n",
       "      <td>0</td>\n",
       "      <td>Europe</td>\n",
       "    </tr>\n",
       "    <tr>\n",
       "      <th>4</th>\n",
       "      <td>NaN</td>\n",
       "      <td>Angola</td>\n",
       "      <td>2020-01-22</td>\n",
       "      <td>0</td>\n",
       "      <td>0</td>\n",
       "      <td>0</td>\n",
       "      <td>0</td>\n",
       "      <td>Africa</td>\n",
       "    </tr>\n",
       "    <tr>\n",
       "      <th>5</th>\n",
       "      <td>NaN</td>\n",
       "      <td>Antigua and Barbuda</td>\n",
       "      <td>2020-01-22</td>\n",
       "      <td>0</td>\n",
       "      <td>0</td>\n",
       "      <td>0</td>\n",
       "      <td>0</td>\n",
       "      <td>Americas</td>\n",
       "    </tr>\n",
       "    <tr>\n",
       "      <th>6</th>\n",
       "      <td>NaN</td>\n",
       "      <td>Argentina</td>\n",
       "      <td>2020-01-22</td>\n",
       "      <td>0</td>\n",
       "      <td>0</td>\n",
       "      <td>0</td>\n",
       "      <td>0</td>\n",
       "      <td>Americas</td>\n",
       "    </tr>\n",
       "    <tr>\n",
       "      <th>7</th>\n",
       "      <td>NaN</td>\n",
       "      <td>Armenia</td>\n",
       "      <td>2020-01-22</td>\n",
       "      <td>0</td>\n",
       "      <td>0</td>\n",
       "      <td>0</td>\n",
       "      <td>0</td>\n",
       "      <td>Europe</td>\n",
       "    </tr>\n",
       "    <tr>\n",
       "      <th>8</th>\n",
       "      <td>Australian Capital Territory</td>\n",
       "      <td>Australia</td>\n",
       "      <td>2020-01-22</td>\n",
       "      <td>0</td>\n",
       "      <td>0</td>\n",
       "      <td>0</td>\n",
       "      <td>0</td>\n",
       "      <td>Western Pacific</td>\n",
       "    </tr>\n",
       "    <tr>\n",
       "      <th>9</th>\n",
       "      <td>New South Wales</td>\n",
       "      <td>Australia</td>\n",
       "      <td>2020-01-22</td>\n",
       "      <td>0</td>\n",
       "      <td>0</td>\n",
       "      <td>0</td>\n",
       "      <td>0</td>\n",
       "      <td>Western Pacific</td>\n",
       "    </tr>\n",
       "  </tbody>\n",
       "</table>\n",
       "</div>"
      ],
      "text/plain": [
       "                          State              Country        Date  Confirmed  \\\n",
       "0                           NaN          Afghanistan  2020-01-22          0   \n",
       "1                           NaN              Albania  2020-01-22          0   \n",
       "2                           NaN              Algeria  2020-01-22          0   \n",
       "3                           NaN              Andorra  2020-01-22          0   \n",
       "4                           NaN               Angola  2020-01-22          0   \n",
       "5                           NaN  Antigua and Barbuda  2020-01-22          0   \n",
       "6                           NaN            Argentina  2020-01-22          0   \n",
       "7                           NaN              Armenia  2020-01-22          0   \n",
       "8  Australian Capital Territory            Australia  2020-01-22          0   \n",
       "9               New South Wales            Australia  2020-01-22          0   \n",
       "\n",
       "   Deaths  Recovered  Active                 Region  \n",
       "0       0          0       0  Eastern Mediterranean  \n",
       "1       0          0       0                 Europe  \n",
       "2       0          0       0                 Africa  \n",
       "3       0          0       0                 Europe  \n",
       "4       0          0       0                 Africa  \n",
       "5       0          0       0               Americas  \n",
       "6       0          0       0               Americas  \n",
       "7       0          0       0                 Europe  \n",
       "8       0          0       0        Western Pacific  \n",
       "9       0          0       0        Western Pacific  "
      ]
     },
     "execution_count": 135,
     "metadata": {},
     "output_type": "execute_result"
    }
   ],
   "source": [
    "df.head(10)"
   ]
  },
  {
   "cell_type": "code",
   "execution_count": 136,
   "metadata": {},
   "outputs": [],
   "source": [
    "df['Date'] = pd.to_datetime(df['Date'])"
   ]
  },
  {
   "cell_type": "code",
   "execution_count": 137,
   "metadata": {},
   "outputs": [
    {
     "data": {
      "text/html": [
       "<div>\n",
       "<style scoped>\n",
       "    .dataframe tbody tr th:only-of-type {\n",
       "        vertical-align: middle;\n",
       "    }\n",
       "\n",
       "    .dataframe tbody tr th {\n",
       "        vertical-align: top;\n",
       "    }\n",
       "\n",
       "    .dataframe thead th {\n",
       "        text-align: right;\n",
       "    }\n",
       "</style>\n",
       "<table border=\"1\" class=\"dataframe\">\n",
       "  <thead>\n",
       "    <tr style=\"text-align: right;\">\n",
       "      <th></th>\n",
       "      <th>State</th>\n",
       "      <th>Country</th>\n",
       "      <th>Date</th>\n",
       "      <th>Confirmed</th>\n",
       "      <th>Deaths</th>\n",
       "      <th>Recovered</th>\n",
       "      <th>Active</th>\n",
       "      <th>Region</th>\n",
       "    </tr>\n",
       "  </thead>\n",
       "  <tbody>\n",
       "    <tr>\n",
       "      <th>0</th>\n",
       "      <td>NaN</td>\n",
       "      <td>Afghanistan</td>\n",
       "      <td>2020-01-22</td>\n",
       "      <td>0</td>\n",
       "      <td>0</td>\n",
       "      <td>0</td>\n",
       "      <td>0</td>\n",
       "      <td>Eastern Mediterranean</td>\n",
       "    </tr>\n",
       "    <tr>\n",
       "      <th>1</th>\n",
       "      <td>NaN</td>\n",
       "      <td>Albania</td>\n",
       "      <td>2020-01-22</td>\n",
       "      <td>0</td>\n",
       "      <td>0</td>\n",
       "      <td>0</td>\n",
       "      <td>0</td>\n",
       "      <td>Europe</td>\n",
       "    </tr>\n",
       "    <tr>\n",
       "      <th>2</th>\n",
       "      <td>NaN</td>\n",
       "      <td>Algeria</td>\n",
       "      <td>2020-01-22</td>\n",
       "      <td>0</td>\n",
       "      <td>0</td>\n",
       "      <td>0</td>\n",
       "      <td>0</td>\n",
       "      <td>Africa</td>\n",
       "    </tr>\n",
       "    <tr>\n",
       "      <th>3</th>\n",
       "      <td>NaN</td>\n",
       "      <td>Andorra</td>\n",
       "      <td>2020-01-22</td>\n",
       "      <td>0</td>\n",
       "      <td>0</td>\n",
       "      <td>0</td>\n",
       "      <td>0</td>\n",
       "      <td>Europe</td>\n",
       "    </tr>\n",
       "    <tr>\n",
       "      <th>4</th>\n",
       "      <td>NaN</td>\n",
       "      <td>Angola</td>\n",
       "      <td>2020-01-22</td>\n",
       "      <td>0</td>\n",
       "      <td>0</td>\n",
       "      <td>0</td>\n",
       "      <td>0</td>\n",
       "      <td>Africa</td>\n",
       "    </tr>\n",
       "    <tr>\n",
       "      <th>5</th>\n",
       "      <td>NaN</td>\n",
       "      <td>Antigua and Barbuda</td>\n",
       "      <td>2020-01-22</td>\n",
       "      <td>0</td>\n",
       "      <td>0</td>\n",
       "      <td>0</td>\n",
       "      <td>0</td>\n",
       "      <td>Americas</td>\n",
       "    </tr>\n",
       "    <tr>\n",
       "      <th>6</th>\n",
       "      <td>NaN</td>\n",
       "      <td>Argentina</td>\n",
       "      <td>2020-01-22</td>\n",
       "      <td>0</td>\n",
       "      <td>0</td>\n",
       "      <td>0</td>\n",
       "      <td>0</td>\n",
       "      <td>Americas</td>\n",
       "    </tr>\n",
       "    <tr>\n",
       "      <th>7</th>\n",
       "      <td>NaN</td>\n",
       "      <td>Armenia</td>\n",
       "      <td>2020-01-22</td>\n",
       "      <td>0</td>\n",
       "      <td>0</td>\n",
       "      <td>0</td>\n",
       "      <td>0</td>\n",
       "      <td>Europe</td>\n",
       "    </tr>\n",
       "    <tr>\n",
       "      <th>8</th>\n",
       "      <td>Australian Capital Territory</td>\n",
       "      <td>Australia</td>\n",
       "      <td>2020-01-22</td>\n",
       "      <td>0</td>\n",
       "      <td>0</td>\n",
       "      <td>0</td>\n",
       "      <td>0</td>\n",
       "      <td>Western Pacific</td>\n",
       "    </tr>\n",
       "    <tr>\n",
       "      <th>9</th>\n",
       "      <td>New South Wales</td>\n",
       "      <td>Australia</td>\n",
       "      <td>2020-01-22</td>\n",
       "      <td>0</td>\n",
       "      <td>0</td>\n",
       "      <td>0</td>\n",
       "      <td>0</td>\n",
       "      <td>Western Pacific</td>\n",
       "    </tr>\n",
       "  </tbody>\n",
       "</table>\n",
       "</div>"
      ],
      "text/plain": [
       "                          State              Country       Date  Confirmed  \\\n",
       "0                           NaN          Afghanistan 2020-01-22          0   \n",
       "1                           NaN              Albania 2020-01-22          0   \n",
       "2                           NaN              Algeria 2020-01-22          0   \n",
       "3                           NaN              Andorra 2020-01-22          0   \n",
       "4                           NaN               Angola 2020-01-22          0   \n",
       "5                           NaN  Antigua and Barbuda 2020-01-22          0   \n",
       "6                           NaN            Argentina 2020-01-22          0   \n",
       "7                           NaN              Armenia 2020-01-22          0   \n",
       "8  Australian Capital Territory            Australia 2020-01-22          0   \n",
       "9               New South Wales            Australia 2020-01-22          0   \n",
       "\n",
       "   Deaths  Recovered  Active                 Region  \n",
       "0       0          0       0  Eastern Mediterranean  \n",
       "1       0          0       0                 Europe  \n",
       "2       0          0       0                 Africa  \n",
       "3       0          0       0                 Europe  \n",
       "4       0          0       0                 Africa  \n",
       "5       0          0       0               Americas  \n",
       "6       0          0       0               Americas  \n",
       "7       0          0       0                 Europe  \n",
       "8       0          0       0        Western Pacific  \n",
       "9       0          0       0        Western Pacific  "
      ]
     },
     "execution_count": 137,
     "metadata": {},
     "output_type": "execute_result"
    }
   ],
   "source": [
    "df.head(10)"
   ]
  },
  {
   "cell_type": "code",
   "execution_count": 138,
   "metadata": {},
   "outputs": [
    {
     "data": {
      "text/html": [
       "<div>\n",
       "<style scoped>\n",
       "    .dataframe tbody tr th:only-of-type {\n",
       "        vertical-align: middle;\n",
       "    }\n",
       "\n",
       "    .dataframe tbody tr th {\n",
       "        vertical-align: top;\n",
       "    }\n",
       "\n",
       "    .dataframe thead th {\n",
       "        text-align: right;\n",
       "    }\n",
       "</style>\n",
       "<table border=\"1\" class=\"dataframe\">\n",
       "  <thead>\n",
       "    <tr style=\"text-align: right;\">\n",
       "      <th></th>\n",
       "      <th>Date</th>\n",
       "      <th>Confirmed</th>\n",
       "      <th>Deaths</th>\n",
       "      <th>Recovered</th>\n",
       "      <th>Active</th>\n",
       "    </tr>\n",
       "  </thead>\n",
       "  <tbody>\n",
       "    <tr>\n",
       "      <th>count</th>\n",
       "      <td>49068</td>\n",
       "      <td>4.906800e+04</td>\n",
       "      <td>49068.000000</td>\n",
       "      <td>4.906800e+04</td>\n",
       "      <td>4.906800e+04</td>\n",
       "    </tr>\n",
       "    <tr>\n",
       "      <th>mean</th>\n",
       "      <td>2020-04-24 12:00:00</td>\n",
       "      <td>1.688490e+04</td>\n",
       "      <td>884.179160</td>\n",
       "      <td>7.915713e+03</td>\n",
       "      <td>8.085012e+03</td>\n",
       "    </tr>\n",
       "    <tr>\n",
       "      <th>min</th>\n",
       "      <td>2020-01-22 00:00:00</td>\n",
       "      <td>0.000000e+00</td>\n",
       "      <td>0.000000</td>\n",
       "      <td>0.000000e+00</td>\n",
       "      <td>-1.400000e+01</td>\n",
       "    </tr>\n",
       "    <tr>\n",
       "      <th>25%</th>\n",
       "      <td>2020-03-08 18:00:00</td>\n",
       "      <td>4.000000e+00</td>\n",
       "      <td>0.000000</td>\n",
       "      <td>0.000000e+00</td>\n",
       "      <td>0.000000e+00</td>\n",
       "    </tr>\n",
       "    <tr>\n",
       "      <th>50%</th>\n",
       "      <td>2020-04-24 12:00:00</td>\n",
       "      <td>1.680000e+02</td>\n",
       "      <td>2.000000</td>\n",
       "      <td>2.900000e+01</td>\n",
       "      <td>2.600000e+01</td>\n",
       "    </tr>\n",
       "    <tr>\n",
       "      <th>75%</th>\n",
       "      <td>2020-06-10 06:00:00</td>\n",
       "      <td>1.518250e+03</td>\n",
       "      <td>30.000000</td>\n",
       "      <td>6.660000e+02</td>\n",
       "      <td>6.060000e+02</td>\n",
       "    </tr>\n",
       "    <tr>\n",
       "      <th>max</th>\n",
       "      <td>2020-07-27 00:00:00</td>\n",
       "      <td>4.290259e+06</td>\n",
       "      <td>148011.000000</td>\n",
       "      <td>1.846641e+06</td>\n",
       "      <td>2.816444e+06</td>\n",
       "    </tr>\n",
       "    <tr>\n",
       "      <th>std</th>\n",
       "      <td>NaN</td>\n",
       "      <td>1.273002e+05</td>\n",
       "      <td>6313.584411</td>\n",
       "      <td>5.480092e+04</td>\n",
       "      <td>7.625890e+04</td>\n",
       "    </tr>\n",
       "  </tbody>\n",
       "</table>\n",
       "</div>"
      ],
      "text/plain": [
       "                      Date     Confirmed         Deaths     Recovered  \\\n",
       "count                49068  4.906800e+04   49068.000000  4.906800e+04   \n",
       "mean   2020-04-24 12:00:00  1.688490e+04     884.179160  7.915713e+03   \n",
       "min    2020-01-22 00:00:00  0.000000e+00       0.000000  0.000000e+00   \n",
       "25%    2020-03-08 18:00:00  4.000000e+00       0.000000  0.000000e+00   \n",
       "50%    2020-04-24 12:00:00  1.680000e+02       2.000000  2.900000e+01   \n",
       "75%    2020-06-10 06:00:00  1.518250e+03      30.000000  6.660000e+02   \n",
       "max    2020-07-27 00:00:00  4.290259e+06  148011.000000  1.846641e+06   \n",
       "std                    NaN  1.273002e+05    6313.584411  5.480092e+04   \n",
       "\n",
       "             Active  \n",
       "count  4.906800e+04  \n",
       "mean   8.085012e+03  \n",
       "min   -1.400000e+01  \n",
       "25%    0.000000e+00  \n",
       "50%    2.600000e+01  \n",
       "75%    6.060000e+02  \n",
       "max    2.816444e+06  \n",
       "std    7.625890e+04  "
      ]
     },
     "execution_count": 138,
     "metadata": {},
     "output_type": "execute_result"
    }
   ],
   "source": [
    "df.describe()"
   ]
  },
  {
   "cell_type": "code",
   "execution_count": 139,
   "metadata": {},
   "outputs": [
    {
     "name": "stdout",
     "output_type": "stream",
     "text": [
      "<class 'pandas.core.frame.DataFrame'>\n",
      "RangeIndex: 49068 entries, 0 to 49067\n",
      "Data columns (total 8 columns):\n",
      " #   Column     Non-Null Count  Dtype         \n",
      "---  ------     --------------  -----         \n",
      " 0   State      14664 non-null  object        \n",
      " 1   Country    49068 non-null  object        \n",
      " 2   Date       49068 non-null  datetime64[ns]\n",
      " 3   Confirmed  49068 non-null  int64         \n",
      " 4   Deaths     49068 non-null  int64         \n",
      " 5   Recovered  49068 non-null  int64         \n",
      " 6   Active     49068 non-null  int64         \n",
      " 7   Region     49068 non-null  object        \n",
      "dtypes: datetime64[ns](1), int64(4), object(3)\n",
      "memory usage: 3.0+ MB\n"
     ]
    }
   ],
   "source": [
    "df.info()"
   ]
  },
  {
   "cell_type": "code",
   "execution_count": 142,
   "metadata": {},
   "outputs": [],
   "source": [
    "df = df.fillna('NA')"
   ]
  },
  {
   "cell_type": "code",
   "execution_count": 143,
   "metadata": {},
   "outputs": [
    {
     "name": "stdout",
     "output_type": "stream",
     "text": [
      "<class 'pandas.core.frame.DataFrame'>\n",
      "RangeIndex: 49068 entries, 0 to 49067\n",
      "Data columns (total 8 columns):\n",
      " #   Column     Non-Null Count  Dtype         \n",
      "---  ------     --------------  -----         \n",
      " 0   State      49068 non-null  object        \n",
      " 1   Country    49068 non-null  object        \n",
      " 2   Date       49068 non-null  datetime64[ns]\n",
      " 3   Confirmed  49068 non-null  int64         \n",
      " 4   Deaths     49068 non-null  int64         \n",
      " 5   Recovered  49068 non-null  int64         \n",
      " 6   Active     49068 non-null  int64         \n",
      " 7   Region     49068 non-null  object        \n",
      "dtypes: datetime64[ns](1), int64(4), object(3)\n",
      "memory usage: 3.0+ MB\n"
     ]
    }
   ],
   "source": [
    "df.info()"
   ]
  },
  {
   "cell_type": "code",
   "execution_count": 144,
   "metadata": {},
   "outputs": [
    {
     "data": {
      "text/html": [
       "<div>\n",
       "<style scoped>\n",
       "    .dataframe tbody tr th:only-of-type {\n",
       "        vertical-align: middle;\n",
       "    }\n",
       "\n",
       "    .dataframe tbody tr th {\n",
       "        vertical-align: top;\n",
       "    }\n",
       "\n",
       "    .dataframe thead th {\n",
       "        text-align: right;\n",
       "    }\n",
       "</style>\n",
       "<table border=\"1\" class=\"dataframe\">\n",
       "  <thead>\n",
       "    <tr style=\"text-align: right;\">\n",
       "      <th></th>\n",
       "      <th>State</th>\n",
       "      <th>Country</th>\n",
       "      <th>Date</th>\n",
       "      <th>Confirmed</th>\n",
       "      <th>Deaths</th>\n",
       "      <th>Recovered</th>\n",
       "      <th>Active</th>\n",
       "      <th>Region</th>\n",
       "    </tr>\n",
       "  </thead>\n",
       "  <tbody>\n",
       "    <tr>\n",
       "      <th>0</th>\n",
       "      <td>NA</td>\n",
       "      <td>Afghanistan</td>\n",
       "      <td>2020-01-22</td>\n",
       "      <td>0</td>\n",
       "      <td>0</td>\n",
       "      <td>0</td>\n",
       "      <td>0</td>\n",
       "      <td>Eastern Mediterranean</td>\n",
       "    </tr>\n",
       "    <tr>\n",
       "      <th>1</th>\n",
       "      <td>NA</td>\n",
       "      <td>Albania</td>\n",
       "      <td>2020-01-22</td>\n",
       "      <td>0</td>\n",
       "      <td>0</td>\n",
       "      <td>0</td>\n",
       "      <td>0</td>\n",
       "      <td>Europe</td>\n",
       "    </tr>\n",
       "    <tr>\n",
       "      <th>2</th>\n",
       "      <td>NA</td>\n",
       "      <td>Algeria</td>\n",
       "      <td>2020-01-22</td>\n",
       "      <td>0</td>\n",
       "      <td>0</td>\n",
       "      <td>0</td>\n",
       "      <td>0</td>\n",
       "      <td>Africa</td>\n",
       "    </tr>\n",
       "    <tr>\n",
       "      <th>3</th>\n",
       "      <td>NA</td>\n",
       "      <td>Andorra</td>\n",
       "      <td>2020-01-22</td>\n",
       "      <td>0</td>\n",
       "      <td>0</td>\n",
       "      <td>0</td>\n",
       "      <td>0</td>\n",
       "      <td>Europe</td>\n",
       "    </tr>\n",
       "    <tr>\n",
       "      <th>4</th>\n",
       "      <td>NA</td>\n",
       "      <td>Angola</td>\n",
       "      <td>2020-01-22</td>\n",
       "      <td>0</td>\n",
       "      <td>0</td>\n",
       "      <td>0</td>\n",
       "      <td>0</td>\n",
       "      <td>Africa</td>\n",
       "    </tr>\n",
       "    <tr>\n",
       "      <th>5</th>\n",
       "      <td>NA</td>\n",
       "      <td>Antigua and Barbuda</td>\n",
       "      <td>2020-01-22</td>\n",
       "      <td>0</td>\n",
       "      <td>0</td>\n",
       "      <td>0</td>\n",
       "      <td>0</td>\n",
       "      <td>Americas</td>\n",
       "    </tr>\n",
       "    <tr>\n",
       "      <th>6</th>\n",
       "      <td>NA</td>\n",
       "      <td>Argentina</td>\n",
       "      <td>2020-01-22</td>\n",
       "      <td>0</td>\n",
       "      <td>0</td>\n",
       "      <td>0</td>\n",
       "      <td>0</td>\n",
       "      <td>Americas</td>\n",
       "    </tr>\n",
       "    <tr>\n",
       "      <th>7</th>\n",
       "      <td>NA</td>\n",
       "      <td>Armenia</td>\n",
       "      <td>2020-01-22</td>\n",
       "      <td>0</td>\n",
       "      <td>0</td>\n",
       "      <td>0</td>\n",
       "      <td>0</td>\n",
       "      <td>Europe</td>\n",
       "    </tr>\n",
       "    <tr>\n",
       "      <th>8</th>\n",
       "      <td>Australian Capital Territory</td>\n",
       "      <td>Australia</td>\n",
       "      <td>2020-01-22</td>\n",
       "      <td>0</td>\n",
       "      <td>0</td>\n",
       "      <td>0</td>\n",
       "      <td>0</td>\n",
       "      <td>Western Pacific</td>\n",
       "    </tr>\n",
       "    <tr>\n",
       "      <th>9</th>\n",
       "      <td>New South Wales</td>\n",
       "      <td>Australia</td>\n",
       "      <td>2020-01-22</td>\n",
       "      <td>0</td>\n",
       "      <td>0</td>\n",
       "      <td>0</td>\n",
       "      <td>0</td>\n",
       "      <td>Western Pacific</td>\n",
       "    </tr>\n",
       "  </tbody>\n",
       "</table>\n",
       "</div>"
      ],
      "text/plain": [
       "                          State              Country       Date  Confirmed  \\\n",
       "0                            NA          Afghanistan 2020-01-22          0   \n",
       "1                            NA              Albania 2020-01-22          0   \n",
       "2                            NA              Algeria 2020-01-22          0   \n",
       "3                            NA              Andorra 2020-01-22          0   \n",
       "4                            NA               Angola 2020-01-22          0   \n",
       "5                            NA  Antigua and Barbuda 2020-01-22          0   \n",
       "6                            NA            Argentina 2020-01-22          0   \n",
       "7                            NA              Armenia 2020-01-22          0   \n",
       "8  Australian Capital Territory            Australia 2020-01-22          0   \n",
       "9               New South Wales            Australia 2020-01-22          0   \n",
       "\n",
       "   Deaths  Recovered  Active                 Region  \n",
       "0       0          0       0  Eastern Mediterranean  \n",
       "1       0          0       0                 Europe  \n",
       "2       0          0       0                 Africa  \n",
       "3       0          0       0                 Europe  \n",
       "4       0          0       0                 Africa  \n",
       "5       0          0       0               Americas  \n",
       "6       0          0       0               Americas  \n",
       "7       0          0       0                 Europe  \n",
       "8       0          0       0        Western Pacific  \n",
       "9       0          0       0        Western Pacific  "
      ]
     },
     "execution_count": 144,
     "metadata": {},
     "output_type": "execute_result"
    }
   ],
   "source": [
    "df.head(10)"
   ]
  },
  {
   "cell_type": "code",
   "execution_count": 146,
   "metadata": {},
   "outputs": [],
   "source": [
    "df2 = df.groupby('Country')[['Confirmed','Deaths','Recovered']].sum().reset_index()"
   ]
  },
  {
   "cell_type": "code",
   "execution_count": 147,
   "metadata": {},
   "outputs": [
    {
     "data": {
      "text/html": [
       "<div>\n",
       "<style scoped>\n",
       "    .dataframe tbody tr th:only-of-type {\n",
       "        vertical-align: middle;\n",
       "    }\n",
       "\n",
       "    .dataframe tbody tr th {\n",
       "        vertical-align: top;\n",
       "    }\n",
       "\n",
       "    .dataframe thead th {\n",
       "        text-align: right;\n",
       "    }\n",
       "</style>\n",
       "<table border=\"1\" class=\"dataframe\">\n",
       "  <thead>\n",
       "    <tr style=\"text-align: right;\">\n",
       "      <th></th>\n",
       "      <th>Country</th>\n",
       "      <th>Confirmed</th>\n",
       "      <th>Deaths</th>\n",
       "      <th>Recovered</th>\n",
       "    </tr>\n",
       "  </thead>\n",
       "  <tbody>\n",
       "    <tr>\n",
       "      <th>0</th>\n",
       "      <td>Afghanistan</td>\n",
       "      <td>1936390</td>\n",
       "      <td>49098</td>\n",
       "      <td>798240</td>\n",
       "    </tr>\n",
       "    <tr>\n",
       "      <th>1</th>\n",
       "      <td>Albania</td>\n",
       "      <td>196702</td>\n",
       "      <td>5708</td>\n",
       "      <td>118877</td>\n",
       "    </tr>\n",
       "    <tr>\n",
       "      <th>2</th>\n",
       "      <td>Algeria</td>\n",
       "      <td>1179755</td>\n",
       "      <td>77972</td>\n",
       "      <td>755897</td>\n",
       "    </tr>\n",
       "    <tr>\n",
       "      <th>3</th>\n",
       "      <td>Andorra</td>\n",
       "      <td>94404</td>\n",
       "      <td>5423</td>\n",
       "      <td>69074</td>\n",
       "    </tr>\n",
       "    <tr>\n",
       "      <th>4</th>\n",
       "      <td>Angola</td>\n",
       "      <td>22662</td>\n",
       "      <td>1078</td>\n",
       "      <td>6573</td>\n",
       "    </tr>\n",
       "    <tr>\n",
       "      <th>...</th>\n",
       "      <td>...</td>\n",
       "      <td>...</td>\n",
       "      <td>...</td>\n",
       "      <td>...</td>\n",
       "    </tr>\n",
       "    <tr>\n",
       "      <th>182</th>\n",
       "      <td>West Bank and Gaza</td>\n",
       "      <td>233461</td>\n",
       "      <td>1370</td>\n",
       "      <td>61124</td>\n",
       "    </tr>\n",
       "    <tr>\n",
       "      <th>183</th>\n",
       "      <td>Western Sahara</td>\n",
       "      <td>901</td>\n",
       "      <td>63</td>\n",
       "      <td>648</td>\n",
       "    </tr>\n",
       "    <tr>\n",
       "      <th>184</th>\n",
       "      <td>Yemen</td>\n",
       "      <td>67180</td>\n",
       "      <td>17707</td>\n",
       "      <td>23779</td>\n",
       "    </tr>\n",
       "    <tr>\n",
       "      <th>185</th>\n",
       "      <td>Zambia</td>\n",
       "      <td>129421</td>\n",
       "      <td>2643</td>\n",
       "      <td>83611</td>\n",
       "    </tr>\n",
       "    <tr>\n",
       "      <th>186</th>\n",
       "      <td>Zimbabwe</td>\n",
       "      <td>50794</td>\n",
       "      <td>881</td>\n",
       "      <td>12207</td>\n",
       "    </tr>\n",
       "  </tbody>\n",
       "</table>\n",
       "<p>187 rows × 4 columns</p>\n",
       "</div>"
      ],
      "text/plain": [
       "                Country  Confirmed  Deaths  Recovered\n",
       "0           Afghanistan    1936390   49098     798240\n",
       "1               Albania     196702    5708     118877\n",
       "2               Algeria    1179755   77972     755897\n",
       "3               Andorra      94404    5423      69074\n",
       "4                Angola      22662    1078       6573\n",
       "..                  ...        ...     ...        ...\n",
       "182  West Bank and Gaza     233461    1370      61124\n",
       "183      Western Sahara        901      63        648\n",
       "184               Yemen      67180   17707      23779\n",
       "185              Zambia     129421    2643      83611\n",
       "186            Zimbabwe      50794     881      12207\n",
       "\n",
       "[187 rows x 4 columns]"
      ]
     },
     "execution_count": 147,
     "metadata": {},
     "output_type": "execute_result"
    }
   ],
   "source": [
    "df2"
   ]
  },
  {
   "cell_type": "code",
   "execution_count": 148,
   "metadata": {},
   "outputs": [],
   "source": [
    "df2 = df.groupby(['Country', 'Date'])[['Confirmed','Deaths','Recovered']].sum().reset_index()"
   ]
  },
  {
   "cell_type": "code",
   "execution_count": 149,
   "metadata": {},
   "outputs": [
    {
     "data": {
      "text/html": [
       "<div>\n",
       "<style scoped>\n",
       "    .dataframe tbody tr th:only-of-type {\n",
       "        vertical-align: middle;\n",
       "    }\n",
       "\n",
       "    .dataframe tbody tr th {\n",
       "        vertical-align: top;\n",
       "    }\n",
       "\n",
       "    .dataframe thead th {\n",
       "        text-align: right;\n",
       "    }\n",
       "</style>\n",
       "<table border=\"1\" class=\"dataframe\">\n",
       "  <thead>\n",
       "    <tr style=\"text-align: right;\">\n",
       "      <th></th>\n",
       "      <th>Country</th>\n",
       "      <th>Date</th>\n",
       "      <th>Confirmed</th>\n",
       "      <th>Deaths</th>\n",
       "      <th>Recovered</th>\n",
       "    </tr>\n",
       "  </thead>\n",
       "  <tbody>\n",
       "    <tr>\n",
       "      <th>0</th>\n",
       "      <td>Afghanistan</td>\n",
       "      <td>2020-01-22</td>\n",
       "      <td>0</td>\n",
       "      <td>0</td>\n",
       "      <td>0</td>\n",
       "    </tr>\n",
       "    <tr>\n",
       "      <th>1</th>\n",
       "      <td>Afghanistan</td>\n",
       "      <td>2020-01-23</td>\n",
       "      <td>0</td>\n",
       "      <td>0</td>\n",
       "      <td>0</td>\n",
       "    </tr>\n",
       "    <tr>\n",
       "      <th>2</th>\n",
       "      <td>Afghanistan</td>\n",
       "      <td>2020-01-24</td>\n",
       "      <td>0</td>\n",
       "      <td>0</td>\n",
       "      <td>0</td>\n",
       "    </tr>\n",
       "    <tr>\n",
       "      <th>3</th>\n",
       "      <td>Afghanistan</td>\n",
       "      <td>2020-01-25</td>\n",
       "      <td>0</td>\n",
       "      <td>0</td>\n",
       "      <td>0</td>\n",
       "    </tr>\n",
       "    <tr>\n",
       "      <th>4</th>\n",
       "      <td>Afghanistan</td>\n",
       "      <td>2020-01-26</td>\n",
       "      <td>0</td>\n",
       "      <td>0</td>\n",
       "      <td>0</td>\n",
       "    </tr>\n",
       "    <tr>\n",
       "      <th>...</th>\n",
       "      <td>...</td>\n",
       "      <td>...</td>\n",
       "      <td>...</td>\n",
       "      <td>...</td>\n",
       "      <td>...</td>\n",
       "    </tr>\n",
       "    <tr>\n",
       "      <th>35151</th>\n",
       "      <td>Zimbabwe</td>\n",
       "      <td>2020-07-23</td>\n",
       "      <td>2124</td>\n",
       "      <td>28</td>\n",
       "      <td>510</td>\n",
       "    </tr>\n",
       "    <tr>\n",
       "      <th>35152</th>\n",
       "      <td>Zimbabwe</td>\n",
       "      <td>2020-07-24</td>\n",
       "      <td>2296</td>\n",
       "      <td>32</td>\n",
       "      <td>514</td>\n",
       "    </tr>\n",
       "    <tr>\n",
       "      <th>35153</th>\n",
       "      <td>Zimbabwe</td>\n",
       "      <td>2020-07-25</td>\n",
       "      <td>2434</td>\n",
       "      <td>34</td>\n",
       "      <td>518</td>\n",
       "    </tr>\n",
       "    <tr>\n",
       "      <th>35154</th>\n",
       "      <td>Zimbabwe</td>\n",
       "      <td>2020-07-26</td>\n",
       "      <td>2512</td>\n",
       "      <td>34</td>\n",
       "      <td>518</td>\n",
       "    </tr>\n",
       "    <tr>\n",
       "      <th>35155</th>\n",
       "      <td>Zimbabwe</td>\n",
       "      <td>2020-07-27</td>\n",
       "      <td>2704</td>\n",
       "      <td>36</td>\n",
       "      <td>542</td>\n",
       "    </tr>\n",
       "  </tbody>\n",
       "</table>\n",
       "<p>35156 rows × 5 columns</p>\n",
       "</div>"
      ],
      "text/plain": [
       "           Country       Date  Confirmed  Deaths  Recovered\n",
       "0      Afghanistan 2020-01-22          0       0          0\n",
       "1      Afghanistan 2020-01-23          0       0          0\n",
       "2      Afghanistan 2020-01-24          0       0          0\n",
       "3      Afghanistan 2020-01-25          0       0          0\n",
       "4      Afghanistan 2020-01-26          0       0          0\n",
       "...            ...        ...        ...     ...        ...\n",
       "35151     Zimbabwe 2020-07-23       2124      28        510\n",
       "35152     Zimbabwe 2020-07-24       2296      32        514\n",
       "35153     Zimbabwe 2020-07-25       2434      34        518\n",
       "35154     Zimbabwe 2020-07-26       2512      34        518\n",
       "35155     Zimbabwe 2020-07-27       2704      36        542\n",
       "\n",
       "[35156 rows x 5 columns]"
      ]
     },
     "execution_count": 149,
     "metadata": {},
     "output_type": "execute_result"
    }
   ],
   "source": [
    "df2"
   ]
  },
  {
   "cell_type": "code",
   "execution_count": 150,
   "metadata": {},
   "outputs": [],
   "source": [
    "df3 = df2[df2['Confirmed'] > 100]"
   ]
  },
  {
   "cell_type": "code",
   "execution_count": 151,
   "metadata": {},
   "outputs": [
    {
     "data": {
      "text/html": [
       "<div>\n",
       "<style scoped>\n",
       "    .dataframe tbody tr th:only-of-type {\n",
       "        vertical-align: middle;\n",
       "    }\n",
       "\n",
       "    .dataframe tbody tr th {\n",
       "        vertical-align: top;\n",
       "    }\n",
       "\n",
       "    .dataframe thead th {\n",
       "        text-align: right;\n",
       "    }\n",
       "</style>\n",
       "<table border=\"1\" class=\"dataframe\">\n",
       "  <thead>\n",
       "    <tr style=\"text-align: right;\">\n",
       "      <th></th>\n",
       "      <th>Country</th>\n",
       "      <th>Date</th>\n",
       "      <th>Confirmed</th>\n",
       "      <th>Deaths</th>\n",
       "      <th>Recovered</th>\n",
       "    </tr>\n",
       "  </thead>\n",
       "  <tbody>\n",
       "    <tr>\n",
       "      <th>65</th>\n",
       "      <td>Afghanistan</td>\n",
       "      <td>2020-03-27</td>\n",
       "      <td>110</td>\n",
       "      <td>4</td>\n",
       "      <td>2</td>\n",
       "    </tr>\n",
       "    <tr>\n",
       "      <th>66</th>\n",
       "      <td>Afghanistan</td>\n",
       "      <td>2020-03-28</td>\n",
       "      <td>110</td>\n",
       "      <td>4</td>\n",
       "      <td>2</td>\n",
       "    </tr>\n",
       "    <tr>\n",
       "      <th>67</th>\n",
       "      <td>Afghanistan</td>\n",
       "      <td>2020-03-29</td>\n",
       "      <td>120</td>\n",
       "      <td>4</td>\n",
       "      <td>2</td>\n",
       "    </tr>\n",
       "    <tr>\n",
       "      <th>68</th>\n",
       "      <td>Afghanistan</td>\n",
       "      <td>2020-03-30</td>\n",
       "      <td>170</td>\n",
       "      <td>4</td>\n",
       "      <td>2</td>\n",
       "    </tr>\n",
       "    <tr>\n",
       "      <th>69</th>\n",
       "      <td>Afghanistan</td>\n",
       "      <td>2020-03-31</td>\n",
       "      <td>174</td>\n",
       "      <td>4</td>\n",
       "      <td>5</td>\n",
       "    </tr>\n",
       "    <tr>\n",
       "      <th>...</th>\n",
       "      <td>...</td>\n",
       "      <td>...</td>\n",
       "      <td>...</td>\n",
       "      <td>...</td>\n",
       "      <td>...</td>\n",
       "    </tr>\n",
       "    <tr>\n",
       "      <th>35151</th>\n",
       "      <td>Zimbabwe</td>\n",
       "      <td>2020-07-23</td>\n",
       "      <td>2124</td>\n",
       "      <td>28</td>\n",
       "      <td>510</td>\n",
       "    </tr>\n",
       "    <tr>\n",
       "      <th>35152</th>\n",
       "      <td>Zimbabwe</td>\n",
       "      <td>2020-07-24</td>\n",
       "      <td>2296</td>\n",
       "      <td>32</td>\n",
       "      <td>514</td>\n",
       "    </tr>\n",
       "    <tr>\n",
       "      <th>35153</th>\n",
       "      <td>Zimbabwe</td>\n",
       "      <td>2020-07-25</td>\n",
       "      <td>2434</td>\n",
       "      <td>34</td>\n",
       "      <td>518</td>\n",
       "    </tr>\n",
       "    <tr>\n",
       "      <th>35154</th>\n",
       "      <td>Zimbabwe</td>\n",
       "      <td>2020-07-26</td>\n",
       "      <td>2512</td>\n",
       "      <td>34</td>\n",
       "      <td>518</td>\n",
       "    </tr>\n",
       "    <tr>\n",
       "      <th>35155</th>\n",
       "      <td>Zimbabwe</td>\n",
       "      <td>2020-07-27</td>\n",
       "      <td>2704</td>\n",
       "      <td>36</td>\n",
       "      <td>542</td>\n",
       "    </tr>\n",
       "  </tbody>\n",
       "</table>\n",
       "<p>19539 rows × 5 columns</p>\n",
       "</div>"
      ],
      "text/plain": [
       "           Country       Date  Confirmed  Deaths  Recovered\n",
       "65     Afghanistan 2020-03-27        110       4          2\n",
       "66     Afghanistan 2020-03-28        110       4          2\n",
       "67     Afghanistan 2020-03-29        120       4          2\n",
       "68     Afghanistan 2020-03-30        170       4          2\n",
       "69     Afghanistan 2020-03-31        174       4          5\n",
       "...            ...        ...        ...     ...        ...\n",
       "35151     Zimbabwe 2020-07-23       2124      28        510\n",
       "35152     Zimbabwe 2020-07-24       2296      32        514\n",
       "35153     Zimbabwe 2020-07-25       2434      34        518\n",
       "35154     Zimbabwe 2020-07-26       2512      34        518\n",
       "35155     Zimbabwe 2020-07-27       2704      36        542\n",
       "\n",
       "[19539 rows x 5 columns]"
      ]
     },
     "execution_count": 151,
     "metadata": {},
     "output_type": "execute_result"
    }
   ],
   "source": [
    "df3"
   ]
  }
 ],
 "metadata": {
  "kernelspec": {
   "display_name": "Python 3",
   "language": "python",
   "name": "python3"
  },
  "language_info": {
   "codemirror_mode": {
    "name": "ipython",
    "version": 3
   },
   "file_extension": ".py",
   "mimetype": "text/x-python",
   "name": "python",
   "nbconvert_exporter": "python",
   "pygments_lexer": "ipython3",
   "version": "3.12.3"
  }
 },
 "nbformat": 4,
 "nbformat_minor": 2
}
