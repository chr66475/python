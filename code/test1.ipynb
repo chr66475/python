{
 "cells": [
  {
   "cell_type": "code",
   "execution_count": 3,
   "metadata": {},
   "outputs": [
    {
     "name": "stdout",
     "output_type": "stream",
     "text": [
      "Hello world\n"
     ]
    }
   ],
   "source": [
    "print(\"Hello world\")"
   ]
  },
  {
   "cell_type": "code",
   "execution_count": 4,
   "metadata": {},
   "outputs": [
    {
     "data": {
      "text/plain": [
       "5"
      ]
     },
     "execution_count": 4,
     "metadata": {},
     "output_type": "execute_result"
    }
   ],
   "source": [
    "a = 5\n",
    "\n",
    "a"
   ]
  },
  {
   "cell_type": "code",
   "execution_count": 5,
   "metadata": {},
   "outputs": [
    {
     "name": "stdout",
     "output_type": "stream",
     "text": [
      "Defaulting to user installation because normal site-packages is not writeable\n",
      "Requirement already satisfied: numpy in c:\\users\\conno\\appdata\\local\\packages\\pythonsoftwarefoundation.python.3.12_qbz5n2kfra8p0\\localcache\\local-packages\\python312\\site-packages (1.26.4)\n",
      "Note: you may need to restart the kernel to use updated packages.\n"
     ]
    },
    {
     "data": {
      "text/plain": [
       "[-0.6056690769399373,\n",
       " -0.505789367880992,\n",
       " -1.2786770350143604,\n",
       " 0.3666551068249173,\n",
       " -0.9833223802691897,\n",
       " 0.6135616057896658,\n",
       " -0.5393528806642954]"
      ]
     },
     "execution_count": 5,
     "metadata": {},
     "output_type": "execute_result"
    }
   ],
   "source": [
    "%pip install numpy\n",
    "\n",
    "import numpy as np # type: ignore\n",
    "\n",
    "data = [np.random.standard_normal() for i in range(7)]\n",
    "data"
   ]
  },
  {
   "cell_type": "code",
   "execution_count": 6,
   "metadata": {},
   "outputs": [
    {
     "data": {
      "text/plain": [
       "27"
      ]
     },
     "execution_count": 6,
     "metadata": {},
     "output_type": "execute_result"
    }
   ],
   "source": [
    "an_apple = 27\n",
    "an_example = 42\n",
    "an_apple\n"
   ]
  },
  {
   "cell_type": "code",
   "execution_count": 7,
   "metadata": {},
   "outputs": [
    {
     "data": {
      "text/plain": [
       "<function list.count(value, /)>"
      ]
     },
     "execution_count": 7,
     "metadata": {},
     "output_type": "execute_result"
    }
   ],
   "source": [
    "b = [1, 2, 3]\n",
    "b.count"
   ]
  },
  {
   "cell_type": "code",
   "execution_count": 8,
   "metadata": {},
   "outputs": [
    {
     "data": {
      "text/plain": [
       "datetime.datetime"
      ]
     },
     "execution_count": 8,
     "metadata": {},
     "output_type": "execute_result"
    }
   ],
   "source": [
    "import datetime\n",
    "\n",
    "datetime.datetime"
   ]
  },
  {
   "cell_type": "code",
   "execution_count": 9,
   "metadata": {},
   "outputs": [
    {
     "name": "stdout",
     "output_type": "stream",
     "text": [
      "[1 2 3 4 5]\n",
      "[1. 6. 3. 4. 9.]\n"
     ]
    }
   ],
   "source": [
    "import numpy as np\n",
    "\n",
    "a = np.array([1, 2, 3, 4, 5], dtype='i')\n",
    "b = np.array([1, 6, 3, 4, 9], dtype='float')\n",
    "print(a)\n",
    "print(b)"
   ]
  },
  {
   "cell_type": "code",
   "execution_count": 10,
   "metadata": {},
   "outputs": [
    {
     "data": {
      "text/plain": [
       "dtype('int32')"
      ]
     },
     "execution_count": 10,
     "metadata": {},
     "output_type": "execute_result"
    }
   ],
   "source": [
    "type(a)\n",
    "type(b)\n",
    "\n",
    "a.dtype\n"
   ]
  },
  {
   "cell_type": "code",
   "execution_count": 11,
   "metadata": {},
   "outputs": [
    {
     "data": {
      "text/plain": [
       "dtype('float64')"
      ]
     },
     "execution_count": 11,
     "metadata": {},
     "output_type": "execute_result"
    }
   ],
   "source": [
    "b.dtype"
   ]
  },
  {
   "cell_type": "code",
   "execution_count": 12,
   "metadata": {},
   "outputs": [],
   "source": [
    "A = np.random.rand(1000)"
   ]
  },
  {
   "cell_type": "code",
   "execution_count": 13,
   "metadata": {},
   "outputs": [
    {
     "data": {
      "text/plain": [
       "array([7.27804933e-01, 9.02706580e-01, 3.89196695e-01, 7.04246073e-02,\n",
       "       8.61826845e-01, 2.81903608e-01, 1.40129712e-02, 9.90154783e-01,\n",
       "       7.10145302e-01, 9.96151040e-01, 5.13749525e-01, 6.59564705e-01,\n",
       "       7.83321071e-01, 5.01016175e-01, 8.67520692e-01, 8.33877380e-01,\n",
       "       9.25986141e-01, 4.04800546e-01, 9.57701486e-01, 9.01253294e-01,\n",
       "       1.79909661e-01, 7.55570405e-01, 7.11893545e-01, 5.97689570e-01,\n",
       "       1.56491264e-01, 9.09181661e-01, 8.02481145e-01, 9.71378807e-01,\n",
       "       4.90684448e-01, 1.80639440e-02, 3.55707279e-01, 1.55654511e-01,\n",
       "       1.77460133e-01, 2.93088294e-01, 8.36202350e-01, 7.84101756e-01,\n",
       "       4.30437438e-01, 6.75301243e-01, 7.28133968e-01, 9.88960389e-01,\n",
       "       6.09953882e-02, 9.50724004e-01, 8.78866906e-01, 1.12971407e-01,\n",
       "       7.40809648e-01, 3.64097834e-01, 1.37640764e-01, 8.76114071e-01,\n",
       "       7.19179175e-01, 6.86412027e-01, 4.30048924e-01, 8.81061613e-01,\n",
       "       6.23018036e-01, 3.99732482e-01, 5.31281620e-01, 9.53524589e-01,\n",
       "       8.05915073e-01, 8.30668773e-01, 8.81247670e-01, 4.17109135e-01,\n",
       "       2.59556240e-01, 7.73754430e-01, 7.26967670e-01, 2.96434602e-01,\n",
       "       7.24994067e-01, 9.38059053e-01, 4.38857402e-01, 4.35628261e-01,\n",
       "       4.78160500e-01, 6.77779195e-01, 1.76636592e-01, 3.27150361e-01,\n",
       "       9.12140828e-01, 4.79951476e-01, 9.26895395e-01, 7.14058490e-01,\n",
       "       3.96230556e-01, 7.65980106e-01, 7.54474102e-02, 6.62318986e-01,\n",
       "       1.61273877e-01, 6.61249893e-01, 4.57942754e-01, 1.04165458e-01,\n",
       "       8.88008987e-01, 8.33863283e-01, 9.77735312e-01, 6.45298948e-02,\n",
       "       9.20278683e-01, 1.45507262e-02, 9.84209801e-01, 9.07651038e-01,\n",
       "       5.71626764e-01, 9.19920314e-01, 9.43254547e-01, 2.41092265e-01,\n",
       "       2.02976968e-01, 4.26504415e-01, 2.46717084e-01, 3.03338576e-01,\n",
       "       6.25727083e-01, 1.76260270e-01, 5.39183010e-01, 2.30237357e-01,\n",
       "       9.56682481e-01, 3.10249525e-02, 6.17808221e-01, 6.83236457e-01,\n",
       "       4.93072707e-01, 9.03144561e-01, 2.98822862e-01, 7.52176448e-01,\n",
       "       3.17805291e-01, 7.94832513e-01, 2.24411789e-01, 5.13257421e-01,\n",
       "       5.87491783e-02, 1.98165715e-01, 4.47140148e-01, 1.68595081e-01,\n",
       "       4.87488464e-01, 3.48070870e-01, 1.89901790e-01, 4.54920456e-01,\n",
       "       3.30912058e-01, 5.12644612e-01, 7.03558255e-01, 8.11435967e-01,\n",
       "       6.07952547e-01, 5.67165199e-01, 5.33533552e-02, 7.97682595e-01,\n",
       "       7.98846953e-02, 7.59796553e-01, 6.31906061e-01, 7.17443036e-01,\n",
       "       8.85002634e-01, 5.80307260e-01, 5.94937508e-01, 1.77692099e-01,\n",
       "       9.42197216e-01, 8.89588001e-01, 9.38548161e-02, 5.43190647e-01,\n",
       "       8.12597452e-01, 9.65545804e-01, 7.99472150e-01, 6.79111153e-01,\n",
       "       9.48132455e-01, 9.01882214e-02, 7.92111024e-01, 8.81497530e-01,\n",
       "       3.23295842e-01, 8.04989101e-01, 1.28323087e-01, 6.63107116e-01,\n",
       "       3.35567004e-01, 8.68722543e-01, 4.53343534e-01, 5.10899404e-01,\n",
       "       3.94237899e-01, 7.74607157e-01, 8.88033967e-02, 9.19519706e-01,\n",
       "       7.72529817e-01, 4.94127124e-02, 9.45464639e-02, 8.04637545e-02,\n",
       "       2.02073282e-01, 8.10866050e-01, 1.42981461e-01, 9.92603542e-01,\n",
       "       8.73568366e-01, 3.59525663e-01, 5.63388660e-01, 4.02997551e-01,\n",
       "       9.57206433e-01, 8.11489772e-01, 8.78248490e-02, 5.62307128e-01,\n",
       "       5.11399498e-01, 5.20028297e-01, 7.66683832e-01, 9.20725150e-01,\n",
       "       4.49199171e-01, 5.64309486e-01, 1.66114180e-01, 7.52286014e-01,\n",
       "       1.81026182e-01, 5.27690273e-01, 9.51894453e-01, 6.90809595e-01,\n",
       "       2.78242048e-01, 2.51621725e-01, 2.48120580e-01, 8.47298066e-01,\n",
       "       3.99417209e-01, 1.34613851e-01, 9.82219157e-01, 8.30315599e-01,\n",
       "       1.54858790e-01, 1.65010637e-01, 2.31879289e-01, 3.88333152e-01,\n",
       "       9.69456315e-01, 9.60505828e-01, 2.25913423e-02, 7.93942442e-01,\n",
       "       3.45491760e-01, 7.08389172e-01, 8.65997353e-01, 7.31869420e-01,\n",
       "       1.87798462e-01, 6.56831518e-01, 1.74108338e-01, 2.12611614e-02,\n",
       "       2.25520554e-01, 4.53173229e-01, 9.77461460e-01, 9.26898884e-01,\n",
       "       3.48439052e-01, 6.50580490e-02, 5.50597314e-01, 5.47581599e-01,\n",
       "       6.69509517e-01, 5.34540384e-01, 5.08948845e-01, 4.43862713e-01,\n",
       "       2.57693113e-01, 4.72573532e-01, 8.61586222e-01, 3.25511850e-02,\n",
       "       7.39775476e-01, 4.75266488e-02, 4.10706867e-01, 5.98850750e-01,\n",
       "       6.55752465e-01, 2.87725371e-01, 9.32477309e-01, 5.16196789e-01,\n",
       "       3.04765711e-01, 8.67869281e-01, 6.72660053e-01, 6.44295714e-01,\n",
       "       3.48137751e-01, 3.59217329e-01, 9.27346993e-01, 6.49494221e-01,\n",
       "       6.36302446e-01, 1.37423811e-01, 4.43328907e-01, 2.57955341e-01,\n",
       "       8.16253015e-01, 4.27807943e-01, 2.33239334e-03, 3.25721877e-01,\n",
       "       7.74203046e-01, 3.41938371e-01, 9.97322435e-01, 9.02483392e-01,\n",
       "       3.36593251e-01, 8.19389953e-01, 1.90302892e-02, 2.23407499e-02,\n",
       "       4.25883811e-01, 2.58092418e-01, 6.39558249e-01, 6.15612503e-02,\n",
       "       1.99779615e-01, 7.73035438e-01, 1.30637428e-01, 6.55316215e-01,\n",
       "       7.67992301e-01, 5.22256302e-02, 5.45291326e-01, 6.40448191e-01,\n",
       "       8.19678468e-01, 4.68013337e-01, 9.74280322e-02, 9.36050326e-01,\n",
       "       2.59008177e-01, 3.07848597e-01, 1.99329688e-01, 9.89606358e-01,\n",
       "       8.72859153e-01, 6.28898462e-01, 3.82352707e-01, 4.95328958e-01,\n",
       "       8.34401672e-02, 8.08410237e-01, 4.21800100e-01, 9.16575618e-01,\n",
       "       2.64441997e-02, 9.72737458e-01, 4.71626758e-01, 4.89773900e-01,\n",
       "       5.41213250e-01, 1.69116109e-01, 9.12581552e-01, 9.95862772e-01,\n",
       "       5.81231979e-01, 7.45486272e-01, 7.38111998e-01, 8.43155285e-01,\n",
       "       9.86765004e-01, 8.75681407e-02, 5.00229278e-02, 5.92929047e-01,\n",
       "       9.60647898e-01, 8.43379151e-01, 6.06432531e-01, 9.42883100e-01,\n",
       "       5.57248517e-01, 6.97189351e-01, 3.75076238e-01, 9.92002942e-01,\n",
       "       5.14777924e-01, 1.22247641e-01, 3.20599502e-01, 8.93291863e-01,\n",
       "       8.20382150e-01, 1.84714490e-02, 3.66236916e-01, 6.32082096e-01,\n",
       "       3.71130446e-01, 1.63726765e-01, 7.76808484e-01, 2.04303204e-02,\n",
       "       9.89258899e-01, 6.52184404e-01, 9.86171934e-01, 5.54422794e-01,\n",
       "       4.20043942e-01, 5.79483340e-01, 4.41957295e-01, 7.51829056e-01,\n",
       "       7.68838963e-01, 3.77376681e-01, 9.97210781e-01, 9.20445717e-01,\n",
       "       9.51872066e-01, 9.44383068e-01, 4.87089600e-02, 9.27958689e-01,\n",
       "       4.23495123e-01, 8.20103828e-01, 7.20792735e-01, 3.18301954e-01,\n",
       "       7.71112659e-01, 4.51089493e-01, 7.55555276e-01, 3.75161157e-01,\n",
       "       9.61710075e-01, 1.69776945e-01, 2.68679754e-01, 1.12603565e-02,\n",
       "       1.15076230e-01, 1.79663829e-01, 8.21005791e-01, 3.47581573e-01,\n",
       "       2.16483053e-01, 1.20209214e-01, 3.77839786e-01, 2.06968877e-01,\n",
       "       5.01823783e-01, 7.02646927e-01, 5.75575634e-01, 7.72004507e-01,\n",
       "       8.26991493e-01, 7.44123945e-02, 4.73395579e-01, 4.22272605e-01,\n",
       "       1.06818265e-01, 5.80900474e-01, 4.64209031e-02, 9.30905863e-01,\n",
       "       5.32882275e-01, 5.55502053e-01, 3.97166715e-01, 1.98971966e-01,\n",
       "       6.32571830e-01, 8.84232952e-01, 6.86572780e-02, 8.53637536e-01,\n",
       "       1.94115159e-01, 2.66143724e-01, 1.22216130e-01, 6.28212176e-02,\n",
       "       7.43575802e-01, 9.75726087e-01, 4.62663516e-01, 6.55450585e-01,\n",
       "       9.78771954e-01, 1.08273237e-01, 8.16390306e-01, 9.53765333e-03,\n",
       "       4.51684986e-01, 2.38391913e-01, 2.36382340e-01, 4.10712474e-01,\n",
       "       5.88588509e-01, 4.84939938e-01, 5.28884348e-01, 1.41913152e-01,\n",
       "       4.88533910e-01, 8.62545355e-02, 7.11624871e-01, 3.64305960e-01,\n",
       "       2.63223578e-01, 1.90041536e-01, 8.31339976e-01, 5.24445420e-01,\n",
       "       7.89759026e-02, 3.99839943e-01, 7.37797540e-01, 4.55837471e-01,\n",
       "       4.27059471e-01, 2.68832164e-02, 5.61329129e-01, 4.42134455e-01,\n",
       "       2.34076074e-01, 8.23802999e-01, 3.08657114e-01, 6.52081339e-01,\n",
       "       1.52507929e-01, 3.10806588e-01, 9.16371188e-01, 7.91326919e-01,\n",
       "       4.55421993e-01, 6.04485903e-01, 3.06584989e-01, 1.52012301e-01,\n",
       "       2.31808329e-01, 7.55735917e-01, 3.98227936e-01, 5.41085057e-01,\n",
       "       9.31460070e-01, 3.03767857e-01, 6.00376156e-02, 3.53166408e-01,\n",
       "       9.92576658e-01, 8.98698699e-01, 2.94489099e-01, 5.79760360e-01,\n",
       "       1.52431097e-01, 3.17977049e-01, 8.78776226e-01, 4.27666591e-01,\n",
       "       8.58761366e-01, 2.19371579e-01, 4.64847217e-01, 5.93197239e-02,\n",
       "       3.73862015e-01, 8.44951844e-01, 2.69303327e-01, 5.24580529e-01,\n",
       "       7.65749509e-01, 5.46686127e-01, 1.35011963e-01, 5.58738128e-01,\n",
       "       6.44114707e-01, 5.24247247e-01, 4.26886006e-01, 1.96283131e-02,\n",
       "       6.35617218e-01, 6.73682396e-01, 3.10040529e-01, 4.65891230e-01,\n",
       "       6.51164227e-01, 4.99238998e-01, 8.20532227e-01, 7.00297044e-01,\n",
       "       8.61265450e-02, 8.74509810e-01, 7.09839185e-01, 8.26645674e-01,\n",
       "       2.75551833e-01, 6.76819064e-01, 6.46320248e-01, 6.81084379e-01,\n",
       "       9.64643915e-01, 3.16747562e-01, 4.57280494e-01, 4.27045575e-01,\n",
       "       3.00176490e-01, 9.01494693e-01, 8.07749407e-01, 3.97252513e-01,\n",
       "       6.20841735e-02, 4.29455058e-01, 9.17728121e-01, 7.72043826e-01,\n",
       "       2.06674942e-01, 2.37893618e-01, 4.50289010e-01, 5.35771528e-01,\n",
       "       4.59044810e-01, 6.37988132e-01, 6.62420961e-01, 3.90123447e-01,\n",
       "       3.73609108e-01, 8.32346541e-01, 6.90896294e-01, 5.17592994e-01,\n",
       "       5.38144241e-02, 6.50983862e-01, 2.65053067e-01, 8.62589418e-01,\n",
       "       9.85058767e-01, 3.67625266e-01, 6.29115699e-01, 1.25740716e-01,\n",
       "       6.93906829e-01, 3.10169458e-02, 7.08241599e-01, 9.60447048e-01,\n",
       "       9.75000887e-01, 5.10408541e-01, 5.13633644e-01, 8.82895397e-01,\n",
       "       2.70419363e-01, 7.36726570e-01, 8.32859573e-01, 7.24187252e-01,\n",
       "       4.06318189e-01, 2.95469600e-01, 5.66230633e-01, 9.80317783e-01,\n",
       "       2.73002855e-01, 7.16037956e-01, 2.51397779e-01, 6.13138704e-01,\n",
       "       9.56005232e-01, 2.05019419e-01, 5.11547620e-01, 3.35433679e-01,\n",
       "       4.00199827e-02, 6.98774525e-01, 6.93861799e-01, 5.84768471e-01,\n",
       "       5.51833662e-01, 1.61533172e-01, 1.52770865e-01, 5.73960404e-01,\n",
       "       3.68477212e-01, 2.42416847e-01, 5.10914044e-01, 8.61495513e-01,\n",
       "       9.57145485e-01, 2.78566676e-01, 7.36464773e-02, 3.11516828e-02,\n",
       "       9.00707392e-01, 6.02634188e-01, 6.08139111e-02, 3.05480922e-01,\n",
       "       3.62662309e-01, 8.95230020e-01, 4.88638545e-01, 4.84226862e-01,\n",
       "       7.68700151e-01, 2.41136634e-01, 9.10638607e-01, 1.27915257e-02,\n",
       "       6.32365691e-01, 3.95870493e-01, 8.79635246e-01, 8.54919189e-01,\n",
       "       2.48038949e-01, 7.33978587e-01, 1.58462695e-01, 3.85030181e-01,\n",
       "       3.36861909e-01, 7.82300264e-01, 3.75696547e-01, 4.89773026e-01,\n",
       "       6.25970015e-01, 1.97519651e-01, 7.93453939e-01, 9.61081370e-01,\n",
       "       8.89513616e-01, 7.75149835e-02, 7.85828738e-01, 5.70675980e-01,\n",
       "       7.76257974e-01, 7.68799357e-01, 3.19696053e-01, 7.78725159e-01,\n",
       "       4.05585545e-01, 9.70853576e-01, 9.98345549e-01, 1.53503857e-01,\n",
       "       7.17753111e-01, 1.02356283e-01, 1.52503589e-01, 8.92506297e-01,\n",
       "       1.41282997e-01, 3.06515712e-01, 2.36938052e-01, 8.70612617e-01,\n",
       "       2.25644865e-01, 7.81448959e-01, 8.04421614e-01, 3.03233403e-01,\n",
       "       5.03620043e-01, 3.46925332e-01, 7.32313601e-01, 8.69276406e-01,\n",
       "       9.24013097e-01, 4.83466777e-01, 5.62247289e-01, 7.08483676e-01,\n",
       "       3.80102682e-01, 8.05594460e-01, 6.40338388e-01, 6.03919114e-01,\n",
       "       7.21951777e-01, 9.99676261e-01, 3.75871533e-01, 8.23178680e-01,\n",
       "       1.11832761e-01, 4.09195953e-02, 3.25232170e-01, 6.58207991e-01,\n",
       "       7.33692486e-01, 9.08617433e-01, 3.27944274e-01, 2.69709547e-01,\n",
       "       2.35952990e-01, 8.35486246e-01, 9.05352236e-01, 4.64742140e-01,\n",
       "       1.91591762e-01, 1.50462885e-01, 6.89138109e-01, 7.37729659e-01,\n",
       "       9.95538711e-01, 4.51430710e-01, 3.08983058e-01, 2.77929026e-01,\n",
       "       3.78742391e-02, 4.46828605e-01, 7.23995716e-01, 2.29655266e-01,\n",
       "       6.14665404e-01, 2.04857371e-01, 4.69160986e-01, 2.58305593e-01,\n",
       "       4.82063004e-01, 3.14799136e-01, 6.79257033e-01, 8.21563642e-01,\n",
       "       8.15528830e-02, 2.19521401e-01, 9.93812680e-01, 4.16748995e-01,\n",
       "       3.65691420e-02, 4.56196639e-01, 7.72156113e-01, 8.49260931e-01,\n",
       "       2.52115977e-01, 9.67294050e-01, 9.56645861e-01, 5.46656826e-01,\n",
       "       3.44617595e-01, 3.34814268e-01, 7.59183474e-01, 1.80710168e-01,\n",
       "       2.00112729e-01, 6.18496057e-01, 3.14873455e-01, 4.19054615e-01,\n",
       "       7.79696231e-02, 2.02235583e-01, 3.43067220e-02, 3.33216314e-01,\n",
       "       3.45559787e-01, 6.35784853e-02, 7.64723473e-01, 5.66980249e-01,\n",
       "       6.97073895e-01, 4.90669456e-01, 2.36869074e-01, 6.33531901e-01,\n",
       "       5.21005839e-01, 4.30118971e-01, 3.64381223e-01, 7.35571582e-01,\n",
       "       6.18956176e-01, 7.34198109e-01, 4.76179092e-01, 7.08089905e-01,\n",
       "       5.81047220e-01, 4.65619906e-01, 1.97431700e-01, 6.69817663e-01,\n",
       "       5.79827548e-01, 9.16719976e-01, 1.57843613e-01, 3.15779552e-01,\n",
       "       5.02110301e-01, 7.87619988e-01, 2.09992470e-01, 8.03317869e-01,\n",
       "       6.27932546e-01, 4.97493475e-01, 5.22112327e-01, 3.14529163e-01,\n",
       "       6.01730120e-01, 2.13897693e-01, 2.49271585e-01, 1.76949595e-01,\n",
       "       4.83643353e-01, 6.48616125e-01, 3.83437829e-01, 1.83622509e-01,\n",
       "       6.11058112e-01, 8.03397561e-01, 9.87471213e-01, 3.20200073e-01,\n",
       "       3.94765707e-01, 8.77230018e-02, 1.52722940e-01, 3.26058068e-01,\n",
       "       5.90350961e-01, 6.65874610e-02, 7.12976562e-01, 5.27415029e-01,\n",
       "       5.13282185e-02, 3.88179901e-01, 7.77708044e-01, 4.91955392e-01,\n",
       "       6.66696792e-01, 4.69340445e-01, 1.28172558e-01, 9.12836879e-01,\n",
       "       1.40303700e-01, 1.66512810e-01, 5.24663185e-01, 2.15832804e-01,\n",
       "       8.13486792e-01, 5.74023195e-01, 2.82558138e-01, 6.02107330e-01,\n",
       "       7.10947088e-01, 3.37552945e-01, 2.61974285e-01, 5.19273766e-02,\n",
       "       5.34014220e-01, 7.25972588e-01, 2.52261136e-01, 5.31791023e-01,\n",
       "       2.81358307e-01, 6.90227940e-01, 1.02502327e-01, 4.10019467e-01,\n",
       "       4.67775769e-01, 1.25014732e-01, 9.55050291e-01, 9.93616187e-01,\n",
       "       4.57488957e-01, 8.82547551e-02, 4.45471502e-01, 8.91998219e-01,\n",
       "       8.04523920e-02, 7.09168906e-01, 8.87540188e-01, 5.46545041e-01,\n",
       "       2.57151777e-01, 2.38341843e-01, 7.42327982e-04, 3.70638682e-01,\n",
       "       1.21326407e-01, 7.82554086e-01, 5.00062279e-01, 7.28393907e-01,\n",
       "       5.00872006e-01, 1.88614330e-01, 6.43198959e-01, 6.79891698e-01,\n",
       "       9.54941823e-01, 6.50336777e-01, 8.88715065e-01, 1.40526438e-01,\n",
       "       5.72973698e-01, 6.29890397e-01, 9.85360074e-01, 5.80118835e-01,\n",
       "       3.45973931e-01, 5.91878623e-01, 2.25003458e-01, 7.60115384e-01,\n",
       "       1.24206203e-01, 7.79671445e-01, 2.47661931e-01, 3.06987140e-01,\n",
       "       2.06833683e-01, 5.18138644e-01, 1.43748865e-01, 4.38569744e-01,\n",
       "       9.21553599e-01, 8.61125183e-01, 2.26258691e-01, 5.72061471e-01,\n",
       "       7.39337916e-01, 7.19979399e-01, 8.07668563e-01, 2.66627487e-01,\n",
       "       3.21235166e-01, 8.35752406e-02, 7.87258136e-01, 2.54476068e-01,\n",
       "       3.28076419e-01, 1.16020914e-01, 8.45671085e-01, 5.59588554e-01,\n",
       "       5.18444832e-01, 3.97344132e-01, 4.30121819e-01, 1.95488023e-01,\n",
       "       7.16285229e-01, 9.55630820e-03, 8.74570957e-01, 1.05506145e-01,\n",
       "       9.96192301e-01, 2.84599070e-02, 5.09816010e-01, 8.52041441e-01,\n",
       "       7.89892487e-01, 5.87233664e-01, 4.00784458e-01, 8.53991510e-01,\n",
       "       5.20890605e-01, 5.25057192e-01, 3.24283488e-01, 2.34857494e-01,\n",
       "       4.54322337e-01, 1.61010894e-01, 6.30194828e-01, 1.15911042e-01,\n",
       "       9.67684502e-01, 5.08781915e-01, 5.66320973e-01, 8.84922074e-01,\n",
       "       4.64626359e-01, 2.81103903e-01, 5.75043739e-01, 1.29610442e-01,\n",
       "       3.22953843e-01, 8.73985687e-01, 3.63072674e-01, 1.05410447e-01,\n",
       "       1.12868872e-01, 9.45718777e-01, 4.28156645e-01, 6.62398534e-01,\n",
       "       2.68190931e-01, 9.78156675e-01, 8.65405908e-01, 5.77518967e-01,\n",
       "       2.12409859e-01, 9.98190342e-01, 4.05024378e-01, 4.13776313e-02,\n",
       "       9.22530592e-01, 2.77661108e-01, 3.18789149e-01, 5.91486774e-01,\n",
       "       4.68129794e-02, 8.64299291e-01, 3.09054804e-01, 8.00827323e-01,\n",
       "       3.86257560e-01, 8.64415595e-01, 1.31974052e-01, 7.03912934e-01,\n",
       "       9.83653405e-01, 2.34108764e-02, 8.92816878e-02, 2.75545993e-01,\n",
       "       2.89461314e-02, 6.29580378e-01, 8.84569659e-01, 7.58120568e-02,\n",
       "       4.22782717e-01, 2.27934377e-01, 1.36532516e-01, 7.87291239e-01,\n",
       "       5.93395850e-01, 2.05933393e-01, 5.75296658e-01, 4.38377046e-01,\n",
       "       4.37130430e-01, 7.45995301e-01, 4.19234588e-01, 7.97408414e-01,\n",
       "       1.27625692e-01, 7.86799105e-01, 3.31685387e-02, 6.90828935e-01,\n",
       "       7.84846604e-01, 9.92831764e-01, 8.80228102e-01, 7.84526220e-01,\n",
       "       3.61801095e-01, 2.14681570e-01, 7.74711389e-01, 2.05381395e-01,\n",
       "       3.96928641e-01, 3.34617821e-01, 9.83905894e-01, 3.45181311e-01,\n",
       "       5.22691417e-01, 1.42101792e-01, 8.90766769e-01, 2.72214017e-01,\n",
       "       2.47147027e-01, 9.70951236e-01, 4.33626566e-01, 2.25735856e-01,\n",
       "       4.88061160e-02, 5.34182214e-01, 9.16557497e-01, 1.99413735e-01,\n",
       "       2.78004033e-01, 8.66042969e-01, 9.06205034e-01, 3.14792902e-01,\n",
       "       9.55464790e-01, 1.68451305e-01, 6.27315228e-01, 2.32922238e-01,\n",
       "       2.72991325e-01, 8.13014260e-01, 4.79526626e-01, 1.99004952e-01,\n",
       "       2.75720852e-01, 6.15285867e-01, 5.41387270e-01, 3.16644501e-01,\n",
       "       6.56264239e-02, 5.26456882e-01, 6.68365382e-01, 2.75712953e-01,\n",
       "       9.55544401e-01, 1.88434439e-01, 3.72839043e-01, 5.88073576e-01,\n",
       "       9.78348276e-01, 8.99716592e-01, 1.58823961e-01, 5.82521105e-02,\n",
       "       2.75163477e-01, 2.73284336e-01, 2.04344180e-01, 5.10814681e-01,\n",
       "       2.18232248e-01, 1.79617523e-01, 2.88336463e-01, 1.94286295e-01,\n",
       "       2.60327044e-01, 3.88976677e-01, 8.67175537e-01, 9.18655947e-03,\n",
       "       3.63145241e-01, 4.68553666e-01, 5.34378324e-01, 3.85514276e-01,\n",
       "       8.00819158e-01, 8.78725757e-02, 3.67675093e-02, 5.48661988e-01,\n",
       "       2.42194207e-01, 8.94322451e-01, 6.12736208e-01, 6.51295201e-01,\n",
       "       1.31622950e-01, 3.84538726e-01, 2.81089176e-01, 1.60379895e-01,\n",
       "       2.75404661e-01, 4.12892099e-01, 9.18384418e-01, 2.37357642e-01,\n",
       "       9.77516330e-01, 7.63850864e-01, 8.27824641e-02, 8.43250262e-01,\n",
       "       9.38107059e-01, 5.86489442e-01, 5.44580539e-01, 5.23884002e-01,\n",
       "       5.06358096e-01, 6.13210642e-01, 5.80295020e-01, 6.86142075e-01,\n",
       "       5.10736837e-01, 4.17082464e-01, 9.24268934e-01, 6.85694285e-01])"
      ]
     },
     "execution_count": 13,
     "metadata": {},
     "output_type": "execute_result"
    }
   ],
   "source": [
    "A"
   ]
  },
  {
   "cell_type": "code",
   "execution_count": 14,
   "metadata": {},
   "outputs": [],
   "source": [
    "import matplotlib.pyplot as plt"
   ]
  },
  {
   "cell_type": "code",
   "execution_count": 16,
   "metadata": {},
   "outputs": [
    {
     "data": {
      "text/plain": [
       "(array([ 5.,  9.,  8., 10.,  9.,  9., 12., 10., 14.,  3.,  7.,  7., 10.,\n",
       "        10.,  6., 14., 11.,  9.,  8., 13., 12.,  8.,  9., 13., 10., 13.,\n",
       "        10., 15.,  7.,  6., 13., 14., 11.,  9., 11.,  4., 10., 12., 11.,\n",
       "        12.,  7.,  9., 16.,  7.,  8., 15., 11.,  7., 10.,  8.,  9., 17.,\n",
       "        14.,  9., 11.,  7.,  9., 14., 10.,  8.,  7.,  9.,  9., 10.,  8.,\n",
       "        12.,  9.,  8.,  6.,  9., 10., 11., 11., 12.,  4.,  8., 10., 15.,\n",
       "        13.,  8., 12., 10.,  9.,  9.,  7.,  5., 15., 10., 14.,  8., 11.,\n",
       "        11., 13.,  6.,  6., 14., 10., 12., 13., 16.]),\n",
       " array([7.42327982e-04, 1.07316673e-02, 2.07210066e-02, 3.07103460e-02,\n",
       "        4.06996853e-02, 5.06890246e-02, 6.06783640e-02, 7.06677033e-02,\n",
       "        8.06570426e-02, 9.06463820e-02, 1.00635721e-01, 1.10625061e-01,\n",
       "        1.20614400e-01, 1.30603739e-01, 1.40593079e-01, 1.50582418e-01,\n",
       "        1.60571757e-01, 1.70561097e-01, 1.80550436e-01, 1.90539775e-01,\n",
       "        2.00529115e-01, 2.10518454e-01, 2.20507793e-01, 2.30497133e-01,\n",
       "        2.40486472e-01, 2.50475811e-01, 2.60465151e-01, 2.70454490e-01,\n",
       "        2.80443829e-01, 2.90433169e-01, 3.00422508e-01, 3.10411847e-01,\n",
       "        3.20401187e-01, 3.30390526e-01, 3.40379865e-01, 3.50369205e-01,\n",
       "        3.60358544e-01, 3.70347883e-01, 3.80337223e-01, 3.90326562e-01,\n",
       "        4.00315901e-01, 4.10305241e-01, 4.20294580e-01, 4.30283919e-01,\n",
       "        4.40273258e-01, 4.50262598e-01, 4.60251937e-01, 4.70241276e-01,\n",
       "        4.80230616e-01, 4.90219955e-01, 5.00209294e-01, 5.10198634e-01,\n",
       "        5.20187973e-01, 5.30177312e-01, 5.40166652e-01, 5.50155991e-01,\n",
       "        5.60145330e-01, 5.70134670e-01, 5.80124009e-01, 5.90113348e-01,\n",
       "        6.00102688e-01, 6.10092027e-01, 6.20081366e-01, 6.30070706e-01,\n",
       "        6.40060045e-01, 6.50049384e-01, 6.60038724e-01, 6.70028063e-01,\n",
       "        6.80017402e-01, 6.90006742e-01, 6.99996081e-01, 7.09985420e-01,\n",
       "        7.19974760e-01, 7.29964099e-01, 7.39953438e-01, 7.49942778e-01,\n",
       "        7.59932117e-01, 7.69921456e-01, 7.79910796e-01, 7.89900135e-01,\n",
       "        7.99889474e-01, 8.09878814e-01, 8.19868153e-01, 8.29857492e-01,\n",
       "        8.39846832e-01, 8.49836171e-01, 8.59825510e-01, 8.69814850e-01,\n",
       "        8.79804189e-01, 8.89793528e-01, 8.99782868e-01, 9.09772207e-01,\n",
       "        9.19761546e-01, 9.29750886e-01, 9.39740225e-01, 9.49729564e-01,\n",
       "        9.59718904e-01, 9.69708243e-01, 9.79697582e-01, 9.89686922e-01,\n",
       "        9.99676261e-01]),\n",
       " <BarContainer object of 100 artists>)"
      ]
     },
     "execution_count": 16,
     "metadata": {},
     "output_type": "execute_result"
    },
    {
     "data": {
      "image/png": "[encoded data removed]",
      "text/plain": [
       "<Figure size 640x480 with 1 Axes>"
      ]
     },
     "metadata": {},
     "output_type": "display_data"
    }
   ],
   "source": [
    "plt.hist(A, bins = 100)"
   ]
  },
  {
   "cell_type": "code",
   "execution_count": 17,
   "metadata": {},
   "outputs": [
    {
     "data": {
      "text/plain": [
       "(array([3.000e+00, 0.000e+00, 0.000e+00, 0.000e+00, 1.000e+00, 0.000e+00,\n",
       "        1.000e+00, 0.000e+00, 1.000e+00, 0.000e+00, 2.000e+00, 1.000e+00,\n",
       "        1.000e+00, 1.000e+00, 5.000e+00, 5.000e+00, 2.000e+00, 1.000e+01,\n",
       "        1.000e+01, 5.000e+00, 1.000e+01, 9.000e+00, 1.300e+01, 1.200e+01,\n",
       "        7.000e+00, 1.500e+01, 2.000e+01, 3.200e+01, 2.500e+01, 3.800e+01,\n",
       "        3.300e+01, 3.900e+01, 4.600e+01, 5.100e+01, 5.100e+01, 6.300e+01,\n",
       "        6.000e+01, 7.800e+01, 8.000e+01, 9.800e+01, 1.200e+02, 1.260e+02,\n",
       "        1.240e+02, 1.540e+02, 1.490e+02, 2.000e+02, 2.140e+02, 2.020e+02,\n",
       "        2.540e+02, 2.460e+02, 2.890e+02, 2.920e+02, 3.580e+02, 3.310e+02,\n",
       "        3.840e+02, 4.170e+02, 4.260e+02, 4.480e+02, 4.870e+02, 5.390e+02,\n",
       "        5.260e+02, 5.970e+02, 6.360e+02, 7.230e+02, 7.290e+02, 7.640e+02,\n",
       "        7.970e+02, 7.980e+02, 8.990e+02, 9.710e+02, 9.430e+02, 1.050e+03,\n",
       "        1.118e+03, 1.197e+03, 1.159e+03, 1.173e+03, 1.268e+03, 1.305e+03,\n",
       "        1.388e+03, 1.354e+03, 1.416e+03, 1.404e+03, 1.488e+03, 1.502e+03,\n",
       "        1.642e+03, 1.595e+03, 1.597e+03, 1.650e+03, 1.739e+03, 1.639e+03,\n",
       "        1.648e+03, 1.801e+03, 1.738e+03, 1.763e+03, 1.740e+03, 1.704e+03,\n",
       "        1.635e+03, 1.705e+03, 1.672e+03, 1.712e+03, 1.688e+03, 1.649e+03,\n",
       "        1.582e+03, 1.604e+03, 1.527e+03, 1.564e+03, 1.474e+03, 1.471e+03,\n",
       "        1.524e+03, 1.380e+03, 1.420e+03, 1.317e+03, 1.230e+03, 1.269e+03,\n",
       "        1.269e+03, 1.144e+03, 1.049e+03, 1.113e+03, 1.048e+03, 9.920e+02,\n",
       "        9.660e+02, 9.020e+02, 8.040e+02, 7.880e+02, 7.730e+02, 7.630e+02,\n",
       "        6.770e+02, 6.360e+02, 6.240e+02, 5.540e+02, 5.090e+02, 4.890e+02,\n",
       "        4.710e+02, 4.340e+02, 4.000e+02, 3.850e+02, 3.230e+02, 3.000e+02,\n",
       "        3.010e+02, 2.720e+02, 2.500e+02, 2.290e+02, 2.040e+02, 1.880e+02,\n",
       "        1.760e+02, 1.520e+02, 1.460e+02, 1.070e+02, 1.150e+02, 1.290e+02,\n",
       "        9.400e+01, 9.100e+01, 8.400e+01, 6.600e+01, 6.500e+01, 7.200e+01,\n",
       "        4.300e+01, 3.800e+01, 4.300e+01, 3.000e+01, 2.400e+01, 1.900e+01,\n",
       "        3.100e+01, 2.700e+01, 1.500e+01, 1.000e+01, 1.100e+01, 1.300e+01,\n",
       "        6.000e+00, 1.200e+01, 4.000e+00, 1.100e+01, 6.000e+00, 9.000e+00,\n",
       "        0.000e+00, 4.000e+00, 1.000e+00, 2.000e+00, 2.000e+00, 1.000e+00,\n",
       "        1.000e+00, 4.000e+00, 0.000e+00, 0.000e+00, 3.000e+00, 0.000e+00,\n",
       "        0.000e+00, 0.000e+00, 0.000e+00, 0.000e+00, 1.000e+00, 0.000e+00,\n",
       "        0.000e+00, 0.000e+00, 1.000e+00, 0.000e+00, 0.000e+00, 0.000e+00,\n",
       "        0.000e+00, 2.000e+00]),\n",
       " array([-4.11328667e+00, -4.06994214e+00, -4.02659761e+00, -3.98325308e+00,\n",
       "        -3.93990855e+00, -3.89656402e+00, -3.85321950e+00, -3.80987497e+00,\n",
       "        -3.76653044e+00, -3.72318591e+00, -3.67984138e+00, -3.63649686e+00,\n",
       "        -3.59315233e+00, -3.54980780e+00, -3.50646327e+00, -3.46311874e+00,\n",
       "        -3.41977422e+00, -3.37642969e+00, -3.33308516e+00, -3.28974063e+00,\n",
       "        -3.24639610e+00, -3.20305157e+00, -3.15970705e+00, -3.11636252e+00,\n",
       "        -3.07301799e+00, -3.02967346e+00, -2.98632893e+00, -2.94298441e+00,\n",
       "        -2.89963988e+00, -2.85629535e+00, -2.81295082e+00, -2.76960629e+00,\n",
       "        -2.72626176e+00, -2.68291724e+00, -2.63957271e+00, -2.59622818e+00,\n",
       "        -2.55288365e+00, -2.50953912e+00, -2.46619460e+00, -2.42285007e+00,\n",
       "        -2.37950554e+00, -2.33616101e+00, -2.29281648e+00, -2.24947195e+00,\n",
       "        -2.20612743e+00, -2.16278290e+00, -2.11943837e+00, -2.07609384e+00,\n",
       "        -2.03274931e+00, -1.98940479e+00, -1.94606026e+00, -1.90271573e+00,\n",
       "        -1.85937120e+00, -1.81602667e+00, -1.77268215e+00, -1.72933762e+00,\n",
       "        -1.68599309e+00, -1.64264856e+00, -1.59930403e+00, -1.55595950e+00,\n",
       "        -1.51261498e+00, -1.46927045e+00, -1.42592592e+00, -1.38258139e+00,\n",
       "        -1.33923686e+00, -1.29589234e+00, -1.25254781e+00, -1.20920328e+00,\n",
       "        -1.16585875e+00, -1.12251422e+00, -1.07916969e+00, -1.03582517e+00,\n",
       "        -9.92480639e-01, -9.49136110e-01, -9.05791582e-01, -8.62447054e-01,\n",
       "        -8.19102526e-01, -7.75757998e-01, -7.32413470e-01, -6.89068941e-01,\n",
       "        -6.45724413e-01, -6.02379885e-01, -5.59035357e-01, -5.15690829e-01,\n",
       "        -4.72346301e-01, -4.29001773e-01, -3.85657244e-01, -3.42312716e-01,\n",
       "        -2.98968188e-01, -2.55623660e-01, -2.12279132e-01, -1.68934604e-01,\n",
       "        -1.25590076e-01, -8.22455474e-02, -3.89010192e-02,  4.44350895e-03,\n",
       "         4.77880371e-02,  9.11325653e-02,  1.34477093e-01,  1.77821622e-01,\n",
       "         2.21166150e-01,  2.64510678e-01,  3.07855206e-01,  3.51199734e-01,\n",
       "         3.94544262e-01,  4.37888790e-01,  4.81233319e-01,  5.24577847e-01,\n",
       "         5.67922375e-01,  6.11266903e-01,  6.54611431e-01,  6.97955959e-01,\n",
       "         7.41300488e-01,  7.84645016e-01,  8.27989544e-01,  8.71334072e-01,\n",
       "         9.14678600e-01,  9.58023128e-01,  1.00136766e+00,  1.04471218e+00,\n",
       "         1.08805671e+00,  1.13140124e+00,  1.17474577e+00,  1.21809030e+00,\n",
       "         1.26143483e+00,  1.30477935e+00,  1.34812388e+00,  1.39146841e+00,\n",
       "         1.43481294e+00,  1.47815747e+00,  1.52150199e+00,  1.56484652e+00,\n",
       "         1.60819105e+00,  1.65153558e+00,  1.69488011e+00,  1.73822464e+00,\n",
       "         1.78156916e+00,  1.82491369e+00,  1.86825822e+00,  1.91160275e+00,\n",
       "         1.95494728e+00,  1.99829180e+00,  2.04163633e+00,  2.08498086e+00,\n",
       "         2.12832539e+00,  2.17166992e+00,  2.21501444e+00,  2.25835897e+00,\n",
       "         2.30170350e+00,  2.34504803e+00,  2.38839256e+00,  2.43173709e+00,\n",
       "         2.47508161e+00,  2.51842614e+00,  2.56177067e+00,  2.60511520e+00,\n",
       "         2.64845973e+00,  2.69180425e+00,  2.73514878e+00,  2.77849331e+00,\n",
       "         2.82183784e+00,  2.86518237e+00,  2.90852690e+00,  2.95187142e+00,\n",
       "         2.99521595e+00,  3.03856048e+00,  3.08190501e+00,  3.12524954e+00,\n",
       "         3.16859406e+00,  3.21193859e+00,  3.25528312e+00,  3.29862765e+00,\n",
       "         3.34197218e+00,  3.38531670e+00,  3.42866123e+00,  3.47200576e+00,\n",
       "         3.51535029e+00,  3.55869482e+00,  3.60203935e+00,  3.64538387e+00,\n",
       "         3.68872840e+00,  3.73207293e+00,  3.77541746e+00,  3.81876199e+00,\n",
       "         3.86210651e+00,  3.90545104e+00,  3.94879557e+00,  3.99214010e+00,\n",
       "         4.03548463e+00,  4.07882916e+00,  4.12217368e+00,  4.16551821e+00,\n",
       "         4.20886274e+00,  4.25220727e+00,  4.29555180e+00,  4.33889632e+00,\n",
       "         4.38224085e+00,  4.42558538e+00,  4.46892991e+00,  4.51227444e+00,\n",
       "         4.55561896e+00]),\n",
       " <BarContainer object of 200 artists>)"
      ]
     },
     "execution_count": 17,
     "metadata": {},
     "output_type": "execute_result"
    },
    {
     "data": {
      "image/png": "[encoded data removed]",
      "text/plain": [
       "<Figure size 640x480 with 1 Axes>"
      ]
     },
     "metadata": {},
     "output_type": "display_data"
    }
   ],
   "source": [
    "B = np.random.randn(100000)\n",
    "plt.hist(B, bins = 200)"
   ]
  },
  {
   "cell_type": "code",
   "execution_count": 18,
   "metadata": {},
   "outputs": [],
   "source": [
    "C = np.random.rand(2, 3)"
   ]
  },
  {
   "cell_type": "code",
   "execution_count": 19,
   "metadata": {},
   "outputs": [
    {
     "data": {
      "text/plain": [
       "array([[0.01621137, 0.40035461, 0.17245293],\n",
       "       [0.20495572, 0.67861508, 0.86234613]])"
      ]
     },
     "execution_count": 19,
     "metadata": {},
     "output_type": "execute_result"
    }
   ],
   "source": [
    "C"
   ]
  },
  {
   "cell_type": "code",
   "execution_count": 20,
   "metadata": {},
   "outputs": [
    {
     "data": {
      "text/plain": [
       "2"
      ]
     },
     "execution_count": 20,
     "metadata": {},
     "output_type": "execute_result"
    }
   ],
   "source": [
    "C.ndim"
   ]
  },
  {
   "cell_type": "code",
   "execution_count": 21,
   "metadata": {},
   "outputs": [],
   "source": [
    "C = np.random.rand(2, 3, 4, 2)"
   ]
  },
  {
   "cell_type": "code",
   "execution_count": 22,
   "metadata": {},
   "outputs": [
    {
     "data": {
      "text/plain": [
       "4"
      ]
     },
     "execution_count": 22,
     "metadata": {},
     "output_type": "execute_result"
    }
   ],
   "source": [
    "C.ndim"
   ]
  },
  {
   "cell_type": "code",
   "execution_count": 23,
   "metadata": {},
   "outputs": [],
   "source": [
    "D = np.arange(100).reshape(4, 25)"
   ]
  },
  {
   "cell_type": "code",
   "execution_count": 24,
   "metadata": {},
   "outputs": [
    {
     "data": {
      "text/plain": [
       "(4, 25)"
      ]
     },
     "execution_count": 24,
     "metadata": {},
     "output_type": "execute_result"
    }
   ],
   "source": [
    "D.shape"
   ]
  },
  {
   "cell_type": "code",
   "execution_count": 25,
   "metadata": {},
   "outputs": [],
   "source": [
    "A = np.arange(100)"
   ]
  },
  {
   "cell_type": "code",
   "execution_count": 26,
   "metadata": {},
   "outputs": [
    {
     "name": "stdout",
     "output_type": "stream",
     "text": [
      "[3 4 5 6 7 8 9]\n"
     ]
    }
   ],
   "source": [
    "b = A[3:10]\n",
    "print(b)"
   ]
  },
  {
   "cell_type": "code",
   "execution_count": 27,
   "metadata": {},
   "outputs": [],
   "source": [
    "b[0] = -1200\n"
   ]
  },
  {
   "cell_type": "code",
   "execution_count": 28,
   "metadata": {},
   "outputs": [
    {
     "data": {
      "text/plain": [
       "array([-1200,     4,     5,     6,     7,     8,     9])"
      ]
     },
     "execution_count": 28,
     "metadata": {},
     "output_type": "execute_result"
    }
   ],
   "source": [
    "b"
   ]
  },
  {
   "cell_type": "code",
   "execution_count": 29,
   "metadata": {},
   "outputs": [
    {
     "data": {
      "text/plain": [
       "array([    0,     1,     2, -1200,     4,     5,     6,     7,     8,\n",
       "           9,    10,    11,    12,    13,    14,    15,    16,    17,\n",
       "          18,    19,    20,    21,    22,    23,    24,    25,    26,\n",
       "          27,    28,    29,    30,    31,    32,    33,    34,    35,\n",
       "          36,    37,    38,    39,    40,    41,    42,    43,    44,\n",
       "          45,    46,    47,    48,    49,    50,    51,    52,    53,\n",
       "          54,    55,    56,    57,    58,    59,    60,    61,    62,\n",
       "          63,    64,    65,    66,    67,    68,    69,    70,    71,\n",
       "          72,    73,    74,    75,    76,    77,    78,    79,    80,\n",
       "          81,    82,    83,    84,    85,    86,    87,    88,    89,\n",
       "          90,    91,    92,    93,    94,    95,    96,    97,    98,\n",
       "          99])"
      ]
     },
     "execution_count": 29,
     "metadata": {},
     "output_type": "execute_result"
    }
   ],
   "source": [
    "A"
   ]
  },
  {
   "cell_type": "code",
   "execution_count": 30,
   "metadata": {},
   "outputs": [],
   "source": [
    "b = A[3:10].copy()"
   ]
  },
  {
   "cell_type": "code",
   "execution_count": 31,
   "metadata": {},
   "outputs": [
    {
     "data": {
      "text/plain": [
       "array([ 0,  5, 10, 15, 20, 25, 30, 35, 40, 45, 50, 55, 60, 65, 70, 75, 80,\n",
       "       85, 90, 95])"
      ]
     },
     "execution_count": 31,
     "metadata": {},
     "output_type": "execute_result"
    }
   ],
   "source": [
    "A[::5]"
   ]
  },
  {
   "cell_type": "code",
   "execution_count": 32,
   "metadata": {},
   "outputs": [
    {
     "data": {
      "text/plain": [
       "array([99, 94, 89, 84, 79, 74, 69, 64, 59, 54, 49, 44, 39, 34, 29, 24, 19,\n",
       "       14,  9,  4])"
      ]
     },
     "execution_count": 32,
     "metadata": {},
     "output_type": "execute_result"
    }
   ],
   "source": [
    "A[::-5]"
   ]
  },
  {
   "cell_type": "code",
   "execution_count": 33,
   "metadata": {},
   "outputs": [
    {
     "data": {
      "text/plain": [
       "array([   99,    98,    97,    96,    95,    94,    93,    92,    91,\n",
       "          90,    89,    88,    87,    86,    85,    84,    83,    82,\n",
       "          81,    80,    79,    78,    77,    76,    75,    74,    73,\n",
       "          72,    71,    70,    69,    68,    67,    66,    65,    64,\n",
       "          63,    62,    61,    60,    59,    58,    57,    56,    55,\n",
       "          54,    53,    52,    51,    50,    49,    48,    47,    46,\n",
       "          45,    44,    43,    42,    41,    40,    39,    38,    37,\n",
       "          36,    35,    34,    33,    32,    31,    30,    29,    28,\n",
       "          27,    26,    25,    24,    23,    22,    21,    20,    19,\n",
       "          18,    17,    16,    15,    14,    13,    12,    11,    10,\n",
       "           9,     8,     7,     6,     5,     4, -1200,     2,     1,\n",
       "           0])"
      ]
     },
     "execution_count": 33,
     "metadata": {},
     "output_type": "execute_result"
    }
   ],
   "source": [
    "A[::-1]"
   ]
  },
  {
   "cell_type": "code",
   "execution_count": 35,
   "metadata": {},
   "outputs": [],
   "source": [
    "B = (A == -1200) * np.arange(A.size)"
   ]
  },
  {
   "cell_type": "code",
   "execution_count": 37,
   "metadata": {},
   "outputs": [
    {
     "data": {
      "text/plain": [
       "array([    0,     1,     2, -1200,     4,     5,     6,     7,     8,\n",
       "           9,    10,    11,    12,    13,    14,    15,    16,    17,\n",
       "          18,    19,    20,    21,    22,    23,    24,    25,    26,\n",
       "          27,    28,    29,    30,    31,    32,    33,    34,    35,\n",
       "          36,    37,    38,    39,    40,    41,    42,    43,    44,\n",
       "          45,    46,    47,    48,    49,    50,    51,    52,    53,\n",
       "          54,    55,    56,    57,    58,    59,    60,    61,    62,\n",
       "          63,    64,    65,    66,    67,    68,    69,    70,    71,\n",
       "          72,    73,    74,    75,    76,    77,    78,    79,    80,\n",
       "          81,    82,    83,    84,    85,    86,    87,    88,    89,\n",
       "          90,    91,    92,    93,    94,    95,    96,    97,    98,\n",
       "          99])"
      ]
     },
     "execution_count": 37,
     "metadata": {},
     "output_type": "execute_result"
    }
   ],
   "source": [
    "A"
   ]
  },
  {
   "cell_type": "code",
   "execution_count": 39,
   "metadata": {},
   "outputs": [],
   "source": [
    "idx = np.argwhere(A == -1200)[0][0]"
   ]
  },
  {
   "cell_type": "code",
   "execution_count": 40,
   "metadata": {},
   "outputs": [
    {
     "data": {
      "text/plain": [
       "3"
      ]
     },
     "execution_count": 40,
     "metadata": {},
     "output_type": "execute_result"
    }
   ],
   "source": [
    "idx"
   ]
  },
  {
   "cell_type": "code",
   "execution_count": 43,
   "metadata": {},
   "outputs": [],
   "source": [
    "A[idx] = 3 "
   ]
  },
  {
   "cell_type": "code",
   "execution_count": 44,
   "metadata": {},
   "outputs": [
    {
     "data": {
      "text/plain": [
       "array([ 0,  1,  2,  3,  4,  5,  6,  7,  8,  9, 10, 11, 12, 13, 14, 15, 16,\n",
       "       17, 18, 19, 20, 21, 22, 23, 24, 25, 26, 27, 28, 29, 30, 31, 32, 33,\n",
       "       34, 35, 36, 37, 38, 39, 40, 41, 42, 43, 44, 45, 46, 47, 48, 49, 50,\n",
       "       51, 52, 53, 54, 55, 56, 57, 58, 59, 60, 61, 62, 63, 64, 65, 66, 67,\n",
       "       68, 69, 70, 71, 72, 73, 74, 75, 76, 77, 78, 79, 80, 81, 82, 83, 84,\n",
       "       85, 86, 87, 88, 89, 90, 91, 92, 93, 94, 95, 96, 97, 98, 99])"
      ]
     },
     "execution_count": 44,
     "metadata": {},
     "output_type": "execute_result"
    }
   ],
   "source": [
    "A"
   ]
  },
  {
   "cell_type": "code",
   "execution_count": 45,
   "metadata": {},
   "outputs": [],
   "source": [
    "A = np.round(10 * np.random.rand(5, 4))"
   ]
  },
  {
   "cell_type": "code",
   "execution_count": 46,
   "metadata": {},
   "outputs": [
    {
     "data": {
      "text/plain": [
       "array([[ 7.,  6.,  9.,  6.],\n",
       "       [ 6., 10.,  6.,  4.],\n",
       "       [ 1.,  4.,  6.,  9.],\n",
       "       [ 8.,  1.,  6.,  1.],\n",
       "       [ 7.,  7.,  8.,  0.]])"
      ]
     },
     "execution_count": 46,
     "metadata": {},
     "output_type": "execute_result"
    }
   ],
   "source": [
    "A"
   ]
  },
  {
   "cell_type": "code",
   "execution_count": 47,
   "metadata": {},
   "outputs": [
    {
     "data": {
      "text/plain": [
       "6.0"
      ]
     },
     "execution_count": 47,
     "metadata": {},
     "output_type": "execute_result"
    }
   ],
   "source": [
    "A[1,2]"
   ]
  },
  {
   "cell_type": "code",
   "execution_count": 48,
   "metadata": {},
   "outputs": [
    {
     "data": {
      "text/plain": [
       "array([ 6., 10.,  6.,  4.])"
      ]
     },
     "execution_count": 48,
     "metadata": {},
     "output_type": "execute_result"
    }
   ],
   "source": [
    "A[1,:]"
   ]
  },
  {
   "cell_type": "code",
   "execution_count": 49,
   "metadata": {},
   "outputs": [
    {
     "data": {
      "text/plain": [
       "array([ 6., 10.,  4.,  1.,  7.])"
      ]
     },
     "execution_count": 49,
     "metadata": {},
     "output_type": "execute_result"
    }
   ],
   "source": [
    "A[:,1]"
   ]
  },
  {
   "cell_type": "code",
   "execution_count": 50,
   "metadata": {},
   "outputs": [
    {
     "data": {
      "text/plain": [
       "array([[6., 4.],\n",
       "       [6., 9.]])"
      ]
     },
     "execution_count": 50,
     "metadata": {},
     "output_type": "execute_result"
    }
   ],
   "source": [
    "A[1:3,2:4]"
   ]
  },
  {
   "cell_type": "code",
   "execution_count": 51,
   "metadata": {},
   "outputs": [
    {
     "data": {
      "text/plain": [
       "<function ndarray.transpose>"
      ]
     },
     "execution_count": 51,
     "metadata": {},
     "output_type": "execute_result"
    }
   ],
   "source": [
    "A.transpose"
   ]
  },
  {
   "cell_type": "code",
   "execution_count": 52,
   "metadata": {},
   "outputs": [
    {
     "data": {
      "text/plain": [
       "array([[ 7.,  6.,  1.,  8.,  7.],\n",
       "       [ 6., 10.,  4.,  1.,  7.],\n",
       "       [ 9.,  6.,  6.,  6.,  8.],\n",
       "       [ 6.,  4.,  9.,  1.,  0.]])"
      ]
     },
     "execution_count": 52,
     "metadata": {},
     "output_type": "execute_result"
    }
   ],
   "source": [
    "A.T"
   ]
  },
  {
   "cell_type": "code",
   "execution_count": 53,
   "metadata": {},
   "outputs": [],
   "source": [
    "import numpy.linalg as la"
   ]
  },
  {
   "cell_type": "code",
   "execution_count": 55,
   "metadata": {},
   "outputs": [
    {
     "data": {
      "text/plain": [
       "array([[ 6.0690275 , -6.1086342 ,  2.72136593],\n",
       "       [-5.37197601,  5.26113507, -1.30054409],\n",
       "       [ 3.58627504, -0.84570848, -0.17402725]])"
      ]
     },
     "execution_count": 55,
     "metadata": {},
     "output_type": "execute_result"
    }
   ],
   "source": [
    "la.inv(np.random.rand(3,3))"
   ]
  },
  {
   "cell_type": "code",
   "execution_count": 56,
   "metadata": {},
   "outputs": [
    {
     "data": {
      "text/plain": [
       "array([[ 7.,  6.,  9.,  6.],\n",
       "       [ 6., 10.,  6.,  4.],\n",
       "       [ 1.,  4.,  6.,  9.],\n",
       "       [ 8.,  1.,  6.,  1.],\n",
       "       [ 7.,  7.,  8.,  0.]])"
      ]
     },
     "execution_count": 56,
     "metadata": {},
     "output_type": "execute_result"
    }
   ],
   "source": [
    "A"
   ]
  },
  {
   "cell_type": "code",
   "execution_count": 57,
   "metadata": {},
   "outputs": [],
   "source": [
    "A.sort(axis = 0)"
   ]
  },
  {
   "cell_type": "code",
   "execution_count": 58,
   "metadata": {},
   "outputs": [
    {
     "data": {
      "text/plain": [
       "array([[ 1.,  1.,  6.,  0.],\n",
       "       [ 6.,  4.,  6.,  1.],\n",
       "       [ 7.,  6.,  6.,  4.],\n",
       "       [ 7.,  7.,  8.,  6.],\n",
       "       [ 8., 10.,  9.,  9.]])"
      ]
     },
     "execution_count": 58,
     "metadata": {},
     "output_type": "execute_result"
    }
   ],
   "source": [
    "A"
   ]
  },
  {
   "cell_type": "code",
   "execution_count": 59,
   "metadata": {},
   "outputs": [],
   "source": [
    "A.sort(axis=1)"
   ]
  },
  {
   "cell_type": "code",
   "execution_count": 60,
   "metadata": {},
   "outputs": [
    {
     "data": {
      "text/plain": [
       "array([[ 0.,  1.,  1.,  6.],\n",
       "       [ 1.,  4.,  6.,  6.],\n",
       "       [ 4.,  6.,  6.,  7.],\n",
       "       [ 6.,  7.,  7.,  8.],\n",
       "       [ 8.,  9.,  9., 10.]])"
      ]
     },
     "execution_count": 60,
     "metadata": {},
     "output_type": "execute_result"
    }
   ],
   "source": [
    "A"
   ]
  },
  {
   "cell_type": "code",
   "execution_count": 61,
   "metadata": {},
   "outputs": [],
   "source": [
    "A = np.round(10*np.random.rand(2, 3))"
   ]
  },
  {
   "cell_type": "code",
   "execution_count": 62,
   "metadata": {},
   "outputs": [
    {
     "data": {
      "text/plain": [
       "array([[ 9.,  4., 12.],\n",
       "       [ 7.,  5., 12.]])"
      ]
     },
     "execution_count": 62,
     "metadata": {},
     "output_type": "execute_result"
    }
   ],
   "source": [
    "A + 3"
   ]
  },
  {
   "cell_type": "code",
   "execution_count": 63,
   "metadata": {},
   "outputs": [
    {
     "data": {
      "text/plain": [
       "array([[ 6.,  1.,  9.],\n",
       "       [ 5.,  3., 10.]])"
      ]
     },
     "execution_count": 63,
     "metadata": {},
     "output_type": "execute_result"
    }
   ],
   "source": [
    "A + (np.arange(2).reshape(2, 1))"
   ]
  },
  {
   "cell_type": "code",
   "execution_count": 64,
   "metadata": {},
   "outputs": [
    {
     "data": {
      "text/plain": [
       "array([[6., 1., 9.],\n",
       "       [4., 2., 9.]])"
      ]
     },
     "execution_count": 64,
     "metadata": {},
     "output_type": "execute_result"
    }
   ],
   "source": [
    "A"
   ]
  },
  {
   "cell_type": "code",
   "execution_count": 65,
   "metadata": {},
   "outputs": [],
   "source": [
    "B = np.round(10*np.random.rand(2, 2))"
   ]
  },
  {
   "cell_type": "code",
   "execution_count": 66,
   "metadata": {},
   "outputs": [
    {
     "data": {
      "text/plain": [
       "array([[1., 9.],\n",
       "       [3., 6.]])"
      ]
     },
     "execution_count": 66,
     "metadata": {},
     "output_type": "execute_result"
    }
   ],
   "source": [
    "B"
   ]
  },
  {
   "cell_type": "code",
   "execution_count": 67,
   "metadata": {},
   "outputs": [],
   "source": [
    "C = np.hstack((A, B))"
   ]
  },
  {
   "cell_type": "code",
   "execution_count": 68,
   "metadata": {},
   "outputs": [
    {
     "data": {
      "text/plain": [
       "array([[6., 1., 9., 1., 9.],\n",
       "       [4., 2., 9., 3., 6.]])"
      ]
     },
     "execution_count": 68,
     "metadata": {},
     "output_type": "execute_result"
    }
   ],
   "source": [
    "C"
   ]
  },
  {
   "cell_type": "code",
   "execution_count": 69,
   "metadata": {},
   "outputs": [],
   "source": [
    "A = np.random.permutation(np.arange(10))"
   ]
  },
  {
   "cell_type": "code",
   "execution_count": 70,
   "metadata": {},
   "outputs": [
    {
     "data": {
      "text/plain": [
       "array([9, 2, 6, 8, 0, 5, 3, 7, 1, 4])"
      ]
     },
     "execution_count": 70,
     "metadata": {},
     "output_type": "execute_result"
    }
   ],
   "source": [
    "A"
   ]
  },
  {
   "cell_type": "code",
   "execution_count": 71,
   "metadata": {},
   "outputs": [],
   "source": [
    "A.sort()"
   ]
  },
  {
   "cell_type": "code",
   "execution_count": 72,
   "metadata": {},
   "outputs": [
    {
     "data": {
      "text/plain": [
       "array([0, 1, 2, 3, 4, 5, 6, 7, 8, 9])"
      ]
     },
     "execution_count": 72,
     "metadata": {},
     "output_type": "execute_result"
    }
   ],
   "source": [
    "A"
   ]
  },
  {
   "cell_type": "code",
   "execution_count": 73,
   "metadata": {},
   "outputs": [
    {
     "data": {
      "text/plain": [
       "array([0, 1, 2, 3, 4, 5, 6, 7, 8, 9])"
      ]
     },
     "execution_count": 73,
     "metadata": {},
     "output_type": "execute_result"
    }
   ],
   "source": [
    "np.sort(A)"
   ]
  },
  {
   "cell_type": "code",
   "execution_count": 74,
   "metadata": {},
   "outputs": [],
   "source": [
    "A.sort()"
   ]
  },
  {
   "cell_type": "code",
   "execution_count": 75,
   "metadata": {},
   "outputs": [],
   "source": [
    "A = A[::-1]"
   ]
  },
  {
   "cell_type": "code",
   "execution_count": 76,
   "metadata": {},
   "outputs": [
    {
     "data": {
      "text/plain": [
       "array([9, 8, 7, 6, 5, 4, 3, 2, 1, 0])"
      ]
     },
     "execution_count": 76,
     "metadata": {},
     "output_type": "execute_result"
    }
   ],
   "source": [
    "A"
   ]
  },
  {
   "cell_type": "code",
   "execution_count": 77,
   "metadata": {},
   "outputs": [],
   "source": [
    "A = np.array([\"abc\", 'how are you', 'u765', '13er'])"
   ]
  },
  {
   "cell_type": "code",
   "execution_count": 78,
   "metadata": {},
   "outputs": [],
   "source": [
    "A.sort()"
   ]
  },
  {
   "cell_type": "code",
   "execution_count": 79,
   "metadata": {},
   "outputs": [
    {
     "data": {
      "text/plain": [
       "array(['13er', 'abc', 'how are you', 'u765'], dtype='<U11')"
      ]
     },
     "execution_count": 79,
     "metadata": {},
     "output_type": "execute_result"
    }
   ],
   "source": [
    "A"
   ]
  },
  {
   "cell_type": "code",
   "execution_count": 80,
   "metadata": {},
   "outputs": [],
   "source": [
    "b = np.random.rand(1000000)"
   ]
  },
  {
   "cell_type": "code",
   "execution_count": 82,
   "metadata": {},
   "outputs": [
    {
     "name": "stdout",
     "output_type": "stream",
     "text": [
      "41.9 ms ± 240 µs per loop (mean ± std. dev. of 7 runs, 10 loops each)\n"
     ]
    }
   ],
   "source": [
    "%timeit sum(b)"
   ]
  },
  {
   "cell_type": "code",
   "execution_count": 83,
   "metadata": {},
   "outputs": [
    {
     "name": "stdout",
     "output_type": "stream",
     "text": [
      "234 µs ± 5.31 µs per loop (mean ± std. dev. of 7 runs, 1,000 loops each)\n"
     ]
    }
   ],
   "source": [
    "%timeit np.sum(b)"
   ]
  },
  {
   "cell_type": "code",
   "execution_count": 1,
   "metadata": {},
   "outputs": [],
   "source": [
    "import pandas as pd"
   ]
  },
  {
   "cell_type": "code",
   "execution_count": 2,
   "metadata": {},
   "outputs": [],
   "source": [
    "data = pd.Series([0.25, 0.5, 0.75, 1.0], index = ['a', 'b', 'c', 'd'])"
   ]
  },
  {
   "cell_type": "code",
   "execution_count": 3,
   "metadata": {},
   "outputs": [
    {
     "data": {
      "text/plain": [
       "array([0.25, 0.5 , 0.75, 1.  ])"
      ]
     },
     "execution_count": 3,
     "metadata": {},
     "output_type": "execute_result"
    }
   ],
   "source": [
    "data.values"
   ]
  },
  {
   "cell_type": "code",
   "execution_count": 4,
   "metadata": {},
   "outputs": [
    {
     "data": {
      "text/plain": [
       "Index(['a', 'b', 'c', 'd'], dtype='object')"
      ]
     },
     "execution_count": 4,
     "metadata": {},
     "output_type": "execute_result"
    }
   ],
   "source": [
    "data.index"
   ]
  },
  {
   "cell_type": "code",
   "execution_count": 5,
   "metadata": {},
   "outputs": [
    {
     "name": "stdout",
     "output_type": "stream",
     "text": [
      "2.2.2\n"
     ]
    }
   ],
   "source": [
    "print(pd.__version__)"
   ]
  },
  {
   "cell_type": "code",
   "execution_count": 6,
   "metadata": {},
   "outputs": [],
   "source": [
    "A = pd.Series([2, 3, 4, 5], index = ['a', 'b', 'c', 'd'])"
   ]
  },
  {
   "cell_type": "code",
   "execution_count": 8,
   "metadata": {},
   "outputs": [
    {
     "data": {
      "text/plain": [
       "numpy.ndarray"
      ]
     },
     "execution_count": 8,
     "metadata": {},
     "output_type": "execute_result"
    }
   ],
   "source": [
    "type(A.values)"
   ]
  },
  {
   "cell_type": "code",
   "execution_count": 9,
   "metadata": {},
   "outputs": [
    {
     "data": {
      "text/plain": [
       "pandas.core.series.Series"
      ]
     },
     "execution_count": 9,
     "metadata": {},
     "output_type": "execute_result"
    }
   ],
   "source": [
    "type(A)"
   ]
  },
  {
   "cell_type": "code",
   "execution_count": 10,
   "metadata": {},
   "outputs": [
    {
     "data": {
      "text/plain": [
       "Index(['a', 'b', 'c', 'd'], dtype='object')"
      ]
     },
     "execution_count": 10,
     "metadata": {},
     "output_type": "execute_result"
    }
   ],
   "source": [
    "A.index"
   ]
  },
  {
   "cell_type": "code",
   "execution_count": 11,
   "metadata": {},
   "outputs": [
    {
     "data": {
      "text/plain": [
       "2"
      ]
     },
     "execution_count": 11,
     "metadata": {},
     "output_type": "execute_result"
    }
   ],
   "source": [
    "A['a']"
   ]
  },
  {
   "cell_type": "code",
   "execution_count": 12,
   "metadata": {},
   "outputs": [
    {
     "data": {
      "text/plain": [
       "a    2\n",
       "b    3\n",
       "c    4\n",
       "dtype: int64"
      ]
     },
     "execution_count": 12,
     "metadata": {},
     "output_type": "execute_result"
    }
   ],
   "source": [
    "A['a':'c']"
   ]
  },
  {
   "cell_type": "code",
   "execution_count": 13,
   "metadata": {},
   "outputs": [],
   "source": [
    "grades_dict = {'A':4, 'B':3.5, 'C':3, 'D':2.5}\n",
    "grades = pd.Series(grades_dict)"
   ]
  },
  {
   "cell_type": "code",
   "execution_count": 14,
   "metadata": {},
   "outputs": [
    {
     "data": {
      "text/plain": [
       "array([4. , 3.5, 3. , 2.5])"
      ]
     },
     "execution_count": 14,
     "metadata": {},
     "output_type": "execute_result"
    }
   ],
   "source": [
    "grades.values"
   ]
  },
  {
   "cell_type": "code",
   "execution_count": 15,
   "metadata": {},
   "outputs": [],
   "source": [
    "marks_dict = {'A': 85, 'B': 75, 'C': 65, 'D': 55}\n",
    "marks = pd.Series(marks_dict)"
   ]
  },
  {
   "cell_type": "code",
   "execution_count": 16,
   "metadata": {},
   "outputs": [
    {
     "data": {
      "text/plain": [
       "A    85\n",
       "B    75\n",
       "C    65\n",
       "D    55\n",
       "dtype: int64"
      ]
     },
     "execution_count": 16,
     "metadata": {},
     "output_type": "execute_result"
    }
   ],
   "source": [
    "marks"
   ]
  },
  {
   "cell_type": "code",
   "execution_count": 17,
   "metadata": {},
   "outputs": [
    {
     "data": {
      "text/plain": [
       "85"
      ]
     },
     "execution_count": 17,
     "metadata": {},
     "output_type": "execute_result"
    }
   ],
   "source": [
    "marks['A']"
   ]
  },
  {
   "cell_type": "code",
   "execution_count": 18,
   "metadata": {},
   "outputs": [
    {
     "data": {
      "text/plain": [
       "A    85\n",
       "B    75\n",
       "dtype: int64"
      ]
     },
     "execution_count": 18,
     "metadata": {},
     "output_type": "execute_result"
    }
   ],
   "source": [
    "marks[0:2]"
   ]
  },
  {
   "cell_type": "code",
   "execution_count": null,
   "metadata": {},
   "outputs": [],
   "source": []
  }
 ],
 "metadata": {
  "kernelspec": {
   "display_name": "Python 3",
   "language": "python",
   "name": "python3"
  },
  "language_info": {
   "codemirror_mode": {
    "name": "ipython",
    "version": 3
   },
   "file_extension": ".py",
   "mimetype": "text/x-python",
   "name": "python",
   "nbconvert_exporter": "python",
   "pygments_lexer": "ipython3",
   "version": "3.12.3"
  }
 },
 "nbformat": 4,
 "nbformat_minor": 2
}
