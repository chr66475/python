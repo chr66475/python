{
 "cells": [
  {
   "cell_type": "code",
   "execution_count": 1,
   "metadata": {},
   "outputs": [
    {
     "name": "stdout",
     "output_type": "stream",
     "text": [
      "Hello world\n"
     ]
    }
   ],
   "source": [
    "print(\"Hello world\")"
   ]
  },
  {
   "cell_type": "code",
   "execution_count": 2,
   "metadata": {},
   "outputs": [
    {
     "data": {
      "text/plain": [
       "5"
      ]
     },
     "execution_count": 2,
     "metadata": {},
     "output_type": "execute_result"
    }
   ],
   "source": [
    "a = 5\n",
    "\n",
    "a"
   ]
  },
  {
   "cell_type": "code",
   "execution_count": 3,
   "metadata": {},
   "outputs": [
    {
     "name": "stdout",
     "output_type": "stream",
     "text": [
      "Requirement already satisfied: numpy in c:\\users\\conno\\appdata\\local\\programs\\python\\python312\\lib\\site-packages (1.26.1)\n",
      "Note: you may need to restart the kernel to use updated packages.\n"
     ]
    },
    {
     "data": {
      "text/plain": [
       "[-0.08049753592850908,\n",
       " -0.7121127770532427,\n",
       " 1.2775813702940604,\n",
       " -0.3290671457192795,\n",
       " -1.2921276342348234,\n",
       " -0.6472649308161538,\n",
       " 1.5536274755516746]"
      ]
     },
     "execution_count": 3,
     "metadata": {},
     "output_type": "execute_result"
    }
   ],
   "source": [
    "%pip install numpy\n",
    "\n",
    "import numpy as np # type: ignore\n",
    "\n",
    "data = [np.random.standard_normal() for i in range(7)]\n",
    "data"
   ]
  },
  {
   "cell_type": "code",
   "execution_count": 4,
   "metadata": {},
   "outputs": [
    {
     "data": {
      "text/plain": [
       "27"
      ]
     },
     "execution_count": 4,
     "metadata": {},
     "output_type": "execute_result"
    }
   ],
   "source": [
    "an_apple = 27\n",
    "an_example = 42\n",
    "an_apple\n"
   ]
  },
  {
   "cell_type": "code",
   "execution_count": 5,
   "metadata": {},
   "outputs": [
    {
     "data": {
      "text/plain": [
       "<function list.count(value, /)>"
      ]
     },
     "execution_count": 5,
     "metadata": {},
     "output_type": "execute_result"
    }
   ],
   "source": [
    "b = [1, 2, 3]\n",
    "b.count"
   ]
  },
  {
   "cell_type": "code",
   "execution_count": 6,
   "metadata": {},
   "outputs": [
    {
     "data": {
      "text/plain": [
       "datetime.datetime"
      ]
     },
     "execution_count": 6,
     "metadata": {},
     "output_type": "execute_result"
    }
   ],
   "source": [
    "import datetime\n",
    "\n",
    "datetime.datetime"
   ]
  },
  {
   "cell_type": "code",
   "execution_count": 7,
   "metadata": {},
   "outputs": [
    {
     "name": "stdout",
     "output_type": "stream",
     "text": [
      "[1 2 3 4 5]\n",
      "[1. 6. 3. 4. 9.]\n"
     ]
    }
   ],
   "source": [
    "import numpy as np\n",
    "\n",
    "a = np.array([1, 2, 3, 4, 5], dtype='i')\n",
    "b = np.array([1, 6, 3, 4, 9], dtype='float')\n",
    "print(a)\n",
    "print(b)"
   ]
  },
  {
   "cell_type": "code",
   "execution_count": 8,
   "metadata": {},
   "outputs": [
    {
     "data": {
      "text/plain": [
       "dtype('int32')"
      ]
     },
     "execution_count": 8,
     "metadata": {},
     "output_type": "execute_result"
    }
   ],
   "source": [
    "type(a)\n",
    "type(b)\n",
    "\n",
    "a.dtype\n"
   ]
  },
  {
   "cell_type": "code",
   "execution_count": 9,
   "metadata": {},
   "outputs": [
    {
     "data": {
      "text/plain": [
       "dtype('float64')"
      ]
     },
     "execution_count": 9,
     "metadata": {},
     "output_type": "execute_result"
    }
   ],
   "source": [
    "b.dtype"
   ]
  },
  {
   "cell_type": "code",
   "execution_count": 10,
   "metadata": {},
   "outputs": [],
   "source": [
    "A = np.random.rand(1000)"
   ]
  },
  {
   "cell_type": "code",
   "execution_count": 11,
   "metadata": {},
   "outputs": [
    {
     "data": {
      "text/plain": [
       "array([2.05705997e-02, 8.78925392e-01, 5.94538779e-01, 8.91762739e-01,\n",
       "       2.23639402e-01, 9.62761119e-01, 3.81530770e-01, 8.50554791e-01,\n",
       "       8.85210894e-01, 4.06442055e-01, 1.80978262e-01, 6.05851532e-01,\n",
       "       7.21026738e-01, 2.28132187e-01, 8.37239406e-01, 6.47413384e-01,\n",
       "       7.35125641e-01, 2.94660054e-01, 4.13261198e-01, 2.18775019e-01,\n",
       "       7.85697441e-01, 5.89821912e-01, 9.96528764e-01, 1.29828954e-01,\n",
       "       4.41496489e-01, 9.81229440e-01, 1.28683435e-01, 5.38266928e-01,\n",
       "       5.64745727e-02, 6.19625625e-02, 5.36461202e-01, 4.52934049e-01,\n",
       "       7.30506942e-01, 8.67455691e-01, 1.19296488e-01, 7.01890064e-01,\n",
       "       1.70887491e-01, 5.23544550e-01, 5.61610747e-01, 5.15763199e-01,\n",
       "       1.71461547e-01, 3.63481065e-02, 1.58781305e-01, 9.59469898e-01,\n",
       "       9.38100841e-01, 3.30172326e-01, 5.66698859e-01, 2.59818448e-01,\n",
       "       4.77474075e-02, 2.72147931e-01, 7.08574869e-01, 8.08618357e-01,\n",
       "       2.62521744e-01, 8.57526483e-01, 9.73523032e-01, 6.41993636e-01,\n",
       "       4.48897846e-01, 2.49665090e-01, 7.27173654e-01, 8.72470805e-01,\n",
       "       4.74437658e-01, 9.52540085e-01, 6.89665275e-01, 5.62238809e-01,\n",
       "       4.86734012e-01, 1.88763562e-01, 9.15491783e-01, 2.41930786e-01,\n",
       "       5.07902417e-01, 5.76739007e-01, 5.16392651e-01, 3.99090103e-01,\n",
       "       8.44245458e-01, 9.27924881e-01, 3.44355401e-01, 8.70303512e-01,\n",
       "       1.58682603e-02, 7.68937210e-01, 4.17216866e-01, 1.35670738e-01,\n",
       "       3.96183591e-01, 8.55339276e-01, 6.40372296e-01, 4.40108093e-01,\n",
       "       2.97430716e-01, 2.80930494e-02, 7.38382052e-01, 3.59814344e-02,\n",
       "       4.53572106e-01, 2.33881714e-01, 2.44046358e-02, 7.33356842e-02,\n",
       "       9.58043948e-01, 6.72388678e-01, 5.15979945e-01, 3.09168469e-01,\n",
       "       7.12788101e-01, 2.82518794e-01, 7.74655205e-01, 8.37539161e-01,\n",
       "       3.49893313e-01, 4.14680563e-01, 4.06305175e-01, 1.77174112e-01,\n",
       "       3.38714231e-01, 1.58319685e-01, 8.23729937e-01, 9.01777632e-01,\n",
       "       5.26215604e-01, 9.17574215e-01, 8.62560402e-01, 8.43639345e-01,\n",
       "       3.18114246e-02, 5.95739388e-01, 4.43037988e-01, 7.77390954e-01,\n",
       "       7.31194873e-01, 7.70151495e-01, 5.57375956e-01, 8.55888794e-01,\n",
       "       6.86446052e-01, 2.76271637e-01, 5.87244822e-01, 1.39067712e-01,\n",
       "       4.78184248e-01, 9.76347329e-02, 8.03471308e-01, 3.36551301e-01,\n",
       "       9.03013011e-01, 8.63099830e-01, 7.34763241e-01, 9.23559535e-01,\n",
       "       4.28728393e-01, 2.87474716e-01, 1.31725297e-01, 8.41037372e-01,\n",
       "       9.35332794e-01, 8.10151662e-01, 6.57430649e-01, 7.46031312e-01,\n",
       "       8.71332875e-01, 1.07113839e-01, 8.78134747e-01, 2.88763222e-01,\n",
       "       1.81146459e-01, 4.46090609e-01, 9.28997580e-01, 6.61025852e-01,\n",
       "       2.22736045e-01, 8.11086082e-01, 7.42543387e-02, 9.74415888e-02,\n",
       "       6.37095931e-01, 7.15440310e-01, 3.58661691e-01, 2.36302506e-01,\n",
       "       7.97944239e-01, 9.82536893e-01, 4.72115277e-01, 9.80503900e-01,\n",
       "       4.70688292e-01, 4.43858896e-01, 9.41678896e-01, 7.12493844e-01,\n",
       "       8.05970067e-01, 3.98281514e-01, 7.49786087e-01, 3.82619824e-02,\n",
       "       3.00967416e-01, 1.54491880e-01, 8.33839685e-01, 1.08872917e-01,\n",
       "       4.18863555e-01, 9.03720094e-01, 8.94232414e-01, 1.18788167e-01,\n",
       "       5.90008902e-01, 3.69788356e-01, 3.98686809e-01, 1.73250950e-01,\n",
       "       8.18194427e-01, 7.40657078e-01, 9.00637969e-01, 2.04703381e-01,\n",
       "       2.80643871e-02, 9.89758432e-01, 2.32868980e-02, 1.78448624e-03,\n",
       "       7.13293129e-01, 8.84784249e-01, 5.83463726e-01, 3.02203593e-02,\n",
       "       6.34678268e-01, 5.72709506e-01, 3.76894323e-01, 3.76338025e-01,\n",
       "       5.49384505e-01, 8.70542229e-01, 6.41312632e-01, 4.80583424e-01,\n",
       "       6.05721648e-01, 8.58183184e-01, 5.60543838e-01, 2.63121386e-01,\n",
       "       2.39847667e-01, 4.90335966e-01, 3.91391481e-01, 6.06004668e-01,\n",
       "       3.86163833e-01, 9.65774108e-02, 1.75379306e-01, 5.59034373e-01,\n",
       "       1.98123346e-01, 1.24479179e-01, 4.75422533e-01, 1.56742995e-01,\n",
       "       3.91734503e-01, 5.43014324e-02, 6.73546754e-01, 5.03164764e-01,\n",
       "       5.78076583e-01, 8.08532655e-01, 8.22511712e-01, 9.67187552e-01,\n",
       "       1.22233392e-01, 7.33122747e-01, 3.30990821e-01, 6.74535058e-02,\n",
       "       5.17567258e-01, 9.18527017e-01, 1.83212155e-01, 8.31899604e-01,\n",
       "       3.62373601e-01, 4.31202177e-02, 8.70478233e-01, 9.17760639e-02,\n",
       "       8.38436667e-01, 2.30915706e-01, 7.20120175e-01, 8.23182441e-01,\n",
       "       5.15471405e-02, 6.28341821e-01, 1.66382815e-01, 6.27702500e-01,\n",
       "       2.92677238e-01, 7.58960127e-01, 5.36430020e-01, 1.05884487e-01,\n",
       "       2.07025954e-01, 5.88598607e-01, 7.18946900e-01, 5.20172269e-01,\n",
       "       8.06266188e-01, 7.80111259e-01, 3.43132352e-01, 2.94784645e-01,\n",
       "       3.56371686e-01, 5.56248587e-01, 6.97396493e-01, 4.77457016e-01,\n",
       "       3.24530224e-01, 7.96760975e-02, 8.80712689e-01, 8.83089318e-01,\n",
       "       6.05201805e-01, 5.88930314e-01, 7.55425346e-01, 6.43589022e-01,\n",
       "       1.94988319e-02, 9.07357712e-01, 4.85585891e-01, 3.67457765e-01,\n",
       "       2.06477997e-01, 6.50620511e-01, 4.82255101e-01, 2.44043146e-01,\n",
       "       2.61087992e-01, 6.26836905e-01, 9.67185205e-01, 9.06566672e-01,\n",
       "       6.13107042e-02, 8.99891961e-01, 4.78023377e-01, 4.29715201e-01,\n",
       "       3.94298975e-01, 2.30732011e-01, 3.52880482e-01, 2.61526352e-01,\n",
       "       4.38655188e-01, 7.71294459e-01, 2.10117629e-01, 2.21178939e-01,\n",
       "       7.41844307e-02, 4.35541851e-01, 5.35537869e-03, 9.82110152e-01,\n",
       "       7.97676456e-01, 1.51258590e-01, 5.63105855e-01, 7.79989238e-01,\n",
       "       8.83672253e-01, 6.36808374e-01, 2.88618702e-01, 8.82293036e-01,\n",
       "       8.56305925e-01, 2.72666151e-01, 4.17699270e-01, 8.66295981e-01,\n",
       "       3.93380202e-01, 5.71567814e-01, 8.14732690e-01, 7.02815858e-01,\n",
       "       8.48172650e-01, 3.21102007e-01, 6.34896883e-01, 6.07284164e-01,\n",
       "       4.06821161e-01, 7.39765936e-01, 4.93476420e-01, 9.88906875e-01,\n",
       "       3.41425056e-01, 8.94386133e-01, 9.15334225e-01, 8.94642783e-01,\n",
       "       1.92853782e-02, 1.35501772e-01, 3.88780767e-01, 4.34047616e-01,\n",
       "       5.83727867e-01, 5.52809476e-01, 4.53246138e-01, 1.31533659e-01,\n",
       "       8.89678569e-01, 9.02324632e-01, 4.08687217e-01, 5.55118931e-03,\n",
       "       2.98812494e-01, 5.54365437e-01, 9.27112524e-01, 2.53152678e-01,\n",
       "       3.00126944e-01, 7.64488060e-01, 4.54431787e-01, 8.88092998e-01,\n",
       "       3.68905209e-01, 6.95334854e-01, 3.29965866e-01, 9.76992259e-01,\n",
       "       8.42427688e-01, 3.02579139e-01, 8.57730482e-01, 1.68691035e-01,\n",
       "       2.58751979e-01, 8.71854681e-01, 7.43633880e-01, 7.86869030e-01,\n",
       "       3.92458544e-01, 6.76264476e-01, 4.27851175e-01, 8.94187400e-01,\n",
       "       1.40408846e-01, 9.70172516e-01, 7.42294901e-01, 8.18363466e-01,\n",
       "       7.64569862e-01, 1.16395942e-01, 3.86036317e-01, 4.78185753e-01,\n",
       "       4.19924877e-01, 5.18785955e-01, 4.59505538e-01, 3.58007642e-01,\n",
       "       1.38095974e-01, 3.22111774e-01, 5.52818887e-01, 7.78480646e-01,\n",
       "       7.50530169e-01, 3.13381573e-01, 7.00652202e-01, 4.70106445e-01,\n",
       "       6.88182740e-01, 3.71224680e-01, 1.42935985e-01, 7.57700970e-01,\n",
       "       5.37194569e-01, 4.58935134e-01, 6.07839043e-01, 9.76570447e-01,\n",
       "       3.15395091e-01, 6.75087495e-01, 3.08126266e-01, 1.33199633e-01,\n",
       "       7.20595605e-01, 1.78986511e-01, 6.75999388e-01, 8.57418241e-01,\n",
       "       2.31549160e-01, 4.27377602e-01, 1.27786921e-02, 2.86716398e-01,\n",
       "       2.48403394e-01, 7.60082534e-01, 9.56225662e-01, 7.61313521e-02,\n",
       "       7.59739802e-01, 2.85868482e-01, 9.07764491e-01, 4.35918207e-01,\n",
       "       7.18473517e-01, 9.81108234e-01, 7.98797169e-01, 6.45600667e-01,\n",
       "       7.11330268e-01, 1.55690684e-01, 9.66132559e-01, 4.75186463e-01,\n",
       "       9.27941504e-02, 9.72590944e-01, 7.35093391e-01, 9.94895862e-01,\n",
       "       9.80231274e-02, 9.66820802e-01, 6.07503721e-01, 5.04229973e-01,\n",
       "       8.59196912e-01, 8.33337578e-01, 8.34757278e-01, 7.81558999e-01,\n",
       "       9.09299246e-01, 4.47008261e-01, 4.88224932e-01, 3.27192436e-02,\n",
       "       7.41485896e-01, 9.99127601e-01, 7.20888810e-01, 3.59860908e-01,\n",
       "       2.20031857e-02, 2.76967228e-01, 4.74340506e-01, 6.33642385e-01,\n",
       "       5.99648054e-02, 9.68761759e-01, 1.12382910e-01, 8.62049190e-01,\n",
       "       6.37755573e-01, 3.09022121e-01, 6.99492599e-01, 6.15516925e-02,\n",
       "       4.65861417e-01, 5.38087272e-01, 3.06637761e-01, 1.60243137e-01,\n",
       "       3.99999986e-01, 1.56502742e-01, 9.13849888e-01, 3.74242055e-02,\n",
       "       3.25313136e-01, 5.19697876e-01, 6.87171974e-01, 6.68870478e-01,\n",
       "       2.41929572e-01, 6.74267757e-01, 8.86024416e-01, 8.62263765e-01,\n",
       "       6.27113104e-01, 5.46176329e-02, 6.33316087e-01, 2.11600000e-01,\n",
       "       5.66097566e-01, 3.26652086e-01, 9.96599820e-02, 1.33010502e-01,\n",
       "       9.77349500e-01, 8.95789747e-01, 1.27575344e-01, 5.36874606e-01,\n",
       "       4.81904105e-01, 5.41178798e-01, 2.11454709e-01, 5.72822093e-01,\n",
       "       6.85454013e-01, 9.80681728e-01, 2.52425486e-01, 2.79050702e-02,\n",
       "       7.74200049e-01, 5.75622614e-01, 1.75012215e-02, 2.04284314e-01,\n",
       "       8.67574790e-01, 2.23279622e-01, 8.18727084e-01, 1.66887095e-01,\n",
       "       8.16556048e-01, 6.66755483e-01, 4.37577625e-01, 6.48687230e-01,\n",
       "       4.39499684e-01, 1.55195513e-02, 8.82208355e-01, 2.57698484e-01,\n",
       "       1.60454899e-01, 6.05979442e-01, 5.95718345e-01, 7.32593013e-01,\n",
       "       4.07542077e-01, 8.59278215e-01, 2.16056489e-01, 8.88170629e-01,\n",
       "       6.83285511e-01, 4.02431924e-01, 4.56441354e-01, 8.81625839e-01,\n",
       "       1.05419168e-01, 8.51543115e-01, 3.47437820e-01, 9.73940993e-01,\n",
       "       7.57076541e-01, 1.13532018e-01, 4.77359651e-01, 8.46021724e-01,\n",
       "       4.04723140e-01, 3.49487721e-01, 3.39920110e-01, 9.28275206e-01,\n",
       "       4.81766853e-01, 6.63308581e-01, 7.08497761e-01, 3.70388516e-01,\n",
       "       3.25893341e-01, 1.60026825e-01, 5.62579130e-02, 1.42188347e-01,\n",
       "       9.72287612e-01, 6.29019372e-01, 8.86912481e-01, 6.20553352e-01,\n",
       "       4.74834934e-01, 5.59090908e-01, 7.25861691e-01, 1.40629502e-01,\n",
       "       1.22250188e-01, 2.83063239e-01, 2.63118184e-01, 7.98509245e-01,\n",
       "       5.35425817e-01, 3.80173293e-01, 2.82181358e-01, 1.36051518e-01,\n",
       "       7.31516964e-01, 3.03901128e-02, 4.86037349e-01, 6.84816008e-01,\n",
       "       5.31783098e-01, 8.74331616e-01, 7.14770333e-01, 1.98532740e-01,\n",
       "       4.62787321e-01, 3.21108364e-01, 8.41575285e-01, 5.64659016e-01,\n",
       "       2.87536773e-01, 1.20388350e-02, 4.35871202e-01, 3.56883955e-02,\n",
       "       9.40509211e-01, 3.06888371e-01, 6.67131398e-01, 2.25532020e-01,\n",
       "       5.46776268e-01, 8.94641948e-01, 6.86439404e-01, 3.71327620e-01,\n",
       "       9.73154184e-01, 8.06633466e-01, 8.97114310e-01, 4.17275594e-01,\n",
       "       7.57137350e-01, 1.12008194e-01, 7.86853001e-01, 2.62820461e-01,\n",
       "       9.88040059e-02, 2.56558391e-01, 3.93279623e-01, 2.22151060e-01,\n",
       "       6.75443747e-01, 3.53967125e-01, 3.80455865e-01, 3.95527529e-01,\n",
       "       6.54173196e-01, 6.38753211e-02, 1.85685294e-01, 1.38699744e-01,\n",
       "       1.40371873e-01, 6.53249354e-01, 9.05282594e-02, 2.13257240e-01,\n",
       "       5.02340692e-01, 3.70043896e-01, 8.42625563e-01, 2.41238918e-01,\n",
       "       3.93884470e-01, 4.07907904e-02, 8.20730046e-02, 2.37826134e-01,\n",
       "       2.37925813e-02, 1.93825581e-01, 8.08639347e-01, 8.86279460e-01,\n",
       "       6.66783052e-01, 5.46136110e-01, 7.92442123e-01, 8.35671079e-01,\n",
       "       7.50589920e-02, 3.84987781e-01, 6.86999241e-02, 3.67374700e-01,\n",
       "       3.92826347e-01, 2.55403067e-01, 7.27615884e-01, 5.02513648e-01,\n",
       "       5.42677808e-01, 8.11712687e-01, 2.20827971e-02, 3.25440482e-01,\n",
       "       2.28298406e-01, 1.93543124e-01, 7.64163529e-01, 5.83289085e-01,\n",
       "       6.60056281e-01, 2.79717512e-01, 4.26946830e-01, 6.07111450e-03,\n",
       "       6.52449383e-01, 8.34227640e-01, 2.58404765e-01, 5.16550415e-01,\n",
       "       8.25315143e-01, 6.82590244e-01, 6.19345239e-01, 1.56678330e-01,\n",
       "       8.14930816e-01, 4.41930254e-01, 3.51835772e-01, 7.76419208e-01,\n",
       "       9.67488195e-01, 7.99223296e-01, 4.39380675e-01, 4.24841409e-01,\n",
       "       4.64272677e-01, 6.69877953e-01, 3.63894592e-01, 8.19881834e-01,\n",
       "       5.58268492e-01, 9.00662276e-01, 7.21222498e-01, 9.06679755e-01,\n",
       "       9.52322678e-01, 9.80785090e-01, 6.75612825e-01, 4.50102552e-01,\n",
       "       1.12860595e-01, 3.01191362e-02, 8.74996170e-01, 3.57600465e-01,\n",
       "       5.89560796e-01, 8.98566780e-02, 5.80804272e-01, 7.81459035e-01,\n",
       "       6.59683575e-01, 4.33795797e-01, 4.40341170e-01, 2.53651416e-01,\n",
       "       2.99653780e-01, 3.52826164e-01, 8.44787839e-01, 8.76089897e-01,\n",
       "       1.00906415e-02, 1.45704486e-02, 5.92977690e-01, 6.08924609e-01,\n",
       "       7.16246602e-01, 6.01692603e-01, 6.50135375e-01, 7.74660965e-01,\n",
       "       3.26541634e-01, 3.38936689e-01, 7.46417677e-01, 6.72193304e-01,\n",
       "       5.85829212e-01, 8.68065688e-01, 4.58921848e-01, 6.93547462e-01,\n",
       "       3.65633294e-01, 9.99803144e-01, 6.91260557e-01, 7.35825612e-01,\n",
       "       7.84607859e-01, 4.11139431e-01, 6.84422871e-01, 6.03034028e-02,\n",
       "       2.79721833e-01, 1.84233547e-01, 5.40722924e-01, 8.60891415e-01,\n",
       "       3.59947027e-01, 1.83287942e-01, 6.33779466e-01, 1.39775843e-01,\n",
       "       6.91840161e-02, 2.57340684e-01, 9.80457593e-02, 3.61207023e-01,\n",
       "       6.22817254e-01, 6.40405531e-01, 7.86919558e-01, 6.28370788e-01,\n",
       "       5.36014580e-01, 4.59285661e-01, 8.34481024e-01, 6.96614005e-01,\n",
       "       5.19709426e-01, 1.10605749e-01, 6.14981602e-01, 1.54517051e-01,\n",
       "       1.94872165e-01, 1.58972988e-01, 4.60450709e-01, 7.28970391e-01,\n",
       "       4.25058571e-01, 7.34104421e-01, 7.90867871e-01, 2.91861675e-01,\n",
       "       2.73767386e-01, 6.30988472e-01, 9.63512668e-02, 9.67737624e-01,\n",
       "       7.87930554e-02, 9.36017790e-01, 6.58159140e-02, 9.26430238e-01,\n",
       "       5.65922589e-01, 5.07897536e-01, 7.50507992e-01, 4.64150692e-01,\n",
       "       2.45477047e-01, 9.66929010e-01, 1.69097453e-01, 9.03863401e-01,\n",
       "       4.94075598e-01, 3.53000980e-01, 2.65031789e-01, 1.94331580e-01,\n",
       "       4.43697545e-01, 4.41583159e-02, 2.18664105e-02, 9.61277733e-01,\n",
       "       5.88506602e-01, 9.02960478e-01, 7.62836622e-01, 8.70584528e-01,\n",
       "       1.78979289e-01, 9.70236910e-01, 2.80693697e-01, 5.03377780e-01,\n",
       "       3.64285759e-01, 2.25622198e-01, 5.13419893e-01, 8.98667032e-01,\n",
       "       1.35229998e-01, 3.40622408e-02, 8.92645176e-01, 4.06306599e-02,\n",
       "       2.65939110e-01, 8.11884548e-01, 4.85488729e-01, 4.26665981e-01,\n",
       "       5.19842081e-01, 8.31334578e-01, 8.97946443e-01, 5.64329983e-01,\n",
       "       3.19807345e-01, 5.01000646e-01, 6.34960111e-01, 5.93384263e-01,\n",
       "       4.00509615e-01, 6.51524180e-01, 3.23633577e-02, 6.66437184e-01,\n",
       "       3.51532717e-02, 2.59756492e-01, 2.42815682e-01, 7.62877691e-01,\n",
       "       3.62545361e-01, 9.36076577e-01, 6.99377050e-01, 8.48900661e-02,\n",
       "       1.04713221e-01, 4.83079776e-01, 6.83246844e-01, 9.84517840e-01,\n",
       "       3.77154785e-01, 6.88467705e-02, 5.47026399e-01, 4.46643341e-01,\n",
       "       6.37757652e-01, 5.94073350e-01, 8.52570215e-01, 1.05060323e-01,\n",
       "       3.80744295e-01, 2.51696983e-01, 6.87284881e-01, 6.38407778e-01,\n",
       "       5.03702931e-01, 8.62228717e-01, 6.93524446e-01, 5.49624826e-01,\n",
       "       7.67498886e-01, 7.82972811e-01, 7.44827784e-01, 3.22390416e-01,\n",
       "       5.86844434e-01, 1.14815146e-01, 2.17490162e-01, 4.16538077e-01,\n",
       "       6.91550408e-01, 4.73705854e-01, 8.96779114e-01, 1.35294359e-01,\n",
       "       4.80154358e-01, 5.81474374e-01, 2.34461764e-01, 3.48998965e-01,\n",
       "       2.22747205e-02, 8.18520153e-01, 3.35044720e-01, 7.77828740e-01,\n",
       "       7.56232813e-01, 9.19673624e-01, 4.46770205e-02, 7.64329303e-01,\n",
       "       2.09094440e-01, 8.88723317e-01, 6.04097693e-01, 7.70840146e-01,\n",
       "       8.36152771e-01, 7.78229103e-01, 1.15320669e-01, 4.11810043e-01,\n",
       "       5.15823840e-01, 6.66983878e-01, 5.40585840e-01, 9.90664084e-01,\n",
       "       6.62186784e-01, 7.84642259e-04, 5.06304146e-01, 2.79521237e-01,\n",
       "       8.02845560e-01, 4.76293227e-01, 1.94993189e-01, 6.41179997e-01,\n",
       "       2.78206868e-01, 5.80891198e-01, 7.15133409e-01, 3.58737459e-01,\n",
       "       6.14787970e-01, 8.06533472e-01, 9.10197804e-01, 7.07094132e-02,\n",
       "       7.57994917e-01, 4.28096638e-01, 7.24883539e-01, 4.44726869e-01,\n",
       "       8.95368955e-03, 6.30059249e-01, 5.44544962e-01, 6.61341516e-01,\n",
       "       1.42631446e-01, 1.51692463e-01, 8.88748304e-01, 1.23058732e-01,\n",
       "       2.34888226e-01, 2.47391232e-01, 8.66159801e-03, 3.10505823e-01,\n",
       "       4.74857198e-01, 8.18758578e-01, 4.99433649e-01, 5.44936683e-01,\n",
       "       3.78293932e-02, 4.45403593e-01, 7.31316362e-01, 8.26817535e-01,\n",
       "       3.07177105e-01, 5.14631005e-01, 4.60715170e-01, 8.48543216e-01,\n",
       "       5.97428925e-01, 7.15001483e-01, 2.48724162e-01, 3.99610583e-01,\n",
       "       1.37016911e-01, 7.27452633e-01, 2.46817325e-01, 2.60190763e-01,\n",
       "       3.11797963e-01, 2.90625010e-01, 8.70374001e-01, 7.08920281e-04,\n",
       "       4.12055907e-01, 7.01214229e-01, 1.22704246e-01, 3.68416317e-01,\n",
       "       5.57084595e-01, 8.26533374e-01, 3.87042157e-01, 9.46064824e-01,\n",
       "       6.02129605e-01, 1.90716207e-01, 7.66935970e-01, 8.79148685e-02,\n",
       "       8.24001172e-01, 9.28464599e-01, 2.75966387e-01, 8.81210954e-01,\n",
       "       7.68175272e-01, 6.65888226e-01, 8.10216695e-01, 5.22381224e-01,\n",
       "       2.69491231e-01, 5.72006753e-01, 5.18936703e-01, 6.25666991e-01,\n",
       "       2.57609698e-01, 7.57303087e-01, 8.77771045e-01, 8.35431097e-01,\n",
       "       5.41020494e-02, 9.85569595e-01, 4.39547352e-01, 9.95791937e-01,\n",
       "       7.65251835e-01, 3.59077318e-01, 8.10973902e-01, 4.94001152e-01,\n",
       "       5.50149699e-01, 6.61687031e-01, 5.44873742e-01, 1.88064155e-01,\n",
       "       5.56676415e-01, 4.30615070e-01, 1.32576682e-01, 3.57829333e-01,\n",
       "       1.54950857e-01, 6.57368435e-01, 9.32176027e-01, 5.42149727e-02,\n",
       "       9.93987632e-01, 3.07618737e-01, 6.66395233e-01, 6.12001194e-01,\n",
       "       5.15614535e-02, 8.41442363e-01, 7.32476159e-01, 5.20171572e-01,\n",
       "       5.78156167e-01, 1.00951642e-01, 8.39848786e-01, 1.01994998e-01,\n",
       "       9.06330798e-01, 6.59976150e-01, 3.88302790e-01, 4.12541237e-01,\n",
       "       6.78617015e-01, 2.29997881e-01, 2.90973925e-02, 9.27611981e-01,\n",
       "       6.40191584e-01, 4.57649055e-01, 8.14732548e-01, 7.92763869e-01,\n",
       "       3.21899640e-01, 8.24383793e-01, 4.48284003e-01, 5.17417217e-01,\n",
       "       6.69612415e-01, 1.74902526e-01, 8.01535548e-01, 9.15468198e-01,\n",
       "       1.85117253e-01, 3.70377322e-01, 7.22619605e-01, 9.95974785e-01,\n",
       "       2.09909625e-01, 3.86563447e-01, 9.35051122e-01, 2.03241393e-01,\n",
       "       7.84973784e-03, 8.30628263e-01, 5.99175986e-01, 5.76604186e-01])"
      ]
     },
     "execution_count": 11,
     "metadata": {},
     "output_type": "execute_result"
    }
   ],
   "source": [
    "A"
   ]
  },
  {
   "cell_type": "code",
   "execution_count": 12,
   "metadata": {},
   "outputs": [],
   "source": [
    "import matplotlib.pyplot as plt"
   ]
  },
  {
   "cell_type": "code",
   "execution_count": 13,
   "metadata": {},
   "outputs": [
    {
     "data": {
      "text/plain": [
       "(array([10.,  9., 14., 12.,  5., 10.,  9.,  8.,  5., 10.,  9.,  9.,  8.,\n",
       "        17.,  4., 15.,  4.,  8.,  9.,  8.,  8.,  6., 10.,  9., 11., 14.,\n",
       "         9., 10., 10.,  9.,  9.,  5., 13.,  6.,  7., 14., 12.,  8., 10.,\n",
       "        15.,  8., 12.,  9., 12., 14., 10.,  7., 16., 10.,  5., 10., 16.,\n",
       "         3.,  9., 13., 10.,  9.,  9., 15.,  8., 12.,  4., 10., 12., 10.,\n",
       "        11., 15., 10., 12.,  9.,  6., 11., 12., 14.,  8., 11., 12., 12.,\n",
       "         9.,  8., 10., 16.,  8., 15., 11., 12., 10., 14., 17., 13., 14.,\n",
       "         8.,  8.,  6.,  3.,  5., 10., 10., 11.,  8.]),\n",
       " array([7.08920281e-04, 1.06998625e-02, 2.06908048e-02, 3.06817470e-02,\n",
       "        4.06726892e-02, 5.06636315e-02, 6.06545737e-02, 7.06455160e-02,\n",
       "        8.06364582e-02, 9.06274004e-02, 1.00618343e-01, 1.10609285e-01,\n",
       "        1.20600227e-01, 1.30591169e-01, 1.40582112e-01, 1.50573054e-01,\n",
       "        1.60563996e-01, 1.70554938e-01, 1.80545881e-01, 1.90536823e-01,\n",
       "        2.00527765e-01, 2.10518707e-01, 2.20509650e-01, 2.30500592e-01,\n",
       "        2.40491534e-01, 2.50482476e-01, 2.60473418e-01, 2.70464361e-01,\n",
       "        2.80455303e-01, 2.90446245e-01, 3.00437187e-01, 3.10428130e-01,\n",
       "        3.20419072e-01, 3.30410014e-01, 3.40400956e-01, 3.50391899e-01,\n",
       "        3.60382841e-01, 3.70373783e-01, 3.80364725e-01, 3.90355668e-01,\n",
       "        4.00346610e-01, 4.10337552e-01, 4.20328494e-01, 4.30319437e-01,\n",
       "        4.40310379e-01, 4.50301321e-01, 4.60292263e-01, 4.70283206e-01,\n",
       "        4.80274148e-01, 4.90265090e-01, 5.00256032e-01, 5.10246974e-01,\n",
       "        5.20237917e-01, 5.30228859e-01, 5.40219801e-01, 5.50210743e-01,\n",
       "        5.60201686e-01, 5.70192628e-01, 5.80183570e-01, 5.90174512e-01,\n",
       "        6.00165455e-01, 6.10156397e-01, 6.20147339e-01, 6.30138281e-01,\n",
       "        6.40129224e-01, 6.50120166e-01, 6.60111108e-01, 6.70102050e-01,\n",
       "        6.80092993e-01, 6.90083935e-01, 7.00074877e-01, 7.10065819e-01,\n",
       "        7.20056761e-01, 7.30047704e-01, 7.40038646e-01, 7.50029588e-01,\n",
       "        7.60020530e-01, 7.70011473e-01, 7.80002415e-01, 7.89993357e-01,\n",
       "        7.99984299e-01, 8.09975242e-01, 8.19966184e-01, 8.29957126e-01,\n",
       "        8.39948068e-01, 8.49939011e-01, 8.59929953e-01, 8.69920895e-01,\n",
       "        8.79911837e-01, 8.89902780e-01, 8.99893722e-01, 9.09884664e-01,\n",
       "        9.19875606e-01, 9.29866549e-01, 9.39857491e-01, 9.49848433e-01,\n",
       "        9.59839375e-01, 9.69830317e-01, 9.79821260e-01, 9.89812202e-01,\n",
       "        9.99803144e-01]),\n",
       " <BarContainer object of 100 artists>)"
      ]
     },
     "execution_count": 13,
     "metadata": {},
     "output_type": "execute_result"
    },
    {
     "data": {
      "image/png": "[encoded data removed]",
      "text/plain": [
       "<Figure size 640x480 with 1 Axes>"
      ]
     },
     "metadata": {},
     "output_type": "display_data"
    }
   ],
   "source": [
    "plt.hist(A, bins = 100)"
   ]
  },
  {
   "cell_type": "code",
   "execution_count": 14,
   "metadata": {},
   "outputs": [
    {
     "data": {
      "text/plain": [
       "(array([1.000e+00, 0.000e+00, 1.000e+00, 0.000e+00, 1.000e+00, 1.000e+00,\n",
       "        0.000e+00, 1.000e+00, 0.000e+00, 0.000e+00, 3.000e+00, 2.000e+00,\n",
       "        4.000e+00, 3.000e+00, 7.000e+00, 4.000e+00, 4.000e+00, 2.000e+00,\n",
       "        8.000e+00, 3.000e+00, 5.000e+00, 1.300e+01, 1.000e+01, 1.300e+01,\n",
       "        8.000e+00, 1.600e+01, 1.900e+01, 1.800e+01, 2.000e+01, 2.600e+01,\n",
       "        2.300e+01, 3.600e+01, 3.400e+01, 3.400e+01, 4.400e+01, 5.000e+01,\n",
       "        5.500e+01, 7.900e+01, 7.000e+01, 9.100e+01, 9.200e+01, 6.800e+01,\n",
       "        1.240e+02, 1.250e+02, 1.250e+02, 1.300e+02, 1.430e+02, 1.740e+02,\n",
       "        1.690e+02, 1.910e+02, 2.010e+02, 2.380e+02, 2.580e+02, 2.580e+02,\n",
       "        3.190e+02, 3.170e+02, 3.450e+02, 3.770e+02, 4.110e+02, 4.320e+02,\n",
       "        4.400e+02, 4.780e+02, 5.320e+02, 5.100e+02, 5.840e+02, 6.350e+02,\n",
       "        6.520e+02, 7.170e+02, 7.590e+02, 7.750e+02, 8.040e+02, 8.920e+02,\n",
       "        9.200e+02, 9.230e+02, 1.000e+03, 9.700e+02, 1.094e+03, 1.162e+03,\n",
       "        1.132e+03, 1.244e+03, 1.258e+03, 1.232e+03, 1.371e+03, 1.316e+03,\n",
       "        1.411e+03, 1.416e+03, 1.473e+03, 1.536e+03, 1.531e+03, 1.624e+03,\n",
       "        1.590e+03, 1.546e+03, 1.618e+03, 1.703e+03, 1.584e+03, 1.631e+03,\n",
       "        1.680e+03, 1.653e+03, 1.663e+03, 1.591e+03, 1.741e+03, 1.738e+03,\n",
       "        1.646e+03, 1.685e+03, 1.629e+03, 1.567e+03, 1.586e+03, 1.565e+03,\n",
       "        1.550e+03, 1.579e+03, 1.450e+03, 1.465e+03, 1.395e+03, 1.383e+03,\n",
       "        1.332e+03, 1.268e+03, 1.194e+03, 1.257e+03, 1.250e+03, 1.170e+03,\n",
       "        1.073e+03, 1.041e+03, 1.028e+03, 9.520e+02, 9.340e+02, 8.690e+02,\n",
       "        8.780e+02, 8.280e+02, 7.420e+02, 7.380e+02, 6.750e+02, 6.550e+02,\n",
       "        6.370e+02, 5.910e+02, 6.120e+02, 4.830e+02, 4.820e+02, 4.340e+02,\n",
       "        4.130e+02, 3.660e+02, 3.660e+02, 3.190e+02, 2.920e+02, 3.120e+02,\n",
       "        2.920e+02, 2.680e+02, 2.400e+02, 2.090e+02, 1.920e+02, 1.800e+02,\n",
       "        1.690e+02, 1.400e+02, 1.170e+02, 1.090e+02, 1.110e+02, 9.200e+01,\n",
       "        8.500e+01, 8.400e+01, 8.600e+01, 5.700e+01, 5.600e+01, 6.200e+01,\n",
       "        5.500e+01, 3.400e+01, 4.200e+01, 3.800e+01, 3.000e+01, 3.200e+01,\n",
       "        2.800e+01, 2.100e+01, 2.100e+01, 2.000e+01, 1.200e+01, 1.200e+01,\n",
       "        8.000e+00, 9.000e+00, 1.500e+01, 9.000e+00, 5.000e+00, 3.000e+00,\n",
       "        4.000e+00, 1.000e+00, 4.000e+00, 4.000e+00, 2.000e+00, 5.000e+00,\n",
       "        1.000e+00, 1.000e+00, 2.000e+00, 2.000e+00, 0.000e+00, 1.000e+00,\n",
       "        0.000e+00, 0.000e+00, 1.000e+00, 0.000e+00, 0.000e+00, 1.000e+00,\n",
       "        1.000e+00, 1.000e+00]),\n",
       " array([-4.13738147e+00, -4.09555032e+00, -4.05371916e+00, -4.01188801e+00,\n",
       "        -3.97005685e+00, -3.92822570e+00, -3.88639454e+00, -3.84456339e+00,\n",
       "        -3.80273223e+00, -3.76090108e+00, -3.71906992e+00, -3.67723877e+00,\n",
       "        -3.63540761e+00, -3.59357646e+00, -3.55174530e+00, -3.50991415e+00,\n",
       "        -3.46808299e+00, -3.42625184e+00, -3.38442068e+00, -3.34258953e+00,\n",
       "        -3.30075837e+00, -3.25892722e+00, -3.21709606e+00, -3.17526491e+00,\n",
       "        -3.13343376e+00, -3.09160260e+00, -3.04977145e+00, -3.00794029e+00,\n",
       "        -2.96610914e+00, -2.92427798e+00, -2.88244683e+00, -2.84061567e+00,\n",
       "        -2.79878452e+00, -2.75695336e+00, -2.71512221e+00, -2.67329105e+00,\n",
       "        -2.63145990e+00, -2.58962874e+00, -2.54779759e+00, -2.50596643e+00,\n",
       "        -2.46413528e+00, -2.42230412e+00, -2.38047297e+00, -2.33864181e+00,\n",
       "        -2.29681066e+00, -2.25497950e+00, -2.21314835e+00, -2.17131719e+00,\n",
       "        -2.12948604e+00, -2.08765488e+00, -2.04582373e+00, -2.00399257e+00,\n",
       "        -1.96216142e+00, -1.92033026e+00, -1.87849911e+00, -1.83666795e+00,\n",
       "        -1.79483680e+00, -1.75300564e+00, -1.71117449e+00, -1.66934333e+00,\n",
       "        -1.62751218e+00, -1.58568102e+00, -1.54384987e+00, -1.50201871e+00,\n",
       "        -1.46018756e+00, -1.41835640e+00, -1.37652525e+00, -1.33469409e+00,\n",
       "        -1.29286294e+00, -1.25103178e+00, -1.20920063e+00, -1.16736947e+00,\n",
       "        -1.12553832e+00, -1.08370716e+00, -1.04187601e+00, -1.00004485e+00,\n",
       "        -9.58213699e-01, -9.16382544e-01, -8.74551389e-01, -8.32720234e-01,\n",
       "        -7.90889079e-01, -7.49057924e-01, -7.07226769e-01, -6.65395614e-01,\n",
       "        -6.23564459e-01, -5.81733304e-01, -5.39902150e-01, -4.98070995e-01,\n",
       "        -4.56239840e-01, -4.14408685e-01, -3.72577530e-01, -3.30746375e-01,\n",
       "        -2.88915220e-01, -2.47084065e-01, -2.05252910e-01, -1.63421755e-01,\n",
       "        -1.21590600e-01, -7.97594453e-02, -3.79282904e-02,  3.90286452e-03,\n",
       "         4.57340194e-02,  8.75651744e-02,  1.29396329e-01,  1.71227484e-01,\n",
       "         2.13058639e-01,  2.54889794e-01,  2.96720949e-01,  3.38552104e-01,\n",
       "         3.80383259e-01,  4.22214414e-01,  4.64045569e-01,  5.05876724e-01,\n",
       "         5.47707879e-01,  5.89539034e-01,  6.31370188e-01,  6.73201343e-01,\n",
       "         7.15032498e-01,  7.56863653e-01,  7.98694808e-01,  8.40525963e-01,\n",
       "         8.82357118e-01,  9.24188273e-01,  9.66019428e-01,  1.00785058e+00,\n",
       "         1.04968174e+00,  1.09151289e+00,  1.13334405e+00,  1.17517520e+00,\n",
       "         1.21700636e+00,  1.25883751e+00,  1.30066867e+00,  1.34249982e+00,\n",
       "         1.38433098e+00,  1.42616213e+00,  1.46799329e+00,  1.50982444e+00,\n",
       "         1.55165560e+00,  1.59348675e+00,  1.63531791e+00,  1.67714906e+00,\n",
       "         1.71898022e+00,  1.76081137e+00,  1.80264253e+00,  1.84447368e+00,\n",
       "         1.88630484e+00,  1.92813599e+00,  1.96996715e+00,  2.01179830e+00,\n",
       "         2.05362946e+00,  2.09546061e+00,  2.13729177e+00,  2.17912292e+00,\n",
       "         2.22095408e+00,  2.26278523e+00,  2.30461639e+00,  2.34644754e+00,\n",
       "         2.38827870e+00,  2.43010985e+00,  2.47194101e+00,  2.51377216e+00,\n",
       "         2.55560332e+00,  2.59743447e+00,  2.63926562e+00,  2.68109678e+00,\n",
       "         2.72292793e+00,  2.76475909e+00,  2.80659024e+00,  2.84842140e+00,\n",
       "         2.89025255e+00,  2.93208371e+00,  2.97391486e+00,  3.01574602e+00,\n",
       "         3.05757717e+00,  3.09940833e+00,  3.14123948e+00,  3.18307064e+00,\n",
       "         3.22490179e+00,  3.26673295e+00,  3.30856410e+00,  3.35039526e+00,\n",
       "         3.39222641e+00,  3.43405757e+00,  3.47588872e+00,  3.51771988e+00,\n",
       "         3.55955103e+00,  3.60138219e+00,  3.64321334e+00,  3.68504450e+00,\n",
       "         3.72687565e+00,  3.76870681e+00,  3.81053796e+00,  3.85236912e+00,\n",
       "         3.89420027e+00,  3.93603143e+00,  3.97786258e+00,  4.01969374e+00,\n",
       "         4.06152489e+00,  4.10335605e+00,  4.14518720e+00,  4.18701836e+00,\n",
       "         4.22884951e+00]),\n",
       " <BarContainer object of 200 artists>)"
      ]
     },
     "execution_count": 14,
     "metadata": {},
     "output_type": "execute_result"
    },
    {
     "data": {
      "image/png": "[encoded data removed]",
      "text/plain": [
       "<Figure size 640x480 with 1 Axes>"
      ]
     },
     "metadata": {},
     "output_type": "display_data"
    }
   ],
   "source": [
    "B = np.random.randn(100000)\n",
    "plt.hist(B, bins = 200)"
   ]
  },
  {
   "cell_type": "code",
   "execution_count": 15,
   "metadata": {},
   "outputs": [],
   "source": [
    "C = np.random.rand(2, 3)"
   ]
  },
  {
   "cell_type": "code",
   "execution_count": 16,
   "metadata": {},
   "outputs": [
    {
     "data": {
      "text/plain": [
       "array([[0.65793648, 0.42646987, 0.13901649],\n",
       "       [0.5792693 , 0.68256274, 0.96050186]])"
      ]
     },
     "execution_count": 16,
     "metadata": {},
     "output_type": "execute_result"
    }
   ],
   "source": [
    "C"
   ]
  },
  {
   "cell_type": "code",
   "execution_count": 17,
   "metadata": {},
   "outputs": [
    {
     "data": {
      "text/plain": [
       "2"
      ]
     },
     "execution_count": 17,
     "metadata": {},
     "output_type": "execute_result"
    }
   ],
   "source": [
    "C.ndim"
   ]
  },
  {
   "cell_type": "code",
   "execution_count": 18,
   "metadata": {},
   "outputs": [],
   "source": [
    "C = np.random.rand(2, 3, 4, 2)"
   ]
  },
  {
   "cell_type": "code",
   "execution_count": 19,
   "metadata": {},
   "outputs": [
    {
     "data": {
      "text/plain": [
       "4"
      ]
     },
     "execution_count": 19,
     "metadata": {},
     "output_type": "execute_result"
    }
   ],
   "source": [
    "C.ndim"
   ]
  },
  {
   "cell_type": "code",
   "execution_count": 20,
   "metadata": {},
   "outputs": [],
   "source": [
    "D = np.arange(100).reshape(4, 25)"
   ]
  },
  {
   "cell_type": "code",
   "execution_count": 21,
   "metadata": {},
   "outputs": [
    {
     "data": {
      "text/plain": [
       "(4, 25)"
      ]
     },
     "execution_count": 21,
     "metadata": {},
     "output_type": "execute_result"
    }
   ],
   "source": [
    "D.shape"
   ]
  },
  {
   "cell_type": "code",
   "execution_count": 22,
   "metadata": {},
   "outputs": [],
   "source": [
    "A = np.arange(100)"
   ]
  },
  {
   "cell_type": "code",
   "execution_count": 23,
   "metadata": {},
   "outputs": [
    {
     "name": "stdout",
     "output_type": "stream",
     "text": [
      "[3 4 5 6 7 8 9]\n"
     ]
    }
   ],
   "source": [
    "b = A[3:10]\n",
    "print(b)"
   ]
  },
  {
   "cell_type": "code",
   "execution_count": 24,
   "metadata": {},
   "outputs": [],
   "source": [
    "b[0] = -1200\n"
   ]
  },
  {
   "cell_type": "code",
   "execution_count": 25,
   "metadata": {},
   "outputs": [
    {
     "data": {
      "text/plain": [
       "array([-1200,     4,     5,     6,     7,     8,     9])"
      ]
     },
     "execution_count": 25,
     "metadata": {},
     "output_type": "execute_result"
    }
   ],
   "source": [
    "b"
   ]
  },
  {
   "cell_type": "code",
   "execution_count": 26,
   "metadata": {},
   "outputs": [
    {
     "data": {
      "text/plain": [
       "array([    0,     1,     2, -1200,     4,     5,     6,     7,     8,\n",
       "           9,    10,    11,    12,    13,    14,    15,    16,    17,\n",
       "          18,    19,    20,    21,    22,    23,    24,    25,    26,\n",
       "          27,    28,    29,    30,    31,    32,    33,    34,    35,\n",
       "          36,    37,    38,    39,    40,    41,    42,    43,    44,\n",
       "          45,    46,    47,    48,    49,    50,    51,    52,    53,\n",
       "          54,    55,    56,    57,    58,    59,    60,    61,    62,\n",
       "          63,    64,    65,    66,    67,    68,    69,    70,    71,\n",
       "          72,    73,    74,    75,    76,    77,    78,    79,    80,\n",
       "          81,    82,    83,    84,    85,    86,    87,    88,    89,\n",
       "          90,    91,    92,    93,    94,    95,    96,    97,    98,\n",
       "          99])"
      ]
     },
     "execution_count": 26,
     "metadata": {},
     "output_type": "execute_result"
    }
   ],
   "source": [
    "A"
   ]
  },
  {
   "cell_type": "code",
   "execution_count": 27,
   "metadata": {},
   "outputs": [],
   "source": [
    "b = A[3:10].copy()"
   ]
  },
  {
   "cell_type": "code",
   "execution_count": 28,
   "metadata": {},
   "outputs": [
    {
     "data": {
      "text/plain": [
       "array([ 0,  5, 10, 15, 20, 25, 30, 35, 40, 45, 50, 55, 60, 65, 70, 75, 80,\n",
       "       85, 90, 95])"
      ]
     },
     "execution_count": 28,
     "metadata": {},
     "output_type": "execute_result"
    }
   ],
   "source": [
    "A[::5]"
   ]
  },
  {
   "cell_type": "code",
   "execution_count": 29,
   "metadata": {},
   "outputs": [
    {
     "data": {
      "text/plain": [
       "array([99, 94, 89, 84, 79, 74, 69, 64, 59, 54, 49, 44, 39, 34, 29, 24, 19,\n",
       "       14,  9,  4])"
      ]
     },
     "execution_count": 29,
     "metadata": {},
     "output_type": "execute_result"
    }
   ],
   "source": [
    "A[::-5]"
   ]
  },
  {
   "cell_type": "code",
   "execution_count": 30,
   "metadata": {},
   "outputs": [
    {
     "data": {
      "text/plain": [
       "array([   99,    98,    97,    96,    95,    94,    93,    92,    91,\n",
       "          90,    89,    88,    87,    86,    85,    84,    83,    82,\n",
       "          81,    80,    79,    78,    77,    76,    75,    74,    73,\n",
       "          72,    71,    70,    69,    68,    67,    66,    65,    64,\n",
       "          63,    62,    61,    60,    59,    58,    57,    56,    55,\n",
       "          54,    53,    52,    51,    50,    49,    48,    47,    46,\n",
       "          45,    44,    43,    42,    41,    40,    39,    38,    37,\n",
       "          36,    35,    34,    33,    32,    31,    30,    29,    28,\n",
       "          27,    26,    25,    24,    23,    22,    21,    20,    19,\n",
       "          18,    17,    16,    15,    14,    13,    12,    11,    10,\n",
       "           9,     8,     7,     6,     5,     4, -1200,     2,     1,\n",
       "           0])"
      ]
     },
     "execution_count": 30,
     "metadata": {},
     "output_type": "execute_result"
    }
   ],
   "source": [
    "A[::-1]"
   ]
  },
  {
   "cell_type": "code",
   "execution_count": 31,
   "metadata": {},
   "outputs": [],
   "source": [
    "B = (A == -1200) * np.arange(A.size)"
   ]
  },
  {
   "cell_type": "code",
   "execution_count": 32,
   "metadata": {},
   "outputs": [
    {
     "data": {
      "text/plain": [
       "array([    0,     1,     2, -1200,     4,     5,     6,     7,     8,\n",
       "           9,    10,    11,    12,    13,    14,    15,    16,    17,\n",
       "          18,    19,    20,    21,    22,    23,    24,    25,    26,\n",
       "          27,    28,    29,    30,    31,    32,    33,    34,    35,\n",
       "          36,    37,    38,    39,    40,    41,    42,    43,    44,\n",
       "          45,    46,    47,    48,    49,    50,    51,    52,    53,\n",
       "          54,    55,    56,    57,    58,    59,    60,    61,    62,\n",
       "          63,    64,    65,    66,    67,    68,    69,    70,    71,\n",
       "          72,    73,    74,    75,    76,    77,    78,    79,    80,\n",
       "          81,    82,    83,    84,    85,    86,    87,    88,    89,\n",
       "          90,    91,    92,    93,    94,    95,    96,    97,    98,\n",
       "          99])"
      ]
     },
     "execution_count": 32,
     "metadata": {},
     "output_type": "execute_result"
    }
   ],
   "source": [
    "A"
   ]
  },
  {
   "cell_type": "code",
   "execution_count": 33,
   "metadata": {},
   "outputs": [],
   "source": [
    "idx = np.argwhere(A == -1200)[0][0]"
   ]
  },
  {
   "cell_type": "code",
   "execution_count": 34,
   "metadata": {},
   "outputs": [
    {
     "data": {
      "text/plain": [
       "3"
      ]
     },
     "execution_count": 34,
     "metadata": {},
     "output_type": "execute_result"
    }
   ],
   "source": [
    "idx"
   ]
  },
  {
   "cell_type": "code",
   "execution_count": 35,
   "metadata": {},
   "outputs": [],
   "source": [
    "A[idx] = 3 "
   ]
  },
  {
   "cell_type": "code",
   "execution_count": 36,
   "metadata": {},
   "outputs": [
    {
     "data": {
      "text/plain": [
       "array([ 0,  1,  2,  3,  4,  5,  6,  7,  8,  9, 10, 11, 12, 13, 14, 15, 16,\n",
       "       17, 18, 19, 20, 21, 22, 23, 24, 25, 26, 27, 28, 29, 30, 31, 32, 33,\n",
       "       34, 35, 36, 37, 38, 39, 40, 41, 42, 43, 44, 45, 46, 47, 48, 49, 50,\n",
       "       51, 52, 53, 54, 55, 56, 57, 58, 59, 60, 61, 62, 63, 64, 65, 66, 67,\n",
       "       68, 69, 70, 71, 72, 73, 74, 75, 76, 77, 78, 79, 80, 81, 82, 83, 84,\n",
       "       85, 86, 87, 88, 89, 90, 91, 92, 93, 94, 95, 96, 97, 98, 99])"
      ]
     },
     "execution_count": 36,
     "metadata": {},
     "output_type": "execute_result"
    }
   ],
   "source": [
    "A"
   ]
  },
  {
   "cell_type": "code",
   "execution_count": 37,
   "metadata": {},
   "outputs": [],
   "source": [
    "A = np.round(10 * np.random.rand(5, 4))"
   ]
  },
  {
   "cell_type": "code",
   "execution_count": 38,
   "metadata": {},
   "outputs": [
    {
     "data": {
      "text/plain": [
       "array([[ 6.,  4.,  6.,  6.],\n",
       "       [ 8.,  7.,  1., 10.],\n",
       "       [ 2.,  6.,  1.,  9.],\n",
       "       [ 4.,  1.,  3.,  3.],\n",
       "       [ 9.,  5.,  1.,  9.]])"
      ]
     },
     "execution_count": 38,
     "metadata": {},
     "output_type": "execute_result"
    }
   ],
   "source": [
    "A"
   ]
  },
  {
   "cell_type": "code",
   "execution_count": 39,
   "metadata": {},
   "outputs": [
    {
     "data": {
      "text/plain": [
       "1.0"
      ]
     },
     "execution_count": 39,
     "metadata": {},
     "output_type": "execute_result"
    }
   ],
   "source": [
    "A[1,2]"
   ]
  },
  {
   "cell_type": "code",
   "execution_count": 40,
   "metadata": {},
   "outputs": [
    {
     "data": {
      "text/plain": [
       "array([ 8.,  7.,  1., 10.])"
      ]
     },
     "execution_count": 40,
     "metadata": {},
     "output_type": "execute_result"
    }
   ],
   "source": [
    "A[1,:]"
   ]
  },
  {
   "cell_type": "code",
   "execution_count": 41,
   "metadata": {},
   "outputs": [
    {
     "data": {
      "text/plain": [
       "array([4., 7., 6., 1., 5.])"
      ]
     },
     "execution_count": 41,
     "metadata": {},
     "output_type": "execute_result"
    }
   ],
   "source": [
    "A[:,1]"
   ]
  },
  {
   "cell_type": "code",
   "execution_count": 42,
   "metadata": {},
   "outputs": [
    {
     "data": {
      "text/plain": [
       "array([[ 1., 10.],\n",
       "       [ 1.,  9.]])"
      ]
     },
     "execution_count": 42,
     "metadata": {},
     "output_type": "execute_result"
    }
   ],
   "source": [
    "A[1:3,2:4]"
   ]
  },
  {
   "cell_type": "code",
   "execution_count": 43,
   "metadata": {},
   "outputs": [
    {
     "data": {
      "text/plain": [
       "<function ndarray.transpose>"
      ]
     },
     "execution_count": 43,
     "metadata": {},
     "output_type": "execute_result"
    }
   ],
   "source": [
    "A.transpose"
   ]
  },
  {
   "cell_type": "code",
   "execution_count": 44,
   "metadata": {},
   "outputs": [
    {
     "data": {
      "text/plain": [
       "array([[ 6.,  8.,  2.,  4.,  9.],\n",
       "       [ 4.,  7.,  6.,  1.,  5.],\n",
       "       [ 6.,  1.,  1.,  3.,  1.],\n",
       "       [ 6., 10.,  9.,  3.,  9.]])"
      ]
     },
     "execution_count": 44,
     "metadata": {},
     "output_type": "execute_result"
    }
   ],
   "source": [
    "A.T"
   ]
  },
  {
   "cell_type": "code",
   "execution_count": 45,
   "metadata": {},
   "outputs": [],
   "source": [
    "import numpy.linalg as la"
   ]
  },
  {
   "cell_type": "code",
   "execution_count": 46,
   "metadata": {},
   "outputs": [
    {
     "data": {
      "text/plain": [
       "array([[ 4.52207511, -2.40395871, -2.12311061],\n",
       "       [-5.07555308,  4.35240833,  2.08181304],\n",
       "       [ 6.51044821, -5.7900693 , -1.17715235]])"
      ]
     },
     "execution_count": 46,
     "metadata": {},
     "output_type": "execute_result"
    }
   ],
   "source": [
    "la.inv(np.random.rand(3,3))"
   ]
  },
  {
   "cell_type": "code",
   "execution_count": 47,
   "metadata": {},
   "outputs": [
    {
     "data": {
      "text/plain": [
       "array([[ 6.,  4.,  6.,  6.],\n",
       "       [ 8.,  7.,  1., 10.],\n",
       "       [ 2.,  6.,  1.,  9.],\n",
       "       [ 4.,  1.,  3.,  3.],\n",
       "       [ 9.,  5.,  1.,  9.]])"
      ]
     },
     "execution_count": 47,
     "metadata": {},
     "output_type": "execute_result"
    }
   ],
   "source": [
    "A"
   ]
  },
  {
   "cell_type": "code",
   "execution_count": 48,
   "metadata": {},
   "outputs": [],
   "source": [
    "A.sort(axis = 0)"
   ]
  },
  {
   "cell_type": "code",
   "execution_count": 49,
   "metadata": {},
   "outputs": [
    {
     "data": {
      "text/plain": [
       "array([[ 2.,  1.,  1.,  3.],\n",
       "       [ 4.,  4.,  1.,  6.],\n",
       "       [ 6.,  5.,  1.,  9.],\n",
       "       [ 8.,  6.,  3.,  9.],\n",
       "       [ 9.,  7.,  6., 10.]])"
      ]
     },
     "execution_count": 49,
     "metadata": {},
     "output_type": "execute_result"
    }
   ],
   "source": [
    "A"
   ]
  },
  {
   "cell_type": "code",
   "execution_count": 50,
   "metadata": {},
   "outputs": [],
   "source": [
    "A.sort(axis=1)"
   ]
  },
  {
   "cell_type": "code",
   "execution_count": 51,
   "metadata": {},
   "outputs": [
    {
     "data": {
      "text/plain": [
       "array([[ 1.,  1.,  2.,  3.],\n",
       "       [ 1.,  4.,  4.,  6.],\n",
       "       [ 1.,  5.,  6.,  9.],\n",
       "       [ 3.,  6.,  8.,  9.],\n",
       "       [ 6.,  7.,  9., 10.]])"
      ]
     },
     "execution_count": 51,
     "metadata": {},
     "output_type": "execute_result"
    }
   ],
   "source": [
    "A"
   ]
  },
  {
   "cell_type": "code",
   "execution_count": 52,
   "metadata": {},
   "outputs": [],
   "source": [
    "A = np.round(10*np.random.rand(2, 3))"
   ]
  },
  {
   "cell_type": "code",
   "execution_count": 53,
   "metadata": {},
   "outputs": [
    {
     "data": {
      "text/plain": [
       "array([[10.,  4.,  8.],\n",
       "       [10.,  6.,  7.]])"
      ]
     },
     "execution_count": 53,
     "metadata": {},
     "output_type": "execute_result"
    }
   ],
   "source": [
    "A + 3"
   ]
  },
  {
   "cell_type": "code",
   "execution_count": 54,
   "metadata": {},
   "outputs": [
    {
     "data": {
      "text/plain": [
       "array([[7., 1., 5.],\n",
       "       [8., 4., 5.]])"
      ]
     },
     "execution_count": 54,
     "metadata": {},
     "output_type": "execute_result"
    }
   ],
   "source": [
    "A + (np.arange(2).reshape(2, 1))"
   ]
  },
  {
   "cell_type": "code",
   "execution_count": 55,
   "metadata": {},
   "outputs": [
    {
     "data": {
      "text/plain": [
       "array([[7., 1., 5.],\n",
       "       [7., 3., 4.]])"
      ]
     },
     "execution_count": 55,
     "metadata": {},
     "output_type": "execute_result"
    }
   ],
   "source": [
    "A"
   ]
  },
  {
   "cell_type": "code",
   "execution_count": 56,
   "metadata": {},
   "outputs": [],
   "source": [
    "B = np.round(10*np.random.rand(2, 2))"
   ]
  },
  {
   "cell_type": "code",
   "execution_count": 57,
   "metadata": {},
   "outputs": [
    {
     "data": {
      "text/plain": [
       "array([[1., 2.],\n",
       "       [8., 4.]])"
      ]
     },
     "execution_count": 57,
     "metadata": {},
     "output_type": "execute_result"
    }
   ],
   "source": [
    "B"
   ]
  },
  {
   "cell_type": "code",
   "execution_count": 58,
   "metadata": {},
   "outputs": [],
   "source": [
    "C = np.hstack((A, B))"
   ]
  },
  {
   "cell_type": "code",
   "execution_count": 59,
   "metadata": {},
   "outputs": [
    {
     "data": {
      "text/plain": [
       "array([[7., 1., 5., 1., 2.],\n",
       "       [7., 3., 4., 8., 4.]])"
      ]
     },
     "execution_count": 59,
     "metadata": {},
     "output_type": "execute_result"
    }
   ],
   "source": [
    "C"
   ]
  },
  {
   "cell_type": "code",
   "execution_count": 60,
   "metadata": {},
   "outputs": [],
   "source": [
    "A = np.random.permutation(np.arange(10))"
   ]
  },
  {
   "cell_type": "code",
   "execution_count": 61,
   "metadata": {},
   "outputs": [
    {
     "data": {
      "text/plain": [
       "array([9, 5, 2, 4, 0, 7, 8, 3, 1, 6])"
      ]
     },
     "execution_count": 61,
     "metadata": {},
     "output_type": "execute_result"
    }
   ],
   "source": [
    "A"
   ]
  },
  {
   "cell_type": "code",
   "execution_count": 62,
   "metadata": {},
   "outputs": [],
   "source": [
    "A.sort()"
   ]
  },
  {
   "cell_type": "code",
   "execution_count": 63,
   "metadata": {},
   "outputs": [
    {
     "data": {
      "text/plain": [
       "array([0, 1, 2, 3, 4, 5, 6, 7, 8, 9])"
      ]
     },
     "execution_count": 63,
     "metadata": {},
     "output_type": "execute_result"
    }
   ],
   "source": [
    "A"
   ]
  },
  {
   "cell_type": "code",
   "execution_count": 64,
   "metadata": {},
   "outputs": [
    {
     "data": {
      "text/plain": [
       "array([0, 1, 2, 3, 4, 5, 6, 7, 8, 9])"
      ]
     },
     "execution_count": 64,
     "metadata": {},
     "output_type": "execute_result"
    }
   ],
   "source": [
    "np.sort(A)"
   ]
  },
  {
   "cell_type": "code",
   "execution_count": 65,
   "metadata": {},
   "outputs": [],
   "source": [
    "A.sort()"
   ]
  },
  {
   "cell_type": "code",
   "execution_count": 66,
   "metadata": {},
   "outputs": [],
   "source": [
    "A = A[::-1]"
   ]
  },
  {
   "cell_type": "code",
   "execution_count": 67,
   "metadata": {},
   "outputs": [
    {
     "data": {
      "text/plain": [
       "array([9, 8, 7, 6, 5, 4, 3, 2, 1, 0])"
      ]
     },
     "execution_count": 67,
     "metadata": {},
     "output_type": "execute_result"
    }
   ],
   "source": [
    "A"
   ]
  },
  {
   "cell_type": "code",
   "execution_count": 68,
   "metadata": {},
   "outputs": [],
   "source": [
    "A = np.array([\"abc\", 'how are you', 'u765', '13er'])"
   ]
  },
  {
   "cell_type": "code",
   "execution_count": 69,
   "metadata": {},
   "outputs": [],
   "source": [
    "A.sort()"
   ]
  },
  {
   "cell_type": "code",
   "execution_count": 70,
   "metadata": {},
   "outputs": [
    {
     "data": {
      "text/plain": [
       "array(['13er', 'abc', 'how are you', 'u765'], dtype='<U11')"
      ]
     },
     "execution_count": 70,
     "metadata": {},
     "output_type": "execute_result"
    }
   ],
   "source": [
    "A"
   ]
  },
  {
   "cell_type": "code",
   "execution_count": 71,
   "metadata": {},
   "outputs": [],
   "source": [
    "b = np.random.rand(1000000)"
   ]
  },
  {
   "cell_type": "code",
   "execution_count": 72,
   "metadata": {},
   "outputs": [
    {
     "name": "stdout",
     "output_type": "stream",
     "text": [
      "37.7 ms ± 1.36 ms per loop (mean ± std. dev. of 7 runs, 10 loops each)\n"
     ]
    }
   ],
   "source": [
    "%timeit sum(b)"
   ]
  },
  {
   "cell_type": "code",
   "execution_count": 73,
   "metadata": {},
   "outputs": [
    {
     "name": "stdout",
     "output_type": "stream",
     "text": [
      "270 µs ± 12.8 µs per loop (mean ± std. dev. of 7 runs, 1,000 loops each)\n"
     ]
    }
   ],
   "source": [
    "%timeit np.sum(b)"
   ]
  },
  {
   "cell_type": "code",
   "execution_count": 74,
   "metadata": {},
   "outputs": [],
   "source": [
    "import pandas as pd"
   ]
  },
  {
   "cell_type": "code",
   "execution_count": 75,
   "metadata": {},
   "outputs": [],
   "source": [
    "data = pd.Series([0.25, 0.5, 0.75, 1.0], index = ['a', 'b', 'c', 'd'])"
   ]
  },
  {
   "cell_type": "code",
   "execution_count": 76,
   "metadata": {},
   "outputs": [
    {
     "data": {
      "text/plain": [
       "array([0.25, 0.5 , 0.75, 1.  ])"
      ]
     },
     "execution_count": 76,
     "metadata": {},
     "output_type": "execute_result"
    }
   ],
   "source": [
    "data.values"
   ]
  },
  {
   "cell_type": "code",
   "execution_count": 77,
   "metadata": {},
   "outputs": [
    {
     "data": {
      "text/plain": [
       "Index(['a', 'b', 'c', 'd'], dtype='object')"
      ]
     },
     "execution_count": 77,
     "metadata": {},
     "output_type": "execute_result"
    }
   ],
   "source": [
    "data.index"
   ]
  },
  {
   "cell_type": "code",
   "execution_count": 78,
   "metadata": {},
   "outputs": [
    {
     "name": "stdout",
     "output_type": "stream",
     "text": [
      "2.1.2\n"
     ]
    }
   ],
   "source": [
    "print(pd.__version__)"
   ]
  },
  {
   "cell_type": "code",
   "execution_count": 79,
   "metadata": {},
   "outputs": [],
   "source": [
    "A = pd.Series([2, 3, 4, 5], index = ['a', 'b', 'c', 'd'])"
   ]
  },
  {
   "cell_type": "code",
   "execution_count": 80,
   "metadata": {},
   "outputs": [
    {
     "data": {
      "text/plain": [
       "numpy.ndarray"
      ]
     },
     "execution_count": 80,
     "metadata": {},
     "output_type": "execute_result"
    }
   ],
   "source": [
    "type(A.values)"
   ]
  },
  {
   "cell_type": "code",
   "execution_count": 81,
   "metadata": {},
   "outputs": [
    {
     "data": {
      "text/plain": [
       "pandas.core.series.Series"
      ]
     },
     "execution_count": 81,
     "metadata": {},
     "output_type": "execute_result"
    }
   ],
   "source": [
    "type(A)"
   ]
  },
  {
   "cell_type": "code",
   "execution_count": 82,
   "metadata": {},
   "outputs": [
    {
     "data": {
      "text/plain": [
       "Index(['a', 'b', 'c', 'd'], dtype='object')"
      ]
     },
     "execution_count": 82,
     "metadata": {},
     "output_type": "execute_result"
    }
   ],
   "source": [
    "A.index"
   ]
  },
  {
   "cell_type": "code",
   "execution_count": 83,
   "metadata": {},
   "outputs": [
    {
     "data": {
      "text/plain": [
       "2"
      ]
     },
     "execution_count": 83,
     "metadata": {},
     "output_type": "execute_result"
    }
   ],
   "source": [
    "A['a']"
   ]
  },
  {
   "cell_type": "code",
   "execution_count": 84,
   "metadata": {},
   "outputs": [
    {
     "data": {
      "text/plain": [
       "a    2\n",
       "b    3\n",
       "c    4\n",
       "dtype: int64"
      ]
     },
     "execution_count": 84,
     "metadata": {},
     "output_type": "execute_result"
    }
   ],
   "source": [
    "A['a':'c']"
   ]
  },
  {
   "cell_type": "code",
   "execution_count": 85,
   "metadata": {},
   "outputs": [],
   "source": [
    "grades_dict = {'A':4, 'B':3.5, 'C':3, 'D':2.5}\n",
    "grades = pd.Series(grades_dict)"
   ]
  },
  {
   "cell_type": "code",
   "execution_count": 86,
   "metadata": {},
   "outputs": [
    {
     "data": {
      "text/plain": [
       "array([4. , 3.5, 3. , 2.5])"
      ]
     },
     "execution_count": 86,
     "metadata": {},
     "output_type": "execute_result"
    }
   ],
   "source": [
    "grades.values"
   ]
  },
  {
   "cell_type": "code",
   "execution_count": 87,
   "metadata": {},
   "outputs": [],
   "source": [
    "marks_dict = {'A': 85, 'B': 75, 'C': 65, 'D': 55}\n",
    "marks = pd.Series(marks_dict)"
   ]
  },
  {
   "cell_type": "code",
   "execution_count": 88,
   "metadata": {},
   "outputs": [
    {
     "data": {
      "text/plain": [
       "A    85\n",
       "B    75\n",
       "C    65\n",
       "D    55\n",
       "dtype: int64"
      ]
     },
     "execution_count": 88,
     "metadata": {},
     "output_type": "execute_result"
    }
   ],
   "source": [
    "marks"
   ]
  },
  {
   "cell_type": "code",
   "execution_count": 89,
   "metadata": {},
   "outputs": [
    {
     "data": {
      "text/plain": [
       "85"
      ]
     },
     "execution_count": 89,
     "metadata": {},
     "output_type": "execute_result"
    }
   ],
   "source": [
    "marks['A']"
   ]
  },
  {
   "cell_type": "code",
   "execution_count": 90,
   "metadata": {},
   "outputs": [
    {
     "data": {
      "text/plain": [
       "A    85\n",
       "B    75\n",
       "dtype: int64"
      ]
     },
     "execution_count": 90,
     "metadata": {},
     "output_type": "execute_result"
    }
   ],
   "source": [
    "marks[0:2]"
   ]
  },
  {
   "cell_type": "code",
   "execution_count": 91,
   "metadata": {},
   "outputs": [
    {
     "data": {
      "text/plain": [
       "A    85\n",
       "B    75\n",
       "C    65\n",
       "D    55\n",
       "dtype: int64"
      ]
     },
     "execution_count": 91,
     "metadata": {},
     "output_type": "execute_result"
    }
   ],
   "source": [
    "marks"
   ]
  },
  {
   "cell_type": "code",
   "execution_count": 92,
   "metadata": {},
   "outputs": [
    {
     "data": {
      "text/plain": [
       "A    4.0\n",
       "B    3.5\n",
       "C    3.0\n",
       "D    2.5\n",
       "dtype: float64"
      ]
     },
     "execution_count": 92,
     "metadata": {},
     "output_type": "execute_result"
    }
   ],
   "source": [
    "grades"
   ]
  },
  {
   "cell_type": "code",
   "execution_count": 93,
   "metadata": {},
   "outputs": [],
   "source": [
    "D = pd.DataFrame({'Marks':marks, 'Grades':grades})"
   ]
  },
  {
   "cell_type": "code",
   "execution_count": 94,
   "metadata": {},
   "outputs": [
    {
     "data": {
      "text/html": [
       "<div>\n",
       "<style scoped>\n",
       "    .dataframe tbody tr th:only-of-type {\n",
       "        vertical-align: middle;\n",
       "    }\n",
       "\n",
       "    .dataframe tbody tr th {\n",
       "        vertical-align: top;\n",
       "    }\n",
       "\n",
       "    .dataframe thead th {\n",
       "        text-align: right;\n",
       "    }\n",
       "</style>\n",
       "<table border=\"1\" class=\"dataframe\">\n",
       "  <thead>\n",
       "    <tr style=\"text-align: right;\">\n",
       "      <th></th>\n",
       "      <th>Marks</th>\n",
       "      <th>Grades</th>\n",
       "    </tr>\n",
       "  </thead>\n",
       "  <tbody>\n",
       "    <tr>\n",
       "      <th>A</th>\n",
       "      <td>85</td>\n",
       "      <td>4.0</td>\n",
       "    </tr>\n",
       "    <tr>\n",
       "      <th>B</th>\n",
       "      <td>75</td>\n",
       "      <td>3.5</td>\n",
       "    </tr>\n",
       "    <tr>\n",
       "      <th>C</th>\n",
       "      <td>65</td>\n",
       "      <td>3.0</td>\n",
       "    </tr>\n",
       "    <tr>\n",
       "      <th>D</th>\n",
       "      <td>55</td>\n",
       "      <td>2.5</td>\n",
       "    </tr>\n",
       "  </tbody>\n",
       "</table>\n",
       "</div>"
      ],
      "text/plain": [
       "   Marks  Grades\n",
       "A     85     4.0\n",
       "B     75     3.5\n",
       "C     65     3.0\n",
       "D     55     2.5"
      ]
     },
     "execution_count": 94,
     "metadata": {},
     "output_type": "execute_result"
    }
   ],
   "source": [
    "D"
   ]
  },
  {
   "cell_type": "code",
   "execution_count": 95,
   "metadata": {},
   "outputs": [
    {
     "data": {
      "text/html": [
       "<div>\n",
       "<style scoped>\n",
       "    .dataframe tbody tr th:only-of-type {\n",
       "        vertical-align: middle;\n",
       "    }\n",
       "\n",
       "    .dataframe tbody tr th {\n",
       "        vertical-align: top;\n",
       "    }\n",
       "\n",
       "    .dataframe thead th {\n",
       "        text-align: right;\n",
       "    }\n",
       "</style>\n",
       "<table border=\"1\" class=\"dataframe\">\n",
       "  <thead>\n",
       "    <tr style=\"text-align: right;\">\n",
       "      <th></th>\n",
       "      <th>A</th>\n",
       "      <th>B</th>\n",
       "      <th>C</th>\n",
       "      <th>D</th>\n",
       "    </tr>\n",
       "  </thead>\n",
       "  <tbody>\n",
       "    <tr>\n",
       "      <th>Marks</th>\n",
       "      <td>85.0</td>\n",
       "      <td>75.0</td>\n",
       "      <td>65.0</td>\n",
       "      <td>55.0</td>\n",
       "    </tr>\n",
       "    <tr>\n",
       "      <th>Grades</th>\n",
       "      <td>4.0</td>\n",
       "      <td>3.5</td>\n",
       "      <td>3.0</td>\n",
       "      <td>2.5</td>\n",
       "    </tr>\n",
       "  </tbody>\n",
       "</table>\n",
       "</div>"
      ],
      "text/plain": [
       "           A     B     C     D\n",
       "Marks   85.0  75.0  65.0  55.0\n",
       "Grades   4.0   3.5   3.0   2.5"
      ]
     },
     "execution_count": 95,
     "metadata": {},
     "output_type": "execute_result"
    }
   ],
   "source": [
    "D.T"
   ]
  },
  {
   "cell_type": "code",
   "execution_count": 96,
   "metadata": {},
   "outputs": [
    {
     "data": {
      "text/html": [
       "<div>\n",
       "<style scoped>\n",
       "    .dataframe tbody tr th:only-of-type {\n",
       "        vertical-align: middle;\n",
       "    }\n",
       "\n",
       "    .dataframe tbody tr th {\n",
       "        vertical-align: top;\n",
       "    }\n",
       "\n",
       "    .dataframe thead th {\n",
       "        text-align: right;\n",
       "    }\n",
       "</style>\n",
       "<table border=\"1\" class=\"dataframe\">\n",
       "  <thead>\n",
       "    <tr style=\"text-align: right;\">\n",
       "      <th></th>\n",
       "      <th>Marks</th>\n",
       "      <th>Grades</th>\n",
       "    </tr>\n",
       "  </thead>\n",
       "  <tbody>\n",
       "    <tr>\n",
       "      <th>A</th>\n",
       "      <td>85</td>\n",
       "      <td>4.0</td>\n",
       "    </tr>\n",
       "    <tr>\n",
       "      <th>B</th>\n",
       "      <td>75</td>\n",
       "      <td>3.5</td>\n",
       "    </tr>\n",
       "    <tr>\n",
       "      <th>C</th>\n",
       "      <td>65</td>\n",
       "      <td>3.0</td>\n",
       "    </tr>\n",
       "    <tr>\n",
       "      <th>D</th>\n",
       "      <td>55</td>\n",
       "      <td>2.5</td>\n",
       "    </tr>\n",
       "  </tbody>\n",
       "</table>\n",
       "</div>"
      ],
      "text/plain": [
       "   Marks  Grades\n",
       "A     85     4.0\n",
       "B     75     3.5\n",
       "C     65     3.0\n",
       "D     55     2.5"
      ]
     },
     "execution_count": 96,
     "metadata": {},
     "output_type": "execute_result"
    }
   ],
   "source": [
    "D"
   ]
  },
  {
   "cell_type": "code",
   "execution_count": 97,
   "metadata": {},
   "outputs": [
    {
     "data": {
      "text/plain": [
       "array([[85. ,  4. ],\n",
       "       [75. ,  3.5],\n",
       "       [65. ,  3. ],\n",
       "       [55. ,  2.5]])"
      ]
     },
     "execution_count": 97,
     "metadata": {},
     "output_type": "execute_result"
    }
   ],
   "source": [
    "D.values"
   ]
  },
  {
   "cell_type": "code",
   "execution_count": 98,
   "metadata": {},
   "outputs": [
    {
     "data": {
      "text/plain": [
       "65.0"
      ]
     },
     "execution_count": 98,
     "metadata": {},
     "output_type": "execute_result"
    }
   ],
   "source": [
    "D.values[2, 0]"
   ]
  },
  {
   "cell_type": "code",
   "execution_count": 99,
   "metadata": {},
   "outputs": [
    {
     "data": {
      "text/plain": [
       "Index(['Marks', 'Grades'], dtype='object')"
      ]
     },
     "execution_count": 99,
     "metadata": {},
     "output_type": "execute_result"
    }
   ],
   "source": [
    "D.columns"
   ]
  },
  {
   "cell_type": "code",
   "execution_count": 100,
   "metadata": {},
   "outputs": [
    {
     "data": {
      "text/html": [
       "<div>\n",
       "<style scoped>\n",
       "    .dataframe tbody tr th:only-of-type {\n",
       "        vertical-align: middle;\n",
       "    }\n",
       "\n",
       "    .dataframe tbody tr th {\n",
       "        vertical-align: top;\n",
       "    }\n",
       "\n",
       "    .dataframe thead th {\n",
       "        text-align: right;\n",
       "    }\n",
       "</style>\n",
       "<table border=\"1\" class=\"dataframe\">\n",
       "  <thead>\n",
       "    <tr style=\"text-align: right;\">\n",
       "      <th></th>\n",
       "      <th>Marks</th>\n",
       "      <th>Grades</th>\n",
       "    </tr>\n",
       "  </thead>\n",
       "  <tbody>\n",
       "    <tr>\n",
       "      <th>A</th>\n",
       "      <td>85</td>\n",
       "      <td>4.0</td>\n",
       "    </tr>\n",
       "    <tr>\n",
       "      <th>B</th>\n",
       "      <td>75</td>\n",
       "      <td>3.5</td>\n",
       "    </tr>\n",
       "    <tr>\n",
       "      <th>C</th>\n",
       "      <td>65</td>\n",
       "      <td>3.0</td>\n",
       "    </tr>\n",
       "    <tr>\n",
       "      <th>D</th>\n",
       "      <td>55</td>\n",
       "      <td>2.5</td>\n",
       "    </tr>\n",
       "  </tbody>\n",
       "</table>\n",
       "</div>"
      ],
      "text/plain": [
       "   Marks  Grades\n",
       "A     85     4.0\n",
       "B     75     3.5\n",
       "C     65     3.0\n",
       "D     55     2.5"
      ]
     },
     "execution_count": 100,
     "metadata": {},
     "output_type": "execute_result"
    }
   ],
   "source": [
    "D"
   ]
  },
  {
   "cell_type": "code",
   "execution_count": 101,
   "metadata": {},
   "outputs": [],
   "source": [
    "D['ScaledMarks'] = 100*(D['Marks']/90)"
   ]
  },
  {
   "cell_type": "code",
   "execution_count": 102,
   "metadata": {},
   "outputs": [
    {
     "data": {
      "text/html": [
       "<div>\n",
       "<style scoped>\n",
       "    .dataframe tbody tr th:only-of-type {\n",
       "        vertical-align: middle;\n",
       "    }\n",
       "\n",
       "    .dataframe tbody tr th {\n",
       "        vertical-align: top;\n",
       "    }\n",
       "\n",
       "    .dataframe thead th {\n",
       "        text-align: right;\n",
       "    }\n",
       "</style>\n",
       "<table border=\"1\" class=\"dataframe\">\n",
       "  <thead>\n",
       "    <tr style=\"text-align: right;\">\n",
       "      <th></th>\n",
       "      <th>Marks</th>\n",
       "      <th>Grades</th>\n",
       "      <th>ScaledMarks</th>\n",
       "    </tr>\n",
       "  </thead>\n",
       "  <tbody>\n",
       "    <tr>\n",
       "      <th>A</th>\n",
       "      <td>85</td>\n",
       "      <td>4.0</td>\n",
       "      <td>94.444444</td>\n",
       "    </tr>\n",
       "    <tr>\n",
       "      <th>B</th>\n",
       "      <td>75</td>\n",
       "      <td>3.5</td>\n",
       "      <td>83.333333</td>\n",
       "    </tr>\n",
       "    <tr>\n",
       "      <th>C</th>\n",
       "      <td>65</td>\n",
       "      <td>3.0</td>\n",
       "      <td>72.222222</td>\n",
       "    </tr>\n",
       "    <tr>\n",
       "      <th>D</th>\n",
       "      <td>55</td>\n",
       "      <td>2.5</td>\n",
       "      <td>61.111111</td>\n",
       "    </tr>\n",
       "  </tbody>\n",
       "</table>\n",
       "</div>"
      ],
      "text/plain": [
       "   Marks  Grades  ScaledMarks\n",
       "A     85     4.0    94.444444\n",
       "B     75     3.5    83.333333\n",
       "C     65     3.0    72.222222\n",
       "D     55     2.5    61.111111"
      ]
     },
     "execution_count": 102,
     "metadata": {},
     "output_type": "execute_result"
    }
   ],
   "source": [
    "D"
   ]
  },
  {
   "cell_type": "code",
   "execution_count": 103,
   "metadata": {},
   "outputs": [],
   "source": [
    "del D['ScaledMarks']"
   ]
  },
  {
   "cell_type": "code",
   "execution_count": 104,
   "metadata": {},
   "outputs": [
    {
     "data": {
      "text/html": [
       "<div>\n",
       "<style scoped>\n",
       "    .dataframe tbody tr th:only-of-type {\n",
       "        vertical-align: middle;\n",
       "    }\n",
       "\n",
       "    .dataframe tbody tr th {\n",
       "        vertical-align: top;\n",
       "    }\n",
       "\n",
       "    .dataframe thead th {\n",
       "        text-align: right;\n",
       "    }\n",
       "</style>\n",
       "<table border=\"1\" class=\"dataframe\">\n",
       "  <thead>\n",
       "    <tr style=\"text-align: right;\">\n",
       "      <th></th>\n",
       "      <th>Marks</th>\n",
       "      <th>Grades</th>\n",
       "    </tr>\n",
       "  </thead>\n",
       "  <tbody>\n",
       "    <tr>\n",
       "      <th>A</th>\n",
       "      <td>85</td>\n",
       "      <td>4.0</td>\n",
       "    </tr>\n",
       "    <tr>\n",
       "      <th>B</th>\n",
       "      <td>75</td>\n",
       "      <td>3.5</td>\n",
       "    </tr>\n",
       "    <tr>\n",
       "      <th>C</th>\n",
       "      <td>65</td>\n",
       "      <td>3.0</td>\n",
       "    </tr>\n",
       "    <tr>\n",
       "      <th>D</th>\n",
       "      <td>55</td>\n",
       "      <td>2.5</td>\n",
       "    </tr>\n",
       "  </tbody>\n",
       "</table>\n",
       "</div>"
      ],
      "text/plain": [
       "   Marks  Grades\n",
       "A     85     4.0\n",
       "B     75     3.5\n",
       "C     65     3.0\n",
       "D     55     2.5"
      ]
     },
     "execution_count": 104,
     "metadata": {},
     "output_type": "execute_result"
    }
   ],
   "source": [
    "D"
   ]
  },
  {
   "cell_type": "code",
   "execution_count": 105,
   "metadata": {},
   "outputs": [],
   "source": [
    "G = D[D['Marks'] > 70]"
   ]
  },
  {
   "cell_type": "code",
   "execution_count": 106,
   "metadata": {},
   "outputs": [
    {
     "data": {
      "text/html": [
       "<div>\n",
       "<style scoped>\n",
       "    .dataframe tbody tr th:only-of-type {\n",
       "        vertical-align: middle;\n",
       "    }\n",
       "\n",
       "    .dataframe tbody tr th {\n",
       "        vertical-align: top;\n",
       "    }\n",
       "\n",
       "    .dataframe thead th {\n",
       "        text-align: right;\n",
       "    }\n",
       "</style>\n",
       "<table border=\"1\" class=\"dataframe\">\n",
       "  <thead>\n",
       "    <tr style=\"text-align: right;\">\n",
       "      <th></th>\n",
       "      <th>Marks</th>\n",
       "      <th>Grades</th>\n",
       "    </tr>\n",
       "  </thead>\n",
       "  <tbody>\n",
       "    <tr>\n",
       "      <th>A</th>\n",
       "      <td>85</td>\n",
       "      <td>4.0</td>\n",
       "    </tr>\n",
       "    <tr>\n",
       "      <th>B</th>\n",
       "      <td>75</td>\n",
       "      <td>3.5</td>\n",
       "    </tr>\n",
       "  </tbody>\n",
       "</table>\n",
       "</div>"
      ],
      "text/plain": [
       "   Marks  Grades\n",
       "A     85     4.0\n",
       "B     75     3.5"
      ]
     },
     "execution_count": 106,
     "metadata": {},
     "output_type": "execute_result"
    }
   ],
   "source": [
    "G"
   ]
  },
  {
   "cell_type": "code",
   "execution_count": 107,
   "metadata": {},
   "outputs": [
    {
     "data": {
      "text/html": [
       "<div>\n",
       "<style scoped>\n",
       "    .dataframe tbody tr th:only-of-type {\n",
       "        vertical-align: middle;\n",
       "    }\n",
       "\n",
       "    .dataframe tbody tr th {\n",
       "        vertical-align: top;\n",
       "    }\n",
       "\n",
       "    .dataframe thead th {\n",
       "        text-align: right;\n",
       "    }\n",
       "</style>\n",
       "<table border=\"1\" class=\"dataframe\">\n",
       "  <thead>\n",
       "    <tr style=\"text-align: right;\">\n",
       "      <th></th>\n",
       "      <th>a</th>\n",
       "      <th>b</th>\n",
       "      <th>c</th>\n",
       "    </tr>\n",
       "  </thead>\n",
       "  <tbody>\n",
       "    <tr>\n",
       "      <th>0</th>\n",
       "      <td>1.0</td>\n",
       "      <td>2</td>\n",
       "      <td>NaN</td>\n",
       "    </tr>\n",
       "    <tr>\n",
       "      <th>1</th>\n",
       "      <td>NaN</td>\n",
       "      <td>3</td>\n",
       "      <td>4.0</td>\n",
       "    </tr>\n",
       "  </tbody>\n",
       "</table>\n",
       "</div>"
      ],
      "text/plain": [
       "     a  b    c\n",
       "0  1.0  2  NaN\n",
       "1  NaN  3  4.0"
      ]
     },
     "execution_count": 107,
     "metadata": {},
     "output_type": "execute_result"
    }
   ],
   "source": [
    "pd.DataFrame([{'a':1, 'b':2}, {'b':3, 'c':4}])"
   ]
  },
  {
   "cell_type": "code",
   "execution_count": 108,
   "metadata": {},
   "outputs": [],
   "source": [
    "A = pd.DataFrame([{'a':1, 'b':4}, {'b':-3, 'c':9}])"
   ]
  },
  {
   "cell_type": "code",
   "execution_count": 109,
   "metadata": {},
   "outputs": [
    {
     "data": {
      "text/html": [
       "<div>\n",
       "<style scoped>\n",
       "    .dataframe tbody tr th:only-of-type {\n",
       "        vertical-align: middle;\n",
       "    }\n",
       "\n",
       "    .dataframe tbody tr th {\n",
       "        vertical-align: top;\n",
       "    }\n",
       "\n",
       "    .dataframe thead th {\n",
       "        text-align: right;\n",
       "    }\n",
       "</style>\n",
       "<table border=\"1\" class=\"dataframe\">\n",
       "  <thead>\n",
       "    <tr style=\"text-align: right;\">\n",
       "      <th></th>\n",
       "      <th>a</th>\n",
       "      <th>b</th>\n",
       "      <th>c</th>\n",
       "    </tr>\n",
       "  </thead>\n",
       "  <tbody>\n",
       "    <tr>\n",
       "      <th>0</th>\n",
       "      <td>1.0</td>\n",
       "      <td>4</td>\n",
       "      <td>NaN</td>\n",
       "    </tr>\n",
       "    <tr>\n",
       "      <th>1</th>\n",
       "      <td>NaN</td>\n",
       "      <td>-3</td>\n",
       "      <td>9.0</td>\n",
       "    </tr>\n",
       "  </tbody>\n",
       "</table>\n",
       "</div>"
      ],
      "text/plain": [
       "     a  b    c\n",
       "0  1.0  4  NaN\n",
       "1  NaN -3  9.0"
      ]
     },
     "execution_count": 109,
     "metadata": {},
     "output_type": "execute_result"
    }
   ],
   "source": [
    "A"
   ]
  },
  {
   "cell_type": "code",
   "execution_count": 110,
   "metadata": {},
   "outputs": [
    {
     "data": {
      "text/html": [
       "<div>\n",
       "<style scoped>\n",
       "    .dataframe tbody tr th:only-of-type {\n",
       "        vertical-align: middle;\n",
       "    }\n",
       "\n",
       "    .dataframe tbody tr th {\n",
       "        vertical-align: top;\n",
       "    }\n",
       "\n",
       "    .dataframe thead th {\n",
       "        text-align: right;\n",
       "    }\n",
       "</style>\n",
       "<table border=\"1\" class=\"dataframe\">\n",
       "  <thead>\n",
       "    <tr style=\"text-align: right;\">\n",
       "      <th></th>\n",
       "      <th>a</th>\n",
       "      <th>b</th>\n",
       "      <th>c</th>\n",
       "    </tr>\n",
       "  </thead>\n",
       "  <tbody>\n",
       "    <tr>\n",
       "      <th>0</th>\n",
       "      <td>1.0</td>\n",
       "      <td>4</td>\n",
       "      <td>0.0</td>\n",
       "    </tr>\n",
       "    <tr>\n",
       "      <th>1</th>\n",
       "      <td>0.0</td>\n",
       "      <td>-3</td>\n",
       "      <td>9.0</td>\n",
       "    </tr>\n",
       "  </tbody>\n",
       "</table>\n",
       "</div>"
      ],
      "text/plain": [
       "     a  b    c\n",
       "0  1.0  4  0.0\n",
       "1  0.0 -3  9.0"
      ]
     },
     "execution_count": 110,
     "metadata": {},
     "output_type": "execute_result"
    }
   ],
   "source": [
    "A.fillna(0)"
   ]
  },
  {
   "cell_type": "code",
   "execution_count": 111,
   "metadata": {},
   "outputs": [
    {
     "name": "stdout",
     "output_type": "stream",
     "text": [
      "\u001b[1;31mSignature:\u001b[0m\n",
      "\u001b[0mA\u001b[0m\u001b[1;33m.\u001b[0m\u001b[0mdropna\u001b[0m\u001b[1;33m(\u001b[0m\u001b[1;33m\n",
      "\u001b[0m    \u001b[1;33m*\u001b[0m\u001b[1;33m,\u001b[0m\u001b[1;33m\n",
      "\u001b[0m    \u001b[0maxis\u001b[0m\u001b[1;33m:\u001b[0m \u001b[1;34m'Axis'\u001b[0m \u001b[1;33m=\u001b[0m \u001b[1;36m0\u001b[0m\u001b[1;33m,\u001b[0m\u001b[1;33m\n",
      "\u001b[0m    \u001b[0mhow\u001b[0m\u001b[1;33m:\u001b[0m \u001b[1;34m'AnyAll | lib.NoDefault'\u001b[0m \u001b[1;33m=\u001b[0m \u001b[1;33m<\u001b[0m\u001b[0mno_default\u001b[0m\u001b[1;33m>\u001b[0m\u001b[1;33m,\u001b[0m\u001b[1;33m\n",
      "\u001b[0m    \u001b[0mthresh\u001b[0m\u001b[1;33m:\u001b[0m \u001b[1;34m'int | lib.NoDefault'\u001b[0m \u001b[1;33m=\u001b[0m \u001b[1;33m<\u001b[0m\u001b[0mno_default\u001b[0m\u001b[1;33m>\u001b[0m\u001b[1;33m,\u001b[0m\u001b[1;33m\n",
      "\u001b[0m    \u001b[0msubset\u001b[0m\u001b[1;33m:\u001b[0m \u001b[1;34m'IndexLabel | None'\u001b[0m \u001b[1;33m=\u001b[0m \u001b[1;32mNone\u001b[0m\u001b[1;33m,\u001b[0m\u001b[1;33m\n",
      "\u001b[0m    \u001b[0minplace\u001b[0m\u001b[1;33m:\u001b[0m \u001b[1;34m'bool'\u001b[0m \u001b[1;33m=\u001b[0m \u001b[1;32mFalse\u001b[0m\u001b[1;33m,\u001b[0m\u001b[1;33m\n",
      "\u001b[0m    \u001b[0mignore_index\u001b[0m\u001b[1;33m:\u001b[0m \u001b[1;34m'bool'\u001b[0m \u001b[1;33m=\u001b[0m \u001b[1;32mFalse\u001b[0m\u001b[1;33m,\u001b[0m\u001b[1;33m\n",
      "\u001b[0m\u001b[1;33m)\u001b[0m \u001b[1;33m->\u001b[0m \u001b[1;34m'DataFrame | None'\u001b[0m\u001b[1;33m\u001b[0m\u001b[1;33m\u001b[0m\u001b[0m\n",
      "\u001b[1;31mDocstring:\u001b[0m\n",
      "Remove missing values.\n",
      "\n",
      "See the :ref:`User Guide <missing_data>` for more on which values are\n",
      "considered missing, and how to work with missing data.\n",
      "\n",
      "Parameters\n",
      "----------\n",
      "axis : {0 or 'index', 1 or 'columns'}, default 0\n",
      "    Determine if rows or columns which contain missing values are\n",
      "    removed.\n",
      "\n",
      "    * 0, or 'index' : Drop rows which contain missing values.\n",
      "    * 1, or 'columns' : Drop columns which contain missing value.\n",
      "\n",
      "    Only a single axis is allowed.\n",
      "\n",
      "how : {'any', 'all'}, default 'any'\n",
      "    Determine if row or column is removed from DataFrame, when we have\n",
      "    at least one NA or all NA.\n",
      "\n",
      "    * 'any' : If any NA values are present, drop that row or column.\n",
      "    * 'all' : If all values are NA, drop that row or column.\n",
      "\n",
      "thresh : int, optional\n",
      "    Require that many non-NA values. Cannot be combined with how.\n",
      "subset : column label or sequence of labels, optional\n",
      "    Labels along other axis to consider, e.g. if you are dropping rows\n",
      "    these would be a list of columns to include.\n",
      "inplace : bool, default False\n",
      "    Whether to modify the DataFrame rather than creating a new one.\n",
      "ignore_index : bool, default ``False``\n",
      "    If ``True``, the resulting axis will be labeled 0, 1, …, n - 1.\n",
      "\n",
      "    .. versionadded:: 2.0.0\n",
      "\n",
      "Returns\n",
      "-------\n",
      "DataFrame or None\n",
      "    DataFrame with NA entries dropped from it or None if ``inplace=True``.\n",
      "\n",
      "See Also\n",
      "--------\n",
      "DataFrame.isna: Indicate missing values.\n",
      "DataFrame.notna : Indicate existing (non-missing) values.\n",
      "DataFrame.fillna : Replace missing values.\n",
      "Series.dropna : Drop missing values.\n",
      "Index.dropna : Drop missing indices.\n",
      "\n",
      "Examples\n",
      "--------\n",
      ">>> df = pd.DataFrame({\"name\": ['Alfred', 'Batman', 'Catwoman'],\n",
      "...                    \"toy\": [np.nan, 'Batmobile', 'Bullwhip'],\n",
      "...                    \"born\": [pd.NaT, pd.Timestamp(\"1940-04-25\"),\n",
      "...                             pd.NaT]})\n",
      ">>> df\n",
      "       name        toy       born\n",
      "0    Alfred        NaN        NaT\n",
      "1    Batman  Batmobile 1940-04-25\n",
      "2  Catwoman   Bullwhip        NaT\n",
      "\n",
      "Drop the rows where at least one element is missing.\n",
      "\n",
      ">>> df.dropna()\n",
      "     name        toy       born\n",
      "1  Batman  Batmobile 1940-04-25\n",
      "\n",
      "Drop the columns where at least one element is missing.\n",
      "\n",
      ">>> df.dropna(axis='columns')\n",
      "       name\n",
      "0    Alfred\n",
      "1    Batman\n",
      "2  Catwoman\n",
      "\n",
      "Drop the rows where all elements are missing.\n",
      "\n",
      ">>> df.dropna(how='all')\n",
      "       name        toy       born\n",
      "0    Alfred        NaN        NaT\n",
      "1    Batman  Batmobile 1940-04-25\n",
      "2  Catwoman   Bullwhip        NaT\n",
      "\n",
      "Keep only the rows with at least 2 non-NA values.\n",
      "\n",
      ">>> df.dropna(thresh=2)\n",
      "       name        toy       born\n",
      "1    Batman  Batmobile 1940-04-25\n",
      "2  Catwoman   Bullwhip        NaT\n",
      "\n",
      "Define in which columns to look for missing values.\n",
      "\n",
      ">>> df.dropna(subset=['name', 'toy'])\n",
      "       name        toy       born\n",
      "1    Batman  Batmobile 1940-04-25\n",
      "2  Catwoman   Bullwhip        NaT\n",
      "\u001b[1;31mFile:\u001b[0m      c:\\users\\conno\\appdata\\local\\programs\\python\\python312\\lib\\site-packages\\pandas\\core\\frame.py\n",
      "\u001b[1;31mType:\u001b[0m      method"
     ]
    }
   ],
   "source": [
    "A.dropna?"
   ]
  },
  {
   "cell_type": "code",
   "execution_count": 112,
   "metadata": {},
   "outputs": [],
   "source": [
    "A = pd.Series(['a','b','c'], index=[1,3,5])"
   ]
  },
  {
   "cell_type": "code",
   "execution_count": 113,
   "metadata": {},
   "outputs": [
    {
     "data": {
      "text/plain": [
       "'a'"
      ]
     },
     "execution_count": 113,
     "metadata": {},
     "output_type": "execute_result"
    }
   ],
   "source": [
    "A[1]"
   ]
  },
  {
   "cell_type": "code",
   "execution_count": 114,
   "metadata": {},
   "outputs": [
    {
     "data": {
      "text/plain": [
       "3    b\n",
       "5    c\n",
       "dtype: object"
      ]
     },
     "execution_count": 114,
     "metadata": {},
     "output_type": "execute_result"
    }
   ],
   "source": [
    "A[1:3]"
   ]
  },
  {
   "cell_type": "code",
   "execution_count": 115,
   "metadata": {},
   "outputs": [
    {
     "data": {
      "text/plain": [
       "1    a\n",
       "3    b\n",
       "dtype: object"
      ]
     },
     "execution_count": 115,
     "metadata": {},
     "output_type": "execute_result"
    }
   ],
   "source": [
    "A.loc[1:3]"
   ]
  },
  {
   "cell_type": "code",
   "execution_count": 116,
   "metadata": {},
   "outputs": [
    {
     "data": {
      "text/plain": [
       "3    b\n",
       "5    c\n",
       "dtype: object"
      ]
     },
     "execution_count": 116,
     "metadata": {},
     "output_type": "execute_result"
    }
   ],
   "source": [
    "A.iloc[1:3]"
   ]
  },
  {
   "cell_type": "code",
   "execution_count": 117,
   "metadata": {},
   "outputs": [
    {
     "data": {
      "text/html": [
       "<div>\n",
       "<style scoped>\n",
       "    .dataframe tbody tr th:only-of-type {\n",
       "        vertical-align: middle;\n",
       "    }\n",
       "\n",
       "    .dataframe tbody tr th {\n",
       "        vertical-align: top;\n",
       "    }\n",
       "\n",
       "    .dataframe thead th {\n",
       "        text-align: right;\n",
       "    }\n",
       "</style>\n",
       "<table border=\"1\" class=\"dataframe\">\n",
       "  <thead>\n",
       "    <tr style=\"text-align: right;\">\n",
       "      <th></th>\n",
       "      <th>Marks</th>\n",
       "      <th>Grades</th>\n",
       "    </tr>\n",
       "  </thead>\n",
       "  <tbody>\n",
       "    <tr>\n",
       "      <th>A</th>\n",
       "      <td>85</td>\n",
       "      <td>4.0</td>\n",
       "    </tr>\n",
       "    <tr>\n",
       "      <th>B</th>\n",
       "      <td>75</td>\n",
       "      <td>3.5</td>\n",
       "    </tr>\n",
       "    <tr>\n",
       "      <th>C</th>\n",
       "      <td>65</td>\n",
       "      <td>3.0</td>\n",
       "    </tr>\n",
       "    <tr>\n",
       "      <th>D</th>\n",
       "      <td>55</td>\n",
       "      <td>2.5</td>\n",
       "    </tr>\n",
       "  </tbody>\n",
       "</table>\n",
       "</div>"
      ],
      "text/plain": [
       "   Marks  Grades\n",
       "A     85     4.0\n",
       "B     75     3.5\n",
       "C     65     3.0\n",
       "D     55     2.5"
      ]
     },
     "execution_count": 117,
     "metadata": {},
     "output_type": "execute_result"
    }
   ],
   "source": [
    "D"
   ]
  },
  {
   "cell_type": "code",
   "execution_count": 118,
   "metadata": {},
   "outputs": [
    {
     "data": {
      "text/plain": [
       "Marks     65.0\n",
       "Grades     3.0\n",
       "Name: C, dtype: float64"
      ]
     },
     "execution_count": 118,
     "metadata": {},
     "output_type": "execute_result"
    }
   ],
   "source": [
    "D.iloc[2,:]"
   ]
  },
  {
   "cell_type": "code",
   "execution_count": 119,
   "metadata": {},
   "outputs": [
    {
     "data": {
      "text/html": [
       "<div>\n",
       "<style scoped>\n",
       "    .dataframe tbody tr th:only-of-type {\n",
       "        vertical-align: middle;\n",
       "    }\n",
       "\n",
       "    .dataframe tbody tr th {\n",
       "        vertical-align: top;\n",
       "    }\n",
       "\n",
       "    .dataframe thead th {\n",
       "        text-align: right;\n",
       "    }\n",
       "</style>\n",
       "<table border=\"1\" class=\"dataframe\">\n",
       "  <thead>\n",
       "    <tr style=\"text-align: right;\">\n",
       "      <th></th>\n",
       "      <th>Marks</th>\n",
       "      <th>Grades</th>\n",
       "    </tr>\n",
       "  </thead>\n",
       "  <tbody>\n",
       "    <tr>\n",
       "      <th>D</th>\n",
       "      <td>55</td>\n",
       "      <td>2.5</td>\n",
       "    </tr>\n",
       "    <tr>\n",
       "      <th>C</th>\n",
       "      <td>65</td>\n",
       "      <td>3.0</td>\n",
       "    </tr>\n",
       "    <tr>\n",
       "      <th>B</th>\n",
       "      <td>75</td>\n",
       "      <td>3.5</td>\n",
       "    </tr>\n",
       "    <tr>\n",
       "      <th>A</th>\n",
       "      <td>85</td>\n",
       "      <td>4.0</td>\n",
       "    </tr>\n",
       "  </tbody>\n",
       "</table>\n",
       "</div>"
      ],
      "text/plain": [
       "   Marks  Grades\n",
       "D     55     2.5\n",
       "C     65     3.0\n",
       "B     75     3.5\n",
       "A     85     4.0"
      ]
     },
     "execution_count": 119,
     "metadata": {},
     "output_type": "execute_result"
    }
   ],
   "source": [
    "D.iloc[::-1,:]"
   ]
  },
  {
   "cell_type": "code",
   "execution_count": 120,
   "metadata": {},
   "outputs": [
    {
     "ename": "ModuleNotFoundError",
     "evalue": "No module named 'sklearn'",
     "output_type": "error",
     "traceback": [
      "\u001b[1;31m---------------------------------------------------------------------------\u001b[0m",
      "\u001b[1;31mModuleNotFoundError\u001b[0m                       Traceback (most recent call last)",
      "Cell \u001b[1;32mIn[120], line 1\u001b[0m\n\u001b[1;32m----> 1\u001b[0m \u001b[38;5;28;01mimport\u001b[39;00m \u001b[38;5;21;01msklearn\u001b[39;00m\n",
      "\u001b[1;31mModuleNotFoundError\u001b[0m: No module named 'sklearn'"
     ]
    }
   ],
   "source": [
    "import sklearn"
   ]
  },
  {
   "cell_type": "code",
   "execution_count": null,
   "metadata": {},
   "outputs": [],
   "source": [
    "from sklearn.impute import SimpleImputer"
   ]
  },
  {
   "cell_type": "code",
   "execution_count": null,
   "metadata": {},
   "outputs": [],
   "source": [
    "df = pd.read_csv(\"C:/Users/conno/Documents/python/data/raw_data/covid_19_clean_complete.csv\")"
   ]
  },
  {
   "cell_type": "code",
   "execution_count": null,
   "metadata": {},
   "outputs": [
    {
     "data": {
      "text/html": [
       "<div>\n",
       "<style scoped>\n",
       "    .dataframe tbody tr th:only-of-type {\n",
       "        vertical-align: middle;\n",
       "    }\n",
       "\n",
       "    .dataframe tbody tr th {\n",
       "        vertical-align: top;\n",
       "    }\n",
       "\n",
       "    .dataframe thead th {\n",
       "        text-align: right;\n",
       "    }\n",
       "</style>\n",
       "<table border=\"1\" class=\"dataframe\">\n",
       "  <thead>\n",
       "    <tr style=\"text-align: right;\">\n",
       "      <th></th>\n",
       "      <th>Province/State</th>\n",
       "      <th>Country/Region</th>\n",
       "      <th>Lat</th>\n",
       "      <th>Long</th>\n",
       "      <th>Date</th>\n",
       "      <th>Confirmed</th>\n",
       "      <th>Deaths</th>\n",
       "      <th>Recovered</th>\n",
       "      <th>Active</th>\n",
       "      <th>WHO Region</th>\n",
       "    </tr>\n",
       "  </thead>\n",
       "  <tbody>\n",
       "    <tr>\n",
       "      <th>0</th>\n",
       "      <td>NaN</td>\n",
       "      <td>Afghanistan</td>\n",
       "      <td>33.93911</td>\n",
       "      <td>67.709953</td>\n",
       "      <td>2020-01-22</td>\n",
       "      <td>0</td>\n",
       "      <td>0</td>\n",
       "      <td>0</td>\n",
       "      <td>0</td>\n",
       "      <td>Eastern Mediterranean</td>\n",
       "    </tr>\n",
       "    <tr>\n",
       "      <th>1</th>\n",
       "      <td>NaN</td>\n",
       "      <td>Albania</td>\n",
       "      <td>41.15330</td>\n",
       "      <td>20.168300</td>\n",
       "      <td>2020-01-22</td>\n",
       "      <td>0</td>\n",
       "      <td>0</td>\n",
       "      <td>0</td>\n",
       "      <td>0</td>\n",
       "      <td>Europe</td>\n",
       "    </tr>\n",
       "    <tr>\n",
       "      <th>2</th>\n",
       "      <td>NaN</td>\n",
       "      <td>Algeria</td>\n",
       "      <td>28.03390</td>\n",
       "      <td>1.659600</td>\n",
       "      <td>2020-01-22</td>\n",
       "      <td>0</td>\n",
       "      <td>0</td>\n",
       "      <td>0</td>\n",
       "      <td>0</td>\n",
       "      <td>Africa</td>\n",
       "    </tr>\n",
       "    <tr>\n",
       "      <th>3</th>\n",
       "      <td>NaN</td>\n",
       "      <td>Andorra</td>\n",
       "      <td>42.50630</td>\n",
       "      <td>1.521800</td>\n",
       "      <td>2020-01-22</td>\n",
       "      <td>0</td>\n",
       "      <td>0</td>\n",
       "      <td>0</td>\n",
       "      <td>0</td>\n",
       "      <td>Europe</td>\n",
       "    </tr>\n",
       "    <tr>\n",
       "      <th>4</th>\n",
       "      <td>NaN</td>\n",
       "      <td>Angola</td>\n",
       "      <td>-11.20270</td>\n",
       "      <td>17.873900</td>\n",
       "      <td>2020-01-22</td>\n",
       "      <td>0</td>\n",
       "      <td>0</td>\n",
       "      <td>0</td>\n",
       "      <td>0</td>\n",
       "      <td>Africa</td>\n",
       "    </tr>\n",
       "    <tr>\n",
       "      <th>5</th>\n",
       "      <td>NaN</td>\n",
       "      <td>Antigua and Barbuda</td>\n",
       "      <td>17.06080</td>\n",
       "      <td>-61.796400</td>\n",
       "      <td>2020-01-22</td>\n",
       "      <td>0</td>\n",
       "      <td>0</td>\n",
       "      <td>0</td>\n",
       "      <td>0</td>\n",
       "      <td>Americas</td>\n",
       "    </tr>\n",
       "    <tr>\n",
       "      <th>6</th>\n",
       "      <td>NaN</td>\n",
       "      <td>Argentina</td>\n",
       "      <td>-38.41610</td>\n",
       "      <td>-63.616700</td>\n",
       "      <td>2020-01-22</td>\n",
       "      <td>0</td>\n",
       "      <td>0</td>\n",
       "      <td>0</td>\n",
       "      <td>0</td>\n",
       "      <td>Americas</td>\n",
       "    </tr>\n",
       "    <tr>\n",
       "      <th>7</th>\n",
       "      <td>NaN</td>\n",
       "      <td>Armenia</td>\n",
       "      <td>40.06910</td>\n",
       "      <td>45.038200</td>\n",
       "      <td>2020-01-22</td>\n",
       "      <td>0</td>\n",
       "      <td>0</td>\n",
       "      <td>0</td>\n",
       "      <td>0</td>\n",
       "      <td>Europe</td>\n",
       "    </tr>\n",
       "    <tr>\n",
       "      <th>8</th>\n",
       "      <td>Australian Capital Territory</td>\n",
       "      <td>Australia</td>\n",
       "      <td>-35.47350</td>\n",
       "      <td>149.012400</td>\n",
       "      <td>2020-01-22</td>\n",
       "      <td>0</td>\n",
       "      <td>0</td>\n",
       "      <td>0</td>\n",
       "      <td>0</td>\n",
       "      <td>Western Pacific</td>\n",
       "    </tr>\n",
       "    <tr>\n",
       "      <th>9</th>\n",
       "      <td>New South Wales</td>\n",
       "      <td>Australia</td>\n",
       "      <td>-33.86880</td>\n",
       "      <td>151.209300</td>\n",
       "      <td>2020-01-22</td>\n",
       "      <td>0</td>\n",
       "      <td>0</td>\n",
       "      <td>0</td>\n",
       "      <td>0</td>\n",
       "      <td>Western Pacific</td>\n",
       "    </tr>\n",
       "  </tbody>\n",
       "</table>\n",
       "</div>"
      ],
      "text/plain": [
       "                 Province/State       Country/Region       Lat        Long  \\\n",
       "0                           NaN          Afghanistan  33.93911   67.709953   \n",
       "1                           NaN              Albania  41.15330   20.168300   \n",
       "2                           NaN              Algeria  28.03390    1.659600   \n",
       "3                           NaN              Andorra  42.50630    1.521800   \n",
       "4                           NaN               Angola -11.20270   17.873900   \n",
       "5                           NaN  Antigua and Barbuda  17.06080  -61.796400   \n",
       "6                           NaN            Argentina -38.41610  -63.616700   \n",
       "7                           NaN              Armenia  40.06910   45.038200   \n",
       "8  Australian Capital Territory            Australia -35.47350  149.012400   \n",
       "9               New South Wales            Australia -33.86880  151.209300   \n",
       "\n",
       "         Date  Confirmed  Deaths  Recovered  Active             WHO Region  \n",
       "0  2020-01-22          0       0          0       0  Eastern Mediterranean  \n",
       "1  2020-01-22          0       0          0       0                 Europe  \n",
       "2  2020-01-22          0       0          0       0                 Africa  \n",
       "3  2020-01-22          0       0          0       0                 Europe  \n",
       "4  2020-01-22          0       0          0       0                 Africa  \n",
       "5  2020-01-22          0       0          0       0               Americas  \n",
       "6  2020-01-22          0       0          0       0               Americas  \n",
       "7  2020-01-22          0       0          0       0                 Europe  \n",
       "8  2020-01-22          0       0          0       0        Western Pacific  \n",
       "9  2020-01-22          0       0          0       0        Western Pacific  "
      ]
     },
     "execution_count": 131,
     "metadata": {},
     "output_type": "execute_result"
    }
   ],
   "source": [
    "df.head(10)"
   ]
  },
  {
   "cell_type": "code",
   "execution_count": null,
   "metadata": {},
   "outputs": [],
   "source": [
    "df.drop(['Lat','Long'], axis=1, inplace=True)"
   ]
  },
  {
   "cell_type": "code",
   "execution_count": null,
   "metadata": {},
   "outputs": [
    {
     "data": {
      "text/html": [
       "<div>\n",
       "<style scoped>\n",
       "    .dataframe tbody tr th:only-of-type {\n",
       "        vertical-align: middle;\n",
       "    }\n",
       "\n",
       "    .dataframe tbody tr th {\n",
       "        vertical-align: top;\n",
       "    }\n",
       "\n",
       "    .dataframe thead th {\n",
       "        text-align: right;\n",
       "    }\n",
       "</style>\n",
       "<table border=\"1\" class=\"dataframe\">\n",
       "  <thead>\n",
       "    <tr style=\"text-align: right;\">\n",
       "      <th></th>\n",
       "      <th>Province/State</th>\n",
       "      <th>Country/Region</th>\n",
       "      <th>Date</th>\n",
       "      <th>Confirmed</th>\n",
       "      <th>Deaths</th>\n",
       "      <th>Recovered</th>\n",
       "      <th>Active</th>\n",
       "      <th>WHO Region</th>\n",
       "    </tr>\n",
       "  </thead>\n",
       "  <tbody>\n",
       "    <tr>\n",
       "      <th>0</th>\n",
       "      <td>NaN</td>\n",
       "      <td>Afghanistan</td>\n",
       "      <td>2020-01-22</td>\n",
       "      <td>0</td>\n",
       "      <td>0</td>\n",
       "      <td>0</td>\n",
       "      <td>0</td>\n",
       "      <td>Eastern Mediterranean</td>\n",
       "    </tr>\n",
       "    <tr>\n",
       "      <th>1</th>\n",
       "      <td>NaN</td>\n",
       "      <td>Albania</td>\n",
       "      <td>2020-01-22</td>\n",
       "      <td>0</td>\n",
       "      <td>0</td>\n",
       "      <td>0</td>\n",
       "      <td>0</td>\n",
       "      <td>Europe</td>\n",
       "    </tr>\n",
       "    <tr>\n",
       "      <th>2</th>\n",
       "      <td>NaN</td>\n",
       "      <td>Algeria</td>\n",
       "      <td>2020-01-22</td>\n",
       "      <td>0</td>\n",
       "      <td>0</td>\n",
       "      <td>0</td>\n",
       "      <td>0</td>\n",
       "      <td>Africa</td>\n",
       "    </tr>\n",
       "    <tr>\n",
       "      <th>3</th>\n",
       "      <td>NaN</td>\n",
       "      <td>Andorra</td>\n",
       "      <td>2020-01-22</td>\n",
       "      <td>0</td>\n",
       "      <td>0</td>\n",
       "      <td>0</td>\n",
       "      <td>0</td>\n",
       "      <td>Europe</td>\n",
       "    </tr>\n",
       "    <tr>\n",
       "      <th>4</th>\n",
       "      <td>NaN</td>\n",
       "      <td>Angola</td>\n",
       "      <td>2020-01-22</td>\n",
       "      <td>0</td>\n",
       "      <td>0</td>\n",
       "      <td>0</td>\n",
       "      <td>0</td>\n",
       "      <td>Africa</td>\n",
       "    </tr>\n",
       "    <tr>\n",
       "      <th>5</th>\n",
       "      <td>NaN</td>\n",
       "      <td>Antigua and Barbuda</td>\n",
       "      <td>2020-01-22</td>\n",
       "      <td>0</td>\n",
       "      <td>0</td>\n",
       "      <td>0</td>\n",
       "      <td>0</td>\n",
       "      <td>Americas</td>\n",
       "    </tr>\n",
       "    <tr>\n",
       "      <th>6</th>\n",
       "      <td>NaN</td>\n",
       "      <td>Argentina</td>\n",
       "      <td>2020-01-22</td>\n",
       "      <td>0</td>\n",
       "      <td>0</td>\n",
       "      <td>0</td>\n",
       "      <td>0</td>\n",
       "      <td>Americas</td>\n",
       "    </tr>\n",
       "    <tr>\n",
       "      <th>7</th>\n",
       "      <td>NaN</td>\n",
       "      <td>Armenia</td>\n",
       "      <td>2020-01-22</td>\n",
       "      <td>0</td>\n",
       "      <td>0</td>\n",
       "      <td>0</td>\n",
       "      <td>0</td>\n",
       "      <td>Europe</td>\n",
       "    </tr>\n",
       "    <tr>\n",
       "      <th>8</th>\n",
       "      <td>Australian Capital Territory</td>\n",
       "      <td>Australia</td>\n",
       "      <td>2020-01-22</td>\n",
       "      <td>0</td>\n",
       "      <td>0</td>\n",
       "      <td>0</td>\n",
       "      <td>0</td>\n",
       "      <td>Western Pacific</td>\n",
       "    </tr>\n",
       "    <tr>\n",
       "      <th>9</th>\n",
       "      <td>New South Wales</td>\n",
       "      <td>Australia</td>\n",
       "      <td>2020-01-22</td>\n",
       "      <td>0</td>\n",
       "      <td>0</td>\n",
       "      <td>0</td>\n",
       "      <td>0</td>\n",
       "      <td>Western Pacific</td>\n",
       "    </tr>\n",
       "  </tbody>\n",
       "</table>\n",
       "</div>"
      ],
      "text/plain": [
       "                 Province/State       Country/Region        Date  Confirmed  \\\n",
       "0                           NaN          Afghanistan  2020-01-22          0   \n",
       "1                           NaN              Albania  2020-01-22          0   \n",
       "2                           NaN              Algeria  2020-01-22          0   \n",
       "3                           NaN              Andorra  2020-01-22          0   \n",
       "4                           NaN               Angola  2020-01-22          0   \n",
       "5                           NaN  Antigua and Barbuda  2020-01-22          0   \n",
       "6                           NaN            Argentina  2020-01-22          0   \n",
       "7                           NaN              Armenia  2020-01-22          0   \n",
       "8  Australian Capital Territory            Australia  2020-01-22          0   \n",
       "9               New South Wales            Australia  2020-01-22          0   \n",
       "\n",
       "   Deaths  Recovered  Active             WHO Region  \n",
       "0       0          0       0  Eastern Mediterranean  \n",
       "1       0          0       0                 Europe  \n",
       "2       0          0       0                 Africa  \n",
       "3       0          0       0                 Europe  \n",
       "4       0          0       0                 Africa  \n",
       "5       0          0       0               Americas  \n",
       "6       0          0       0               Americas  \n",
       "7       0          0       0                 Europe  \n",
       "8       0          0       0        Western Pacific  \n",
       "9       0          0       0        Western Pacific  "
      ]
     },
     "execution_count": 133,
     "metadata": {},
     "output_type": "execute_result"
    }
   ],
   "source": [
    "df.head(10)"
   ]
  },
  {
   "cell_type": "code",
   "execution_count": null,
   "metadata": {},
   "outputs": [],
   "source": [
    "df.rename(columns = {'Province/State':'State', 'Country/Region':'Country', 'WHO Region': 'Region'}, inplace = True)"
   ]
  },
  {
   "cell_type": "code",
   "execution_count": null,
   "metadata": {},
   "outputs": [
    {
     "data": {
      "text/html": [
       "<div>\n",
       "<style scoped>\n",
       "    .dataframe tbody tr th:only-of-type {\n",
       "        vertical-align: middle;\n",
       "    }\n",
       "\n",
       "    .dataframe tbody tr th {\n",
       "        vertical-align: top;\n",
       "    }\n",
       "\n",
       "    .dataframe thead th {\n",
       "        text-align: right;\n",
       "    }\n",
       "</style>\n",
       "<table border=\"1\" class=\"dataframe\">\n",
       "  <thead>\n",
       "    <tr style=\"text-align: right;\">\n",
       "      <th></th>\n",
       "      <th>State</th>\n",
       "      <th>Country</th>\n",
       "      <th>Date</th>\n",
       "      <th>Confirmed</th>\n",
       "      <th>Deaths</th>\n",
       "      <th>Recovered</th>\n",
       "      <th>Active</th>\n",
       "      <th>Region</th>\n",
       "    </tr>\n",
       "  </thead>\n",
       "  <tbody>\n",
       "    <tr>\n",
       "      <th>0</th>\n",
       "      <td>NaN</td>\n",
       "      <td>Afghanistan</td>\n",
       "      <td>2020-01-22</td>\n",
       "      <td>0</td>\n",
       "      <td>0</td>\n",
       "      <td>0</td>\n",
       "      <td>0</td>\n",
       "      <td>Eastern Mediterranean</td>\n",
       "    </tr>\n",
       "    <tr>\n",
       "      <th>1</th>\n",
       "      <td>NaN</td>\n",
       "      <td>Albania</td>\n",
       "      <td>2020-01-22</td>\n",
       "      <td>0</td>\n",
       "      <td>0</td>\n",
       "      <td>0</td>\n",
       "      <td>0</td>\n",
       "      <td>Europe</td>\n",
       "    </tr>\n",
       "    <tr>\n",
       "      <th>2</th>\n",
       "      <td>NaN</td>\n",
       "      <td>Algeria</td>\n",
       "      <td>2020-01-22</td>\n",
       "      <td>0</td>\n",
       "      <td>0</td>\n",
       "      <td>0</td>\n",
       "      <td>0</td>\n",
       "      <td>Africa</td>\n",
       "    </tr>\n",
       "    <tr>\n",
       "      <th>3</th>\n",
       "      <td>NaN</td>\n",
       "      <td>Andorra</td>\n",
       "      <td>2020-01-22</td>\n",
       "      <td>0</td>\n",
       "      <td>0</td>\n",
       "      <td>0</td>\n",
       "      <td>0</td>\n",
       "      <td>Europe</td>\n",
       "    </tr>\n",
       "    <tr>\n",
       "      <th>4</th>\n",
       "      <td>NaN</td>\n",
       "      <td>Angola</td>\n",
       "      <td>2020-01-22</td>\n",
       "      <td>0</td>\n",
       "      <td>0</td>\n",
       "      <td>0</td>\n",
       "      <td>0</td>\n",
       "      <td>Africa</td>\n",
       "    </tr>\n",
       "    <tr>\n",
       "      <th>5</th>\n",
       "      <td>NaN</td>\n",
       "      <td>Antigua and Barbuda</td>\n",
       "      <td>2020-01-22</td>\n",
       "      <td>0</td>\n",
       "      <td>0</td>\n",
       "      <td>0</td>\n",
       "      <td>0</td>\n",
       "      <td>Americas</td>\n",
       "    </tr>\n",
       "    <tr>\n",
       "      <th>6</th>\n",
       "      <td>NaN</td>\n",
       "      <td>Argentina</td>\n",
       "      <td>2020-01-22</td>\n",
       "      <td>0</td>\n",
       "      <td>0</td>\n",
       "      <td>0</td>\n",
       "      <td>0</td>\n",
       "      <td>Americas</td>\n",
       "    </tr>\n",
       "    <tr>\n",
       "      <th>7</th>\n",
       "      <td>NaN</td>\n",
       "      <td>Armenia</td>\n",
       "      <td>2020-01-22</td>\n",
       "      <td>0</td>\n",
       "      <td>0</td>\n",
       "      <td>0</td>\n",
       "      <td>0</td>\n",
       "      <td>Europe</td>\n",
       "    </tr>\n",
       "    <tr>\n",
       "      <th>8</th>\n",
       "      <td>Australian Capital Territory</td>\n",
       "      <td>Australia</td>\n",
       "      <td>2020-01-22</td>\n",
       "      <td>0</td>\n",
       "      <td>0</td>\n",
       "      <td>0</td>\n",
       "      <td>0</td>\n",
       "      <td>Western Pacific</td>\n",
       "    </tr>\n",
       "    <tr>\n",
       "      <th>9</th>\n",
       "      <td>New South Wales</td>\n",
       "      <td>Australia</td>\n",
       "      <td>2020-01-22</td>\n",
       "      <td>0</td>\n",
       "      <td>0</td>\n",
       "      <td>0</td>\n",
       "      <td>0</td>\n",
       "      <td>Western Pacific</td>\n",
       "    </tr>\n",
       "  </tbody>\n",
       "</table>\n",
       "</div>"
      ],
      "text/plain": [
       "                          State              Country        Date  Confirmed  \\\n",
       "0                           NaN          Afghanistan  2020-01-22          0   \n",
       "1                           NaN              Albania  2020-01-22          0   \n",
       "2                           NaN              Algeria  2020-01-22          0   \n",
       "3                           NaN              Andorra  2020-01-22          0   \n",
       "4                           NaN               Angola  2020-01-22          0   \n",
       "5                           NaN  Antigua and Barbuda  2020-01-22          0   \n",
       "6                           NaN            Argentina  2020-01-22          0   \n",
       "7                           NaN              Armenia  2020-01-22          0   \n",
       "8  Australian Capital Territory            Australia  2020-01-22          0   \n",
       "9               New South Wales            Australia  2020-01-22          0   \n",
       "\n",
       "   Deaths  Recovered  Active                 Region  \n",
       "0       0          0       0  Eastern Mediterranean  \n",
       "1       0          0       0                 Europe  \n",
       "2       0          0       0                 Africa  \n",
       "3       0          0       0                 Europe  \n",
       "4       0          0       0                 Africa  \n",
       "5       0          0       0               Americas  \n",
       "6       0          0       0               Americas  \n",
       "7       0          0       0                 Europe  \n",
       "8       0          0       0        Western Pacific  \n",
       "9       0          0       0        Western Pacific  "
      ]
     },
     "execution_count": 135,
     "metadata": {},
     "output_type": "execute_result"
    }
   ],
   "source": [
    "df.head(10)"
   ]
  },
  {
   "cell_type": "code",
   "execution_count": null,
   "metadata": {},
   "outputs": [],
   "source": [
    "df['Date'] = pd.to_datetime(df['Date'])"
   ]
  },
  {
   "cell_type": "code",
   "execution_count": null,
   "metadata": {},
   "outputs": [
    {
     "data": {
      "text/html": [
       "<div>\n",
       "<style scoped>\n",
       "    .dataframe tbody tr th:only-of-type {\n",
       "        vertical-align: middle;\n",
       "    }\n",
       "\n",
       "    .dataframe tbody tr th {\n",
       "        vertical-align: top;\n",
       "    }\n",
       "\n",
       "    .dataframe thead th {\n",
       "        text-align: right;\n",
       "    }\n",
       "</style>\n",
       "<table border=\"1\" class=\"dataframe\">\n",
       "  <thead>\n",
       "    <tr style=\"text-align: right;\">\n",
       "      <th></th>\n",
       "      <th>State</th>\n",
       "      <th>Country</th>\n",
       "      <th>Date</th>\n",
       "      <th>Confirmed</th>\n",
       "      <th>Deaths</th>\n",
       "      <th>Recovered</th>\n",
       "      <th>Active</th>\n",
       "      <th>Region</th>\n",
       "    </tr>\n",
       "  </thead>\n",
       "  <tbody>\n",
       "    <tr>\n",
       "      <th>0</th>\n",
       "      <td>NaN</td>\n",
       "      <td>Afghanistan</td>\n",
       "      <td>2020-01-22</td>\n",
       "      <td>0</td>\n",
       "      <td>0</td>\n",
       "      <td>0</td>\n",
       "      <td>0</td>\n",
       "      <td>Eastern Mediterranean</td>\n",
       "    </tr>\n",
       "    <tr>\n",
       "      <th>1</th>\n",
       "      <td>NaN</td>\n",
       "      <td>Albania</td>\n",
       "      <td>2020-01-22</td>\n",
       "      <td>0</td>\n",
       "      <td>0</td>\n",
       "      <td>0</td>\n",
       "      <td>0</td>\n",
       "      <td>Europe</td>\n",
       "    </tr>\n",
       "    <tr>\n",
       "      <th>2</th>\n",
       "      <td>NaN</td>\n",
       "      <td>Algeria</td>\n",
       "      <td>2020-01-22</td>\n",
       "      <td>0</td>\n",
       "      <td>0</td>\n",
       "      <td>0</td>\n",
       "      <td>0</td>\n",
       "      <td>Africa</td>\n",
       "    </tr>\n",
       "    <tr>\n",
       "      <th>3</th>\n",
       "      <td>NaN</td>\n",
       "      <td>Andorra</td>\n",
       "      <td>2020-01-22</td>\n",
       "      <td>0</td>\n",
       "      <td>0</td>\n",
       "      <td>0</td>\n",
       "      <td>0</td>\n",
       "      <td>Europe</td>\n",
       "    </tr>\n",
       "    <tr>\n",
       "      <th>4</th>\n",
       "      <td>NaN</td>\n",
       "      <td>Angola</td>\n",
       "      <td>2020-01-22</td>\n",
       "      <td>0</td>\n",
       "      <td>0</td>\n",
       "      <td>0</td>\n",
       "      <td>0</td>\n",
       "      <td>Africa</td>\n",
       "    </tr>\n",
       "    <tr>\n",
       "      <th>5</th>\n",
       "      <td>NaN</td>\n",
       "      <td>Antigua and Barbuda</td>\n",
       "      <td>2020-01-22</td>\n",
       "      <td>0</td>\n",
       "      <td>0</td>\n",
       "      <td>0</td>\n",
       "      <td>0</td>\n",
       "      <td>Americas</td>\n",
       "    </tr>\n",
       "    <tr>\n",
       "      <th>6</th>\n",
       "      <td>NaN</td>\n",
       "      <td>Argentina</td>\n",
       "      <td>2020-01-22</td>\n",
       "      <td>0</td>\n",
       "      <td>0</td>\n",
       "      <td>0</td>\n",
       "      <td>0</td>\n",
       "      <td>Americas</td>\n",
       "    </tr>\n",
       "    <tr>\n",
       "      <th>7</th>\n",
       "      <td>NaN</td>\n",
       "      <td>Armenia</td>\n",
       "      <td>2020-01-22</td>\n",
       "      <td>0</td>\n",
       "      <td>0</td>\n",
       "      <td>0</td>\n",
       "      <td>0</td>\n",
       "      <td>Europe</td>\n",
       "    </tr>\n",
       "    <tr>\n",
       "      <th>8</th>\n",
       "      <td>Australian Capital Territory</td>\n",
       "      <td>Australia</td>\n",
       "      <td>2020-01-22</td>\n",
       "      <td>0</td>\n",
       "      <td>0</td>\n",
       "      <td>0</td>\n",
       "      <td>0</td>\n",
       "      <td>Western Pacific</td>\n",
       "    </tr>\n",
       "    <tr>\n",
       "      <th>9</th>\n",
       "      <td>New South Wales</td>\n",
       "      <td>Australia</td>\n",
       "      <td>2020-01-22</td>\n",
       "      <td>0</td>\n",
       "      <td>0</td>\n",
       "      <td>0</td>\n",
       "      <td>0</td>\n",
       "      <td>Western Pacific</td>\n",
       "    </tr>\n",
       "  </tbody>\n",
       "</table>\n",
       "</div>"
      ],
      "text/plain": [
       "                          State              Country       Date  Confirmed  \\\n",
       "0                           NaN          Afghanistan 2020-01-22          0   \n",
       "1                           NaN              Albania 2020-01-22          0   \n",
       "2                           NaN              Algeria 2020-01-22          0   \n",
       "3                           NaN              Andorra 2020-01-22          0   \n",
       "4                           NaN               Angola 2020-01-22          0   \n",
       "5                           NaN  Antigua and Barbuda 2020-01-22          0   \n",
       "6                           NaN            Argentina 2020-01-22          0   \n",
       "7                           NaN              Armenia 2020-01-22          0   \n",
       "8  Australian Capital Territory            Australia 2020-01-22          0   \n",
       "9               New South Wales            Australia 2020-01-22          0   \n",
       "\n",
       "   Deaths  Recovered  Active                 Region  \n",
       "0       0          0       0  Eastern Mediterranean  \n",
       "1       0          0       0                 Europe  \n",
       "2       0          0       0                 Africa  \n",
       "3       0          0       0                 Europe  \n",
       "4       0          0       0                 Africa  \n",
       "5       0          0       0               Americas  \n",
       "6       0          0       0               Americas  \n",
       "7       0          0       0                 Europe  \n",
       "8       0          0       0        Western Pacific  \n",
       "9       0          0       0        Western Pacific  "
      ]
     },
     "execution_count": 137,
     "metadata": {},
     "output_type": "execute_result"
    }
   ],
   "source": [
    "df.head(10)"
   ]
  },
  {
   "cell_type": "code",
   "execution_count": null,
   "metadata": {},
   "outputs": [
    {
     "data": {
      "text/html": [
       "<div>\n",
       "<style scoped>\n",
       "    .dataframe tbody tr th:only-of-type {\n",
       "        vertical-align: middle;\n",
       "    }\n",
       "\n",
       "    .dataframe tbody tr th {\n",
       "        vertical-align: top;\n",
       "    }\n",
       "\n",
       "    .dataframe thead th {\n",
       "        text-align: right;\n",
       "    }\n",
       "</style>\n",
       "<table border=\"1\" class=\"dataframe\">\n",
       "  <thead>\n",
       "    <tr style=\"text-align: right;\">\n",
       "      <th></th>\n",
       "      <th>Date</th>\n",
       "      <th>Confirmed</th>\n",
       "      <th>Deaths</th>\n",
       "      <th>Recovered</th>\n",
       "      <th>Active</th>\n",
       "    </tr>\n",
       "  </thead>\n",
       "  <tbody>\n",
       "    <tr>\n",
       "      <th>count</th>\n",
       "      <td>49068</td>\n",
       "      <td>4.906800e+04</td>\n",
       "      <td>49068.000000</td>\n",
       "      <td>4.906800e+04</td>\n",
       "      <td>4.906800e+04</td>\n",
       "    </tr>\n",
       "    <tr>\n",
       "      <th>mean</th>\n",
       "      <td>2020-04-24 12:00:00</td>\n",
       "      <td>1.688490e+04</td>\n",
       "      <td>884.179160</td>\n",
       "      <td>7.915713e+03</td>\n",
       "      <td>8.085012e+03</td>\n",
       "    </tr>\n",
       "    <tr>\n",
       "      <th>min</th>\n",
       "      <td>2020-01-22 00:00:00</td>\n",
       "      <td>0.000000e+00</td>\n",
       "      <td>0.000000</td>\n",
       "      <td>0.000000e+00</td>\n",
       "      <td>-1.400000e+01</td>\n",
       "    </tr>\n",
       "    <tr>\n",
       "      <th>25%</th>\n",
       "      <td>2020-03-08 18:00:00</td>\n",
       "      <td>4.000000e+00</td>\n",
       "      <td>0.000000</td>\n",
       "      <td>0.000000e+00</td>\n",
       "      <td>0.000000e+00</td>\n",
       "    </tr>\n",
       "    <tr>\n",
       "      <th>50%</th>\n",
       "      <td>2020-04-24 12:00:00</td>\n",
       "      <td>1.680000e+02</td>\n",
       "      <td>2.000000</td>\n",
       "      <td>2.900000e+01</td>\n",
       "      <td>2.600000e+01</td>\n",
       "    </tr>\n",
       "    <tr>\n",
       "      <th>75%</th>\n",
       "      <td>2020-06-10 06:00:00</td>\n",
       "      <td>1.518250e+03</td>\n",
       "      <td>30.000000</td>\n",
       "      <td>6.660000e+02</td>\n",
       "      <td>6.060000e+02</td>\n",
       "    </tr>\n",
       "    <tr>\n",
       "      <th>max</th>\n",
       "      <td>2020-07-27 00:00:00</td>\n",
       "      <td>4.290259e+06</td>\n",
       "      <td>148011.000000</td>\n",
       "      <td>1.846641e+06</td>\n",
       "      <td>2.816444e+06</td>\n",
       "    </tr>\n",
       "    <tr>\n",
       "      <th>std</th>\n",
       "      <td>NaN</td>\n",
       "      <td>1.273002e+05</td>\n",
       "      <td>6313.584411</td>\n",
       "      <td>5.480092e+04</td>\n",
       "      <td>7.625890e+04</td>\n",
       "    </tr>\n",
       "  </tbody>\n",
       "</table>\n",
       "</div>"
      ],
      "text/plain": [
       "                      Date     Confirmed         Deaths     Recovered  \\\n",
       "count                49068  4.906800e+04   49068.000000  4.906800e+04   \n",
       "mean   2020-04-24 12:00:00  1.688490e+04     884.179160  7.915713e+03   \n",
       "min    2020-01-22 00:00:00  0.000000e+00       0.000000  0.000000e+00   \n",
       "25%    2020-03-08 18:00:00  4.000000e+00       0.000000  0.000000e+00   \n",
       "50%    2020-04-24 12:00:00  1.680000e+02       2.000000  2.900000e+01   \n",
       "75%    2020-06-10 06:00:00  1.518250e+03      30.000000  6.660000e+02   \n",
       "max    2020-07-27 00:00:00  4.290259e+06  148011.000000  1.846641e+06   \n",
       "std                    NaN  1.273002e+05    6313.584411  5.480092e+04   \n",
       "\n",
       "             Active  \n",
       "count  4.906800e+04  \n",
       "mean   8.085012e+03  \n",
       "min   -1.400000e+01  \n",
       "25%    0.000000e+00  \n",
       "50%    2.600000e+01  \n",
       "75%    6.060000e+02  \n",
       "max    2.816444e+06  \n",
       "std    7.625890e+04  "
      ]
     },
     "execution_count": 138,
     "metadata": {},
     "output_type": "execute_result"
    }
   ],
   "source": [
    "df.describe()"
   ]
  },
  {
   "cell_type": "code",
   "execution_count": null,
   "metadata": {},
   "outputs": [
    {
     "name": "stdout",
     "output_type": "stream",
     "text": [
      "<class 'pandas.core.frame.DataFrame'>\n",
      "RangeIndex: 49068 entries, 0 to 49067\n",
      "Data columns (total 8 columns):\n",
      " #   Column     Non-Null Count  Dtype         \n",
      "---  ------     --------------  -----         \n",
      " 0   State      14664 non-null  object        \n",
      " 1   Country    49068 non-null  object        \n",
      " 2   Date       49068 non-null  datetime64[ns]\n",
      " 3   Confirmed  49068 non-null  int64         \n",
      " 4   Deaths     49068 non-null  int64         \n",
      " 5   Recovered  49068 non-null  int64         \n",
      " 6   Active     49068 non-null  int64         \n",
      " 7   Region     49068 non-null  object        \n",
      "dtypes: datetime64[ns](1), int64(4), object(3)\n",
      "memory usage: 3.0+ MB\n"
     ]
    }
   ],
   "source": [
    "df.info()"
   ]
  },
  {
   "cell_type": "code",
   "execution_count": null,
   "metadata": {},
   "outputs": [],
   "source": [
    "df = df.fillna('NA')"
   ]
  },
  {
   "cell_type": "code",
   "execution_count": null,
   "metadata": {},
   "outputs": [
    {
     "name": "stdout",
     "output_type": "stream",
     "text": [
      "<class 'pandas.core.frame.DataFrame'>\n",
      "RangeIndex: 49068 entries, 0 to 49067\n",
      "Data columns (total 8 columns):\n",
      " #   Column     Non-Null Count  Dtype         \n",
      "---  ------     --------------  -----         \n",
      " 0   State      49068 non-null  object        \n",
      " 1   Country    49068 non-null  object        \n",
      " 2   Date       49068 non-null  datetime64[ns]\n",
      " 3   Confirmed  49068 non-null  int64         \n",
      " 4   Deaths     49068 non-null  int64         \n",
      " 5   Recovered  49068 non-null  int64         \n",
      " 6   Active     49068 non-null  int64         \n",
      " 7   Region     49068 non-null  object        \n",
      "dtypes: datetime64[ns](1), int64(4), object(3)\n",
      "memory usage: 3.0+ MB\n"
     ]
    }
   ],
   "source": [
    "df.info()"
   ]
  },
  {
   "cell_type": "code",
   "execution_count": null,
   "metadata": {},
   "outputs": [
    {
     "data": {
      "text/html": [
       "<div>\n",
       "<style scoped>\n",
       "    .dataframe tbody tr th:only-of-type {\n",
       "        vertical-align: middle;\n",
       "    }\n",
       "\n",
       "    .dataframe tbody tr th {\n",
       "        vertical-align: top;\n",
       "    }\n",
       "\n",
       "    .dataframe thead th {\n",
       "        text-align: right;\n",
       "    }\n",
       "</style>\n",
       "<table border=\"1\" class=\"dataframe\">\n",
       "  <thead>\n",
       "    <tr style=\"text-align: right;\">\n",
       "      <th></th>\n",
       "      <th>State</th>\n",
       "      <th>Country</th>\n",
       "      <th>Date</th>\n",
       "      <th>Confirmed</th>\n",
       "      <th>Deaths</th>\n",
       "      <th>Recovered</th>\n",
       "      <th>Active</th>\n",
       "      <th>Region</th>\n",
       "    </tr>\n",
       "  </thead>\n",
       "  <tbody>\n",
       "    <tr>\n",
       "      <th>0</th>\n",
       "      <td>NA</td>\n",
       "      <td>Afghanistan</td>\n",
       "      <td>2020-01-22</td>\n",
       "      <td>0</td>\n",
       "      <td>0</td>\n",
       "      <td>0</td>\n",
       "      <td>0</td>\n",
       "      <td>Eastern Mediterranean</td>\n",
       "    </tr>\n",
       "    <tr>\n",
       "      <th>1</th>\n",
       "      <td>NA</td>\n",
       "      <td>Albania</td>\n",
       "      <td>2020-01-22</td>\n",
       "      <td>0</td>\n",
       "      <td>0</td>\n",
       "      <td>0</td>\n",
       "      <td>0</td>\n",
       "      <td>Europe</td>\n",
       "    </tr>\n",
       "    <tr>\n",
       "      <th>2</th>\n",
       "      <td>NA</td>\n",
       "      <td>Algeria</td>\n",
       "      <td>2020-01-22</td>\n",
       "      <td>0</td>\n",
       "      <td>0</td>\n",
       "      <td>0</td>\n",
       "      <td>0</td>\n",
       "      <td>Africa</td>\n",
       "    </tr>\n",
       "    <tr>\n",
       "      <th>3</th>\n",
       "      <td>NA</td>\n",
       "      <td>Andorra</td>\n",
       "      <td>2020-01-22</td>\n",
       "      <td>0</td>\n",
       "      <td>0</td>\n",
       "      <td>0</td>\n",
       "      <td>0</td>\n",
       "      <td>Europe</td>\n",
       "    </tr>\n",
       "    <tr>\n",
       "      <th>4</th>\n",
       "      <td>NA</td>\n",
       "      <td>Angola</td>\n",
       "      <td>2020-01-22</td>\n",
       "      <td>0</td>\n",
       "      <td>0</td>\n",
       "      <td>0</td>\n",
       "      <td>0</td>\n",
       "      <td>Africa</td>\n",
       "    </tr>\n",
       "    <tr>\n",
       "      <th>5</th>\n",
       "      <td>NA</td>\n",
       "      <td>Antigua and Barbuda</td>\n",
       "      <td>2020-01-22</td>\n",
       "      <td>0</td>\n",
       "      <td>0</td>\n",
       "      <td>0</td>\n",
       "      <td>0</td>\n",
       "      <td>Americas</td>\n",
       "    </tr>\n",
       "    <tr>\n",
       "      <th>6</th>\n",
       "      <td>NA</td>\n",
       "      <td>Argentina</td>\n",
       "      <td>2020-01-22</td>\n",
       "      <td>0</td>\n",
       "      <td>0</td>\n",
       "      <td>0</td>\n",
       "      <td>0</td>\n",
       "      <td>Americas</td>\n",
       "    </tr>\n",
       "    <tr>\n",
       "      <th>7</th>\n",
       "      <td>NA</td>\n",
       "      <td>Armenia</td>\n",
       "      <td>2020-01-22</td>\n",
       "      <td>0</td>\n",
       "      <td>0</td>\n",
       "      <td>0</td>\n",
       "      <td>0</td>\n",
       "      <td>Europe</td>\n",
       "    </tr>\n",
       "    <tr>\n",
       "      <th>8</th>\n",
       "      <td>Australian Capital Territory</td>\n",
       "      <td>Australia</td>\n",
       "      <td>2020-01-22</td>\n",
       "      <td>0</td>\n",
       "      <td>0</td>\n",
       "      <td>0</td>\n",
       "      <td>0</td>\n",
       "      <td>Western Pacific</td>\n",
       "    </tr>\n",
       "    <tr>\n",
       "      <th>9</th>\n",
       "      <td>New South Wales</td>\n",
       "      <td>Australia</td>\n",
       "      <td>2020-01-22</td>\n",
       "      <td>0</td>\n",
       "      <td>0</td>\n",
       "      <td>0</td>\n",
       "      <td>0</td>\n",
       "      <td>Western Pacific</td>\n",
       "    </tr>\n",
       "  </tbody>\n",
       "</table>\n",
       "</div>"
      ],
      "text/plain": [
       "                          State              Country       Date  Confirmed  \\\n",
       "0                            NA          Afghanistan 2020-01-22          0   \n",
       "1                            NA              Albania 2020-01-22          0   \n",
       "2                            NA              Algeria 2020-01-22          0   \n",
       "3                            NA              Andorra 2020-01-22          0   \n",
       "4                            NA               Angola 2020-01-22          0   \n",
       "5                            NA  Antigua and Barbuda 2020-01-22          0   \n",
       "6                            NA            Argentina 2020-01-22          0   \n",
       "7                            NA              Armenia 2020-01-22          0   \n",
       "8  Australian Capital Territory            Australia 2020-01-22          0   \n",
       "9               New South Wales            Australia 2020-01-22          0   \n",
       "\n",
       "   Deaths  Recovered  Active                 Region  \n",
       "0       0          0       0  Eastern Mediterranean  \n",
       "1       0          0       0                 Europe  \n",
       "2       0          0       0                 Africa  \n",
       "3       0          0       0                 Europe  \n",
       "4       0          0       0                 Africa  \n",
       "5       0          0       0               Americas  \n",
       "6       0          0       0               Americas  \n",
       "7       0          0       0                 Europe  \n",
       "8       0          0       0        Western Pacific  \n",
       "9       0          0       0        Western Pacific  "
      ]
     },
     "execution_count": 144,
     "metadata": {},
     "output_type": "execute_result"
    }
   ],
   "source": [
    "df.head(10)"
   ]
  },
  {
   "cell_type": "code",
   "execution_count": null,
   "metadata": {},
   "outputs": [],
   "source": [
    "df2 = df.groupby('Country')[['Confirmed','Deaths','Recovered']].sum().reset_index()"
   ]
  },
  {
   "cell_type": "code",
   "execution_count": null,
   "metadata": {},
   "outputs": [
    {
     "data": {
      "text/html": [
       "<div>\n",
       "<style scoped>\n",
       "    .dataframe tbody tr th:only-of-type {\n",
       "        vertical-align: middle;\n",
       "    }\n",
       "\n",
       "    .dataframe tbody tr th {\n",
       "        vertical-align: top;\n",
       "    }\n",
       "\n",
       "    .dataframe thead th {\n",
       "        text-align: right;\n",
       "    }\n",
       "</style>\n",
       "<table border=\"1\" class=\"dataframe\">\n",
       "  <thead>\n",
       "    <tr style=\"text-align: right;\">\n",
       "      <th></th>\n",
       "      <th>Country</th>\n",
       "      <th>Confirmed</th>\n",
       "      <th>Deaths</th>\n",
       "      <th>Recovered</th>\n",
       "    </tr>\n",
       "  </thead>\n",
       "  <tbody>\n",
       "    <tr>\n",
       "      <th>0</th>\n",
       "      <td>Afghanistan</td>\n",
       "      <td>1936390</td>\n",
       "      <td>49098</td>\n",
       "      <td>798240</td>\n",
       "    </tr>\n",
       "    <tr>\n",
       "      <th>1</th>\n",
       "      <td>Albania</td>\n",
       "      <td>196702</td>\n",
       "      <td>5708</td>\n",
       "      <td>118877</td>\n",
       "    </tr>\n",
       "    <tr>\n",
       "      <th>2</th>\n",
       "      <td>Algeria</td>\n",
       "      <td>1179755</td>\n",
       "      <td>77972</td>\n",
       "      <td>755897</td>\n",
       "    </tr>\n",
       "    <tr>\n",
       "      <th>3</th>\n",
       "      <td>Andorra</td>\n",
       "      <td>94404</td>\n",
       "      <td>5423</td>\n",
       "      <td>69074</td>\n",
       "    </tr>\n",
       "    <tr>\n",
       "      <th>4</th>\n",
       "      <td>Angola</td>\n",
       "      <td>22662</td>\n",
       "      <td>1078</td>\n",
       "      <td>6573</td>\n",
       "    </tr>\n",
       "    <tr>\n",
       "      <th>...</th>\n",
       "      <td>...</td>\n",
       "      <td>...</td>\n",
       "      <td>...</td>\n",
       "      <td>...</td>\n",
       "    </tr>\n",
       "    <tr>\n",
       "      <th>182</th>\n",
       "      <td>West Bank and Gaza</td>\n",
       "      <td>233461</td>\n",
       "      <td>1370</td>\n",
       "      <td>61124</td>\n",
       "    </tr>\n",
       "    <tr>\n",
       "      <th>183</th>\n",
       "      <td>Western Sahara</td>\n",
       "      <td>901</td>\n",
       "      <td>63</td>\n",
       "      <td>648</td>\n",
       "    </tr>\n",
       "    <tr>\n",
       "      <th>184</th>\n",
       "      <td>Yemen</td>\n",
       "      <td>67180</td>\n",
       "      <td>17707</td>\n",
       "      <td>23779</td>\n",
       "    </tr>\n",
       "    <tr>\n",
       "      <th>185</th>\n",
       "      <td>Zambia</td>\n",
       "      <td>129421</td>\n",
       "      <td>2643</td>\n",
       "      <td>83611</td>\n",
       "    </tr>\n",
       "    <tr>\n",
       "      <th>186</th>\n",
       "      <td>Zimbabwe</td>\n",
       "      <td>50794</td>\n",
       "      <td>881</td>\n",
       "      <td>12207</td>\n",
       "    </tr>\n",
       "  </tbody>\n",
       "</table>\n",
       "<p>187 rows × 4 columns</p>\n",
       "</div>"
      ],
      "text/plain": [
       "                Country  Confirmed  Deaths  Recovered\n",
       "0           Afghanistan    1936390   49098     798240\n",
       "1               Albania     196702    5708     118877\n",
       "2               Algeria    1179755   77972     755897\n",
       "3               Andorra      94404    5423      69074\n",
       "4                Angola      22662    1078       6573\n",
       "..                  ...        ...     ...        ...\n",
       "182  West Bank and Gaza     233461    1370      61124\n",
       "183      Western Sahara        901      63        648\n",
       "184               Yemen      67180   17707      23779\n",
       "185              Zambia     129421    2643      83611\n",
       "186            Zimbabwe      50794     881      12207\n",
       "\n",
       "[187 rows x 4 columns]"
      ]
     },
     "execution_count": 147,
     "metadata": {},
     "output_type": "execute_result"
    }
   ],
   "source": [
    "df2"
   ]
  },
  {
   "cell_type": "code",
   "execution_count": null,
   "metadata": {},
   "outputs": [],
   "source": [
    "df2 = df.groupby(['Country', 'Date'])[['Confirmed','Deaths','Recovered']].sum().reset_index()"
   ]
  },
  {
   "cell_type": "code",
   "execution_count": null,
   "metadata": {},
   "outputs": [
    {
     "data": {
      "text/html": [
       "<div>\n",
       "<style scoped>\n",
       "    .dataframe tbody tr th:only-of-type {\n",
       "        vertical-align: middle;\n",
       "    }\n",
       "\n",
       "    .dataframe tbody tr th {\n",
       "        vertical-align: top;\n",
       "    }\n",
       "\n",
       "    .dataframe thead th {\n",
       "        text-align: right;\n",
       "    }\n",
       "</style>\n",
       "<table border=\"1\" class=\"dataframe\">\n",
       "  <thead>\n",
       "    <tr style=\"text-align: right;\">\n",
       "      <th></th>\n",
       "      <th>Country</th>\n",
       "      <th>Date</th>\n",
       "      <th>Confirmed</th>\n",
       "      <th>Deaths</th>\n",
       "      <th>Recovered</th>\n",
       "    </tr>\n",
       "  </thead>\n",
       "  <tbody>\n",
       "    <tr>\n",
       "      <th>0</th>\n",
       "      <td>Afghanistan</td>\n",
       "      <td>2020-01-22</td>\n",
       "      <td>0</td>\n",
       "      <td>0</td>\n",
       "      <td>0</td>\n",
       "    </tr>\n",
       "    <tr>\n",
       "      <th>1</th>\n",
       "      <td>Afghanistan</td>\n",
       "      <td>2020-01-23</td>\n",
       "      <td>0</td>\n",
       "      <td>0</td>\n",
       "      <td>0</td>\n",
       "    </tr>\n",
       "    <tr>\n",
       "      <th>2</th>\n",
       "      <td>Afghanistan</td>\n",
       "      <td>2020-01-24</td>\n",
       "      <td>0</td>\n",
       "      <td>0</td>\n",
       "      <td>0</td>\n",
       "    </tr>\n",
       "    <tr>\n",
       "      <th>3</th>\n",
       "      <td>Afghanistan</td>\n",
       "      <td>2020-01-25</td>\n",
       "      <td>0</td>\n",
       "      <td>0</td>\n",
       "      <td>0</td>\n",
       "    </tr>\n",
       "    <tr>\n",
       "      <th>4</th>\n",
       "      <td>Afghanistan</td>\n",
       "      <td>2020-01-26</td>\n",
       "      <td>0</td>\n",
       "      <td>0</td>\n",
       "      <td>0</td>\n",
       "    </tr>\n",
       "    <tr>\n",
       "      <th>...</th>\n",
       "      <td>...</td>\n",
       "      <td>...</td>\n",
       "      <td>...</td>\n",
       "      <td>...</td>\n",
       "      <td>...</td>\n",
       "    </tr>\n",
       "    <tr>\n",
       "      <th>35151</th>\n",
       "      <td>Zimbabwe</td>\n",
       "      <td>2020-07-23</td>\n",
       "      <td>2124</td>\n",
       "      <td>28</td>\n",
       "      <td>510</td>\n",
       "    </tr>\n",
       "    <tr>\n",
       "      <th>35152</th>\n",
       "      <td>Zimbabwe</td>\n",
       "      <td>2020-07-24</td>\n",
       "      <td>2296</td>\n",
       "      <td>32</td>\n",
       "      <td>514</td>\n",
       "    </tr>\n",
       "    <tr>\n",
       "      <th>35153</th>\n",
       "      <td>Zimbabwe</td>\n",
       "      <td>2020-07-25</td>\n",
       "      <td>2434</td>\n",
       "      <td>34</td>\n",
       "      <td>518</td>\n",
       "    </tr>\n",
       "    <tr>\n",
       "      <th>35154</th>\n",
       "      <td>Zimbabwe</td>\n",
       "      <td>2020-07-26</td>\n",
       "      <td>2512</td>\n",
       "      <td>34</td>\n",
       "      <td>518</td>\n",
       "    </tr>\n",
       "    <tr>\n",
       "      <th>35155</th>\n",
       "      <td>Zimbabwe</td>\n",
       "      <td>2020-07-27</td>\n",
       "      <td>2704</td>\n",
       "      <td>36</td>\n",
       "      <td>542</td>\n",
       "    </tr>\n",
       "  </tbody>\n",
       "</table>\n",
       "<p>35156 rows × 5 columns</p>\n",
       "</div>"
      ],
      "text/plain": [
       "           Country       Date  Confirmed  Deaths  Recovered\n",
       "0      Afghanistan 2020-01-22          0       0          0\n",
       "1      Afghanistan 2020-01-23          0       0          0\n",
       "2      Afghanistan 2020-01-24          0       0          0\n",
       "3      Afghanistan 2020-01-25          0       0          0\n",
       "4      Afghanistan 2020-01-26          0       0          0\n",
       "...            ...        ...        ...     ...        ...\n",
       "35151     Zimbabwe 2020-07-23       2124      28        510\n",
       "35152     Zimbabwe 2020-07-24       2296      32        514\n",
       "35153     Zimbabwe 2020-07-25       2434      34        518\n",
       "35154     Zimbabwe 2020-07-26       2512      34        518\n",
       "35155     Zimbabwe 2020-07-27       2704      36        542\n",
       "\n",
       "[35156 rows x 5 columns]"
      ]
     },
     "execution_count": 149,
     "metadata": {},
     "output_type": "execute_result"
    }
   ],
   "source": [
    "df2"
   ]
  },
  {
   "cell_type": "code",
   "execution_count": null,
   "metadata": {},
   "outputs": [],
   "source": [
    "df3 = df2[df2['Confirmed'] > 100]"
   ]
  },
  {
   "cell_type": "code",
   "execution_count": null,
   "metadata": {},
   "outputs": [
    {
     "data": {
      "text/html": [
       "<div>\n",
       "<style scoped>\n",
       "    .dataframe tbody tr th:only-of-type {\n",
       "        vertical-align: middle;\n",
       "    }\n",
       "\n",
       "    .dataframe tbody tr th {\n",
       "        vertical-align: top;\n",
       "    }\n",
       "\n",
       "    .dataframe thead th {\n",
       "        text-align: right;\n",
       "    }\n",
       "</style>\n",
       "<table border=\"1\" class=\"dataframe\">\n",
       "  <thead>\n",
       "    <tr style=\"text-align: right;\">\n",
       "      <th></th>\n",
       "      <th>Country</th>\n",
       "      <th>Date</th>\n",
       "      <th>Confirmed</th>\n",
       "      <th>Deaths</th>\n",
       "      <th>Recovered</th>\n",
       "    </tr>\n",
       "  </thead>\n",
       "  <tbody>\n",
       "    <tr>\n",
       "      <th>65</th>\n",
       "      <td>Afghanistan</td>\n",
       "      <td>2020-03-27</td>\n",
       "      <td>110</td>\n",
       "      <td>4</td>\n",
       "      <td>2</td>\n",
       "    </tr>\n",
       "    <tr>\n",
       "      <th>66</th>\n",
       "      <td>Afghanistan</td>\n",
       "      <td>2020-03-28</td>\n",
       "      <td>110</td>\n",
       "      <td>4</td>\n",
       "      <td>2</td>\n",
       "    </tr>\n",
       "    <tr>\n",
       "      <th>67</th>\n",
       "      <td>Afghanistan</td>\n",
       "      <td>2020-03-29</td>\n",
       "      <td>120</td>\n",
       "      <td>4</td>\n",
       "      <td>2</td>\n",
       "    </tr>\n",
       "    <tr>\n",
       "      <th>68</th>\n",
       "      <td>Afghanistan</td>\n",
       "      <td>2020-03-30</td>\n",
       "      <td>170</td>\n",
       "      <td>4</td>\n",
       "      <td>2</td>\n",
       "    </tr>\n",
       "    <tr>\n",
       "      <th>69</th>\n",
       "      <td>Afghanistan</td>\n",
       "      <td>2020-03-31</td>\n",
       "      <td>174</td>\n",
       "      <td>4</td>\n",
       "      <td>5</td>\n",
       "    </tr>\n",
       "    <tr>\n",
       "      <th>...</th>\n",
       "      <td>...</td>\n",
       "      <td>...</td>\n",
       "      <td>...</td>\n",
       "      <td>...</td>\n",
       "      <td>...</td>\n",
       "    </tr>\n",
       "    <tr>\n",
       "      <th>35151</th>\n",
       "      <td>Zimbabwe</td>\n",
       "      <td>2020-07-23</td>\n",
       "      <td>2124</td>\n",
       "      <td>28</td>\n",
       "      <td>510</td>\n",
       "    </tr>\n",
       "    <tr>\n",
       "      <th>35152</th>\n",
       "      <td>Zimbabwe</td>\n",
       "      <td>2020-07-24</td>\n",
       "      <td>2296</td>\n",
       "      <td>32</td>\n",
       "      <td>514</td>\n",
       "    </tr>\n",
       "    <tr>\n",
       "      <th>35153</th>\n",
       "      <td>Zimbabwe</td>\n",
       "      <td>2020-07-25</td>\n",
       "      <td>2434</td>\n",
       "      <td>34</td>\n",
       "      <td>518</td>\n",
       "    </tr>\n",
       "    <tr>\n",
       "      <th>35154</th>\n",
       "      <td>Zimbabwe</td>\n",
       "      <td>2020-07-26</td>\n",
       "      <td>2512</td>\n",
       "      <td>34</td>\n",
       "      <td>518</td>\n",
       "    </tr>\n",
       "    <tr>\n",
       "      <th>35155</th>\n",
       "      <td>Zimbabwe</td>\n",
       "      <td>2020-07-27</td>\n",
       "      <td>2704</td>\n",
       "      <td>36</td>\n",
       "      <td>542</td>\n",
       "    </tr>\n",
       "  </tbody>\n",
       "</table>\n",
       "<p>19539 rows × 5 columns</p>\n",
       "</div>"
      ],
      "text/plain": [
       "           Country       Date  Confirmed  Deaths  Recovered\n",
       "65     Afghanistan 2020-03-27        110       4          2\n",
       "66     Afghanistan 2020-03-28        110       4          2\n",
       "67     Afghanistan 2020-03-29        120       4          2\n",
       "68     Afghanistan 2020-03-30        170       4          2\n",
       "69     Afghanistan 2020-03-31        174       4          5\n",
       "...            ...        ...        ...     ...        ...\n",
       "35151     Zimbabwe 2020-07-23       2124      28        510\n",
       "35152     Zimbabwe 2020-07-24       2296      32        514\n",
       "35153     Zimbabwe 2020-07-25       2434      34        518\n",
       "35154     Zimbabwe 2020-07-26       2512      34        518\n",
       "35155     Zimbabwe 2020-07-27       2704      36        542\n",
       "\n",
       "[19539 rows x 5 columns]"
      ]
     },
     "execution_count": 151,
     "metadata": {},
     "output_type": "execute_result"
    }
   ],
   "source": [
    "df3"
   ]
  }
 ],
 "metadata": {
  "kernelspec": {
   "display_name": "Python 3",
   "language": "python",
   "name": "python3"
  },
  "language_info": {
   "codemirror_mode": {
    "name": "ipython",
    "version": 3
   },
   "file_extension": ".py",
   "mimetype": "text/x-python",
   "name": "python",
   "nbconvert_exporter": "python",
   "pygments_lexer": "ipython3",
   "version": "3.12.0"
  }
 },
 "nbformat": 4,
 "nbformat_minor": 2
}
